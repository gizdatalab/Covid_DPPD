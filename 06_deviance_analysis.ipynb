{
 "cells": [
  {
   "cell_type": "code",
   "execution_count": 12,
   "metadata": {},
   "outputs": [],
   "source": [
    "import pandas as pd\n",
    "import numpy as np\n",
    "import matplotlib.pyplot as plt\n",
    "import seaborn as sns"
   ]
  },
  {
   "cell_type": "code",
   "execution_count": 13,
   "metadata": {},
   "outputs": [],
   "source": [
    "all_data = pd.read_csv('all_data.csv')"
   ]
  },
  {
   "cell_type": "code",
   "execution_count": 14,
   "metadata": {},
   "outputs": [],
   "source": [
    "all_data['Bundesland'] = all_data.districtId // 1000\n",
    "#Bundesland string didn't fit into the 25MB file limit \n",
    "#of Github for the rki_raw file"
   ]
  },
  {
   "cell_type": "code",
   "execution_count": 15,
   "metadata": {},
   "outputs": [],
   "source": [
    "ferien_dict = {8:31,\n",
    "               9:31,\n",
    "               11:27,\n",
    "               12:27,\n",
    "               4:25,\n",
    "               2:27,\n",
    "               6:28,\n",
    "               13:26,\n",
    "               3:30,\n",
    "               5:27,\n",
    "               7:28,\n",
    "               10:28,\n",
    "               14:30,\n",
    "               15:30,\n",
    "               1:27,\n",
    "               16:30}\n",
    "\n",
    "summer_vac_df = pd.DataFrame()\n",
    "offset=1\n",
    "#offsetting the summer vacation by one week, even though performance measure/target already\n",
    "#'looks' one week into the future, to include all travel-returners' effects. Could also be 0 or 2?\n",
    "\n",
    "for bl,start in ferien_dict.items():\n",
    "    ferien = [start+offset+no for no in range(0,6)]\n",
    "    bl_data = all_data.loc[all_data.Bundesland==bl,['districtId','week_no']].copy()\n",
    "    bl_data['summer_vac'] = bl_data.week_no.isin(ferien)\n",
    "    summer_vac_df = summer_vac_df.append(bl_data)\n",
    "    \n",
    "all_data = pd.merge(all_data, summer_vac_df, how='outer')\n",
    "    \n"
   ]
  },
  {
   "cell_type": "code",
   "execution_count": 16,
   "metadata": {},
   "outputs": [],
   "source": [
    "def deviance_sum_interval(first_week, last_week):\n",
    "    cut_data = all_data[all_data.week_no.between(first_week,last_week, inclusive=True)].copy()\n",
    "    deviance_sums = cut_data.groupby('districtId')['deviance'].mean().reset_index()\n",
    "    return deviance_sums"
   ]
  },
  {
   "cell_type": "code",
   "execution_count": 17,
   "metadata": {},
   "outputs": [],
   "source": [
    "# wmin = all_data.week_no.min()\n",
    "# wmax = all_data.week_no.max()\n",
    "lockdown = deviance_sum_interval(12,21)\n",
    "summer = all_data[all_data.summer_vac].groupby('districtId')['deviance'].mean().reset_index()\n",
    "deviance_df = pd.merge(lockdown, summer,\n",
    "                      on='districtId',how='outer',\n",
    "                      suffixes=('_lockdown','_summer'))"
   ]
  },
  {
   "cell_type": "code",
   "execution_count": 18,
   "metadata": {},
   "outputs": [
    {
     "data": {
      "text/html": [
       "<div>\n",
       "<style scoped>\n",
       "    .dataframe tbody tr th:only-of-type {\n",
       "        vertical-align: middle;\n",
       "    }\n",
       "\n",
       "    .dataframe tbody tr th {\n",
       "        vertical-align: top;\n",
       "    }\n",
       "\n",
       "    .dataframe thead th {\n",
       "        text-align: right;\n",
       "    }\n",
       "</style>\n",
       "<table border=\"1\" class=\"dataframe\">\n",
       "  <thead>\n",
       "    <tr style=\"text-align: right;\">\n",
       "      <th></th>\n",
       "      <th>districtId</th>\n",
       "      <th>deviance_lockdown</th>\n",
       "      <th>deviance_summer</th>\n",
       "    </tr>\n",
       "  </thead>\n",
       "  <tbody>\n",
       "    <tr>\n",
       "      <th>0</th>\n",
       "      <td>1001</td>\n",
       "      <td>-0.133601</td>\n",
       "      <td>-0.329622</td>\n",
       "    </tr>\n",
       "    <tr>\n",
       "      <th>1</th>\n",
       "      <td>1002</td>\n",
       "      <td>0.272986</td>\n",
       "      <td>-0.351756</td>\n",
       "    </tr>\n",
       "    <tr>\n",
       "      <th>2</th>\n",
       "      <td>1003</td>\n",
       "      <td>0.146744</td>\n",
       "      <td>-0.309991</td>\n",
       "    </tr>\n",
       "    <tr>\n",
       "      <th>3</th>\n",
       "      <td>1004</td>\n",
       "      <td>0.040237</td>\n",
       "      <td>-0.325107</td>\n",
       "    </tr>\n",
       "    <tr>\n",
       "      <th>4</th>\n",
       "      <td>1051</td>\n",
       "      <td>0.167280</td>\n",
       "      <td>0.012754</td>\n",
       "    </tr>\n",
       "    <tr>\n",
       "      <th>...</th>\n",
       "      <td>...</td>\n",
       "      <td>...</td>\n",
       "      <td>...</td>\n",
       "    </tr>\n",
       "    <tr>\n",
       "      <th>395</th>\n",
       "      <td>16073</td>\n",
       "      <td>-0.018671</td>\n",
       "      <td>-0.176478</td>\n",
       "    </tr>\n",
       "    <tr>\n",
       "      <th>396</th>\n",
       "      <td>16074</td>\n",
       "      <td>0.061618</td>\n",
       "      <td>-0.364769</td>\n",
       "    </tr>\n",
       "    <tr>\n",
       "      <th>397</th>\n",
       "      <td>16075</td>\n",
       "      <td>-0.227513</td>\n",
       "      <td>-0.283359</td>\n",
       "    </tr>\n",
       "    <tr>\n",
       "      <th>398</th>\n",
       "      <td>16076</td>\n",
       "      <td>-0.183262</td>\n",
       "      <td>-0.162646</td>\n",
       "    </tr>\n",
       "    <tr>\n",
       "      <th>399</th>\n",
       "      <td>16077</td>\n",
       "      <td>-0.314414</td>\n",
       "      <td>-0.292589</td>\n",
       "    </tr>\n",
       "  </tbody>\n",
       "</table>\n",
       "<p>400 rows × 3 columns</p>\n",
       "</div>"
      ],
      "text/plain": [
       "     districtId  deviance_lockdown  deviance_summer\n",
       "0          1001          -0.133601        -0.329622\n",
       "1          1002           0.272986        -0.351756\n",
       "2          1003           0.146744        -0.309991\n",
       "3          1004           0.040237        -0.325107\n",
       "4          1051           0.167280         0.012754\n",
       "..          ...                ...              ...\n",
       "395       16073          -0.018671        -0.176478\n",
       "396       16074           0.061618        -0.364769\n",
       "397       16075          -0.227513        -0.283359\n",
       "398       16076          -0.183262        -0.162646\n",
       "399       16077          -0.314414        -0.292589\n",
       "\n",
       "[400 rows x 3 columns]"
      ]
     },
     "execution_count": 18,
     "metadata": {},
     "output_type": "execute_result"
    }
   ],
   "source": [
    "deviance_df"
   ]
  },
  {
   "cell_type": "code",
   "execution_count": 20,
   "metadata": {},
   "outputs": [],
   "source": [
    "from sklearn.preprocessing import StandardScaler"
   ]
  },
  {
   "cell_type": "code",
   "execution_count": 26,
   "metadata": {},
   "outputs": [],
   "source": [
    "sclr = StandardScaler()\n",
    "\n",
    "for t in ['lockdown','summer']:\n",
    "    var = 'deviance_' + t \n",
    "    deviance_df[var + '_zscore'] = sclr.fit_transform(np.array(deviance_df[var]).reshape(-1,1))"
   ]
  },
  {
   "cell_type": "code",
   "execution_count": 31,
   "metadata": {},
   "outputs": [
    {
     "name": "stdout",
     "output_type": "stream",
     "text": [
      "districtId\n"
     ]
    },
    {
     "data": {
      "image/png": "[encoded data removed]",
      "text/plain": [
       "<Figure size 432x288 with 1 Axes>"
      ]
     },
     "metadata": {
      "needs_background": "light"
     },
     "output_type": "display_data"
    },
    {
     "name": "stdout",
     "output_type": "stream",
     "text": [
      "deviance_lockdown\n"
     ]
    },
    {
     "data": {
      "image/png": "[encoded data removed]",
      "text/plain": [
       "<Figure size 432x288 with 1 Axes>"
      ]
     },
     "metadata": {
      "needs_background": "light"
     },
     "output_type": "display_data"
    },
    {
     "name": "stdout",
     "output_type": "stream",
     "text": [
      "deviance_summer\n"
     ]
    },
    {
     "data": {
      "image/png": "[encoded data removed]",
      "text/plain": [
       "<Figure size 432x288 with 1 Axes>"
      ]
     },
     "metadata": {
      "needs_background": "light"
     },
     "output_type": "display_data"
    },
    {
     "name": "stdout",
     "output_type": "stream",
     "text": [
      "deviance_lockdown_zscore\n"
     ]
    },
    {
     "data": {
      "image/png": "[encoded data removed]",
      "text/plain": [
       "<Figure size 432x288 with 1 Axes>"
      ]
     },
     "metadata": {
      "needs_background": "light"
     },
     "output_type": "display_data"
    },
    {
     "name": "stdout",
     "output_type": "stream",
     "text": [
      "deviance_summer_zscore\n"
     ]
    },
    {
     "data": {
      "image/png": "[encoded data removed]",
      "text/plain": [
       "<Figure size 432x288 with 1 Axes>"
      ]
     },
     "metadata": {
      "needs_background": "light"
     },
     "output_type": "display_data"
    }
   ],
   "source": [
    "for c in deviance_df.columns:\n",
    "    print(c)\n",
    "    deviance_df[c].hist(bins=30)\n",
    "    plt.show()\n",
    "    "
   ]
  },
  {
   "cell_type": "code",
   "execution_count": 42,
   "metadata": {},
   "outputs": [
    {
     "name": "stdout",
     "output_type": "stream",
     "text": [
      "deviance_lockdown_zscore\n",
      "Above 1.96 cut-off: 8\n",
      "Above 2.33 cut-off: 3\n",
      "Above 2.58 cut-off: 1\n",
      "deviance_summer_zscore\n",
      "Above 1.96 cut-off: 16\n",
      "Above 2.33 cut-off: 6\n",
      "Above 2.58 cut-off: 3\n"
     ]
    }
   ],
   "source": [
    "for c in ['deviance_lockdown_zscore','deviance_summer_zscore']:\n",
    "    print(c)\n",
    "    for cut_off in [1.96, 2.33, 2.58]:\n",
    "        print('Above',cut_off,'cut-off:',sum(deviance_df[c] >= cut_off))"
   ]
  },
  {
   "cell_type": "code",
   "execution_count": 32,
   "metadata": {},
   "outputs": [
    {
     "name": "stdout",
     "output_type": "stream",
     "text": [
      "Correlation: -0.0021745883226987786\n"
     ]
    },
    {
     "data": {
      "image/png": "[encoded data removed]",
      "text/plain": [
       "<Figure size 432x432 with 3 Axes>"
      ]
     },
     "metadata": {
      "needs_background": "light"
     },
     "output_type": "display_data"
    }
   ],
   "source": [
    "sns.jointplot(deviance_df.iloc[:,1],deviance_df.iloc[:,2],kind='kde')\n",
    "print('Correlation:',np.corrcoef(deviance_df.iloc[:,1],deviance_df.iloc[:,2])[1,0])"
   ]
  },
  {
   "cell_type": "code",
   "execution_count": 9,
   "metadata": {},
   "outputs": [],
   "source": [
    "def get_top_x(variable, x=10):\n",
    "    return deviance_df.sort_values(variable,ascending=False).iloc[:x]"
   ]
  },
  {
   "cell_type": "code",
   "execution_count": 10,
   "metadata": {},
   "outputs": [
    {
     "data": {
      "text/html": [
       "<div>\n",
       "<style scoped>\n",
       "    .dataframe tbody tr th:only-of-type {\n",
       "        vertical-align: middle;\n",
       "    }\n",
       "\n",
       "    .dataframe tbody tr th {\n",
       "        vertical-align: top;\n",
       "    }\n",
       "\n",
       "    .dataframe thead th {\n",
       "        text-align: right;\n",
       "    }\n",
       "</style>\n",
       "<table border=\"1\" class=\"dataframe\">\n",
       "  <thead>\n",
       "    <tr style=\"text-align: right;\">\n",
       "      <th></th>\n",
       "      <th>districtId</th>\n",
       "      <th>deviance_lockdown</th>\n",
       "      <th>deviance_summer</th>\n",
       "    </tr>\n",
       "  </thead>\n",
       "  <tbody>\n",
       "    <tr>\n",
       "      <th>99</th>\n",
       "      <td>5758</td>\n",
       "      <td>0.502227</td>\n",
       "      <td>-0.038247</td>\n",
       "    </tr>\n",
       "    <tr>\n",
       "      <th>211</th>\n",
       "      <td>8336</td>\n",
       "      <td>0.467533</td>\n",
       "      <td>0.050636</td>\n",
       "    </tr>\n",
       "    <tr>\n",
       "      <th>142</th>\n",
       "      <td>7111</td>\n",
       "      <td>0.444431</td>\n",
       "      <td>-0.173249</td>\n",
       "    </tr>\n",
       "    <tr>\n",
       "      <th>360</th>\n",
       "      <td>14713</td>\n",
       "      <td>0.428914</td>\n",
       "      <td>-0.294541</td>\n",
       "    </tr>\n",
       "    <tr>\n",
       "      <th>8</th>\n",
       "      <td>1056</td>\n",
       "      <td>0.420426</td>\n",
       "      <td>-0.020781</td>\n",
       "    </tr>\n",
       "    <tr>\n",
       "      <th>15</th>\n",
       "      <td>2000</td>\n",
       "      <td>0.400309</td>\n",
       "      <td>-0.091768</td>\n",
       "    </tr>\n",
       "    <tr>\n",
       "      <th>58</th>\n",
       "      <td>3460</td>\n",
       "      <td>0.389060</td>\n",
       "      <td>0.278868</td>\n",
       "    </tr>\n",
       "    <tr>\n",
       "      <th>261</th>\n",
       "      <td>9372</td>\n",
       "      <td>0.365634</td>\n",
       "      <td>0.087233</td>\n",
       "    </tr>\n",
       "    <tr>\n",
       "      <th>343</th>\n",
       "      <td>13004</td>\n",
       "      <td>0.361758</td>\n",
       "      <td>-0.145412</td>\n",
       "    </tr>\n",
       "    <tr>\n",
       "      <th>81</th>\n",
       "      <td>5334</td>\n",
       "      <td>0.361232</td>\n",
       "      <td>-0.243135</td>\n",
       "    </tr>\n",
       "  </tbody>\n",
       "</table>\n",
       "</div>"
      ],
      "text/plain": [
       "     districtId  deviance_lockdown  deviance_summer\n",
       "99         5758           0.502227        -0.038247\n",
       "211        8336           0.467533         0.050636\n",
       "142        7111           0.444431        -0.173249\n",
       "360       14713           0.428914        -0.294541\n",
       "8          1056           0.420426        -0.020781\n",
       "15         2000           0.400309        -0.091768\n",
       "58         3460           0.389060         0.278868\n",
       "261        9372           0.365634         0.087233\n",
       "343       13004           0.361758        -0.145412\n",
       "81         5334           0.361232        -0.243135"
      ]
     },
     "execution_count": 10,
     "metadata": {},
     "output_type": "execute_result"
    }
   ],
   "source": [
    "get_top_x('deviance_lockdown')"
   ]
  },
  {
   "cell_type": "code",
   "execution_count": 11,
   "metadata": {},
   "outputs": [
    {
     "data": {
      "text/html": [
       "<div>\n",
       "<style scoped>\n",
       "    .dataframe tbody tr th:only-of-type {\n",
       "        vertical-align: middle;\n",
       "    }\n",
       "\n",
       "    .dataframe tbody tr th {\n",
       "        vertical-align: top;\n",
       "    }\n",
       "\n",
       "    .dataframe thead th {\n",
       "        text-align: right;\n",
       "    }\n",
       "</style>\n",
       "<table border=\"1\" class=\"dataframe\">\n",
       "  <thead>\n",
       "    <tr style=\"text-align: right;\">\n",
       "      <th></th>\n",
       "      <th>districtId</th>\n",
       "      <th>deviance_lockdown</th>\n",
       "      <th>deviance_summer</th>\n",
       "    </tr>\n",
       "  </thead>\n",
       "  <tbody>\n",
       "    <tr>\n",
       "      <th>256</th>\n",
       "      <td>9279</td>\n",
       "      <td>-0.003581</td>\n",
       "      <td>0.847217</td>\n",
       "    </tr>\n",
       "    <tr>\n",
       "      <th>307</th>\n",
       "      <td>9764</td>\n",
       "      <td>0.154574</td>\n",
       "      <td>0.407729</td>\n",
       "    </tr>\n",
       "    <tr>\n",
       "      <th>67</th>\n",
       "      <td>5116</td>\n",
       "      <td>0.335834</td>\n",
       "      <td>0.328138</td>\n",
       "    </tr>\n",
       "    <tr>\n",
       "      <th>42</th>\n",
       "      <td>3360</td>\n",
       "      <td>0.186341</td>\n",
       "      <td>0.323450</td>\n",
       "    </tr>\n",
       "    <tr>\n",
       "      <th>367</th>\n",
       "      <td>15082</td>\n",
       "      <td>-0.011327</td>\n",
       "      <td>0.313287</td>\n",
       "    </tr>\n",
       "    <tr>\n",
       "      <th>31</th>\n",
       "      <td>3256</td>\n",
       "      <td>0.122875</td>\n",
       "      <td>0.301983</td>\n",
       "    </tr>\n",
       "    <tr>\n",
       "      <th>58</th>\n",
       "      <td>3460</td>\n",
       "      <td>0.389060</td>\n",
       "      <td>0.278868</td>\n",
       "    </tr>\n",
       "    <tr>\n",
       "      <th>163</th>\n",
       "      <td>7316</td>\n",
       "      <td>0.034332</td>\n",
       "      <td>0.244944</td>\n",
       "    </tr>\n",
       "    <tr>\n",
       "      <th>98</th>\n",
       "      <td>5754</td>\n",
       "      <td>0.111310</td>\n",
       "      <td>0.236914</td>\n",
       "    </tr>\n",
       "    <tr>\n",
       "      <th>155</th>\n",
       "      <td>7232</td>\n",
       "      <td>0.226373</td>\n",
       "      <td>0.230897</td>\n",
       "    </tr>\n",
       "  </tbody>\n",
       "</table>\n",
       "</div>"
      ],
      "text/plain": [
       "     districtId  deviance_lockdown  deviance_summer\n",
       "256        9279          -0.003581         0.847217\n",
       "307        9764           0.154574         0.407729\n",
       "67         5116           0.335834         0.328138\n",
       "42         3360           0.186341         0.323450\n",
       "367       15082          -0.011327         0.313287\n",
       "31         3256           0.122875         0.301983\n",
       "58         3460           0.389060         0.278868\n",
       "163        7316           0.034332         0.244944\n",
       "98         5754           0.111310         0.236914\n",
       "155        7232           0.226373         0.230897"
      ]
     },
     "execution_count": 11,
     "metadata": {},
     "output_type": "execute_result"
    }
   ],
   "source": [
    "get_top_x('deviance_summer')"
   ]
  },
  {
   "cell_type": "code",
   "execution_count": null,
   "metadata": {},
   "outputs": [],
   "source": []
  }
 ],
 "metadata": {
  "kernelspec": {
   "display_name": "Python 3",
   "language": "python",
   "name": "python3"
  },
  "language_info": {
   "codemirror_mode": {
    "name": "ipython",
    "version": 3
   },
   "file_extension": ".py",
   "mimetype": "text/x-python",
   "name": "python",
   "nbconvert_exporter": "python",
   "pygments_lexer": "ipython3",
   "version": "3.7.6"
  }
 },
 "nbformat": 4,
 "nbformat_minor": 4
}
