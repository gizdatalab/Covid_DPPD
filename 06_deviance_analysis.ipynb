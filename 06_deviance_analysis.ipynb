{
 "cells": [
  {
   "cell_type": "markdown",
   "metadata": {},
   "source": [
    "## Import libraries "
   ]
  },
  {
   "cell_type": "code",
   "execution_count": 1,
   "metadata": {},
   "outputs": [],
   "source": [
    "import pandas as pd\n",
    "import numpy as np\n",
    "import matplotlib.pyplot as plt\n",
    "import seaborn as sns\n",
    "from sklearn.preprocessing import StandardScaler\n",
    "from scipy.stats import shapiro"
   ]
  },
  {
   "cell_type": "markdown",
   "metadata": {},
   "source": [
    "## Data prep "
   ]
  },
  {
   "cell_type": "markdown",
   "metadata": {},
   "source": [
    "Read in data export from 05 Notebook"
   ]
  },
  {
   "cell_type": "code",
   "execution_count": 2,
   "metadata": {},
   "outputs": [],
   "source": [
    "all_data = pd.read_csv('all_data.csv')"
   ]
  },
  {
   "cell_type": "markdown",
   "metadata": {},
   "source": [
    "Get Bundesland from first digits of the districtId:"
   ]
  },
  {
   "cell_type": "code",
   "execution_count": 3,
   "metadata": {},
   "outputs": [],
   "source": [
    "all_data['Bundesland'] = all_data.districtId // 1000"
   ]
  },
  {
   "cell_type": "markdown",
   "metadata": {},
   "source": [
    "Add Boolean mask columns for active lockdown and summer vacation to panel dataset."
   ]
  },
  {
   "cell_type": "code",
   "execution_count": 4,
   "metadata": {},
   "outputs": [],
   "source": [
    "#THESE ARE DIFFERENT FROM WHAT I THOUGHT:\n",
    "#They are the first COMPLETE vacation week\n",
    "# ferien_dict = {8:31,#keys: Bundesland\n",
    "#                9:31,#values: Calendar week of the first day of\n",
    "#                11:27,#summer vacation in that Bundesland\n",
    "#                12:27,\n",
    "#                4:25,\n",
    "#                2:27,\n",
    "#                6:28,\n",
    "#                13:26,\n",
    "#                3:30,\n",
    "#                5:27,\n",
    "#                7:28,\n",
    "#                10:28,\n",
    "#                14:30,\n",
    "#                15:30,\n",
    "#                1:27,\n",
    "#                16:30}\n",
    "ferien_dict = {1:27,\n",
    "              2:26,\n",
    "              3:29,\n",
    "              4:29,\n",
    "              5:27,\n",
    "              6:28,\n",
    "              7:28,\n",
    "              8:31,\n",
    "              9:31,\n",
    "              10:28,\n",
    "              11:26,\n",
    "              12:26,\n",
    "              13:26,\n",
    "              14:30,\n",
    "              15:29,\n",
    "              16:30}\n",
    "\n",
    "summer_vac_df = pd.DataFrame()\n",
    "\n",
    "for bl,start in ferien_dict.items():\n",
    "    VACATION_INTERVAL_LENGTH = 7\n",
    "    #six weeks of vacation plus one extra week for all travel returnees to get tested    \n",
    "    ferien = [start+x for x in range(0,VACATION_INTERVAL_LENGTH)]\n",
    "    bl_data = all_data.loc[all_data.Bundesland==bl,['districtId','week_no']].copy()\n",
    "    bl_data['summer_vac'] = bl_data.week_no.isin(ferien)\n",
    "    summer_vac_df = summer_vac_df.append(bl_data)\n",
    "    \n",
    "all_data = pd.merge(all_data, summer_vac_df, how='outer')\n",
    "\n",
    "LOCKDOWN_BEGIN, LOCKDOWN_END = 12, 21\n",
    "\n",
    "all_data['active_lockdown'] = all_data.week_no.between(LOCKDOWN_BEGIN, LOCKDOWN_END, inclusive = True)\n",
    "    \n"
   ]
  },
  {
   "cell_type": "markdown",
   "metadata": {},
   "source": [
    "Average the deviances per district, during the respective intervals"
   ]
  },
  {
   "cell_type": "code",
   "execution_count": 5,
   "metadata": {},
   "outputs": [],
   "source": [
    "lockdown = all_data[all_data.active_lockdown].groupby('districtId')['deviance'].mean().reset_index()\n",
    "summer = all_data[all_data.summer_vac].groupby('districtId')['deviance'].mean().reset_index()\n",
    "deviance_merge = pd.merge(lockdown, summer,\n",
    "                      on='districtId',how='outer',\n",
    "                      suffixes=('_lockdown','_summer'))"
   ]
  },
  {
   "cell_type": "markdown",
   "metadata": {},
   "source": [
    "Get structural factors for peer group assignment"
   ]
  },
  {
   "cell_type": "code",
   "execution_count": 6,
   "metadata": {},
   "outputs": [],
   "source": [
    "structural = all_data[['districtId','district_name','rur_z','ses_z']].drop_duplicates()\n",
    "deviance_df = deviance_merge.merge(structural).set_index('districtId')"
   ]
  },
  {
   "cell_type": "markdown",
   "metadata": {},
   "source": [
    "Next, for each district, assign all districts within a distance of 1 SD in the RUR-SES space as its peers. Then for both lockdown and summer vacation aggregates, calculate the center district's z-score relative to its peer group. This will be the final score by which we prioritize our PD"
   ]
  },
  {
   "cell_type": "code",
   "execution_count": 7,
   "metadata": {},
   "outputs": [],
   "source": [
    "deviance_z_df = pd.DataFrame()\n",
    "scaler = StandardScaler()\n",
    "\n",
    "for i in deviance_df.index:#for each district\n",
    "    center_rur = deviance_df.rur_z.at[i]#get its 'coordinates' in Ruralness-Socioeconomic Space\n",
    "    center_ses = deviance_df.ses_z.at[i]\n",
    "    #get Euclidean distance of all districts to the current district:\n",
    "    distances = np.sqrt((deviance_df.rur_z - center_rur)**2 + (deviance_df.ses_z - center_ses)**2)\n",
    "    peers_df = deviance_df[distances <= 1].copy()#all districts within one SD are part of peer group\n",
    "    n_peer_kernel = peers_df.shape[0]#how many districts (including the center one) are in the peer group?\n",
    "    output_dict = {'districtId':i,\n",
    "                  'n_peer_kernel':n_peer_kernel}\n",
    "    for t in ['lockdown','summer']:\n",
    "        var_name = t + '_z'#variable name\n",
    "        #get z-standardized scores for all districts in the peer group:\n",
    "        peers_df[var_name] = scaler.fit_transform(peers_df['deviance_' + t].values.reshape(-1,1))\n",
    "        #add the center district's z-score to output:\n",
    "        output_dict[var_name] = peers_df[var_name].at[i]\n",
    "        #perform test for normal distribution, except when there are not enough peers:\n",
    "        output_dict['shapiro_'+var_name] = shapiro(peers_df[var_name])[1] if n_peer_kernel > 2 else np.nan\n",
    "        \n",
    "        \n",
    "    deviance_z_df = deviance_z_df.append(output_dict, ignore_index=True)\n",
    "       "
   ]
  },
  {
   "cell_type": "code",
   "execution_count": 8,
   "metadata": {},
   "outputs": [],
   "source": [
    "deviance_df = pd.merge(deviance_df.reset_index(),deviance_z_df)"
   ]
  },
  {
   "cell_type": "markdown",
   "metadata": {},
   "source": [
    "For validity checking, we also include the worst and median performers for each deviance:"
   ]
  },
  {
   "cell_type": "code",
   "execution_count": 9,
   "metadata": {},
   "outputs": [],
   "source": [
    "def get_relevant_districts(var, n_best=3):\n",
    "    sort = deviance_df.sort_values(var, ascending=False)\n",
    "    n = sort.shape[0]\n",
    "    \n",
    "    top_x = []\n",
    "    for i in range(n_best):\n",
    "        top_x.append(sort.districtId.iat[i])\n",
    "    \n",
    "    median = sort.districtId.iat[n//2]    \n",
    "    worst = sort.districtId.iat[n-1]\n",
    "    \n",
    "    return top_x, median, worst"
   ]
  },
  {
   "cell_type": "code",
   "execution_count": 10,
   "metadata": {},
   "outputs": [],
   "source": [
    "ld_best, ld_median, ld_worst = get_relevant_districts('lockdown_z')\n",
    "su_best, su_median, su_worst = get_relevant_districts('summer_z')"
   ]
  },
  {
   "cell_type": "markdown",
   "metadata": {},
   "source": [
    "Lockdown Top 3:"
   ]
  },
  {
   "cell_type": "code",
   "execution_count": 11,
   "metadata": {},
   "outputs": [
    {
     "name": "stdout",
     "output_type": "stream",
     "text": [
      "3834    KS Koblenz\n",
      "Name: district_name, dtype: object\n",
      "5697    Lörrach\n",
      "Name: district_name, dtype: object\n",
      "7938    KS Würzburg\n",
      "Name: district_name, dtype: object\n"
     ]
    }
   ],
   "source": [
    "for d in ld_best:\n",
    "    print(all_data.district_name[all_data.districtId==d].head(1))"
   ]
  },
  {
   "cell_type": "markdown",
   "metadata": {},
   "source": [
    "Summer Top 3:"
   ]
  },
  {
   "cell_type": "code",
   "execution_count": 12,
   "metadata": {
    "scrolled": true
   },
   "outputs": [
    {
     "name": "stdout",
     "output_type": "stream",
     "text": [
      "2646    Gütersloh\n",
      "Name: district_name, dtype: object\n",
      "6912    Dingolfing-Landau\n",
      "Name: district_name, dtype: object\n",
      "1566    Vechta\n",
      "Name: district_name, dtype: object\n"
     ]
    }
   ],
   "source": [
    "for d in su_best:\n",
    "    print(all_data.district_name[all_data.districtId==d].head(1))"
   ]
  },
  {
   "cell_type": "code",
   "execution_count": 13,
   "metadata": {},
   "outputs": [
    {
     "name": "stdout",
     "output_type": "stream",
     "text": [
      "10665    Sonneberg\n",
      "Name: district_name, dtype: object\n",
      "9504    Erzgebirgskreis\n",
      "Name: district_name, dtype: object\n"
     ]
    }
   ],
   "source": [
    "print(all_data.district_name[all_data.districtId==ld_worst].head(1))\n",
    "print(all_data.district_name[all_data.districtId==su_worst].head(1))"
   ]
  },
  {
   "cell_type": "code",
   "execution_count": 14,
   "metadata": {},
   "outputs": [],
   "source": [
    "deviance_df['is_lockdown_pd'] = deviance_df.districtId.isin(ld_best)\n",
    "deviance_df['is_summer_pd'] = deviance_df.districtId.isin(su_best)\n",
    "deviance_df['lockdown_rank'] = deviance_df.lockdown_z.rank(ascending=False)\n",
    "deviance_df['summer_rank'] = deviance_df.summer_z.rank(ascending=False)\n"
   ]
  },
  {
   "cell_type": "code",
   "execution_count": 15,
   "metadata": {},
   "outputs": [],
   "source": [
    "deviance_df.to_csv('deviance_df.csv',index=False)\n",
    "all_data.to_csv('all_data_with_intervals.csv',index=False)"
   ]
  },
  {
   "cell_type": "code",
   "execution_count": 16,
   "metadata": {},
   "outputs": [
    {
     "name": "stdout",
     "output_type": "stream",
     "text": [
      "Correlation between lockdown and summer scores:-0.10\n"
     ]
    },
    {
     "data": {
      "text/plain": [
       "<matplotlib.collections.PathCollection at 0x22874a19148>"
      ]
     },
     "execution_count": 16,
     "metadata": {},
     "output_type": "execute_result"
    },
    {
     "data": {
      "image/png": "[encoded data removed]",
      "text/plain": [
       "<Figure size 432x288 with 1 Axes>"
      ]
     },
     "metadata": {
      "needs_background": "light"
     },
     "output_type": "display_data"
    }
   ],
   "source": [
    "print('Correlation between lockdown and summer scores:{:.2f}'.format(np.corrcoef(deviance_df.lockdown_z, deviance_df.summer_z)[1,0]))\n",
    "plt.scatter(deviance_df.lockdown_z, deviance_df.summer_z)"
   ]
  },
  {
   "cell_type": "markdown",
   "metadata": {},
   "source": [
    "___________________________________________________________________________"
   ]
  },
  {
   "cell_type": "markdown",
   "metadata": {},
   "source": [
    "Checking the normality assumption needed for z-score validity:"
   ]
  },
  {
   "cell_type": "code",
   "execution_count": 17,
   "metadata": {},
   "outputs": [],
   "source": [
    "# for c in ['shap_lockdown_z','shap_summer_z']:\n",
    "#     print(c)\n",
    "#     deviance_df[c].hist()\n",
    "#     plt.show()\n",
    "#     print('Share non-normal:',np.mean(deviance_df[c]<.05))"
   ]
  },
  {
   "cell_type": "markdown",
   "metadata": {},
   "source": [
    "OLD: Defining PD's with a Cut-Off:"
   ]
  },
  {
   "cell_type": "code",
   "execution_count": 18,
   "metadata": {},
   "outputs": [],
   "source": [
    "# CUT_OFF = 2.326"
   ]
  },
  {
   "cell_type": "code",
   "execution_count": 19,
   "metadata": {},
   "outputs": [],
   "source": [
    "# NORMAL_ONLY = False\n",
    "\n",
    "# lockdown_pd = deviance_df[deviance_df.lockdown_z >= CUT_OFF].sort_values('lockdown_z',ascending=False)\n",
    "# summer_pd = deviance_df[deviance_df.summer_z >= CUT_OFF].sort_values('summer_z',ascending=False)\n",
    "\n",
    "# if NORMAL_ONLY:\n",
    "#     lockdown_pd = lockdown_pd[lockdown_pd.shap_lockdown_z>=.05]\n",
    "#     summer_pd = summer_pd[summer_pd.shap_lockdown_z>=.05]"
   ]
  },
  {
   "cell_type": "markdown",
   "metadata": {},
   "source": [
    "For the lockdown deviance, the comparison within peers did not change the best one, but the remainder of the top 5:"
   ]
  },
  {
   "cell_type": "code",
   "execution_count": 20,
   "metadata": {},
   "outputs": [
    {
     "data": {
      "text/plain": [
       "<matplotlib.collections.PathCollection at 0x22875221908>"
      ]
     },
     "execution_count": 20,
     "metadata": {},
     "output_type": "execute_result"
    },
    {
     "data": {
      "image/png": "[encoded data removed]",
      "text/plain": [
       "<Figure size 432x288 with 1 Axes>"
      ]
     },
     "metadata": {
      "needs_background": "light"
     },
     "output_type": "display_data"
    }
   ],
   "source": [
    "plt.scatter(deviance_df['lockdown_z'],deviance_df['deviance_lockdown'])"
   ]
  },
  {
   "cell_type": "markdown",
   "metadata": {},
   "source": [
    "For the summer, the top 5 is ordered differently when doing peer comparison:"
   ]
  },
  {
   "cell_type": "code",
   "execution_count": 21,
   "metadata": {
    "scrolled": true
   },
   "outputs": [
    {
     "data": {
      "text/plain": [
       "<matplotlib.collections.PathCollection at 0x228751ee208>"
      ]
     },
     "execution_count": 21,
     "metadata": {},
     "output_type": "execute_result"
    },
    {
     "data": {
      "image/png": "[encoded data removed]",
      "text/plain": [
       "<Figure size 432x288 with 1 Axes>"
      ]
     },
     "metadata": {
      "needs_background": "light"
     },
     "output_type": "display_data"
    }
   ],
   "source": [
    "plt.scatter(deviance_df['summer_z'],deviance_df['deviance_summer'])"
   ]
  },
  {
   "cell_type": "code",
   "execution_count": 22,
   "metadata": {},
   "outputs": [
    {
     "data": {
      "text/html": [
       "<div>\n",
       "<style scoped>\n",
       "    .dataframe tbody tr th:only-of-type {\n",
       "        vertical-align: middle;\n",
       "    }\n",
       "\n",
       "    .dataframe tbody tr th {\n",
       "        vertical-align: top;\n",
       "    }\n",
       "\n",
       "    .dataframe thead th {\n",
       "        text-align: right;\n",
       "    }\n",
       "</style>\n",
       "<table border=\"1\" class=\"dataframe\">\n",
       "  <thead>\n",
       "    <tr style=\"text-align: right;\">\n",
       "      <th></th>\n",
       "      <th>districtId</th>\n",
       "      <th>deviance_lockdown</th>\n",
       "      <th>deviance_summer</th>\n",
       "      <th>district_name</th>\n",
       "      <th>rur_z</th>\n",
       "      <th>ses_z</th>\n",
       "      <th>lockdown_z</th>\n",
       "      <th>n_peer_kernel</th>\n",
       "      <th>shapiro_lockdown_z</th>\n",
       "      <th>shapiro_summer_z</th>\n",
       "      <th>summer_z</th>\n",
       "      <th>is_lockdown_pd</th>\n",
       "      <th>is_summer_pd</th>\n",
       "      <th>lockdown_rank</th>\n",
       "      <th>summer_rank</th>\n",
       "    </tr>\n",
       "  </thead>\n",
       "  <tbody>\n",
       "    <tr>\n",
       "      <th>98</th>\n",
       "      <td>5754</td>\n",
       "      <td>-0.032064</td>\n",
       "      <td>0.344707</td>\n",
       "      <td>Gütersloh</td>\n",
       "      <td>0.033483</td>\n",
       "      <td>0.841294</td>\n",
       "      <td>-0.834383</td>\n",
       "      <td>142.0</td>\n",
       "      <td>0.200171</td>\n",
       "      <td>0.968846</td>\n",
       "      <td>2.933154</td>\n",
       "      <td>False</td>\n",
       "      <td>True</td>\n",
       "      <td>310.0</td>\n",
       "      <td>1.0</td>\n",
       "    </tr>\n",
       "    <tr>\n",
       "      <th>256</th>\n",
       "      <td>9279</td>\n",
       "      <td>0.019509</td>\n",
       "      <td>0.497956</td>\n",
       "      <td>Dingolfing-Landau</td>\n",
       "      <td>0.834051</td>\n",
       "      <td>1.989113</td>\n",
       "      <td>-0.640546</td>\n",
       "      <td>15.0</td>\n",
       "      <td>0.141460</td>\n",
       "      <td>0.042534</td>\n",
       "      <td>2.852870</td>\n",
       "      <td>False</td>\n",
       "      <td>True</td>\n",
       "      <td>291.0</td>\n",
       "      <td>2.0</td>\n",
       "    </tr>\n",
       "    <tr>\n",
       "      <th>58</th>\n",
       "      <td>3460</td>\n",
       "      <td>0.213688</td>\n",
       "      <td>0.265572</td>\n",
       "      <td>Vechta</td>\n",
       "      <td>0.796365</td>\n",
       "      <td>0.465030</td>\n",
       "      <td>1.147277</td>\n",
       "      <td>182.0</td>\n",
       "      <td>0.152471</td>\n",
       "      <td>0.599797</td>\n",
       "      <td>2.236002</td>\n",
       "      <td>False</td>\n",
       "      <td>True</td>\n",
       "      <td>49.0</td>\n",
       "      <td>3.0</td>\n",
       "    </tr>\n",
       "    <tr>\n",
       "      <th>373</th>\n",
       "      <td>15087</td>\n",
       "      <td>-0.047858</td>\n",
       "      <td>0.338453</td>\n",
       "      <td>Mansfeld-Südharz</td>\n",
       "      <td>0.931498</td>\n",
       "      <td>-2.650242</td>\n",
       "      <td>-0.296748</td>\n",
       "      <td>23.0</td>\n",
       "      <td>0.435065</td>\n",
       "      <td>0.418243</td>\n",
       "      <td>2.223157</td>\n",
       "      <td>False</td>\n",
       "      <td>False</td>\n",
       "      <td>251.0</td>\n",
       "      <td>4.0</td>\n",
       "    </tr>\n",
       "    <tr>\n",
       "      <th>222</th>\n",
       "      <td>9161</td>\n",
       "      <td>-0.233753</td>\n",
       "      <td>0.118956</td>\n",
       "      <td>KS Ingolstadt</td>\n",
       "      <td>-0.770692</td>\n",
       "      <td>2.619133</td>\n",
       "      <td>-1.771586</td>\n",
       "      <td>8.0</td>\n",
       "      <td>0.953842</td>\n",
       "      <td>0.177594</td>\n",
       "      <td>2.116436</td>\n",
       "      <td>False</td>\n",
       "      <td>False</td>\n",
       "      <td>385.0</td>\n",
       "      <td>5.0</td>\n",
       "    </tr>\n",
       "  </tbody>\n",
       "</table>\n",
       "</div>"
      ],
      "text/plain": [
       "     districtId  deviance_lockdown  deviance_summer      district_name  \\\n",
       "98         5754          -0.032064         0.344707          Gütersloh   \n",
       "256        9279           0.019509         0.497956  Dingolfing-Landau   \n",
       "58         3460           0.213688         0.265572             Vechta   \n",
       "373       15087          -0.047858         0.338453   Mansfeld-Südharz   \n",
       "222        9161          -0.233753         0.118956      KS Ingolstadt   \n",
       "\n",
       "        rur_z     ses_z  lockdown_z  n_peer_kernel  shapiro_lockdown_z  \\\n",
       "98   0.033483  0.841294   -0.834383          142.0            0.200171   \n",
       "256  0.834051  1.989113   -0.640546           15.0            0.141460   \n",
       "58   0.796365  0.465030    1.147277          182.0            0.152471   \n",
       "373  0.931498 -2.650242   -0.296748           23.0            0.435065   \n",
       "222 -0.770692  2.619133   -1.771586            8.0            0.953842   \n",
       "\n",
       "     shapiro_summer_z  summer_z  is_lockdown_pd  is_summer_pd  lockdown_rank  \\\n",
       "98           0.968846  2.933154           False          True          310.0   \n",
       "256          0.042534  2.852870           False          True          291.0   \n",
       "58           0.599797  2.236002           False          True           49.0   \n",
       "373          0.418243  2.223157           False         False          251.0   \n",
       "222          0.177594  2.116436           False         False          385.0   \n",
       "\n",
       "     summer_rank  \n",
       "98           1.0  \n",
       "256          2.0  \n",
       "58           3.0  \n",
       "373          4.0  \n",
       "222          5.0  "
      ]
     },
     "execution_count": 22,
     "metadata": {},
     "output_type": "execute_result"
    }
   ],
   "source": [
    "deviance_df.sort_values('summer_z',ascending=False).iloc[:5]"
   ]
  },
  {
   "cell_type": "code",
   "execution_count": 23,
   "metadata": {},
   "outputs": [
    {
     "data": {
      "text/html": [
       "<div>\n",
       "<style scoped>\n",
       "    .dataframe tbody tr th:only-of-type {\n",
       "        vertical-align: middle;\n",
       "    }\n",
       "\n",
       "    .dataframe tbody tr th {\n",
       "        vertical-align: top;\n",
       "    }\n",
       "\n",
       "    .dataframe thead th {\n",
       "        text-align: right;\n",
       "    }\n",
       "</style>\n",
       "<table border=\"1\" class=\"dataframe\">\n",
       "  <thead>\n",
       "    <tr style=\"text-align: right;\">\n",
       "      <th></th>\n",
       "      <th>districtId</th>\n",
       "      <th>deviance_lockdown</th>\n",
       "      <th>deviance_summer</th>\n",
       "      <th>district_name</th>\n",
       "      <th>rur_z</th>\n",
       "      <th>ses_z</th>\n",
       "      <th>lockdown_z</th>\n",
       "      <th>n_peer_kernel</th>\n",
       "      <th>shapiro_lockdown_z</th>\n",
       "      <th>shapiro_summer_z</th>\n",
       "      <th>summer_z</th>\n",
       "      <th>is_lockdown_pd</th>\n",
       "      <th>is_summer_pd</th>\n",
       "      <th>lockdown_rank</th>\n",
       "      <th>summer_rank</th>\n",
       "    </tr>\n",
       "  </thead>\n",
       "  <tbody>\n",
       "    <tr>\n",
       "      <th>142</th>\n",
       "      <td>7111</td>\n",
       "      <td>0.408986</td>\n",
       "      <td>0.021239</td>\n",
       "      <td>KS Koblenz</td>\n",
       "      <td>-1.159922</td>\n",
       "      <td>0.693709</td>\n",
       "      <td>2.643213</td>\n",
       "      <td>61.0</td>\n",
       "      <td>0.943646</td>\n",
       "      <td>0.544068</td>\n",
       "      <td>1.024390</td>\n",
       "      <td>True</td>\n",
       "      <td>False</td>\n",
       "      <td>1.0</td>\n",
       "      <td>68.0</td>\n",
       "    </tr>\n",
       "    <tr>\n",
       "      <th>211</th>\n",
       "      <td>8336</td>\n",
       "      <td>0.365725</td>\n",
       "      <td>-0.178437</td>\n",
       "      <td>Lörrach</td>\n",
       "      <td>-0.025397</td>\n",
       "      <td>0.965820</td>\n",
       "      <td>2.244301</td>\n",
       "      <td>128.0</td>\n",
       "      <td>0.441001</td>\n",
       "      <td>0.981831</td>\n",
       "      <td>-0.351344</td>\n",
       "      <td>True</td>\n",
       "      <td>False</td>\n",
       "      <td>2.0</td>\n",
       "      <td>254.0</td>\n",
       "    </tr>\n",
       "    <tr>\n",
       "      <th>294</th>\n",
       "      <td>9663</td>\n",
       "      <td>0.326174</td>\n",
       "      <td>-0.396107</td>\n",
       "      <td>KS Würzburg</td>\n",
       "      <td>-1.289142</td>\n",
       "      <td>0.490149</td>\n",
       "      <td>2.196747</td>\n",
       "      <td>60.0</td>\n",
       "      <td>0.426469</td>\n",
       "      <td>0.194509</td>\n",
       "      <td>-1.943242</td>\n",
       "      <td>True</td>\n",
       "      <td>False</td>\n",
       "      <td>3.0</td>\n",
       "      <td>392.0</td>\n",
       "    </tr>\n",
       "    <tr>\n",
       "      <th>169</th>\n",
       "      <td>7332</td>\n",
       "      <td>0.330395</td>\n",
       "      <td>-0.203213</td>\n",
       "      <td>Bad Dürkheim</td>\n",
       "      <td>0.301302</td>\n",
       "      <td>-0.085467</td>\n",
       "      <td>2.060937</td>\n",
       "      <td>199.0</td>\n",
       "      <td>0.179123</td>\n",
       "      <td>0.243316</td>\n",
       "      <td>-0.539039</td>\n",
       "      <td>False</td>\n",
       "      <td>False</td>\n",
       "      <td>4.0</td>\n",
       "      <td>280.0</td>\n",
       "    </tr>\n",
       "    <tr>\n",
       "      <th>99</th>\n",
       "      <td>5758</td>\n",
       "      <td>0.331144</td>\n",
       "      <td>-0.015887</td>\n",
       "      <td>Herford</td>\n",
       "      <td>-0.082882</td>\n",
       "      <td>0.115677</td>\n",
       "      <td>2.058577</td>\n",
       "      <td>172.0</td>\n",
       "      <td>0.581731</td>\n",
       "      <td>0.771174</td>\n",
       "      <td>0.651629</td>\n",
       "      <td>False</td>\n",
       "      <td>False</td>\n",
       "      <td>5.0</td>\n",
       "      <td>109.0</td>\n",
       "    </tr>\n",
       "  </tbody>\n",
       "</table>\n",
       "</div>"
      ],
      "text/plain": [
       "     districtId  deviance_lockdown  deviance_summer district_name     rur_z  \\\n",
       "142        7111           0.408986         0.021239    KS Koblenz -1.159922   \n",
       "211        8336           0.365725        -0.178437       Lörrach -0.025397   \n",
       "294        9663           0.326174        -0.396107   KS Würzburg -1.289142   \n",
       "169        7332           0.330395        -0.203213  Bad Dürkheim  0.301302   \n",
       "99         5758           0.331144        -0.015887       Herford -0.082882   \n",
       "\n",
       "        ses_z  lockdown_z  n_peer_kernel  shapiro_lockdown_z  \\\n",
       "142  0.693709    2.643213           61.0            0.943646   \n",
       "211  0.965820    2.244301          128.0            0.441001   \n",
       "294  0.490149    2.196747           60.0            0.426469   \n",
       "169 -0.085467    2.060937          199.0            0.179123   \n",
       "99   0.115677    2.058577          172.0            0.581731   \n",
       "\n",
       "     shapiro_summer_z  summer_z  is_lockdown_pd  is_summer_pd  lockdown_rank  \\\n",
       "142          0.544068  1.024390            True         False            1.0   \n",
       "211          0.981831 -0.351344            True         False            2.0   \n",
       "294          0.194509 -1.943242            True         False            3.0   \n",
       "169          0.243316 -0.539039           False         False            4.0   \n",
       "99           0.771174  0.651629           False         False            5.0   \n",
       "\n",
       "     summer_rank  \n",
       "142         68.0  \n",
       "211        254.0  \n",
       "294        392.0  \n",
       "169        280.0  \n",
       "99         109.0  "
      ]
     },
     "execution_count": 23,
     "metadata": {},
     "output_type": "execute_result"
    }
   ],
   "source": [
    "deviance_df.sort_values('lockdown_z',ascending=False).iloc[:5]"
   ]
  },
  {
   "cell_type": "code",
   "execution_count": 24,
   "metadata": {},
   "outputs": [
    {
     "data": {
      "text/html": [
       "<div>\n",
       "<style scoped>\n",
       "    .dataframe tbody tr th:only-of-type {\n",
       "        vertical-align: middle;\n",
       "    }\n",
       "\n",
       "    .dataframe tbody tr th {\n",
       "        vertical-align: top;\n",
       "    }\n",
       "\n",
       "    .dataframe thead th {\n",
       "        text-align: right;\n",
       "    }\n",
       "</style>\n",
       "<table border=\"1\" class=\"dataframe\">\n",
       "  <thead>\n",
       "    <tr style=\"text-align: right;\">\n",
       "      <th></th>\n",
       "      <th>districtId</th>\n",
       "      <th>deviance_lockdown</th>\n",
       "      <th>deviance_summer</th>\n",
       "      <th>district_name</th>\n",
       "      <th>rur_z</th>\n",
       "      <th>ses_z</th>\n",
       "      <th>lockdown_z</th>\n",
       "      <th>n_peer_kernel</th>\n",
       "      <th>shapiro_lockdown_z</th>\n",
       "      <th>shapiro_summer_z</th>\n",
       "      <th>summer_z</th>\n",
       "      <th>is_lockdown_pd</th>\n",
       "      <th>is_summer_pd</th>\n",
       "      <th>lockdown_rank</th>\n",
       "      <th>summer_rank</th>\n",
       "    </tr>\n",
       "  </thead>\n",
       "  <tbody>\n",
       "    <tr>\n",
       "      <th>293</th>\n",
       "      <td>9662</td>\n",
       "      <td>-0.094846</td>\n",
       "      <td>0.061404</td>\n",
       "      <td>Schweinfurt</td>\n",
       "      <td>-1.292395</td>\n",
       "      <td>0.648952</td>\n",
       "      <td>-1.158224</td>\n",
       "      <td>56.0</td>\n",
       "      <td>0.446359</td>\n",
       "      <td>0.388323</td>\n",
       "      <td>1.229348</td>\n",
       "      <td>False</td>\n",
       "      <td>False</td>\n",
       "      <td>348.0</td>\n",
       "      <td>46.0</td>\n",
       "    </tr>\n",
       "  </tbody>\n",
       "</table>\n",
       "</div>"
      ],
      "text/plain": [
       "     districtId  deviance_lockdown  deviance_summer district_name     rur_z  \\\n",
       "293        9662          -0.094846         0.061404   Schweinfurt -1.292395   \n",
       "\n",
       "        ses_z  lockdown_z  n_peer_kernel  shapiro_lockdown_z  \\\n",
       "293  0.648952   -1.158224           56.0            0.446359   \n",
       "\n",
       "     shapiro_summer_z  summer_z  is_lockdown_pd  is_summer_pd  lockdown_rank  \\\n",
       "293          0.388323  1.229348           False         False          348.0   \n",
       "\n",
       "     summer_rank  \n",
       "293         46.0  "
      ]
     },
     "execution_count": 24,
     "metadata": {},
     "output_type": "execute_result"
    }
   ],
   "source": [
    "deviance_df[deviance_df.districtId==9662]"
   ]
  },
  {
   "cell_type": "code",
   "execution_count": null,
   "metadata": {},
   "outputs": [],
   "source": []
  }
 ],
 "metadata": {
  "kernelspec": {
   "display_name": "Python 3",
   "language": "python",
   "name": "python3"
  },
  "language_info": {
   "codemirror_mode": {
    "name": "ipython",
    "version": 3
   },
   "file_extension": ".py",
   "mimetype": "text/x-python",
   "name": "python",
   "nbconvert_exporter": "python",
   "pygments_lexer": "ipython3",
   "version": "3.7.6"
  }
 },
 "nbformat": 4,
 "nbformat_minor": 4
}
