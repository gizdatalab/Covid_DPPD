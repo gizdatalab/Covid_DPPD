{
 "cells": [
  {
   "cell_type": "code",
   "execution_count": 1,
   "metadata": {},
   "outputs": [],
   "source": [
    "import numpy as np\n",
    "import pandas as pd"
   ]
  },
  {
   "cell_type": "code",
   "execution_count": 2,
   "metadata": {},
   "outputs": [],
   "source": [
    "all_data = pd.read_csv('all_data.csv')"
   ]
  },
  {
   "cell_type": "markdown",
   "metadata": {},
   "source": [
    "## descriptives"
   ]
  },
  {
   "cell_type": "code",
   "execution_count": 28,
   "metadata": {},
   "outputs": [],
   "source": [
    "cols_to_include = ['target',\n",
    "                   'R0_this_week',\n",
    "                   'Count_internal_p_pop',\n",
    "                   'Count_incoming_p_pop',\n",
    "                   'incoming_infected_p_pop',\n",
    "                   'temperature',\n",
    "                   'humidity',\n",
    "                   'precipitation',\n",
    "                   'sunshine',\n",
    "                   'ses_z',\n",
    "                   'rur_z']\n",
    "\n",
    "descriptions = all_data[cols_to_include].describe().T.round(2)[['mean', 'std', 'min', '25%', '50%', '75%', 'max']]\n",
    "\n",
    "var_dict = {'target':'Ln-R0',\n",
    "            'R0_this_week':'R0',\n",
    "            'Count_internal_p_pop':'Internal travel per capita',\n",
    "            'Count_incoming_p_pop':'Incoming travel per capita',\n",
    "            'incoming_infected_p_pop':'Incoming infection load per capita',\n",
    "            'temperature':'Average temperature (°C)',\n",
    "            'humidity':'Average humidity (%)',\n",
    "            'precipitation':'Average daily precipitation (cm)',\n",
    "            'sunshine':'Average daily sunshine (minitues)',\n",
    "            'ses_z':'Standardized socio-economic status index',\n",
    "            'rur_z':'Standardized ruralness index'}\n",
    "\n",
    "descriptions.index=descriptions.index.map(var_dict)\n",
    "descriptions.to_csv('descriptives.csv')"
   ]
  },
  {
   "cell_type": "markdown",
   "metadata": {},
   "source": [
    "## infection numbers "
   ]
  },
  {
   "cell_type": "code",
   "execution_count": 41,
   "metadata": {},
   "outputs": [],
   "source": [
    "cols_to_include = ['districtId',\n",
    "                   'week_no',\n",
    "                   'AnzahlFall',\n",
    "                  'AnzahlTodesfall',\n",
    "                   'AnzahlFall_per_cap',\n",
    "                  'AnzahlTodesfall_per_cap',\n",
    "                   'AnzahlFall_cumul',\n",
    "                  'AnzahlTodesfall_cumul',\n",
    "                   'AnzahlFall_cumul_per_cap',\n",
    "                  'AnzahlTodesfall_cumul_per_cap',\n",
    "                  'R0_this_week',\n",
    "                   'target']\n",
    "\n",
    "infections = all_data[cols_to_include]\n",
    "\n",
    "var_dict = {'districtId':'ID/AGS-5',\n",
    "            'week_no':'Calendar week 2020',\n",
    "            'AnzahlFall':'Number of new cases',\n",
    "            'AnzahlTodesfall':'Number of new fatalities',\n",
    "            'AnzahlFall_per_cap':'New cases per inhabitant',\n",
    "            'AnzahlTodesfall_per_cap':'New fatalities per inhabitant',\n",
    "            'AnzahlFall_cumul':'Cumulated number of cases',\n",
    "            'AnzahlTodesfall_cumul':'Cumulated number of fatalities',\n",
    "            'AnzahlFall_cumul_per_cap':'Cumulated cases per inhabitant',\n",
    "            'AnzahlTodesfall_cumul_per_cap':'Cumulated fatalities per inhabitant',\n",
    "            'R0_this_week':'Weekly R0',\n",
    "            'target':'Weekly Logarithmic R0'}\n",
    "\n",
    "infections.rename(columns=var_dict).to_csv('infection_numbers.csv',index=False)"
   ]
  }
 ],
 "metadata": {
  "kernelspec": {
   "display_name": "Python 3",
   "language": "python",
   "name": "python3"
  },
  "language_info": {
   "codemirror_mode": {
    "name": "ipython",
    "version": 3
   },
   "file_extension": ".py",
   "mimetype": "text/x-python",
   "name": "python",
   "nbconvert_exporter": "python",
   "pygments_lexer": "ipython3",
   "version": "3.7.6"
  }
 },
 "nbformat": 4,
 "nbformat_minor": 4
}
