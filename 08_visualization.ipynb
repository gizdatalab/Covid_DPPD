{
 "cells": [
  {
   "cell_type": "code",
   "execution_count": 1,
   "metadata": {},
   "outputs": [],
   "source": [
    "import datetime as dt\n",
    "import numpy as np\n",
    "import pandas as pd\n",
    "import plotly.graph_objects as go\n",
    "import matplotlib.pyplot as plt\n",
    "from matplotlib.ticker import StrMethodFormatter\n",
    "import seaborn as sns"
   ]
  },
  {
   "cell_type": "code",
   "execution_count": 2,
   "metadata": {},
   "outputs": [],
   "source": [
    "all_data = pd.read_csv('all_data_with_intervals.csv')[['Bundesland','week_no','summer_vac','active_lockdown','total_population']]\n",
    "populations = all_data.groupby('Bundesland')['total_population'].sum().reset_index()\n",
    "intervals = all_data.drop(columns='total_population').drop_duplicates()"
   ]
  },
  {
   "cell_type": "code",
   "execution_count": 3,
   "metadata": {},
   "outputs": [],
   "source": [
    "rki_weekly = pd.read_csv('rki_weekly.csv')\n",
    "rki_weekly['Bundesland'] = rki_weekly.districtId // 1000\n",
    "state_wise = rki_weekly.groupby(['Bundesland','week_no'])['AnzahlFall'].sum().reset_index().merge(populations)\n",
    "state_wise['cases_per_cap'] = state_wise.AnzahlFall / state_wise.total_population"
   ]
  },
  {
   "cell_type": "code",
   "execution_count": 22,
   "metadata": {},
   "outputs": [],
   "source": [
    "plot_data = pd.merge(state_wise, intervals, how='outer')\n",
    "plot_data.fillna(value=False,inplace=True)\n",
    "plot_data = plot_data[plot_data.week_no.between(6,39)].copy()#our model was only until week 38, with RF looking ahead 1 week\n",
    "plot_lockdown = plot_data[plot_data.active_lockdown].copy()\n",
    "plot_summer = plot_data[plot_data.summer_vac].copy()"
   ]
  },
  {
   "cell_type": "code",
   "execution_count": 59,
   "metadata": {
    "scrolled": false
   },
   "outputs": [
    {
     "data": {
      "application/vnd.plotly.v1+json": {
       "config": {
        "plotlyServerURL": "https://plot.ly"
       },
       "data": [
        {
         "fill": "tozeroy",
         "hoverinfo": "none",
         "line": {
          "color": "blue",
          "width": 0
         },
         "mode": "lines",
         "name": "Summer Vacation",
         "showlegend": true,
         "type": "scatter",
         "x": [
          27,
          28,
          29,
          30,
          31,
          32,
          33
         ],
         "y": [
          37,
          23,
          50,
          66,
          152,
          118,
          201
         ]
        },
        {
         "fill": "tozeroy",
         "hoverinfo": "none",
         "line": {
          "color": "red",
          "width": 0
         },
         "mode": "lines",
         "name": "Active Lockdown",
         "showlegend": true,
         "type": "scatter",
         "x": [
          12,
          13,
          14,
          15,
          16,
          17,
          18,
          19,
          20,
          21
         ],
         "y": [
          345,
          619,
          614,
          446,
          282,
          202,
          144,
          174,
          48,
          64
         ]
        },
        {
         "hoverinfo": "none",
         "line": {
          "color": "black",
          "width": 0.9
         },
         "mode": "lines",
         "showlegend": false,
         "type": "scatter",
         "x": [
          6,
          7,
          8,
          9,
          10,
          11,
          12,
          13,
          14,
          15,
          16,
          17,
          18,
          19,
          20,
          21,
          22,
          23,
          24,
          25,
          26,
          27,
          28,
          29,
          30,
          31,
          32,
          33,
          34,
          35,
          36,
          37,
          38,
          39
         ],
         "y": [
          0,
          0,
          0,
          2,
          7,
          119,
          345,
          619,
          614,
          446,
          282,
          202,
          144,
          174,
          48,
          64,
          34,
          11,
          9,
          17,
          16,
          37,
          23,
          50,
          66,
          152,
          118,
          201,
          113,
          122,
          99,
          109,
          203,
          250
         ]
        },
        {
         "hoverinfo": "none",
         "line": {
          "width": 0
         },
         "mode": "lines",
         "showlegend": false,
         "type": "scatter",
         "x": [
          27,
          28,
          29,
          30,
          31,
          32,
          33
         ],
         "y": [
          37,
          23,
          50,
          66,
          152,
          118,
          201
         ]
        },
        {
         "fill": "tonexty",
         "hoverinfo": "none",
         "line": {
          "color": "blue",
          "width": 0
         },
         "mode": "lines",
         "showlegend": false,
         "type": "scatter",
         "x": [
          27,
          28,
          29,
          30,
          31,
          32,
          33
         ],
         "y": [
          58,
          37,
          67,
          157,
          267,
          397,
          390
         ]
        },
        {
         "hoverinfo": "none",
         "line": {
          "width": 0
         },
         "mode": "lines",
         "showlegend": false,
         "type": "scatter",
         "x": [
          12,
          13,
          14,
          15,
          16,
          17,
          18,
          19,
          20,
          21
         ],
         "y": [
          345,
          619,
          614,
          446,
          282,
          202,
          144,
          174,
          48,
          64
         ]
        },
        {
         "fill": "tonexty",
         "hoverinfo": "none",
         "line": {
          "color": "red",
          "width": 0
         },
         "mode": "lines",
         "showlegend": false,
         "type": "scatter",
         "x": [
          12,
          13,
          14,
          15,
          16,
          17,
          18,
          19,
          20,
          21
         ],
         "y": [
          1280,
          1692,
          1522,
          1202,
          724,
          492,
          281,
          267,
          97,
          89
         ]
        },
        {
         "hoverinfo": "none",
         "line": {
          "color": "black",
          "width": 0.9
         },
         "mode": "lines",
         "showlegend": false,
         "type": "scatter",
         "x": [
          6,
          7,
          8,
          9,
          10,
          11,
          12,
          13,
          14,
          15,
          16,
          17,
          18,
          19,
          20,
          21,
          22,
          23,
          24,
          25,
          26,
          27,
          28,
          29,
          30,
          31,
          32,
          33,
          34,
          35,
          36,
          37,
          38,
          39
         ],
         "y": [
          0,
          0,
          0,
          4,
          28,
          435,
          1280,
          1692,
          1522,
          1202,
          724,
          492,
          281,
          267,
          97,
          89,
          51,
          37,
          33,
          48,
          60,
          58,
          37,
          67,
          157,
          267,
          397,
          390,
          298,
          325,
          368,
          426,
          603,
          760
         ]
        },
        {
         "hoverinfo": "none",
         "line": {
          "width": 0
         },
         "mode": "lines",
         "showlegend": false,
         "type": "scatter",
         "x": [
          30,
          31,
          32,
          33,
          34,
          35,
          36
         ],
         "y": [
          157,
          267,
          397,
          390,
          298,
          325,
          368
         ]
        },
        {
         "fill": "tonexty",
         "hoverinfo": "none",
         "line": {
          "color": "blue",
          "width": 0
         },
         "mode": "lines",
         "showlegend": false,
         "type": "scatter",
         "x": [
          30,
          31,
          32,
          33,
          34,
          35,
          36
         ],
         "y": [
          403,
          606,
          821,
          888,
          967,
          953,
          914
         ]
        },
        {
         "hoverinfo": "none",
         "line": {
          "width": 0
         },
         "mode": "lines",
         "showlegend": false,
         "type": "scatter",
         "x": [
          12,
          13,
          14,
          15,
          16,
          17,
          18,
          19,
          20,
          21
         ],
         "y": [
          1280,
          1692,
          1522,
          1202,
          724,
          492,
          281,
          267,
          97,
          89
         ]
        },
        {
         "fill": "tonexty",
         "hoverinfo": "none",
         "line": {
          "color": "red",
          "width": 0
         },
         "mode": "lines",
         "showlegend": false,
         "type": "scatter",
         "x": [
          12,
          13,
          14,
          15,
          16,
          17,
          18,
          19,
          20,
          21
         ],
         "y": [
          2685,
          3913,
          3648,
          2989,
          1874,
          1322,
          714,
          730,
          387,
          506
         ]
        },
        {
         "hoverinfo": "none",
         "line": {
          "color": "black",
          "width": 0.9
         },
         "mode": "lines",
         "showlegend": false,
         "type": "scatter",
         "x": [
          6,
          7,
          8,
          9,
          10,
          11,
          12,
          13,
          14,
          15,
          16,
          17,
          18,
          19,
          20,
          21,
          22,
          23,
          24,
          25,
          26,
          27,
          28,
          29,
          30,
          31,
          32,
          33,
          34,
          35,
          36,
          37,
          38,
          39
         ],
         "y": [
          1,
          0,
          0,
          5,
          65,
          852,
          2685,
          3913,
          3648,
          2989,
          1874,
          1322,
          714,
          730,
          387,
          506,
          499,
          541,
          396,
          414,
          304,
          239,
          128,
          299,
          403,
          606,
          821,
          888,
          967,
          953,
          914,
          1105,
          1639,
          1766
         ]
        },
        {
         "hoverinfo": "none",
         "line": {
          "width": 0
         },
         "mode": "lines",
         "showlegend": false,
         "type": "scatter",
         "x": [
          25,
          26,
          27,
          28,
          29,
          30,
          31
         ],
         "y": [
          414,
          304,
          239,
          128,
          299,
          403,
          606
         ]
        },
        {
         "fill": "tonexty",
         "hoverinfo": "none",
         "line": {
          "color": "blue",
          "width": 0
         },
         "mode": "lines",
         "showlegend": false,
         "type": "scatter",
         "x": [
          25,
          26,
          27,
          28,
          29,
          30,
          31
         ],
         "y": [
          469,
          318,
          257,
          139,
          329,
          430,
          641
         ]
        },
        {
         "hoverinfo": "none",
         "line": {
          "width": 0
         },
         "mode": "lines",
         "showlegend": false,
         "type": "scatter",
         "x": [
          12,
          13,
          14,
          15,
          16,
          17,
          18,
          19,
          20,
          21
         ],
         "y": [
          2685,
          3913,
          3648,
          2989,
          1874,
          1322,
          714,
          730,
          387,
          506
         ]
        },
        {
         "fill": "tonexty",
         "hoverinfo": "none",
         "line": {
          "color": "red",
          "width": 0
         },
         "mode": "lines",
         "showlegend": false,
         "type": "scatter",
         "x": [
          12,
          13,
          14,
          15,
          16,
          17,
          18,
          19,
          20,
          21
         ],
         "y": [
          2798,
          4032,
          3751,
          3080,
          1988,
          1517,
          861,
          895,
          512,
          590
         ]
        },
        {
         "hoverinfo": "none",
         "line": {
          "color": "black",
          "width": 0.9
         },
         "mode": "lines",
         "showlegend": false,
         "type": "scatter",
         "x": [
          6,
          7,
          8,
          9,
          10,
          11,
          12,
          13,
          14,
          15,
          16,
          17,
          18,
          19,
          20,
          21,
          22,
          23,
          24,
          25,
          26,
          27,
          28,
          29,
          30,
          31,
          32,
          33,
          34,
          35,
          36,
          37,
          38,
          39
         ],
         "y": [
          1,
          0,
          0,
          6,
          68,
          903,
          2798,
          4032,
          3751,
          3080,
          1988,
          1517,
          861,
          895,
          512,
          590,
          624,
          640,
          456,
          469,
          318,
          257,
          139,
          329,
          430,
          641,
          843,
          929,
          1026,
          1039,
          993,
          1169,
          1721,
          1917
         ]
        },
        {
         "hoverinfo": "none",
         "line": {
          "width": 0
         },
         "mode": "lines",
         "showlegend": false,
         "type": "scatter",
         "x": [
          27,
          28,
          29,
          30,
          31,
          32,
          33
         ],
         "y": [
          257,
          139,
          329,
          430,
          641,
          843,
          929
         ]
        },
        {
         "fill": "tonexty",
         "hoverinfo": "none",
         "line": {
          "color": "blue",
          "width": 0
         },
         "mode": "lines",
         "showlegend": false,
         "type": "scatter",
         "x": [
          27,
          28,
          29,
          30,
          31,
          32,
          33
         ],
         "y": [
          1372,
          1064,
          1470,
          1904,
          2535,
          3265,
          3803
         ]
        },
        {
         "hoverinfo": "none",
         "line": {
          "width": 0
         },
         "mode": "lines",
         "showlegend": false,
         "type": "scatter",
         "x": [
          12,
          13,
          14,
          15,
          16,
          17,
          18,
          19,
          20,
          21
         ],
         "y": [
          2798,
          4032,
          3751,
          3080,
          1988,
          1517,
          861,
          895,
          512,
          590
         ]
        },
        {
         "fill": "tonexty",
         "hoverinfo": "none",
         "line": {
          "color": "red",
          "width": 0
         },
         "mode": "lines",
         "showlegend": false,
         "type": "scatter",
         "x": [
          12,
          13,
          14,
          15,
          16,
          17,
          18,
          19,
          20,
          21
         ],
         "y": [
          8175,
          10279,
          10188,
          8510,
          5645,
          4095,
          2484,
          2451,
          1789,
          1461
         ]
        },
        {
         "hoverinfo": "none",
         "line": {
          "color": "black",
          "width": 0.9
         },
         "mode": "lines",
         "showlegend": false,
         "type": "scatter",
         "x": [
          6,
          7,
          8,
          9,
          10,
          11,
          12,
          13,
          14,
          15,
          16,
          17,
          18,
          19,
          20,
          21,
          22,
          23,
          24,
          25,
          26,
          27,
          28,
          29,
          30,
          31,
          32,
          33,
          34,
          35,
          36,
          37,
          38,
          39
         ],
         "y": [
          1,
          1,
          1,
          101,
          454,
          2645,
          8175,
          10279,
          10188,
          8510,
          5645,
          4095,
          2484,
          2451,
          1789,
          1461,
          1384,
          1277,
          1147,
          2521,
          1895,
          1372,
          1064,
          1470,
          1904,
          2535,
          3265,
          3803,
          3316,
          2775,
          2691,
          3174,
          4662,
          5461
         ]
        },
        {
         "hoverinfo": "none",
         "line": {
          "width": 0
         },
         "mode": "lines",
         "showlegend": false,
         "type": "scatter",
         "x": [
          28,
          29,
          30,
          31,
          32,
          33,
          34
         ],
         "y": [
          1064,
          1470,
          1904,
          2535,
          3265,
          3803,
          3316
         ]
        },
        {
         "fill": "tonexty",
         "hoverinfo": "none",
         "line": {
          "color": "blue",
          "width": 0
         },
         "mode": "lines",
         "showlegend": false,
         "type": "scatter",
         "x": [
          28,
          29,
          30,
          31,
          32,
          33,
          34
         ],
         "y": [
          1284,
          1709,
          2196,
          2979,
          3863,
          4600,
          4457
         ]
        },
        {
         "hoverinfo": "none",
         "line": {
          "width": 0
         },
         "mode": "lines",
         "showlegend": false,
         "type": "scatter",
         "x": [
          12,
          13,
          14,
          15,
          16,
          17,
          18,
          19,
          20,
          21
         ],
         "y": [
          8175,
          10279,
          10188,
          8510,
          5645,
          4095,
          2484,
          2451,
          1789,
          1461
         ]
        },
        {
         "fill": "tonexty",
         "hoverinfo": "none",
         "line": {
          "color": "red",
          "width": 0
         },
         "mode": "lines",
         "showlegend": false,
         "type": "scatter",
         "x": [
          12,
          13,
          14,
          15,
          16,
          17,
          18,
          19,
          20,
          21
         ],
         "y": [
          9301,
          11971,
          11786,
          9904,
          6708,
          4859,
          3062,
          2904,
          2197,
          1842
         ]
        },
        {
         "hoverinfo": "none",
         "line": {
          "color": "black",
          "width": 0.9
         },
         "mode": "lines",
         "showlegend": false,
         "type": "scatter",
         "x": [
          6,
          7,
          8,
          9,
          10,
          11,
          12,
          13,
          14,
          15,
          16,
          17,
          18,
          19,
          20,
          21,
          22,
          23,
          24,
          25,
          26,
          27,
          28,
          29,
          30,
          31,
          32,
          33,
          34,
          35,
          36,
          37,
          38,
          39
         ],
         "y": [
          1,
          1,
          1,
          106,
          475,
          2940,
          9301,
          11971,
          11786,
          9904,
          6708,
          4859,
          3062,
          2904,
          2197,
          1842,
          1677,
          1419,
          1296,
          2760,
          2069,
          1559,
          1284,
          1709,
          2196,
          2979,
          3863,
          4600,
          4457,
          3567,
          3391,
          3893,
          5411,
          6493
         ]
        },
        {
         "hoverinfo": "none",
         "line": {
          "width": 0
         },
         "mode": "lines",
         "showlegend": false,
         "type": "scatter",
         "x": [
          28,
          29,
          30,
          31,
          32,
          33,
          34
         ],
         "y": [
          1284,
          1709,
          2196,
          2979,
          3863,
          4600,
          4457
         ]
        },
        {
         "fill": "tonexty",
         "hoverinfo": "none",
         "line": {
          "color": "blue",
          "width": 0
         },
         "mode": "lines",
         "showlegend": false,
         "type": "scatter",
         "x": [
          28,
          29,
          30,
          31,
          32,
          33,
          34
         ],
         "y": [
          1383,
          1851,
          2301,
          3101,
          4149,
          4961,
          4938
         ]
        },
        {
         "hoverinfo": "none",
         "line": {
          "width": 0
         },
         "mode": "lines",
         "showlegend": false,
         "type": "scatter",
         "x": [
          12,
          13,
          14,
          15,
          16,
          17,
          18,
          19,
          20,
          21
         ],
         "y": [
          9301,
          11971,
          11786,
          9904,
          6708,
          4859,
          3062,
          2904,
          2197,
          1842
         ]
        },
        {
         "fill": "tonexty",
         "hoverinfo": "none",
         "line": {
          "color": "red",
          "width": 0
         },
         "mode": "lines",
         "showlegend": false,
         "type": "scatter",
         "x": [
          12,
          13,
          14,
          15,
          16,
          17,
          18,
          19,
          20,
          21
         ],
         "y": [
          10324,
          13336,
          13031,
          10826,
          7357,
          5217,
          3300,
          3098,
          2368,
          1939
         ]
        },
        {
         "hoverinfo": "none",
         "line": {
          "color": "black",
          "width": 0.9
         },
         "mode": "lines",
         "showlegend": false,
         "type": "scatter",
         "x": [
          6,
          7,
          8,
          9,
          10,
          11,
          12,
          13,
          14,
          15,
          16,
          17,
          18,
          19,
          20,
          21,
          22,
          23,
          24,
          25,
          26,
          27,
          28,
          29,
          30,
          31,
          32,
          33,
          34,
          35,
          36,
          37,
          38,
          39
         ],
         "y": [
          1,
          1,
          1,
          108,
          488,
          3260,
          10324,
          13336,
          13031,
          10826,
          7357,
          5217,
          3300,
          3098,
          2368,
          1939,
          1785,
          1503,
          1350,
          2833,
          2144,
          1654,
          1383,
          1851,
          2301,
          3101,
          4149,
          4961,
          4938,
          3980,
          3699,
          4274,
          5779,
          6952
         ]
        },
        {
         "hoverinfo": "none",
         "line": {
          "width": 0
         },
         "mode": "lines",
         "showlegend": false,
         "type": "scatter",
         "x": [
          31,
          32,
          33,
          34,
          35,
          36,
          37
         ],
         "y": [
          3101,
          4149,
          4961,
          4938,
          3980,
          3699,
          4274
         ]
        },
        {
         "fill": "tonexty",
         "hoverinfo": "none",
         "line": {
          "color": "blue",
          "width": 0
         },
         "mode": "lines",
         "showlegend": false,
         "type": "scatter",
         "x": [
          31,
          32,
          33,
          34,
          35,
          36,
          37
         ],
         "y": [
          3593,
          4600,
          5737,
          6617,
          5759,
          5404,
          5912
         ]
        },
        {
         "hoverinfo": "none",
         "line": {
          "width": 0
         },
         "mode": "lines",
         "showlegend": false,
         "type": "scatter",
         "x": [
          12,
          13,
          14,
          15,
          16,
          17,
          18,
          19,
          20,
          21
         ],
         "y": [
          10324,
          13336,
          13031,
          10826,
          7357,
          5217,
          3300,
          3098,
          2368,
          1939
         ]
        },
        {
         "fill": "tonexty",
         "hoverinfo": "none",
         "line": {
          "color": "red",
          "width": 0
         },
         "mode": "lines",
         "showlegend": false,
         "type": "scatter",
         "x": [
          12,
          13,
          14,
          15,
          16,
          17,
          18,
          19,
          20,
          21
         ],
         "y": [
          14778,
          20501,
          20474,
          16078,
          10545,
          7631,
          4503,
          3994,
          2978,
          2340
         ]
        },
        {
         "hoverinfo": "none",
         "line": {
          "color": "black",
          "width": 0.9
         },
         "mode": "lines",
         "showlegend": false,
         "type": "scatter",
         "x": [
          6,
          7,
          8,
          9,
          10,
          11,
          12,
          13,
          14,
          15,
          16,
          17,
          18,
          19,
          20,
          21,
          22,
          23,
          24,
          25,
          26,
          27,
          28,
          29,
          30,
          31,
          32,
          33,
          34,
          35,
          36,
          37,
          38,
          39
         ],
         "y": [
          1,
          1,
          1,
          128,
          698,
          4588,
          14778,
          20501,
          20474,
          16078,
          10545,
          7631,
          4503,
          3994,
          2978,
          2340,
          2091,
          1682,
          1519,
          3021,
          2407,
          1861,
          1633,
          2231,
          2788,
          3593,
          4600,
          5737,
          6617,
          5759,
          5404,
          5912,
          7686,
          8745
         ]
        },
        {
         "hoverinfo": "none",
         "line": {
          "width": 0
         },
         "mode": "lines",
         "showlegend": false,
         "type": "scatter",
         "x": [
          31,
          32,
          33,
          34,
          35,
          36,
          37
         ],
         "y": [
          3593,
          4600,
          5737,
          6617,
          5759,
          5404,
          5912
         ]
        },
        {
         "fill": "tonexty",
         "hoverinfo": "none",
         "line": {
          "color": "blue",
          "width": 0
         },
         "mode": "lines",
         "showlegend": false,
         "type": "scatter",
         "x": [
          31,
          32,
          33,
          34,
          35,
          36,
          37
         ],
         "y": [
          4276,
          5304,
          7007,
          8701,
          7907,
          7640,
          8567
         ]
        },
        {
         "hoverinfo": "none",
         "line": {
          "width": 0
         },
         "mode": "lines",
         "showlegend": false,
         "type": "scatter",
         "x": [
          12,
          13,
          14,
          15,
          16,
          17,
          18,
          19,
          20,
          21
         ],
         "y": [
          14778,
          20501,
          20474,
          16078,
          10545,
          7631,
          4503,
          3994,
          2978,
          2340
         ]
        },
        {
         "fill": "tonexty",
         "hoverinfo": "none",
         "line": {
          "color": "red",
          "width": 0
         },
         "mode": "lines",
         "showlegend": false,
         "type": "scatter",
         "x": [
          12,
          13,
          14,
          15,
          16,
          17,
          18,
          19,
          20,
          21
         ],
         "y": [
          19627,
          29754,
          31361,
          23673,
          15267,
          10699,
          6249,
          5279,
          4067,
          3112
         ]
        },
        {
         "hoverinfo": "none",
         "line": {
          "color": "black",
          "width": 0.9
         },
         "mode": "lines",
         "showlegend": false,
         "type": "scatter",
         "x": [
          6,
          7,
          8,
          9,
          10,
          11,
          12,
          13,
          14,
          15,
          16,
          17,
          18,
          19,
          20,
          21,
          22,
          23,
          24,
          25,
          26,
          27,
          28,
          29,
          30,
          31,
          32,
          33,
          34,
          35,
          36,
          37,
          38,
          39
         ],
         "y": [
          7,
          4,
          1,
          137,
          830,
          5694,
          19627,
          29754,
          31361,
          23673,
          15267,
          10699,
          6249,
          5279,
          4067,
          3112,
          2714,
          1996,
          1787,
          3289,
          2771,
          2321,
          2133,
          2753,
          3502,
          4276,
          5304,
          7007,
          8701,
          7907,
          7640,
          8567,
          10617,
          11020
         ]
        },
        {
         "hoverinfo": "none",
         "line": {
          "width": 0
         },
         "mode": "lines",
         "showlegend": false,
         "type": "scatter",
         "x": [
          28,
          29,
          30,
          31,
          32,
          33,
          34
         ],
         "y": [
          2133,
          2753,
          3502,
          4276,
          5304,
          7007,
          8701
         ]
        },
        {
         "fill": "tonexty",
         "hoverinfo": "none",
         "line": {
          "color": "blue",
          "width": 0
         },
         "mode": "lines",
         "showlegend": false,
         "type": "scatter",
         "x": [
          28,
          29,
          30,
          31,
          32,
          33,
          34
         ],
         "y": [
          2146,
          2769,
          3526,
          4309,
          5342,
          7082,
          8774
         ]
        },
        {
         "hoverinfo": "none",
         "line": {
          "width": 0
         },
         "mode": "lines",
         "showlegend": false,
         "type": "scatter",
         "x": [
          12,
          13,
          14,
          15,
          16,
          17,
          18,
          19,
          20,
          21
         ],
         "y": [
          19627,
          29754,
          31361,
          23673,
          15267,
          10699,
          6249,
          5279,
          4067,
          3112
         ]
        },
        {
         "fill": "tonexty",
         "hoverinfo": "none",
         "line": {
          "color": "red",
          "width": 0
         },
         "mode": "lines",
         "showlegend": false,
         "type": "scatter",
         "x": [
          12,
          13,
          14,
          15,
          16,
          17,
          18,
          19,
          20,
          21
         ],
         "y": [
          19883,
          30171,
          32133,
          24243,
          15480,
          10869,
          6334,
          5319,
          4099,
          3133
         ]
        },
        {
         "hoverinfo": "none",
         "line": {
          "color": "black",
          "width": 0.9
         },
         "mode": "lines",
         "showlegend": false,
         "type": "scatter",
         "x": [
          6,
          7,
          8,
          9,
          10,
          11,
          12,
          13,
          14,
          15,
          16,
          17,
          18,
          19,
          20,
          21,
          22,
          23,
          24,
          25,
          26,
          27,
          28,
          29,
          30,
          31,
          32,
          33,
          34,
          35,
          36,
          37,
          38,
          39
         ],
         "y": [
          7,
          4,
          1,
          138,
          831,
          5770,
          19883,
          30171,
          32133,
          24243,
          15480,
          10869,
          6334,
          5319,
          4099,
          3133,
          2738,
          2019,
          1810,
          3296,
          2778,
          2324,
          2146,
          2769,
          3526,
          4309,
          5342,
          7082,
          8774,
          7979,
          7687,
          8612,
          10680,
          11084
         ]
        },
        {
         "hoverinfo": "none",
         "line": {
          "width": 0
         },
         "mode": "lines",
         "showlegend": false,
         "type": "scatter",
         "x": [
          27,
          28,
          29,
          30,
          31,
          32,
          33
         ],
         "y": [
          2324,
          2146,
          2769,
          3526,
          4309,
          5342,
          7082
         ]
        },
        {
         "fill": "tonexty",
         "hoverinfo": "none",
         "line": {
          "color": "blue",
          "width": 0
         },
         "mode": "lines",
         "showlegend": false,
         "type": "scatter",
         "x": [
          27,
          28,
          29,
          30,
          31,
          32,
          33
         ],
         "y": [
          2589,
          2335,
          2901,
          3747,
          4643,
          5724,
          7623
         ]
        },
        {
         "hoverinfo": "none",
         "line": {
          "width": 0
         },
         "mode": "lines",
         "showlegend": false,
         "type": "scatter",
         "x": [
          12,
          13,
          14,
          15,
          16,
          17,
          18,
          19,
          20,
          21
         ],
         "y": [
          19883,
          30171,
          32133,
          24243,
          15480,
          10869,
          6334,
          5319,
          4099,
          3133
         ]
        },
        {
         "fill": "tonexty",
         "hoverinfo": "none",
         "line": {
          "color": "red",
          "width": 0
         },
         "mode": "lines",
         "showlegend": false,
         "type": "scatter",
         "x": [
          12,
          13,
          14,
          15,
          16,
          17,
          18,
          19,
          20,
          21
         ],
         "y": [
          20731,
          31549,
          33363,
          25166,
          16055,
          11307,
          6682,
          5569,
          4296,
          3317
         ]
        },
        {
         "hoverinfo": "none",
         "line": {
          "color": "black",
          "width": 0.9
         },
         "mode": "lines",
         "showlegend": false,
         "type": "scatter",
         "x": [
          6,
          7,
          8,
          9,
          10,
          11,
          12,
          13,
          14,
          15,
          16,
          17,
          18,
          19,
          20,
          21,
          22,
          23,
          24,
          25,
          26,
          27,
          28,
          29,
          30,
          31,
          32,
          33,
          34,
          35,
          36,
          37,
          38,
          39
         ],
         "y": [
          7,
          4,
          1,
          138,
          867,
          6029,
          20731,
          31549,
          33363,
          25166,
          16055,
          11307,
          6682,
          5569,
          4296,
          3317,
          2929,
          2208,
          2148,
          3806,
          3092,
          2589,
          2335,
          2901,
          3747,
          4643,
          5724,
          7623,
          9240,
          8457,
          8209,
          9186,
          11520,
          12173
         ]
        },
        {
         "hoverinfo": "none",
         "line": {
          "width": 0
         },
         "mode": "lines",
         "showlegend": false,
         "type": "scatter",
         "x": [
          27,
          28,
          29,
          30,
          31,
          32,
          33
         ],
         "y": [
          2589,
          2335,
          2901,
          3747,
          4643,
          5724,
          7623
         ]
        },
        {
         "fill": "tonexty",
         "hoverinfo": "none",
         "line": {
          "color": "blue",
          "width": 0
         },
         "mode": "lines",
         "showlegend": false,
         "type": "scatter",
         "x": [
          27,
          28,
          29,
          30,
          31,
          32,
          33
         ],
         "y": [
          2631,
          2355,
          2927,
          3808,
          4675,
          5792,
          7686
         ]
        },
        {
         "hoverinfo": "none",
         "line": {
          "width": 0
         },
         "mode": "lines",
         "showlegend": false,
         "type": "scatter",
         "x": [
          12,
          13,
          14,
          15,
          16,
          17,
          18,
          19,
          20,
          21
         ],
         "y": [
          20731,
          31549,
          33363,
          25166,
          16055,
          11307,
          6682,
          5569,
          4296,
          3317
         ]
        },
        {
         "fill": "tonexty",
         "hoverinfo": "none",
         "line": {
          "color": "red",
          "width": 0
         },
         "mode": "lines",
         "showlegend": false,
         "type": "scatter",
         "x": [
          12,
          13,
          14,
          15,
          16,
          17,
          18,
          19,
          20,
          21
         ],
         "y": [
          21027,
          31976,
          33973,
          25748,
          16449,
          11636,
          6913,
          5695,
          4358,
          3354
         ]
        },
        {
         "hoverinfo": "none",
         "line": {
          "color": "black",
          "width": 0.9
         },
         "mode": "lines",
         "showlegend": false,
         "type": "scatter",
         "x": [
          6,
          7,
          8,
          9,
          10,
          11,
          12,
          13,
          14,
          15,
          16,
          17,
          18,
          19,
          20,
          21,
          22,
          23,
          24,
          25,
          26,
          27,
          28,
          29,
          30,
          31,
          32,
          33,
          34,
          35,
          36,
          37,
          38,
          39
         ],
         "y": [
          7,
          4,
          1,
          139,
          873,
          6131,
          21027,
          31976,
          33973,
          25748,
          16449,
          11636,
          6913,
          5695,
          4358,
          3354,
          2962,
          2225,
          2180,
          3879,
          3131,
          2631,
          2355,
          2927,
          3808,
          4675,
          5792,
          7686,
          9342,
          8525,
          8269,
          9267,
          11609,
          12305
         ]
        },
        {
         "hoverinfo": "none",
         "line": {
          "width": 0
         },
         "mode": "lines",
         "showlegend": false,
         "type": "scatter",
         "x": [
          26,
          27,
          28,
          29,
          30,
          31,
          32
         ],
         "y": [
          3131,
          2631,
          2355,
          2927,
          3808,
          4675,
          5792
         ]
        },
        {
         "fill": "tonexty",
         "hoverinfo": "none",
         "line": {
          "color": "blue",
          "width": 0
         },
         "mode": "lines",
         "showlegend": false,
         "type": "scatter",
         "x": [
          26,
          27,
          28,
          29,
          30,
          31,
          32
         ],
         "y": [
          3139,
          2634,
          2355,
          2933,
          3843,
          4715,
          5848
         ]
        },
        {
         "hoverinfo": "none",
         "line": {
          "width": 0
         },
         "mode": "lines",
         "showlegend": false,
         "type": "scatter",
         "x": [
          12,
          13,
          14,
          15,
          16,
          17,
          18,
          19,
          20,
          21
         ],
         "y": [
          21027,
          31976,
          33973,
          25748,
          16449,
          11636,
          6913,
          5695,
          4358,
          3354
         ]
        },
        {
         "fill": "tonexty",
         "hoverinfo": "none",
         "line": {
          "color": "red",
          "width": 0
         },
         "mode": "lines",
         "showlegend": false,
         "type": "scatter",
         "x": [
          12,
          13,
          14,
          15,
          16,
          17,
          18,
          19,
          20,
          21
         ],
         "y": [
          21177,
          32148,
          34136,
          25838,
          16486,
          11657,
          6941,
          5722,
          4378,
          3364
         ]
        },
        {
         "hoverinfo": "none",
         "line": {
          "color": "black",
          "width": 0.9
         },
         "mode": "lines",
         "showlegend": false,
         "type": "scatter",
         "x": [
          6,
          7,
          8,
          9,
          10,
          11,
          12,
          13,
          14,
          15,
          16,
          17,
          18,
          19,
          20,
          21,
          22,
          23,
          24,
          25,
          26,
          27,
          28,
          29,
          30,
          31,
          32,
          33,
          34,
          35,
          36,
          37,
          38,
          39
         ],
         "y": [
          7,
          4,
          1,
          139,
          880,
          6164,
          21177,
          32148,
          34136,
          25838,
          16486,
          11657,
          6941,
          5722,
          4378,
          3364,
          2965,
          2238,
          2189,
          3889,
          3139,
          2634,
          2355,
          2933,
          3843,
          4715,
          5848,
          7718,
          9365,
          8538,
          8291,
          9301,
          11658,
          12357
         ]
        },
        {
         "hoverinfo": "none",
         "line": {
          "width": 0
         },
         "mode": "lines",
         "showlegend": false,
         "type": "scatter",
         "x": [
          30,
          31,
          32,
          33,
          34,
          35,
          36
         ],
         "y": [
          3843,
          4715,
          5848,
          7718,
          9365,
          8538,
          8291
         ]
        },
        {
         "fill": "tonexty",
         "hoverinfo": "none",
         "line": {
          "color": "blue",
          "width": 0
         },
         "mode": "lines",
         "showlegend": false,
         "type": "scatter",
         "x": [
          30,
          31,
          32,
          33,
          34,
          35,
          36
         ],
         "y": [
          3872,
          4745,
          5955,
          7805,
          9462,
          8675,
          8485
         ]
        },
        {
         "hoverinfo": "none",
         "line": {
          "width": 0
         },
         "mode": "lines",
         "showlegend": false,
         "type": "scatter",
         "x": [
          12,
          13,
          14,
          15,
          16,
          17,
          18,
          19,
          20,
          21
         ],
         "y": [
          21177,
          32148,
          34136,
          25838,
          16486,
          11657,
          6941,
          5722,
          4378,
          3364
         ]
        },
        {
         "fill": "tonexty",
         "hoverinfo": "none",
         "line": {
          "color": "red",
          "width": 0
         },
         "mode": "lines",
         "showlegend": false,
         "type": "scatter",
         "x": [
          12,
          13,
          14,
          15,
          16,
          17,
          18,
          19,
          20,
          21
         ],
         "y": [
          21916,
          33201,
          35319,
          26618,
          16870,
          11911,
          7123,
          5936,
          4535,
          3471
         ]
        },
        {
         "hoverinfo": "none",
         "line": {
          "color": "black",
          "width": 0.9
         },
         "mode": "lines",
         "showlegend": false,
         "type": "scatter",
         "x": [
          6,
          7,
          8,
          9,
          10,
          11,
          12,
          13,
          14,
          15,
          16,
          17,
          18,
          19,
          20,
          21,
          22,
          23,
          24,
          25,
          26,
          27,
          28,
          29,
          30,
          31,
          32,
          33,
          34,
          35,
          36,
          37,
          38,
          39
         ],
         "y": [
          7,
          4,
          1,
          139,
          890,
          6333,
          21916,
          33201,
          35319,
          26618,
          16870,
          11911,
          7123,
          5936,
          4535,
          3471,
          3035,
          2265,
          2208,
          3967,
          3159,
          2648,
          2372,
          2950,
          3872,
          4745,
          5955,
          7805,
          9462,
          8675,
          8485,
          9576,
          12008,
          12761
         ]
        },
        {
         "hoverinfo": "none",
         "line": {
          "width": 0
         },
         "mode": "lines",
         "showlegend": false,
         "type": "scatter",
         "x": [
          30,
          31,
          32,
          33,
          34,
          35,
          36
         ],
         "y": [
          3872,
          4745,
          5955,
          7805,
          9462,
          8675,
          8485
         ]
        },
        {
         "fill": "tonexty",
         "hoverinfo": "none",
         "line": {
          "color": "blue",
          "width": 0
         },
         "mode": "lines",
         "showlegend": false,
         "type": "scatter",
         "x": [
          30,
          31,
          32,
          33,
          34,
          35,
          36
         ],
         "y": [
          3908,
          4785,
          5990,
          7864,
          9524,
          8732,
          8529
         ]
        },
        {
         "hoverinfo": "none",
         "line": {
          "width": 0
         },
         "mode": "lines",
         "showlegend": false,
         "type": "scatter",
         "x": [
          12,
          13,
          14,
          15,
          16,
          17,
          18,
          19,
          20,
          21
         ],
         "y": [
          21916,
          33201,
          35319,
          26618,
          16870,
          11911,
          7123,
          5936,
          4535,
          3471
         ]
        },
        {
         "fill": "tonexty",
         "hoverinfo": "none",
         "line": {
          "color": "red",
          "width": 0
         },
         "mode": "lines",
         "showlegend": false,
         "type": "scatter",
         "x": [
          12,
          13,
          14,
          15,
          16,
          17,
          18,
          19,
          20,
          21
         ],
         "y": [
          22144,
          33577,
          35646,
          26843,
          17051,
          12045,
          7190,
          5996,
          4569,
          3486
         ]
        },
        {
         "hoverinfo": "none",
         "line": {
          "color": "black",
          "width": 0.9
         },
         "mode": "lines",
         "showlegend": false,
         "type": "scatter",
         "x": [
          6,
          7,
          8,
          9,
          10,
          11,
          12,
          13,
          14,
          15,
          16,
          17,
          18,
          19,
          20,
          21,
          22,
          23,
          24,
          25,
          26,
          27,
          28,
          29,
          30,
          31,
          32,
          33,
          34,
          35,
          36,
          37,
          38,
          39
         ],
         "y": [
          7,
          4,
          1,
          139,
          890,
          6381,
          22144,
          33577,
          35646,
          26843,
          17051,
          12045,
          7190,
          5996,
          4569,
          3486,
          3048,
          2278,
          2258,
          4047,
          3181,
          2670,
          2397,
          2987,
          3908,
          4785,
          5990,
          7864,
          9524,
          8732,
          8529,
          9647,
          12109,
          12918
         ]
        },
        {
         "hoverinfo": "none",
         "line": {
          "width": 0
         },
         "mode": "lines",
         "showlegend": false,
         "type": "scatter",
         "x": [
          30,
          31,
          32,
          33,
          34,
          35,
          36
         ],
         "y": [
          3908,
          4785,
          5990,
          7864,
          9524,
          8732,
          8529
         ]
        },
        {
         "fill": "tonexty",
         "hoverinfo": "none",
         "line": {
          "color": "blue",
          "width": 0
         },
         "mode": "lines",
         "showlegend": false,
         "type": "scatter",
         "x": [
          30,
          31,
          32,
          33,
          34,
          35,
          36
         ],
         "y": [
          3933,
          4814,
          6042,
          7935,
          9581,
          8804,
          8596
         ]
        },
        {
         "hoverinfo": "none",
         "line": {
          "width": 0
         },
         "mode": "lines",
         "showlegend": false,
         "type": "scatter",
         "x": [
          12,
          13,
          14,
          15,
          16,
          17,
          18,
          19,
          20,
          21
         ],
         "y": [
          22144,
          33577,
          35646,
          26843,
          17051,
          12045,
          7190,
          5996,
          4569,
          3486
         ]
        },
        {
         "fill": "tonexty",
         "hoverinfo": "none",
         "line": {
          "color": "red",
          "width": 0
         },
         "mode": "lines",
         "showlegend": false,
         "type": "scatter",
         "x": [
          12,
          13,
          14,
          15,
          16,
          17,
          18,
          19,
          20,
          21
         ],
         "y": [
          22425,
          34016,
          36063,
          27163,
          17337,
          12372,
          7435,
          6225,
          4724,
          3614
         ]
        },
        {
         "hoverinfo": "none",
         "line": {
          "color": "black",
          "width": 0.9
         },
         "mode": "lines",
         "showlegend": false,
         "type": "scatter",
         "x": [
          6,
          7,
          8,
          9,
          10,
          11,
          12,
          13,
          14,
          15,
          16,
          17,
          18,
          19,
          20,
          21,
          22,
          23,
          24,
          25,
          26,
          27,
          28,
          29,
          30,
          31,
          32,
          33,
          34,
          35,
          36,
          37,
          38,
          39
         ],
         "y": [
          7,
          4,
          1,
          139,
          892,
          6431,
          22425,
          34016,
          36063,
          27163,
          17337,
          12372,
          7435,
          6225,
          4724,
          3614,
          3199,
          2352,
          2343,
          4089,
          3200,
          2693,
          2419,
          3016,
          3933,
          4814,
          6042,
          7935,
          9581,
          8804,
          8596,
          9760,
          12247,
          13031
         ]
        }
       ],
       "layout": {
        "font": {
         "color": "black",
         "size": 18
        },
        "legend": {
         "orientation": "h",
         "title": {
          "text": "Period of Analysis:   "
         },
         "x": 0.5,
         "xanchor": "center",
         "y": 1,
         "yanchor": "bottom"
        },
        "template": {
         "data": {
          "bar": [
           {
            "error_x": {
             "color": "#2a3f5f"
            },
            "error_y": {
             "color": "#2a3f5f"
            },
            "marker": {
             "line": {
              "color": "#E5ECF6",
              "width": 0.5
             }
            },
            "type": "bar"
           }
          ],
          "barpolar": [
           {
            "marker": {
             "line": {
              "color": "#E5ECF6",
              "width": 0.5
             }
            },
            "type": "barpolar"
           }
          ],
          "carpet": [
           {
            "aaxis": {
             "endlinecolor": "#2a3f5f",
             "gridcolor": "white",
             "linecolor": "white",
             "minorgridcolor": "white",
             "startlinecolor": "#2a3f5f"
            },
            "baxis": {
             "endlinecolor": "#2a3f5f",
             "gridcolor": "white",
             "linecolor": "white",
             "minorgridcolor": "white",
             "startlinecolor": "#2a3f5f"
            },
            "type": "carpet"
           }
          ],
          "choropleth": [
           {
            "colorbar": {
             "outlinewidth": 0,
             "ticks": ""
            },
            "type": "choropleth"
           }
          ],
          "contour": [
           {
            "colorbar": {
             "outlinewidth": 0,
             "ticks": ""
            },
            "colorscale": [
             [
              0,
              "#0d0887"
             ],
             [
              0.1111111111111111,
              "#46039f"
             ],
             [
              0.2222222222222222,
              "#7201a8"
             ],
             [
              0.3333333333333333,
              "#9c179e"
             ],
             [
              0.4444444444444444,
              "#bd3786"
             ],
             [
              0.5555555555555556,
              "#d8576b"
             ],
             [
              0.6666666666666666,
              "#ed7953"
             ],
             [
              0.7777777777777778,
              "#fb9f3a"
             ],
             [
              0.8888888888888888,
              "#fdca26"
             ],
             [
              1,
              "#f0f921"
             ]
            ],
            "type": "contour"
           }
          ],
          "contourcarpet": [
           {
            "colorbar": {
             "outlinewidth": 0,
             "ticks": ""
            },
            "type": "contourcarpet"
           }
          ],
          "heatmap": [
           {
            "colorbar": {
             "outlinewidth": 0,
             "ticks": ""
            },
            "colorscale": [
             [
              0,
              "#0d0887"
             ],
             [
              0.1111111111111111,
              "#46039f"
             ],
             [
              0.2222222222222222,
              "#7201a8"
             ],
             [
              0.3333333333333333,
              "#9c179e"
             ],
             [
              0.4444444444444444,
              "#bd3786"
             ],
             [
              0.5555555555555556,
              "#d8576b"
             ],
             [
              0.6666666666666666,
              "#ed7953"
             ],
             [
              0.7777777777777778,
              "#fb9f3a"
             ],
             [
              0.8888888888888888,
              "#fdca26"
             ],
             [
              1,
              "#f0f921"
             ]
            ],
            "type": "heatmap"
           }
          ],
          "heatmapgl": [
           {
            "colorbar": {
             "outlinewidth": 0,
             "ticks": ""
            },
            "colorscale": [
             [
              0,
              "#0d0887"
             ],
             [
              0.1111111111111111,
              "#46039f"
             ],
             [
              0.2222222222222222,
              "#7201a8"
             ],
             [
              0.3333333333333333,
              "#9c179e"
             ],
             [
              0.4444444444444444,
              "#bd3786"
             ],
             [
              0.5555555555555556,
              "#d8576b"
             ],
             [
              0.6666666666666666,
              "#ed7953"
             ],
             [
              0.7777777777777778,
              "#fb9f3a"
             ],
             [
              0.8888888888888888,
              "#fdca26"
             ],
             [
              1,
              "#f0f921"
             ]
            ],
            "type": "heatmapgl"
           }
          ],
          "histogram": [
           {
            "marker": {
             "colorbar": {
              "outlinewidth": 0,
              "ticks": ""
             }
            },
            "type": "histogram"
           }
          ],
          "histogram2d": [
           {
            "colorbar": {
             "outlinewidth": 0,
             "ticks": ""
            },
            "colorscale": [
             [
              0,
              "#0d0887"
             ],
             [
              0.1111111111111111,
              "#46039f"
             ],
             [
              0.2222222222222222,
              "#7201a8"
             ],
             [
              0.3333333333333333,
              "#9c179e"
             ],
             [
              0.4444444444444444,
              "#bd3786"
             ],
             [
              0.5555555555555556,
              "#d8576b"
             ],
             [
              0.6666666666666666,
              "#ed7953"
             ],
             [
              0.7777777777777778,
              "#fb9f3a"
             ],
             [
              0.8888888888888888,
              "#fdca26"
             ],
             [
              1,
              "#f0f921"
             ]
            ],
            "type": "histogram2d"
           }
          ],
          "histogram2dcontour": [
           {
            "colorbar": {
             "outlinewidth": 0,
             "ticks": ""
            },
            "colorscale": [
             [
              0,
              "#0d0887"
             ],
             [
              0.1111111111111111,
              "#46039f"
             ],
             [
              0.2222222222222222,
              "#7201a8"
             ],
             [
              0.3333333333333333,
              "#9c179e"
             ],
             [
              0.4444444444444444,
              "#bd3786"
             ],
             [
              0.5555555555555556,
              "#d8576b"
             ],
             [
              0.6666666666666666,
              "#ed7953"
             ],
             [
              0.7777777777777778,
              "#fb9f3a"
             ],
             [
              0.8888888888888888,
              "#fdca26"
             ],
             [
              1,
              "#f0f921"
             ]
            ],
            "type": "histogram2dcontour"
           }
          ],
          "mesh3d": [
           {
            "colorbar": {
             "outlinewidth": 0,
             "ticks": ""
            },
            "type": "mesh3d"
           }
          ],
          "parcoords": [
           {
            "line": {
             "colorbar": {
              "outlinewidth": 0,
              "ticks": ""
             }
            },
            "type": "parcoords"
           }
          ],
          "pie": [
           {
            "automargin": true,
            "type": "pie"
           }
          ],
          "scatter": [
           {
            "marker": {
             "colorbar": {
              "outlinewidth": 0,
              "ticks": ""
             }
            },
            "type": "scatter"
           }
          ],
          "scatter3d": [
           {
            "line": {
             "colorbar": {
              "outlinewidth": 0,
              "ticks": ""
             }
            },
            "marker": {
             "colorbar": {
              "outlinewidth": 0,
              "ticks": ""
             }
            },
            "type": "scatter3d"
           }
          ],
          "scattercarpet": [
           {
            "marker": {
             "colorbar": {
              "outlinewidth": 0,
              "ticks": ""
             }
            },
            "type": "scattercarpet"
           }
          ],
          "scattergeo": [
           {
            "marker": {
             "colorbar": {
              "outlinewidth": 0,
              "ticks": ""
             }
            },
            "type": "scattergeo"
           }
          ],
          "scattergl": [
           {
            "marker": {
             "colorbar": {
              "outlinewidth": 0,
              "ticks": ""
             }
            },
            "type": "scattergl"
           }
          ],
          "scattermapbox": [
           {
            "marker": {
             "colorbar": {
              "outlinewidth": 0,
              "ticks": ""
             }
            },
            "type": "scattermapbox"
           }
          ],
          "scatterpolar": [
           {
            "marker": {
             "colorbar": {
              "outlinewidth": 0,
              "ticks": ""
             }
            },
            "type": "scatterpolar"
           }
          ],
          "scatterpolargl": [
           {
            "marker": {
             "colorbar": {
              "outlinewidth": 0,
              "ticks": ""
             }
            },
            "type": "scatterpolargl"
           }
          ],
          "scatterternary": [
           {
            "marker": {
             "colorbar": {
              "outlinewidth": 0,
              "ticks": ""
             }
            },
            "type": "scatterternary"
           }
          ],
          "surface": [
           {
            "colorbar": {
             "outlinewidth": 0,
             "ticks": ""
            },
            "colorscale": [
             [
              0,
              "#0d0887"
             ],
             [
              0.1111111111111111,
              "#46039f"
             ],
             [
              0.2222222222222222,
              "#7201a8"
             ],
             [
              0.3333333333333333,
              "#9c179e"
             ],
             [
              0.4444444444444444,
              "#bd3786"
             ],
             [
              0.5555555555555556,
              "#d8576b"
             ],
             [
              0.6666666666666666,
              "#ed7953"
             ],
             [
              0.7777777777777778,
              "#fb9f3a"
             ],
             [
              0.8888888888888888,
              "#fdca26"
             ],
             [
              1,
              "#f0f921"
             ]
            ],
            "type": "surface"
           }
          ],
          "table": [
           {
            "cells": {
             "fill": {
              "color": "#EBF0F8"
             },
             "line": {
              "color": "white"
             }
            },
            "header": {
             "fill": {
              "color": "#C8D4E3"
             },
             "line": {
              "color": "white"
             }
            },
            "type": "table"
           }
          ]
         },
         "layout": {
          "annotationdefaults": {
           "arrowcolor": "#2a3f5f",
           "arrowhead": 0,
           "arrowwidth": 1
          },
          "coloraxis": {
           "colorbar": {
            "outlinewidth": 0,
            "ticks": ""
           }
          },
          "colorscale": {
           "diverging": [
            [
             0,
             "#8e0152"
            ],
            [
             0.1,
             "#c51b7d"
            ],
            [
             0.2,
             "#de77ae"
            ],
            [
             0.3,
             "#f1b6da"
            ],
            [
             0.4,
             "#fde0ef"
            ],
            [
             0.5,
             "#f7f7f7"
            ],
            [
             0.6,
             "#e6f5d0"
            ],
            [
             0.7,
             "#b8e186"
            ],
            [
             0.8,
             "#7fbc41"
            ],
            [
             0.9,
             "#4d9221"
            ],
            [
             1,
             "#276419"
            ]
           ],
           "sequential": [
            [
             0,
             "#0d0887"
            ],
            [
             0.1111111111111111,
             "#46039f"
            ],
            [
             0.2222222222222222,
             "#7201a8"
            ],
            [
             0.3333333333333333,
             "#9c179e"
            ],
            [
             0.4444444444444444,
             "#bd3786"
            ],
            [
             0.5555555555555556,
             "#d8576b"
            ],
            [
             0.6666666666666666,
             "#ed7953"
            ],
            [
             0.7777777777777778,
             "#fb9f3a"
            ],
            [
             0.8888888888888888,
             "#fdca26"
            ],
            [
             1,
             "#f0f921"
            ]
           ],
           "sequentialminus": [
            [
             0,
             "#0d0887"
            ],
            [
             0.1111111111111111,
             "#46039f"
            ],
            [
             0.2222222222222222,
             "#7201a8"
            ],
            [
             0.3333333333333333,
             "#9c179e"
            ],
            [
             0.4444444444444444,
             "#bd3786"
            ],
            [
             0.5555555555555556,
             "#d8576b"
            ],
            [
             0.6666666666666666,
             "#ed7953"
            ],
            [
             0.7777777777777778,
             "#fb9f3a"
            ],
            [
             0.8888888888888888,
             "#fdca26"
            ],
            [
             1,
             "#f0f921"
            ]
           ]
          },
          "colorway": [
           "#636efa",
           "#EF553B",
           "#00cc96",
           "#ab63fa",
           "#FFA15A",
           "#19d3f3",
           "#FF6692",
           "#B6E880",
           "#FF97FF",
           "#FECB52"
          ],
          "font": {
           "color": "#2a3f5f"
          },
          "geo": {
           "bgcolor": "white",
           "lakecolor": "white",
           "landcolor": "#E5ECF6",
           "showlakes": true,
           "showland": true,
           "subunitcolor": "white"
          },
          "hoverlabel": {
           "align": "left"
          },
          "hovermode": "closest",
          "mapbox": {
           "style": "light"
          },
          "paper_bgcolor": "white",
          "plot_bgcolor": "#E5ECF6",
          "polar": {
           "angularaxis": {
            "gridcolor": "white",
            "linecolor": "white",
            "ticks": ""
           },
           "bgcolor": "#E5ECF6",
           "radialaxis": {
            "gridcolor": "white",
            "linecolor": "white",
            "ticks": ""
           }
          },
          "scene": {
           "xaxis": {
            "backgroundcolor": "#E5ECF6",
            "gridcolor": "white",
            "gridwidth": 2,
            "linecolor": "white",
            "showbackground": true,
            "ticks": "",
            "zerolinecolor": "white"
           },
           "yaxis": {
            "backgroundcolor": "#E5ECF6",
            "gridcolor": "white",
            "gridwidth": 2,
            "linecolor": "white",
            "showbackground": true,
            "ticks": "",
            "zerolinecolor": "white"
           },
           "zaxis": {
            "backgroundcolor": "#E5ECF6",
            "gridcolor": "white",
            "gridwidth": 2,
            "linecolor": "white",
            "showbackground": true,
            "ticks": "",
            "zerolinecolor": "white"
           }
          },
          "shapedefaults": {
           "line": {
            "color": "#2a3f5f"
           }
          },
          "ternary": {
           "aaxis": {
            "gridcolor": "white",
            "linecolor": "white",
            "ticks": ""
           },
           "baxis": {
            "gridcolor": "white",
            "linecolor": "white",
            "ticks": ""
           },
           "bgcolor": "#E5ECF6",
           "caxis": {
            "gridcolor": "white",
            "linecolor": "white",
            "ticks": ""
           }
          },
          "title": {
           "x": 0.05
          },
          "xaxis": {
           "automargin": true,
           "gridcolor": "white",
           "linecolor": "white",
           "ticks": "",
           "title": {
            "standoff": 15
           },
           "zerolinecolor": "white",
           "zerolinewidth": 2
          },
          "yaxis": {
           "automargin": true,
           "gridcolor": "white",
           "linecolor": "white",
           "ticks": "",
           "title": {
            "standoff": 15
           },
           "zerolinecolor": "white",
           "zerolinewidth": 2
          }
         }
        },
        "title": {
         "text": "Weekly New Covid-19 Cases in Germany by Province",
         "x": 0.5,
         "xanchor": "center"
        },
        "xaxis": {
         "title": {
          "text": "2020 Calendar Week"
         }
        },
        "yaxis": {
         "title": {
          "text": "Weekly New Cases"
         }
        }
       }
      },
      "text/html": [
       "<div>\n",
       "        \n",
       "        \n",
       "            <div id=\"908b4df5-f724-4716-bf7f-da4234ac55e0\" class=\"plotly-graph-div\" style=\"height:525px; width:100%;\"></div>\n",
       "            <script type=\"text/javascript\">\n",
       "                require([\"plotly\"], function(Plotly) {\n",
       "                    window.PLOTLYENV=window.PLOTLYENV || {};\n",
       "                    \n",
       "                if (document.getElementById(\"908b4df5-f724-4716-bf7f-da4234ac55e0\")) {\n",
       "                    Plotly.newPlot(\n",
       "                        '908b4df5-f724-4716-bf7f-da4234ac55e0',\n",
       "                        [{\"fill\": \"tozeroy\", \"hoverinfo\": \"none\", \"line\": {\"color\": \"blue\", \"width\": 0}, \"mode\": \"lines\", \"name\": \"Summer Vacation\", \"showlegend\": true, \"type\": \"scatter\", \"x\": [27, 28, 29, 30, 31, 32, 33], \"y\": [37.0, 23.0, 50.0, 66.0, 152.0, 118.0, 201.0]}, {\"fill\": \"tozeroy\", \"hoverinfo\": \"none\", \"line\": {\"color\": \"red\", \"width\": 0}, \"mode\": \"lines\", \"name\": \"Active Lockdown\", \"showlegend\": true, \"type\": \"scatter\", \"x\": [12, 13, 14, 15, 16, 17, 18, 19, 20, 21], \"y\": [345.0, 619.0, 614.0, 446.0, 282.0, 202.0, 144.0, 174.0, 48.0, 64.0]}, {\"hoverinfo\": \"none\", \"line\": {\"color\": \"black\", \"width\": 0.9}, \"mode\": \"lines\", \"showlegend\": false, \"type\": \"scatter\", \"x\": [6, 7, 8, 9, 10, 11, 12, 13, 14, 15, 16, 17, 18, 19, 20, 21, 22, 23, 24, 25, 26, 27, 28, 29, 30, 31, 32, 33, 34, 35, 36, 37, 38, 39], \"y\": [0.0, 0.0, 0.0, 2.0, 7.0, 119.0, 345.0, 619.0, 614.0, 446.0, 282.0, 202.0, 144.0, 174.0, 48.0, 64.0, 34.0, 11.0, 9.0, 17.0, 16.0, 37.0, 23.0, 50.0, 66.0, 152.0, 118.0, 201.0, 113.0, 122.0, 99.0, 109.0, 203.0, 250.0]}, {\"hoverinfo\": \"none\", \"line\": {\"width\": 0}, \"mode\": \"lines\", \"showlegend\": false, \"type\": \"scatter\", \"x\": [27, 28, 29, 30, 31, 32, 33], \"y\": [37.0, 23.0, 50.0, 66.0, 152.0, 118.0, 201.0]}, {\"fill\": \"tonexty\", \"hoverinfo\": \"none\", \"line\": {\"color\": \"blue\", \"width\": 0}, \"mode\": \"lines\", \"showlegend\": false, \"type\": \"scatter\", \"x\": [27, 28, 29, 30, 31, 32, 33], \"y\": [58.0, 37.0, 67.0, 157.0, 267.0, 397.0, 390.0]}, {\"hoverinfo\": \"none\", \"line\": {\"width\": 0}, \"mode\": \"lines\", \"showlegend\": false, \"type\": \"scatter\", \"x\": [12, 13, 14, 15, 16, 17, 18, 19, 20, 21], \"y\": [345.0, 619.0, 614.0, 446.0, 282.0, 202.0, 144.0, 174.0, 48.0, 64.0]}, {\"fill\": \"tonexty\", \"hoverinfo\": \"none\", \"line\": {\"color\": \"red\", \"width\": 0}, \"mode\": \"lines\", \"showlegend\": false, \"type\": \"scatter\", \"x\": [12, 13, 14, 15, 16, 17, 18, 19, 20, 21], \"y\": [1280.0, 1692.0, 1522.0, 1202.0, 724.0, 492.0, 281.0, 267.0, 97.0, 89.0]}, {\"hoverinfo\": \"none\", \"line\": {\"color\": \"black\", \"width\": 0.9}, \"mode\": \"lines\", \"showlegend\": false, \"type\": \"scatter\", \"x\": [6, 7, 8, 9, 10, 11, 12, 13, 14, 15, 16, 17, 18, 19, 20, 21, 22, 23, 24, 25, 26, 27, 28, 29, 30, 31, 32, 33, 34, 35, 36, 37, 38, 39], \"y\": [0.0, 0.0, 0.0, 4.0, 28.0, 435.0, 1280.0, 1692.0, 1522.0, 1202.0, 724.0, 492.0, 281.0, 267.0, 97.0, 89.0, 51.0, 37.0, 33.0, 48.0, 60.0, 58.0, 37.0, 67.0, 157.0, 267.0, 397.0, 390.0, 298.0, 325.0, 368.0, 426.0, 603.0, 760.0]}, {\"hoverinfo\": \"none\", \"line\": {\"width\": 0}, \"mode\": \"lines\", \"showlegend\": false, \"type\": \"scatter\", \"x\": [30, 31, 32, 33, 34, 35, 36], \"y\": [157.0, 267.0, 397.0, 390.0, 298.0, 325.0, 368.0]}, {\"fill\": \"tonexty\", \"hoverinfo\": \"none\", \"line\": {\"color\": \"blue\", \"width\": 0}, \"mode\": \"lines\", \"showlegend\": false, \"type\": \"scatter\", \"x\": [30, 31, 32, 33, 34, 35, 36], \"y\": [403.0, 606.0, 821.0, 888.0, 967.0, 953.0, 914.0]}, {\"hoverinfo\": \"none\", \"line\": {\"width\": 0}, \"mode\": \"lines\", \"showlegend\": false, \"type\": \"scatter\", \"x\": [12, 13, 14, 15, 16, 17, 18, 19, 20, 21], \"y\": [1280.0, 1692.0, 1522.0, 1202.0, 724.0, 492.0, 281.0, 267.0, 97.0, 89.0]}, {\"fill\": \"tonexty\", \"hoverinfo\": \"none\", \"line\": {\"color\": \"red\", \"width\": 0}, \"mode\": \"lines\", \"showlegend\": false, \"type\": \"scatter\", \"x\": [12, 13, 14, 15, 16, 17, 18, 19, 20, 21], \"y\": [2685.0, 3913.0, 3648.0, 2989.0, 1874.0, 1322.0, 714.0, 730.0, 387.0, 506.0]}, {\"hoverinfo\": \"none\", \"line\": {\"color\": \"black\", \"width\": 0.9}, \"mode\": \"lines\", \"showlegend\": false, \"type\": \"scatter\", \"x\": [6, 7, 8, 9, 10, 11, 12, 13, 14, 15, 16, 17, 18, 19, 20, 21, 22, 23, 24, 25, 26, 27, 28, 29, 30, 31, 32, 33, 34, 35, 36, 37, 38, 39], \"y\": [1.0, 0.0, 0.0, 5.0, 65.0, 852.0, 2685.0, 3913.0, 3648.0, 2989.0, 1874.0, 1322.0, 714.0, 730.0, 387.0, 506.0, 499.0, 541.0, 396.0, 414.0, 304.0, 239.0, 128.0, 299.0, 403.0, 606.0, 821.0, 888.0, 967.0, 953.0, 914.0, 1105.0, 1639.0, 1766.0]}, {\"hoverinfo\": \"none\", \"line\": {\"width\": 0}, \"mode\": \"lines\", \"showlegend\": false, \"type\": \"scatter\", \"x\": [25, 26, 27, 28, 29, 30, 31], \"y\": [414.0, 304.0, 239.0, 128.0, 299.0, 403.0, 606.0]}, {\"fill\": \"tonexty\", \"hoverinfo\": \"none\", \"line\": {\"color\": \"blue\", \"width\": 0}, \"mode\": \"lines\", \"showlegend\": false, \"type\": \"scatter\", \"x\": [25, 26, 27, 28, 29, 30, 31], \"y\": [469.0, 318.0, 257.0, 139.0, 329.0, 430.0, 641.0]}, {\"hoverinfo\": \"none\", \"line\": {\"width\": 0}, \"mode\": \"lines\", \"showlegend\": false, \"type\": \"scatter\", \"x\": [12, 13, 14, 15, 16, 17, 18, 19, 20, 21], \"y\": [2685.0, 3913.0, 3648.0, 2989.0, 1874.0, 1322.0, 714.0, 730.0, 387.0, 506.0]}, {\"fill\": \"tonexty\", \"hoverinfo\": \"none\", \"line\": {\"color\": \"red\", \"width\": 0}, \"mode\": \"lines\", \"showlegend\": false, \"type\": \"scatter\", \"x\": [12, 13, 14, 15, 16, 17, 18, 19, 20, 21], \"y\": [2798.0, 4032.0, 3751.0, 3080.0, 1988.0, 1517.0, 861.0, 895.0, 512.0, 590.0]}, {\"hoverinfo\": \"none\", \"line\": {\"color\": \"black\", \"width\": 0.9}, \"mode\": \"lines\", \"showlegend\": false, \"type\": \"scatter\", \"x\": [6, 7, 8, 9, 10, 11, 12, 13, 14, 15, 16, 17, 18, 19, 20, 21, 22, 23, 24, 25, 26, 27, 28, 29, 30, 31, 32, 33, 34, 35, 36, 37, 38, 39], \"y\": [1.0, 0.0, 0.0, 6.0, 68.0, 903.0, 2798.0, 4032.0, 3751.0, 3080.0, 1988.0, 1517.0, 861.0, 895.0, 512.0, 590.0, 624.0, 640.0, 456.0, 469.0, 318.0, 257.0, 139.0, 329.0, 430.0, 641.0, 843.0, 929.0, 1026.0, 1039.0, 993.0, 1169.0, 1721.0, 1917.0]}, {\"hoverinfo\": \"none\", \"line\": {\"width\": 0}, \"mode\": \"lines\", \"showlegend\": false, \"type\": \"scatter\", \"x\": [27, 28, 29, 30, 31, 32, 33], \"y\": [257.0, 139.0, 329.0, 430.0, 641.0, 843.0, 929.0]}, {\"fill\": \"tonexty\", \"hoverinfo\": \"none\", \"line\": {\"color\": \"blue\", \"width\": 0}, \"mode\": \"lines\", \"showlegend\": false, \"type\": \"scatter\", \"x\": [27, 28, 29, 30, 31, 32, 33], \"y\": [1372.0, 1064.0, 1470.0, 1904.0, 2535.0, 3265.0, 3803.0]}, {\"hoverinfo\": \"none\", \"line\": {\"width\": 0}, \"mode\": \"lines\", \"showlegend\": false, \"type\": \"scatter\", \"x\": [12, 13, 14, 15, 16, 17, 18, 19, 20, 21], \"y\": [2798.0, 4032.0, 3751.0, 3080.0, 1988.0, 1517.0, 861.0, 895.0, 512.0, 590.0]}, {\"fill\": \"tonexty\", \"hoverinfo\": \"none\", \"line\": {\"color\": \"red\", \"width\": 0}, \"mode\": \"lines\", \"showlegend\": false, \"type\": \"scatter\", \"x\": [12, 13, 14, 15, 16, 17, 18, 19, 20, 21], \"y\": [8175.0, 10279.0, 10188.0, 8510.0, 5645.0, 4095.0, 2484.0, 2451.0, 1789.0, 1461.0]}, {\"hoverinfo\": \"none\", \"line\": {\"color\": \"black\", \"width\": 0.9}, \"mode\": \"lines\", \"showlegend\": false, \"type\": \"scatter\", \"x\": [6, 7, 8, 9, 10, 11, 12, 13, 14, 15, 16, 17, 18, 19, 20, 21, 22, 23, 24, 25, 26, 27, 28, 29, 30, 31, 32, 33, 34, 35, 36, 37, 38, 39], \"y\": [1.0, 1.0, 1.0, 101.0, 454.0, 2645.0, 8175.0, 10279.0, 10188.0, 8510.0, 5645.0, 4095.0, 2484.0, 2451.0, 1789.0, 1461.0, 1384.0, 1277.0, 1147.0, 2521.0, 1895.0, 1372.0, 1064.0, 1470.0, 1904.0, 2535.0, 3265.0, 3803.0, 3316.0, 2775.0, 2691.0, 3174.0, 4662.0, 5461.0]}, {\"hoverinfo\": \"none\", \"line\": {\"width\": 0}, \"mode\": \"lines\", \"showlegend\": false, \"type\": \"scatter\", \"x\": [28, 29, 30, 31, 32, 33, 34], \"y\": [1064.0, 1470.0, 1904.0, 2535.0, 3265.0, 3803.0, 3316.0]}, {\"fill\": \"tonexty\", \"hoverinfo\": \"none\", \"line\": {\"color\": \"blue\", \"width\": 0}, \"mode\": \"lines\", \"showlegend\": false, \"type\": \"scatter\", \"x\": [28, 29, 30, 31, 32, 33, 34], \"y\": [1284.0, 1709.0, 2196.0, 2979.0, 3863.0, 4600.0, 4457.0]}, {\"hoverinfo\": \"none\", \"line\": {\"width\": 0}, \"mode\": \"lines\", \"showlegend\": false, \"type\": \"scatter\", \"x\": [12, 13, 14, 15, 16, 17, 18, 19, 20, 21], \"y\": [8175.0, 10279.0, 10188.0, 8510.0, 5645.0, 4095.0, 2484.0, 2451.0, 1789.0, 1461.0]}, {\"fill\": \"tonexty\", \"hoverinfo\": \"none\", \"line\": {\"color\": \"red\", \"width\": 0}, \"mode\": \"lines\", \"showlegend\": false, \"type\": \"scatter\", \"x\": [12, 13, 14, 15, 16, 17, 18, 19, 20, 21], \"y\": [9301.0, 11971.0, 11786.0, 9904.0, 6708.0, 4859.0, 3062.0, 2904.0, 2197.0, 1842.0]}, {\"hoverinfo\": \"none\", \"line\": {\"color\": \"black\", \"width\": 0.9}, \"mode\": \"lines\", \"showlegend\": false, \"type\": \"scatter\", \"x\": [6, 7, 8, 9, 10, 11, 12, 13, 14, 15, 16, 17, 18, 19, 20, 21, 22, 23, 24, 25, 26, 27, 28, 29, 30, 31, 32, 33, 34, 35, 36, 37, 38, 39], \"y\": [1.0, 1.0, 1.0, 106.0, 475.0, 2940.0, 9301.0, 11971.0, 11786.0, 9904.0, 6708.0, 4859.0, 3062.0, 2904.0, 2197.0, 1842.0, 1677.0, 1419.0, 1296.0, 2760.0, 2069.0, 1559.0, 1284.0, 1709.0, 2196.0, 2979.0, 3863.0, 4600.0, 4457.0, 3567.0, 3391.0, 3893.0, 5411.0, 6493.0]}, {\"hoverinfo\": \"none\", \"line\": {\"width\": 0}, \"mode\": \"lines\", \"showlegend\": false, \"type\": \"scatter\", \"x\": [28, 29, 30, 31, 32, 33, 34], \"y\": [1284.0, 1709.0, 2196.0, 2979.0, 3863.0, 4600.0, 4457.0]}, {\"fill\": \"tonexty\", \"hoverinfo\": \"none\", \"line\": {\"color\": \"blue\", \"width\": 0}, \"mode\": \"lines\", \"showlegend\": false, \"type\": \"scatter\", \"x\": [28, 29, 30, 31, 32, 33, 34], \"y\": [1383.0, 1851.0, 2301.0, 3101.0, 4149.0, 4961.0, 4938.0]}, {\"hoverinfo\": \"none\", \"line\": {\"width\": 0}, \"mode\": \"lines\", \"showlegend\": false, \"type\": \"scatter\", \"x\": [12, 13, 14, 15, 16, 17, 18, 19, 20, 21], \"y\": [9301.0, 11971.0, 11786.0, 9904.0, 6708.0, 4859.0, 3062.0, 2904.0, 2197.0, 1842.0]}, {\"fill\": \"tonexty\", \"hoverinfo\": \"none\", \"line\": {\"color\": \"red\", \"width\": 0}, \"mode\": \"lines\", \"showlegend\": false, \"type\": \"scatter\", \"x\": [12, 13, 14, 15, 16, 17, 18, 19, 20, 21], \"y\": [10324.0, 13336.0, 13031.0, 10826.0, 7357.0, 5217.0, 3300.0, 3098.0, 2368.0, 1939.0]}, {\"hoverinfo\": \"none\", \"line\": {\"color\": \"black\", \"width\": 0.9}, \"mode\": \"lines\", \"showlegend\": false, \"type\": \"scatter\", \"x\": [6, 7, 8, 9, 10, 11, 12, 13, 14, 15, 16, 17, 18, 19, 20, 21, 22, 23, 24, 25, 26, 27, 28, 29, 30, 31, 32, 33, 34, 35, 36, 37, 38, 39], \"y\": [1.0, 1.0, 1.0, 108.0, 488.0, 3260.0, 10324.0, 13336.0, 13031.0, 10826.0, 7357.0, 5217.0, 3300.0, 3098.0, 2368.0, 1939.0, 1785.0, 1503.0, 1350.0, 2833.0, 2144.0, 1654.0, 1383.0, 1851.0, 2301.0, 3101.0, 4149.0, 4961.0, 4938.0, 3980.0, 3699.0, 4274.0, 5779.0, 6952.0]}, {\"hoverinfo\": \"none\", \"line\": {\"width\": 0}, \"mode\": \"lines\", \"showlegend\": false, \"type\": \"scatter\", \"x\": [31, 32, 33, 34, 35, 36, 37], \"y\": [3101.0, 4149.0, 4961.0, 4938.0, 3980.0, 3699.0, 4274.0]}, {\"fill\": \"tonexty\", \"hoverinfo\": \"none\", \"line\": {\"color\": \"blue\", \"width\": 0}, \"mode\": \"lines\", \"showlegend\": false, \"type\": \"scatter\", \"x\": [31, 32, 33, 34, 35, 36, 37], \"y\": [3593.0, 4600.0, 5737.0, 6617.0, 5759.0, 5404.0, 5912.0]}, {\"hoverinfo\": \"none\", \"line\": {\"width\": 0}, \"mode\": \"lines\", \"showlegend\": false, \"type\": \"scatter\", \"x\": [12, 13, 14, 15, 16, 17, 18, 19, 20, 21], \"y\": [10324.0, 13336.0, 13031.0, 10826.0, 7357.0, 5217.0, 3300.0, 3098.0, 2368.0, 1939.0]}, {\"fill\": \"tonexty\", \"hoverinfo\": \"none\", \"line\": {\"color\": \"red\", \"width\": 0}, \"mode\": \"lines\", \"showlegend\": false, \"type\": \"scatter\", \"x\": [12, 13, 14, 15, 16, 17, 18, 19, 20, 21], \"y\": [14778.0, 20501.0, 20474.0, 16078.0, 10545.0, 7631.0, 4503.0, 3994.0, 2978.0, 2340.0]}, {\"hoverinfo\": \"none\", \"line\": {\"color\": \"black\", \"width\": 0.9}, \"mode\": \"lines\", \"showlegend\": false, \"type\": \"scatter\", \"x\": [6, 7, 8, 9, 10, 11, 12, 13, 14, 15, 16, 17, 18, 19, 20, 21, 22, 23, 24, 25, 26, 27, 28, 29, 30, 31, 32, 33, 34, 35, 36, 37, 38, 39], \"y\": [1.0, 1.0, 1.0, 128.0, 698.0, 4588.0, 14778.0, 20501.0, 20474.0, 16078.0, 10545.0, 7631.0, 4503.0, 3994.0, 2978.0, 2340.0, 2091.0, 1682.0, 1519.0, 3021.0, 2407.0, 1861.0, 1633.0, 2231.0, 2788.0, 3593.0, 4600.0, 5737.0, 6617.0, 5759.0, 5404.0, 5912.0, 7686.0, 8745.0]}, {\"hoverinfo\": \"none\", \"line\": {\"width\": 0}, \"mode\": \"lines\", \"showlegend\": false, \"type\": \"scatter\", \"x\": [31, 32, 33, 34, 35, 36, 37], \"y\": [3593.0, 4600.0, 5737.0, 6617.0, 5759.0, 5404.0, 5912.0]}, {\"fill\": \"tonexty\", \"hoverinfo\": \"none\", \"line\": {\"color\": \"blue\", \"width\": 0}, \"mode\": \"lines\", \"showlegend\": false, \"type\": \"scatter\", \"x\": [31, 32, 33, 34, 35, 36, 37], \"y\": [4276.0, 5304.0, 7007.0, 8701.0, 7907.0, 7640.0, 8567.0]}, {\"hoverinfo\": \"none\", \"line\": {\"width\": 0}, \"mode\": \"lines\", \"showlegend\": false, \"type\": \"scatter\", \"x\": [12, 13, 14, 15, 16, 17, 18, 19, 20, 21], \"y\": [14778.0, 20501.0, 20474.0, 16078.0, 10545.0, 7631.0, 4503.0, 3994.0, 2978.0, 2340.0]}, {\"fill\": \"tonexty\", \"hoverinfo\": \"none\", \"line\": {\"color\": \"red\", \"width\": 0}, \"mode\": \"lines\", \"showlegend\": false, \"type\": \"scatter\", \"x\": [12, 13, 14, 15, 16, 17, 18, 19, 20, 21], \"y\": [19627.0, 29754.0, 31361.0, 23673.0, 15267.0, 10699.0, 6249.0, 5279.0, 4067.0, 3112.0]}, {\"hoverinfo\": \"none\", \"line\": {\"color\": \"black\", \"width\": 0.9}, \"mode\": \"lines\", \"showlegend\": false, \"type\": \"scatter\", \"x\": [6, 7, 8, 9, 10, 11, 12, 13, 14, 15, 16, 17, 18, 19, 20, 21, 22, 23, 24, 25, 26, 27, 28, 29, 30, 31, 32, 33, 34, 35, 36, 37, 38, 39], \"y\": [7.0, 4.0, 1.0, 137.0, 830.0, 5694.0, 19627.0, 29754.0, 31361.0, 23673.0, 15267.0, 10699.0, 6249.0, 5279.0, 4067.0, 3112.0, 2714.0, 1996.0, 1787.0, 3289.0, 2771.0, 2321.0, 2133.0, 2753.0, 3502.0, 4276.0, 5304.0, 7007.0, 8701.0, 7907.0, 7640.0, 8567.0, 10617.0, 11020.0]}, {\"hoverinfo\": \"none\", \"line\": {\"width\": 0}, \"mode\": \"lines\", \"showlegend\": false, \"type\": \"scatter\", \"x\": [28, 29, 30, 31, 32, 33, 34], \"y\": [2133.0, 2753.0, 3502.0, 4276.0, 5304.0, 7007.0, 8701.0]}, {\"fill\": \"tonexty\", \"hoverinfo\": \"none\", \"line\": {\"color\": \"blue\", \"width\": 0}, \"mode\": \"lines\", \"showlegend\": false, \"type\": \"scatter\", \"x\": [28, 29, 30, 31, 32, 33, 34], \"y\": [2146.0, 2769.0, 3526.0, 4309.0, 5342.0, 7082.0, 8774.0]}, {\"hoverinfo\": \"none\", \"line\": {\"width\": 0}, \"mode\": \"lines\", \"showlegend\": false, \"type\": \"scatter\", \"x\": [12, 13, 14, 15, 16, 17, 18, 19, 20, 21], \"y\": [19627.0, 29754.0, 31361.0, 23673.0, 15267.0, 10699.0, 6249.0, 5279.0, 4067.0, 3112.0]}, {\"fill\": \"tonexty\", \"hoverinfo\": \"none\", \"line\": {\"color\": \"red\", \"width\": 0}, \"mode\": \"lines\", \"showlegend\": false, \"type\": \"scatter\", \"x\": [12, 13, 14, 15, 16, 17, 18, 19, 20, 21], \"y\": [19883.0, 30171.0, 32133.0, 24243.0, 15480.0, 10869.0, 6334.0, 5319.0, 4099.0, 3133.0]}, {\"hoverinfo\": \"none\", \"line\": {\"color\": \"black\", \"width\": 0.9}, \"mode\": \"lines\", \"showlegend\": false, \"type\": \"scatter\", \"x\": [6, 7, 8, 9, 10, 11, 12, 13, 14, 15, 16, 17, 18, 19, 20, 21, 22, 23, 24, 25, 26, 27, 28, 29, 30, 31, 32, 33, 34, 35, 36, 37, 38, 39], \"y\": [7.0, 4.0, 1.0, 138.0, 831.0, 5770.0, 19883.0, 30171.0, 32133.0, 24243.0, 15480.0, 10869.0, 6334.0, 5319.0, 4099.0, 3133.0, 2738.0, 2019.0, 1810.0, 3296.0, 2778.0, 2324.0, 2146.0, 2769.0, 3526.0, 4309.0, 5342.0, 7082.0, 8774.0, 7979.0, 7687.0, 8612.0, 10680.0, 11084.0]}, {\"hoverinfo\": \"none\", \"line\": {\"width\": 0}, \"mode\": \"lines\", \"showlegend\": false, \"type\": \"scatter\", \"x\": [27, 28, 29, 30, 31, 32, 33], \"y\": [2324.0, 2146.0, 2769.0, 3526.0, 4309.0, 5342.0, 7082.0]}, {\"fill\": \"tonexty\", \"hoverinfo\": \"none\", \"line\": {\"color\": \"blue\", \"width\": 0}, \"mode\": \"lines\", \"showlegend\": false, \"type\": \"scatter\", \"x\": [27, 28, 29, 30, 31, 32, 33], \"y\": [2589.0, 2335.0, 2901.0, 3747.0, 4643.0, 5724.0, 7623.0]}, {\"hoverinfo\": \"none\", \"line\": {\"width\": 0}, \"mode\": \"lines\", \"showlegend\": false, \"type\": \"scatter\", \"x\": [12, 13, 14, 15, 16, 17, 18, 19, 20, 21], \"y\": [19883.0, 30171.0, 32133.0, 24243.0, 15480.0, 10869.0, 6334.0, 5319.0, 4099.0, 3133.0]}, {\"fill\": \"tonexty\", \"hoverinfo\": \"none\", \"line\": {\"color\": \"red\", \"width\": 0}, \"mode\": \"lines\", \"showlegend\": false, \"type\": \"scatter\", \"x\": [12, 13, 14, 15, 16, 17, 18, 19, 20, 21], \"y\": [20731.0, 31549.0, 33363.0, 25166.0, 16055.0, 11307.0, 6682.0, 5569.0, 4296.0, 3317.0]}, {\"hoverinfo\": \"none\", \"line\": {\"color\": \"black\", \"width\": 0.9}, \"mode\": \"lines\", \"showlegend\": false, \"type\": \"scatter\", \"x\": [6, 7, 8, 9, 10, 11, 12, 13, 14, 15, 16, 17, 18, 19, 20, 21, 22, 23, 24, 25, 26, 27, 28, 29, 30, 31, 32, 33, 34, 35, 36, 37, 38, 39], \"y\": [7.0, 4.0, 1.0, 138.0, 867.0, 6029.0, 20731.0, 31549.0, 33363.0, 25166.0, 16055.0, 11307.0, 6682.0, 5569.0, 4296.0, 3317.0, 2929.0, 2208.0, 2148.0, 3806.0, 3092.0, 2589.0, 2335.0, 2901.0, 3747.0, 4643.0, 5724.0, 7623.0, 9240.0, 8457.0, 8209.0, 9186.0, 11520.0, 12173.0]}, {\"hoverinfo\": \"none\", \"line\": {\"width\": 0}, \"mode\": \"lines\", \"showlegend\": false, \"type\": \"scatter\", \"x\": [27, 28, 29, 30, 31, 32, 33], \"y\": [2589.0, 2335.0, 2901.0, 3747.0, 4643.0, 5724.0, 7623.0]}, {\"fill\": \"tonexty\", \"hoverinfo\": \"none\", \"line\": {\"color\": \"blue\", \"width\": 0}, \"mode\": \"lines\", \"showlegend\": false, \"type\": \"scatter\", \"x\": [27, 28, 29, 30, 31, 32, 33], \"y\": [2631.0, 2355.0, 2927.0, 3808.0, 4675.0, 5792.0, 7686.0]}, {\"hoverinfo\": \"none\", \"line\": {\"width\": 0}, \"mode\": \"lines\", \"showlegend\": false, \"type\": \"scatter\", \"x\": [12, 13, 14, 15, 16, 17, 18, 19, 20, 21], \"y\": [20731.0, 31549.0, 33363.0, 25166.0, 16055.0, 11307.0, 6682.0, 5569.0, 4296.0, 3317.0]}, {\"fill\": \"tonexty\", \"hoverinfo\": \"none\", \"line\": {\"color\": \"red\", \"width\": 0}, \"mode\": \"lines\", \"showlegend\": false, \"type\": \"scatter\", \"x\": [12, 13, 14, 15, 16, 17, 18, 19, 20, 21], \"y\": [21027.0, 31976.0, 33973.0, 25748.0, 16449.0, 11636.0, 6913.0, 5695.0, 4358.0, 3354.0]}, {\"hoverinfo\": \"none\", \"line\": {\"color\": \"black\", \"width\": 0.9}, \"mode\": \"lines\", \"showlegend\": false, \"type\": \"scatter\", \"x\": [6, 7, 8, 9, 10, 11, 12, 13, 14, 15, 16, 17, 18, 19, 20, 21, 22, 23, 24, 25, 26, 27, 28, 29, 30, 31, 32, 33, 34, 35, 36, 37, 38, 39], \"y\": [7.0, 4.0, 1.0, 139.0, 873.0, 6131.0, 21027.0, 31976.0, 33973.0, 25748.0, 16449.0, 11636.0, 6913.0, 5695.0, 4358.0, 3354.0, 2962.0, 2225.0, 2180.0, 3879.0, 3131.0, 2631.0, 2355.0, 2927.0, 3808.0, 4675.0, 5792.0, 7686.0, 9342.0, 8525.0, 8269.0, 9267.0, 11609.0, 12305.0]}, {\"hoverinfo\": \"none\", \"line\": {\"width\": 0}, \"mode\": \"lines\", \"showlegend\": false, \"type\": \"scatter\", \"x\": [26, 27, 28, 29, 30, 31, 32], \"y\": [3131.0, 2631.0, 2355.0, 2927.0, 3808.0, 4675.0, 5792.0]}, {\"fill\": \"tonexty\", \"hoverinfo\": \"none\", \"line\": {\"color\": \"blue\", \"width\": 0}, \"mode\": \"lines\", \"showlegend\": false, \"type\": \"scatter\", \"x\": [26, 27, 28, 29, 30, 31, 32], \"y\": [3139.0, 2634.0, 2355.0, 2933.0, 3843.0, 4715.0, 5848.0]}, {\"hoverinfo\": \"none\", \"line\": {\"width\": 0}, \"mode\": \"lines\", \"showlegend\": false, \"type\": \"scatter\", \"x\": [12, 13, 14, 15, 16, 17, 18, 19, 20, 21], \"y\": [21027.0, 31976.0, 33973.0, 25748.0, 16449.0, 11636.0, 6913.0, 5695.0, 4358.0, 3354.0]}, {\"fill\": \"tonexty\", \"hoverinfo\": \"none\", \"line\": {\"color\": \"red\", \"width\": 0}, \"mode\": \"lines\", \"showlegend\": false, \"type\": \"scatter\", \"x\": [12, 13, 14, 15, 16, 17, 18, 19, 20, 21], \"y\": [21177.0, 32148.0, 34136.0, 25838.0, 16486.0, 11657.0, 6941.0, 5722.0, 4378.0, 3364.0]}, {\"hoverinfo\": \"none\", \"line\": {\"color\": \"black\", \"width\": 0.9}, \"mode\": \"lines\", \"showlegend\": false, \"type\": \"scatter\", \"x\": [6, 7, 8, 9, 10, 11, 12, 13, 14, 15, 16, 17, 18, 19, 20, 21, 22, 23, 24, 25, 26, 27, 28, 29, 30, 31, 32, 33, 34, 35, 36, 37, 38, 39], \"y\": [7.0, 4.0, 1.0, 139.0, 880.0, 6164.0, 21177.0, 32148.0, 34136.0, 25838.0, 16486.0, 11657.0, 6941.0, 5722.0, 4378.0, 3364.0, 2965.0, 2238.0, 2189.0, 3889.0, 3139.0, 2634.0, 2355.0, 2933.0, 3843.0, 4715.0, 5848.0, 7718.0, 9365.0, 8538.0, 8291.0, 9301.0, 11658.0, 12357.0]}, {\"hoverinfo\": \"none\", \"line\": {\"width\": 0}, \"mode\": \"lines\", \"showlegend\": false, \"type\": \"scatter\", \"x\": [30, 31, 32, 33, 34, 35, 36], \"y\": [3843.0, 4715.0, 5848.0, 7718.0, 9365.0, 8538.0, 8291.0]}, {\"fill\": \"tonexty\", \"hoverinfo\": \"none\", \"line\": {\"color\": \"blue\", \"width\": 0}, \"mode\": \"lines\", \"showlegend\": false, \"type\": \"scatter\", \"x\": [30, 31, 32, 33, 34, 35, 36], \"y\": [3872.0, 4745.0, 5955.0, 7805.0, 9462.0, 8675.0, 8485.0]}, {\"hoverinfo\": \"none\", \"line\": {\"width\": 0}, \"mode\": \"lines\", \"showlegend\": false, \"type\": \"scatter\", \"x\": [12, 13, 14, 15, 16, 17, 18, 19, 20, 21], \"y\": [21177.0, 32148.0, 34136.0, 25838.0, 16486.0, 11657.0, 6941.0, 5722.0, 4378.0, 3364.0]}, {\"fill\": \"tonexty\", \"hoverinfo\": \"none\", \"line\": {\"color\": \"red\", \"width\": 0}, \"mode\": \"lines\", \"showlegend\": false, \"type\": \"scatter\", \"x\": [12, 13, 14, 15, 16, 17, 18, 19, 20, 21], \"y\": [21916.0, 33201.0, 35319.0, 26618.0, 16870.0, 11911.0, 7123.0, 5936.0, 4535.0, 3471.0]}, {\"hoverinfo\": \"none\", \"line\": {\"color\": \"black\", \"width\": 0.9}, \"mode\": \"lines\", \"showlegend\": false, \"type\": \"scatter\", \"x\": [6, 7, 8, 9, 10, 11, 12, 13, 14, 15, 16, 17, 18, 19, 20, 21, 22, 23, 24, 25, 26, 27, 28, 29, 30, 31, 32, 33, 34, 35, 36, 37, 38, 39], \"y\": [7.0, 4.0, 1.0, 139.0, 890.0, 6333.0, 21916.0, 33201.0, 35319.0, 26618.0, 16870.0, 11911.0, 7123.0, 5936.0, 4535.0, 3471.0, 3035.0, 2265.0, 2208.0, 3967.0, 3159.0, 2648.0, 2372.0, 2950.0, 3872.0, 4745.0, 5955.0, 7805.0, 9462.0, 8675.0, 8485.0, 9576.0, 12008.0, 12761.0]}, {\"hoverinfo\": \"none\", \"line\": {\"width\": 0}, \"mode\": \"lines\", \"showlegend\": false, \"type\": \"scatter\", \"x\": [30, 31, 32, 33, 34, 35, 36], \"y\": [3872.0, 4745.0, 5955.0, 7805.0, 9462.0, 8675.0, 8485.0]}, {\"fill\": \"tonexty\", \"hoverinfo\": \"none\", \"line\": {\"color\": \"blue\", \"width\": 0}, \"mode\": \"lines\", \"showlegend\": false, \"type\": \"scatter\", \"x\": [30, 31, 32, 33, 34, 35, 36], \"y\": [3908.0, 4785.0, 5990.0, 7864.0, 9524.0, 8732.0, 8529.0]}, {\"hoverinfo\": \"none\", \"line\": {\"width\": 0}, \"mode\": \"lines\", \"showlegend\": false, \"type\": \"scatter\", \"x\": [12, 13, 14, 15, 16, 17, 18, 19, 20, 21], \"y\": [21916.0, 33201.0, 35319.0, 26618.0, 16870.0, 11911.0, 7123.0, 5936.0, 4535.0, 3471.0]}, {\"fill\": \"tonexty\", \"hoverinfo\": \"none\", \"line\": {\"color\": \"red\", \"width\": 0}, \"mode\": \"lines\", \"showlegend\": false, \"type\": \"scatter\", \"x\": [12, 13, 14, 15, 16, 17, 18, 19, 20, 21], \"y\": [22144.0, 33577.0, 35646.0, 26843.0, 17051.0, 12045.0, 7190.0, 5996.0, 4569.0, 3486.0]}, {\"hoverinfo\": \"none\", \"line\": {\"color\": \"black\", \"width\": 0.9}, \"mode\": \"lines\", \"showlegend\": false, \"type\": \"scatter\", \"x\": [6, 7, 8, 9, 10, 11, 12, 13, 14, 15, 16, 17, 18, 19, 20, 21, 22, 23, 24, 25, 26, 27, 28, 29, 30, 31, 32, 33, 34, 35, 36, 37, 38, 39], \"y\": [7.0, 4.0, 1.0, 139.0, 890.0, 6381.0, 22144.0, 33577.0, 35646.0, 26843.0, 17051.0, 12045.0, 7190.0, 5996.0, 4569.0, 3486.0, 3048.0, 2278.0, 2258.0, 4047.0, 3181.0, 2670.0, 2397.0, 2987.0, 3908.0, 4785.0, 5990.0, 7864.0, 9524.0, 8732.0, 8529.0, 9647.0, 12109.0, 12918.0]}, {\"hoverinfo\": \"none\", \"line\": {\"width\": 0}, \"mode\": \"lines\", \"showlegend\": false, \"type\": \"scatter\", \"x\": [30, 31, 32, 33, 34, 35, 36], \"y\": [3908.0, 4785.0, 5990.0, 7864.0, 9524.0, 8732.0, 8529.0]}, {\"fill\": \"tonexty\", \"hoverinfo\": \"none\", \"line\": {\"color\": \"blue\", \"width\": 0}, \"mode\": \"lines\", \"showlegend\": false, \"type\": \"scatter\", \"x\": [30, 31, 32, 33, 34, 35, 36], \"y\": [3933.0, 4814.0, 6042.0, 7935.0, 9581.0, 8804.0, 8596.0]}, {\"hoverinfo\": \"none\", \"line\": {\"width\": 0}, \"mode\": \"lines\", \"showlegend\": false, \"type\": \"scatter\", \"x\": [12, 13, 14, 15, 16, 17, 18, 19, 20, 21], \"y\": [22144.0, 33577.0, 35646.0, 26843.0, 17051.0, 12045.0, 7190.0, 5996.0, 4569.0, 3486.0]}, {\"fill\": \"tonexty\", \"hoverinfo\": \"none\", \"line\": {\"color\": \"red\", \"width\": 0}, \"mode\": \"lines\", \"showlegend\": false, \"type\": \"scatter\", \"x\": [12, 13, 14, 15, 16, 17, 18, 19, 20, 21], \"y\": [22425.0, 34016.0, 36063.0, 27163.0, 17337.0, 12372.0, 7435.0, 6225.0, 4724.0, 3614.0]}, {\"hoverinfo\": \"none\", \"line\": {\"color\": \"black\", \"width\": 0.9}, \"mode\": \"lines\", \"showlegend\": false, \"type\": \"scatter\", \"x\": [6, 7, 8, 9, 10, 11, 12, 13, 14, 15, 16, 17, 18, 19, 20, 21, 22, 23, 24, 25, 26, 27, 28, 29, 30, 31, 32, 33, 34, 35, 36, 37, 38, 39], \"y\": [7.0, 4.0, 1.0, 139.0, 892.0, 6431.0, 22425.0, 34016.0, 36063.0, 27163.0, 17337.0, 12372.0, 7435.0, 6225.0, 4724.0, 3614.0, 3199.0, 2352.0, 2343.0, 4089.0, 3200.0, 2693.0, 2419.0, 3016.0, 3933.0, 4814.0, 6042.0, 7935.0, 9581.0, 8804.0, 8596.0, 9760.0, 12247.0, 13031.0]}],\n",
       "                        {\"font\": {\"color\": \"black\", \"size\": 18}, \"legend\": {\"orientation\": \"h\", \"title\": {\"text\": \"Period of Analysis:   \"}, \"x\": 0.5, \"xanchor\": \"center\", \"y\": 1, \"yanchor\": \"bottom\"}, \"template\": {\"data\": {\"bar\": [{\"error_x\": {\"color\": \"#2a3f5f\"}, \"error_y\": {\"color\": \"#2a3f5f\"}, \"marker\": {\"line\": {\"color\": \"#E5ECF6\", \"width\": 0.5}}, \"type\": \"bar\"}], \"barpolar\": [{\"marker\": {\"line\": {\"color\": \"#E5ECF6\", \"width\": 0.5}}, \"type\": \"barpolar\"}], \"carpet\": [{\"aaxis\": {\"endlinecolor\": \"#2a3f5f\", \"gridcolor\": \"white\", \"linecolor\": \"white\", \"minorgridcolor\": \"white\", \"startlinecolor\": \"#2a3f5f\"}, \"baxis\": {\"endlinecolor\": \"#2a3f5f\", \"gridcolor\": \"white\", \"linecolor\": \"white\", \"minorgridcolor\": \"white\", \"startlinecolor\": \"#2a3f5f\"}, \"type\": \"carpet\"}], \"choropleth\": [{\"colorbar\": {\"outlinewidth\": 0, \"ticks\": \"\"}, \"type\": \"choropleth\"}], \"contour\": [{\"colorbar\": {\"outlinewidth\": 0, \"ticks\": \"\"}, \"colorscale\": [[0.0, \"#0d0887\"], [0.1111111111111111, \"#46039f\"], [0.2222222222222222, \"#7201a8\"], [0.3333333333333333, \"#9c179e\"], [0.4444444444444444, \"#bd3786\"], [0.5555555555555556, \"#d8576b\"], [0.6666666666666666, \"#ed7953\"], [0.7777777777777778, \"#fb9f3a\"], [0.8888888888888888, \"#fdca26\"], [1.0, \"#f0f921\"]], \"type\": \"contour\"}], \"contourcarpet\": [{\"colorbar\": {\"outlinewidth\": 0, \"ticks\": \"\"}, \"type\": \"contourcarpet\"}], \"heatmap\": [{\"colorbar\": {\"outlinewidth\": 0, \"ticks\": \"\"}, \"colorscale\": [[0.0, \"#0d0887\"], [0.1111111111111111, \"#46039f\"], [0.2222222222222222, \"#7201a8\"], [0.3333333333333333, \"#9c179e\"], [0.4444444444444444, \"#bd3786\"], [0.5555555555555556, \"#d8576b\"], [0.6666666666666666, \"#ed7953\"], [0.7777777777777778, \"#fb9f3a\"], [0.8888888888888888, \"#fdca26\"], [1.0, \"#f0f921\"]], \"type\": \"heatmap\"}], \"heatmapgl\": [{\"colorbar\": {\"outlinewidth\": 0, \"ticks\": \"\"}, \"colorscale\": [[0.0, \"#0d0887\"], [0.1111111111111111, \"#46039f\"], [0.2222222222222222, \"#7201a8\"], [0.3333333333333333, \"#9c179e\"], [0.4444444444444444, \"#bd3786\"], [0.5555555555555556, \"#d8576b\"], [0.6666666666666666, \"#ed7953\"], [0.7777777777777778, \"#fb9f3a\"], [0.8888888888888888, \"#fdca26\"], [1.0, \"#f0f921\"]], \"type\": \"heatmapgl\"}], \"histogram\": [{\"marker\": {\"colorbar\": {\"outlinewidth\": 0, \"ticks\": \"\"}}, \"type\": \"histogram\"}], \"histogram2d\": [{\"colorbar\": {\"outlinewidth\": 0, \"ticks\": \"\"}, \"colorscale\": [[0.0, \"#0d0887\"], [0.1111111111111111, \"#46039f\"], [0.2222222222222222, \"#7201a8\"], [0.3333333333333333, \"#9c179e\"], [0.4444444444444444, \"#bd3786\"], [0.5555555555555556, \"#d8576b\"], [0.6666666666666666, \"#ed7953\"], [0.7777777777777778, \"#fb9f3a\"], [0.8888888888888888, \"#fdca26\"], [1.0, \"#f0f921\"]], \"type\": \"histogram2d\"}], \"histogram2dcontour\": [{\"colorbar\": {\"outlinewidth\": 0, \"ticks\": \"\"}, \"colorscale\": [[0.0, \"#0d0887\"], [0.1111111111111111, \"#46039f\"], [0.2222222222222222, \"#7201a8\"], [0.3333333333333333, \"#9c179e\"], [0.4444444444444444, \"#bd3786\"], [0.5555555555555556, \"#d8576b\"], [0.6666666666666666, \"#ed7953\"], [0.7777777777777778, \"#fb9f3a\"], [0.8888888888888888, \"#fdca26\"], [1.0, \"#f0f921\"]], \"type\": \"histogram2dcontour\"}], \"mesh3d\": [{\"colorbar\": {\"outlinewidth\": 0, \"ticks\": \"\"}, \"type\": \"mesh3d\"}], \"parcoords\": [{\"line\": {\"colorbar\": {\"outlinewidth\": 0, \"ticks\": \"\"}}, \"type\": \"parcoords\"}], \"pie\": [{\"automargin\": true, \"type\": \"pie\"}], \"scatter\": [{\"marker\": {\"colorbar\": {\"outlinewidth\": 0, \"ticks\": \"\"}}, \"type\": \"scatter\"}], \"scatter3d\": [{\"line\": {\"colorbar\": {\"outlinewidth\": 0, \"ticks\": \"\"}}, \"marker\": {\"colorbar\": {\"outlinewidth\": 0, \"ticks\": \"\"}}, \"type\": \"scatter3d\"}], \"scattercarpet\": [{\"marker\": {\"colorbar\": {\"outlinewidth\": 0, \"ticks\": \"\"}}, \"type\": \"scattercarpet\"}], \"scattergeo\": [{\"marker\": {\"colorbar\": {\"outlinewidth\": 0, \"ticks\": \"\"}}, \"type\": \"scattergeo\"}], \"scattergl\": [{\"marker\": {\"colorbar\": {\"outlinewidth\": 0, \"ticks\": \"\"}}, \"type\": \"scattergl\"}], \"scattermapbox\": [{\"marker\": {\"colorbar\": {\"outlinewidth\": 0, \"ticks\": \"\"}}, \"type\": \"scattermapbox\"}], \"scatterpolar\": [{\"marker\": {\"colorbar\": {\"outlinewidth\": 0, \"ticks\": \"\"}}, \"type\": \"scatterpolar\"}], \"scatterpolargl\": [{\"marker\": {\"colorbar\": {\"outlinewidth\": 0, \"ticks\": \"\"}}, \"type\": \"scatterpolargl\"}], \"scatterternary\": [{\"marker\": {\"colorbar\": {\"outlinewidth\": 0, \"ticks\": \"\"}}, \"type\": \"scatterternary\"}], \"surface\": [{\"colorbar\": {\"outlinewidth\": 0, \"ticks\": \"\"}, \"colorscale\": [[0.0, \"#0d0887\"], [0.1111111111111111, \"#46039f\"], [0.2222222222222222, \"#7201a8\"], [0.3333333333333333, \"#9c179e\"], [0.4444444444444444, \"#bd3786\"], [0.5555555555555556, \"#d8576b\"], [0.6666666666666666, \"#ed7953\"], [0.7777777777777778, \"#fb9f3a\"], [0.8888888888888888, \"#fdca26\"], [1.0, \"#f0f921\"]], \"type\": \"surface\"}], \"table\": [{\"cells\": {\"fill\": {\"color\": \"#EBF0F8\"}, \"line\": {\"color\": \"white\"}}, \"header\": {\"fill\": {\"color\": \"#C8D4E3\"}, \"line\": {\"color\": \"white\"}}, \"type\": \"table\"}]}, \"layout\": {\"annotationdefaults\": {\"arrowcolor\": \"#2a3f5f\", \"arrowhead\": 0, \"arrowwidth\": 1}, \"coloraxis\": {\"colorbar\": {\"outlinewidth\": 0, \"ticks\": \"\"}}, \"colorscale\": {\"diverging\": [[0, \"#8e0152\"], [0.1, \"#c51b7d\"], [0.2, \"#de77ae\"], [0.3, \"#f1b6da\"], [0.4, \"#fde0ef\"], [0.5, \"#f7f7f7\"], [0.6, \"#e6f5d0\"], [0.7, \"#b8e186\"], [0.8, \"#7fbc41\"], [0.9, \"#4d9221\"], [1, \"#276419\"]], \"sequential\": [[0.0, \"#0d0887\"], [0.1111111111111111, \"#46039f\"], [0.2222222222222222, \"#7201a8\"], [0.3333333333333333, \"#9c179e\"], [0.4444444444444444, \"#bd3786\"], [0.5555555555555556, \"#d8576b\"], [0.6666666666666666, \"#ed7953\"], [0.7777777777777778, \"#fb9f3a\"], [0.8888888888888888, \"#fdca26\"], [1.0, \"#f0f921\"]], \"sequentialminus\": [[0.0, \"#0d0887\"], [0.1111111111111111, \"#46039f\"], [0.2222222222222222, \"#7201a8\"], [0.3333333333333333, \"#9c179e\"], [0.4444444444444444, \"#bd3786\"], [0.5555555555555556, \"#d8576b\"], [0.6666666666666666, \"#ed7953\"], [0.7777777777777778, \"#fb9f3a\"], [0.8888888888888888, \"#fdca26\"], [1.0, \"#f0f921\"]]}, \"colorway\": [\"#636efa\", \"#EF553B\", \"#00cc96\", \"#ab63fa\", \"#FFA15A\", \"#19d3f3\", \"#FF6692\", \"#B6E880\", \"#FF97FF\", \"#FECB52\"], \"font\": {\"color\": \"#2a3f5f\"}, \"geo\": {\"bgcolor\": \"white\", \"lakecolor\": \"white\", \"landcolor\": \"#E5ECF6\", \"showlakes\": true, \"showland\": true, \"subunitcolor\": \"white\"}, \"hoverlabel\": {\"align\": \"left\"}, \"hovermode\": \"closest\", \"mapbox\": {\"style\": \"light\"}, \"paper_bgcolor\": \"white\", \"plot_bgcolor\": \"#E5ECF6\", \"polar\": {\"angularaxis\": {\"gridcolor\": \"white\", \"linecolor\": \"white\", \"ticks\": \"\"}, \"bgcolor\": \"#E5ECF6\", \"radialaxis\": {\"gridcolor\": \"white\", \"linecolor\": \"white\", \"ticks\": \"\"}}, \"scene\": {\"xaxis\": {\"backgroundcolor\": \"#E5ECF6\", \"gridcolor\": \"white\", \"gridwidth\": 2, \"linecolor\": \"white\", \"showbackground\": true, \"ticks\": \"\", \"zerolinecolor\": \"white\"}, \"yaxis\": {\"backgroundcolor\": \"#E5ECF6\", \"gridcolor\": \"white\", \"gridwidth\": 2, \"linecolor\": \"white\", \"showbackground\": true, \"ticks\": \"\", \"zerolinecolor\": \"white\"}, \"zaxis\": {\"backgroundcolor\": \"#E5ECF6\", \"gridcolor\": \"white\", \"gridwidth\": 2, \"linecolor\": \"white\", \"showbackground\": true, \"ticks\": \"\", \"zerolinecolor\": \"white\"}}, \"shapedefaults\": {\"line\": {\"color\": \"#2a3f5f\"}}, \"ternary\": {\"aaxis\": {\"gridcolor\": \"white\", \"linecolor\": \"white\", \"ticks\": \"\"}, \"baxis\": {\"gridcolor\": \"white\", \"linecolor\": \"white\", \"ticks\": \"\"}, \"bgcolor\": \"#E5ECF6\", \"caxis\": {\"gridcolor\": \"white\", \"linecolor\": \"white\", \"ticks\": \"\"}}, \"title\": {\"x\": 0.05}, \"xaxis\": {\"automargin\": true, \"gridcolor\": \"white\", \"linecolor\": \"white\", \"ticks\": \"\", \"title\": {\"standoff\": 15}, \"zerolinecolor\": \"white\", \"zerolinewidth\": 2}, \"yaxis\": {\"automargin\": true, \"gridcolor\": \"white\", \"linecolor\": \"white\", \"ticks\": \"\", \"title\": {\"standoff\": 15}, \"zerolinecolor\": \"white\", \"zerolinewidth\": 2}}}, \"title\": {\"text\": \"Weekly New Covid-19 Cases in Germany by Province\", \"x\": 0.5, \"xanchor\": \"center\"}, \"xaxis\": {\"title\": {\"text\": \"2020 Calendar Week\"}}, \"yaxis\": {\"title\": {\"text\": \"Weekly New Cases\"}}},\n",
       "                        {\"responsive\": true}\n",
       "                    ).then(function(){\n",
       "                            \n",
       "var gd = document.getElementById('908b4df5-f724-4716-bf7f-da4234ac55e0');\n",
       "var x = new MutationObserver(function (mutations, observer) {{\n",
       "        var display = window.getComputedStyle(gd).display;\n",
       "        if (!display || display === 'none') {{\n",
       "            console.log([gd, 'removed!']);\n",
       "            Plotly.purge(gd);\n",
       "            observer.disconnect();\n",
       "        }}\n",
       "}});\n",
       "\n",
       "// Listen for the removal of the full notebook cells\n",
       "var notebookContainer = gd.closest('#notebook-container');\n",
       "if (notebookContainer) {{\n",
       "    x.observe(notebookContainer, {childList: true});\n",
       "}}\n",
       "\n",
       "// Listen for the clearing of the current output cell\n",
       "var outputEl = gd.closest('.output');\n",
       "if (outputEl) {{\n",
       "    x.observe(outputEl, {childList: true});\n",
       "}}\n",
       "\n",
       "                        })\n",
       "                };\n",
       "                });\n",
       "            </script>\n",
       "        </div>"
      ]
     },
     "metadata": {},
     "output_type": "display_data"
    }
   ],
   "source": [
    "# Y_VAR = 'cases_per_cap'\n",
    "Y_VAR = 'AnzahlFall'\n",
    "\n",
    "fig = go.Figure()\n",
    "\n",
    "value_repo = {}\n",
    "\n",
    "stackr = {}\n",
    "for i in np.unique(plot_data.week_no):\n",
    "    stackr[i] = 0\n",
    "\n",
    "bl_range = range(1,17) #parametrized here in order to change order etc\n",
    "    \n",
    "for bl in bl_range:\n",
    "    \n",
    "    df_bl = plot_data[plot_data.Bundesland==bl]\n",
    "\n",
    "    X_all = []\n",
    "    Y_all = []\n",
    "    X_lockdown = []\n",
    "    Y_lockdown = []\n",
    "    X_summer = []\n",
    "    Y_summer = []\n",
    "\n",
    "    for i, val in df_bl.iterrows():\n",
    "\n",
    "        x_ = val.week_no\n",
    "        stackr[x_] += val[Y_VAR]\n",
    "        y_ = stackr[x_]\n",
    "\n",
    "        X_all.append(x_)\n",
    "        Y_all.append(y_)\n",
    "\n",
    "        if val.active_lockdown:\n",
    "            X_lockdown.append(x_)\n",
    "            Y_lockdown.append(y_)\n",
    "\n",
    "        if val.summer_vac:\n",
    "            X_summer.append(x_)\n",
    "            Y_summer.append(y_)\n",
    "            \n",
    "        \n",
    "    value_repo[bl] = {'all':pd.Series(Y_all,index=X_all),\n",
    "                      'Active Lockdown':pd.Series(Y_lockdown,index=X_lockdown),\n",
    "                      'Summer Vacation':pd.Series(Y_summer,index=X_summer)}\n",
    "\n",
    "    \n",
    "def add_areas(bl, timeslice, color):\n",
    "    \n",
    "    suppl_line_attrs = {'mode':'lines','line_width':0,'hoverinfo':'none'}\n",
    "    \n",
    "    not_first = bl != bl_range[0]\n",
    "    \n",
    "    if not_first:#this creates invisible lines for the areas to fill down towards, otherwise area borders are not vertical\n",
    "        last_y = value_repo[bl-1]['all']\n",
    "        last_y = last_y[last_y.index.isin(vals[timeslice].index)]\n",
    "        \n",
    "        fig.add_trace(go.Scatter(x=vals[timeslice].index,\n",
    "                                 y=last_y,\n",
    "                                 fill=None,\n",
    "                                 showlegend=False,\n",
    "                                 **suppl_line_attrs))\n",
    "    \n",
    "    fig.add_trace(go.Scatter(x=vals[timeslice].index,\n",
    "                             y=vals[timeslice],\n",
    "                             fill='tonexty' if not_first else 'tozeroy',\n",
    "                             #explicit tozeroy, because we add traces per BL multiple times,\n",
    "                             name=None if not_first else timeslice,\n",
    "                             showlegend= not not_first,\n",
    "                             line_color=color,\n",
    "                             **suppl_line_attrs))\n",
    "    \n",
    "for bl in bl_range: #not iter directly over dict to potentially change order\n",
    "    vals = value_repo[bl]\n",
    "    #now summer\n",
    "    add_areas(bl, 'Summer Vacation', 'blue')\n",
    "    \n",
    "    #now the lockdown\n",
    "    add_areas(bl, 'Active Lockdown', 'red')\n",
    "    \n",
    "    \n",
    "    #now rest\n",
    "    fig.add_trace(go.Scatter(x=vals['all'].index,\n",
    "                             y=vals['all'],\n",
    "                             fill=None,\n",
    "                             showlegend=False,\n",
    "                             line_color='black',\n",
    "                             line_width=.9,\n",
    "                             mode='lines',\n",
    "                             hoverinfo='none'))\n",
    "\n",
    "fig.update_layout(\n",
    "    title=dict(\n",
    "        text=\"Weekly New Covid-19 Cases in Germany by Province\",\n",
    "        xanchor='center',\n",
    "        x=.5),\n",
    "    xaxis_title=\"2020 Calendar Week\",\n",
    "    yaxis_title=\"Weekly New Cases\",\n",
    "    legend_title=\"Period of Analysis:   \",\n",
    "    legend=dict(\n",
    "        orientation=\"h\",\n",
    "        yanchor=\"bottom\",\n",
    "        y=1,\n",
    "        xanchor=\"center\",\n",
    "        x=0.5\n",
    "    ),\n",
    "    font=dict(\n",
    "        size=18,\n",
    "        color=\"black\"\n",
    "    )\n",
    ")\n",
    "fig.show()\n"
   ]
  }
 ],
 "metadata": {
  "kernelspec": {
   "display_name": "Python 3",
   "language": "python",
   "name": "python3"
  },
  "language_info": {
   "codemirror_mode": {
    "name": "ipython",
    "version": 3
   },
   "file_extension": ".py",
   "mimetype": "text/x-python",
   "name": "python",
   "nbconvert_exporter": "python",
   "pygments_lexer": "ipython3",
   "version": "3.7.6"
  }
 },
 "nbformat": 4,
 "nbformat_minor": 4
}
