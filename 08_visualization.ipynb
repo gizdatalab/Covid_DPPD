{
 "cells": [
  {
   "cell_type": "code",
   "execution_count": 1,
   "metadata": {},
   "outputs": [],
   "source": [
    "import datetime as dt\n",
    "import numpy as np\n",
    "import pandas as pd\n",
    "import plotly.graph_objects as go\n",
    "import matplotlib.pyplot as plt\n",
    "from matplotlib.ticker import StrMethodFormatter\n",
    "import seaborn as sns"
   ]
  },
  {
   "cell_type": "code",
   "execution_count": 2,
   "metadata": {},
   "outputs": [],
   "source": [
    "all_data = pd.read_csv('all_data_with_intervals.csv')[['Bundesland','week_no','summer_vac','active_lockdown','total_population']]\n",
    "populations = all_data.groupby('Bundesland')['total_population'].sum().reset_index()\n",
    "intervals = all_data.drop(columns='total_population').drop_duplicates()"
   ]
  },
  {
   "cell_type": "code",
   "execution_count": 3,
   "metadata": {},
   "outputs": [],
   "source": [
    "rki_weekly = pd.read_csv('rki_weekly.csv')\n",
    "rki_weekly['Bundesland'] = rki_weekly.districtId // 1000\n",
    "state_wise = rki_weekly.groupby(['Bundesland','week_no'])['AnzahlFall'].sum().reset_index().merge(populations)\n",
    "state_wise['cases_per_cap'] = state_wise.AnzahlFall / state_wise.total_population"
   ]
  },
  {
   "cell_type": "code",
   "execution_count": 22,
   "metadata": {},
   "outputs": [],
   "source": [
    "plot_data = pd.merge(state_wise, intervals, how='outer')\n",
    "plot_data.fillna(value=False,inplace=True)\n",
    "plot_data = plot_data[plot_data.week_no.between(6,39)].copy()#our model was only until week 38, with RF looking ahead 1 week\n",
    "plot_lockdown = plot_data[plot_data.active_lockdown].copy()\n",
    "plot_summer = plot_data[plot_data.summer_vac].copy()"
   ]
  },
  {
   "cell_type": "code",
   "execution_count": 59,
   "metadata": {
    "scrolled": false
   },
   "outputs": [
    {
     "data": {
      "application/vnd.plotly.v1+json": {
       "config": {
        "plotlyServerURL": "https://plot.ly"
       },
       "data": [
        {
         "fill": "tozeroy",
         "hoverinfo": "none",
         "line": {
          "color": "blue",
          "width": 0
         },
         "mode": "lines",
         "name": "Summer Vacation",
         "showlegend": true,
         "type": "scatter",
         "x": [
          27,
          28,
          29,
          30,
          31,
          32,
          33
         ],
         "y": [
          37,
          23,
          50,
          66,
          152,
          118,
          201
         ]
        },
        {
         "fill": "tozeroy",
         "hoverinfo": "none",
         "line": {
          "color": "red",
          "width": 0
         },
         "mode": "lines",
         "name": "Active Lockdown",
         "showlegend": true,
         "type": "scatter",
         "x": [
          12,
          13,
          14,
          15,
          16,
          17,
          18,
          19,
          20,
          21
         ],
         "y": [
          345,
          619,
          614,
          446,
          282,
          202,
          144,
          174,
          48,
          64
         ]
        },
        {
         "hoverinfo": "none",
         "line": {
          "color": "black",
          "width": 0.9
         },
         "mode": "lines",
         "showlegend": false,
         "type": "scatter",
         "x": [
          6,
          7,
          8,
          9,
          10,
          11,
          12,
          13,
          14,
          15,
          16,
          17,
          18,
          19,
          20,
          21,
          22,
          23,
          24,
          25,
          26,
          27,
          28,
          29,
          30,
          31,
          32,
          33,
          34,
          35,
          36,
          37,
          38,
          39
         ],
         "y": [
          0,
          0,
          0,
          2,
          7,
          119,
          345,
          619,
          614,
          446,
          282,
          202,
          144,
          174,
          48,
          64,
          34,
          11,
          9,
          17,
          16,
          37,
          23,
          50,
          66,
          152,
          118,
          201,
          113,
          122,
          99,
          109,
          203,
          250
         ]
        },
        {
         "hoverinfo": "none",
         "line": {
          "width": 0
         },
         "mode": "lines",
         "showlegend": false,
         "type": "scatter",
         "x": [
          27,
          28,
          29,
          30,
          31,
          32,
          33
         ],
         "y": [
          37,
          23,
          50,
          66,
          152,
          118,
          201
         ]
        },
        {
         "fill": "tonexty",
         "hoverinfo": "none",
         "line": {
          "color": "blue",
          "width": 0
         },
         "mode": "lines",
         "showlegend": false,
         "type": "scatter",
         "x": [
          27,
          28,
          29,
          30,
          31,
          32,
          33
         ],
         "y": [
          58,
          37,
          67,
          157,
          267,
          397,
          390
         ]
        },
        {
         "hoverinfo": "none",
         "line": {
          "width": 0
         },
         "mode": "lines",
         "showlegend": false,
         "type": "scatter",
         "x": [
          12,
          13,
          14,
          15,
          16,
          17,
          18,
          19,
          20,
          21
         ],
         "y": [
          345,
          619,
          614,
          446,
          282,
          202,
          144,
          174,
          48,
          64
         ]
        },
        {
         "fill": "tonexty",
         "hoverinfo": "none",
         "line": {
          "color": "red",
          "width": 0
         },
         "mode": "lines",
         "showlegend": false,
         "type": "scatter",
         "x": [
          12,
          13,
          14,
          15,
          16,
          17,
          18,
          19,
          20,
          21
         ],
         "y": [
          1280,
          1692,
          1522,
          1202,
          724,
          492,
          281,
          267,
          97,
          89
         ]
        },
        {
         "hoverinfo": "none",
         "line": {
          "color": "black",
          "width": 0.9
         },
         "mode": "lines",
         "showlegend": false,
         "type": "scatter",
         "x": [
          6,
          7,
          8,
          9,
          10,
          11,
          12,
          13,
          14,
          15,
          16,
          17,
          18,
          19,
          20,
          21,
          22,
          23,
          24,
          25,
          26,
          27,
          28,
          29,
          30,
          31,
          32,
          33,
          34,
          35,
          36,
          37,
          38,
          39
         ],
         "y": [
          0,
          0,
          0,
          4,
          28,
          435,
          1280,
          1692,
          1522,
          1202,
          724,
          492,
          281,
          267,
          97,
          89,
          51,
          37,
          33,
          48,
          60,
          58,
          37,
          67,
          157,
          267,
          397,
          390,
          298,
          325,
          368,
          426,
          603,
          760
         ]
        },
        {
         "hoverinfo": "none",
         "line": {
          "width": 0
         },
         "mode": "lines",
         "showlegend": false,
         "type": "scatter",
         "x": [
          30,
          31,
          32,
          33,
          34,
          35,
          36
         ],
         "y": [
          157,
          267,
          397,
          390,
          298,
          325,
          368
         ]
        },
        {
         "fill": "tonexty",
         "hoverinfo": "none",
         "line": {
          "color": "blue",
          "width": 0
         },
         "mode": "lines",
         "showlegend": false,
         "type": "scatter",
         "x": [
          30,
          31,
          32,
          33,
          34,
          35,
          36
         ],
         "y": [
          403,
          606,
          821,
          888,
          967,
          953,
          914
         ]
        },
        {
         "hoverinfo": "none",
         "line": {
          "width": 0
         },
         "mode": "lines",
         "showlegend": false,
         "type": "scatter",
         "x": [
          12,
          13,
          14,
          15,
          16,
          17,
          18,
          19,
          20,
          21
         ],
         "y": [
          1280,
          1692,
          1522,
          1202,
          724,
          492,
          281,
          267,
          97,
          89
         ]
        },
        {
         "fill": "tonexty",
         "hoverinfo": "none",
         "line": {
          "color": "red",
          "width": 0
         },
         "mode": "lines",
         "showlegend": false,
         "type": "scatter",
         "x": [
          12,
          13,
          14,
          15,
          16,
          17,
          18,
          19,
          20,
          21
         ],
         "y": [
          2685,
          3913,
          3648,
          2989,
          1874,
          1322,
          714,
          730,
          387,
          506
         ]
        },
        {
         "hoverinfo": "none",
         "line": {
          "color": "black",
          "width": 0.9
         },
         "mode": "lines",
         "showlegend": false,
         "type": "scatter",
         "x": [
          6,
          7,
          8,
          9,
          10,
          11,
          12,
          13,
          14,
          15,
          16,
          17,
          18,
          19,
          20,
          21,
          22,
          23,
          24,
          25,
          26,
          27,
          28,
          29,
          30,
          31,
          32,
          33,
          34,
          35,
          36,
          37,
          38,
          39
         ],
         "y": [
          1,
          0,
          0,
          5,
          65,
          852,
          2685,
          3913,
          3648,
          2989,
          1874,
          1322,
          714,
          730,
          387,
          506,
          499,
          541,
          396,
          414,
          304,
          239,
          128,
          299,
          403,
          606,
          821,
          888,
          967,
          953,
          914,
          1105,
          1639,
          1766
         ]
        },
        {
         "hoverinfo": "none",
         "line": {
          "width": 0
         },
         "mode": "lines",
         "showlegend": false,
         "type": "scatter",
         "x": [
          25,
          26,
          27,
          28,
          29,
          30,
          31
         ],
         "y": [
          414,
          304,
          239,
          128,
          299,
          403,
          606
         ]
        },
        {
         "fill": "tonexty",
         "hoverinfo": "none",
         "line": {
          "color": "blue",
          "width": 0
         },
         "mode": "lines",
         "showlegend": false,
         "type": "scatter",
         "x": [
          25,
          26,
          27,
          28,
          29,
          30,
          31
         ],
         "y": [
          469,
          318,
          257,
          139,
          329,
          430,
          641
         ]
        },
        {
         "hoverinfo": "none",
         "line": {
          "width": 0
         },
         "mode": "lines",
         "showlegend": false,
         "type": "scatter",
         "x": [
          12,
          13,
          14,
          15,
          16,
          17,
          18,
          19,
          20,
          21
         ],
         "y": [
          2685,
          3913,
          3648,
          2989,
          1874,
          1322,
          714,
          730,
          387,
          506
         ]
        },
        {
         "fill": "tonexty",
         "hoverinfo": "none",
         "line": {
          "color": "red",
          "width": 0
         },
         "mode": "lines",
         "showlegend": false,
         "type": "scatter",
         "x": [
          12,
          13,
          14,
          15,
          16,
          17,
          18,
          19,
          20,
          21
         ],
         "y": [
          2798,
          4032,
          3751,
          3080,
          1988,
          1517,
          861,
          895,
          512,
          590
         ]
        },
        {
         "hoverinfo": "none",
         "line": {
          "color": "black",
          "width": 0.9
         },
         "mode": "lines",
         "showlegend": false,
         "type": "scatter",
         "x": [
          6,
          7,
          8,
          9,
          10,
          11,
          12,
          13,
          14,
          15,
          16,
          17,
          18,
          19,
          20,
          21,
          22,
          23,
          24,
          25,
          26,
          27,
          28,
          29,
          30,
          31,
          32,
          33,
          34,
          35,
          36,
          37,
          38,
          39
         ],
         "y": [
          1,
          0,
          0,
          6,
          68,
          903,
          2798,
          4032,
          3751,
          3080,
          1988,
          1517,
          861,
          895,
          512,
          590,
          624,
          640,
          456,
          469,
          318,
          257,
          139,
          329,
          430,
          641,
          843,
          929,
          1026,
          1039,
          993,
          1169,
          1721,
          1917
         ]
        },
        {
         "hoverinfo": "none",
         "line": {
          "width": 0
         },
         "mode": "lines",
         "showlegend": false,
         "type": "scatter",
         "x": [
          27,
          28,
          29,
          30,
          31,
          32,
          33
         ],
         "y": [
          257,
          139,
          329,
          430,
          641,
          843,
          929
         ]
        },
        {
         "fill": "tonexty",
         "hoverinfo": "none",
         "line": {
          "color": "blue",
          "width": 0
         },
         "mode": "lines",
         "showlegend": false,
         "type": "scatter",
         "x": [
          27,
          28,
          29,
          30,
          31,
          32,
          33
         ],
         "y": [
          1372,
          1064,
          1470,
          1904,
          2535,
          3265,
          3803
         ]
        },
        {
         "hoverinfo": "none",
         "line": {
          "width": 0
         },
         "mode": "lines",
         "showlegend": false,
         "type": "scatter",
         "x": [
          12,
          13,
          14,
          15,
          16,
          17,
          18,
          19,
          20,
          21
         ],
         "y": [
          2798,
          4032,
          3751,
          3080,
          1988,
          1517,
          861,
          895,
          512,
          590
         ]
        },
        {
         "fill": "tonexty",
         "hoverinfo": "none",
         "line": {
          "color": "red",
          "width": 0
         },
         "mode": "lines",
         "showlegend": false,
         "type": "scatter",
         "x": [
          12,
          13,
          14,
          15,
          16,
          17,
          18,
          19,
          20,
          21
         ],
         "y": [
          8175,
          10279,
          10188,
          8510,
          5645,
          4095,
          2484,
          2451,
          1789,
          1461
         ]
        },
        {
         "hoverinfo": "none",
         "line": {
          "color": "black",
          "width": 0.9
         },
         "mode": "lines",
         "showlegend": false,
         "type": "scatter",
         "x": [
          6,
          7,
          8,
          9,
          10,
          11,
          12,
          13,
          14,
          15,
          16,
          17,
          18,
          19,
          20,
          21,
          22,
          23,
          24,
          25,
          26,
          27,
          28,
          29,
          30,
          31,
          32,
          33,
          34,
          35,
          36,
          37,
          38,
          39
         ],
         "y": [
          1,
          1,
          1,
          101,
          454,
          2645,
          8175,
          10279,
          10188,
          8510,
          5645,
          4095,
          2484,
          2451,
          1789,
          1461,
          1384,
          1277,
          1147,
          2521,
          1895,
          1372,
          1064,
          1470,
          1904,
          2535,
          3265,
          3803,
          3316,
          2775,
          2691,
          3174,
          4662,
          5461
         ]
        },
        {
         "hoverinfo": "none",
         "line": {
          "width": 0
         },
         "mode": "lines",
         "showlegend": false,
         "type": "scatter",
         "x": [
          28,
          29,
          30,
          31,
          32,
          33,
          34
         ],
         "y": [
          1064,
          1470,
          1904,
          2535,
          3265,
          3803,
          3316
         ]
        },
        {
         "fill": "tonexty",
         "hoverinfo": "none",
         "line": {
          "color": "blue",
          "width": 0
         },
         "mode": "lines",
         "showlegend": false,
         "type": "scatter",
         "x": [
          28,
          29,
          30,
          31,
          32,
          33,
          34
         ],
         "y": [
          1284,
          1709,
          2196,
          2979,
          3863,
          4600,
          4457
         ]
        },
        {
         "hoverinfo": "none",
         "line": {
          "width": 0
         },
         "mode": "lines",
         "showlegend": false,
         "type": "scatter",
         "x": [
          12,
          13,
          14,
          15,
          16,
          17,
          18,
          19,
          20,
          21
         ],
         "y": [
          8175,
          10279,
          10188,
          8510,
          5645,
          4095,
          2484,
          2451,
          1789,
          1461
         ]
        },
        {
         "fill": "tonexty",
         "hoverinfo": "none",
         "line": {
          "color": "red",
          "width": 0
         },
         "mode": "lines",
         "showlegend": false,
         "type": "scatter",
         "x": [
          12,
          13,
          14,
          15,
          16,
          17,
          18,
          19,
          20,
          21
         ],
         "y": [
          9301,
          11971,
          11786,
          9904,
          6708,
          4859,
          3062,
          2904,
          2197,
          1842
         ]
        },
        {
         "hoverinfo": "none",
         "line": {
          "color": "black",
          "width": 0.9
         },
         "mode": "lines",
         "showlegend": false,
         "type": "scatter",
         "x": [
          6,
          7,
          8,
          9,
          10,
          11,
          12,
          13,
          14,
          15,
          16,
          17,
          18,
          19,
          20,
          21,
          22,
          23,
          24,
          25,
          26,
          27,
          28,
          29,
          30,
          31,
          32,
          33,
          34,
          35,
          36,
          37,
          38,
          39
         ],
         "y": [
          1,
          1,
          1,
          106,
          475,
          2940,
          9301,
          11971,
          11786,
          9904,
          6708,
          4859,
          3062,
          2904,
          2197,
          1842,
          1677,
          1419,
          1296,
          2760,
          2069,
          1559,
          1284,
          1709,
          2196,
          2979,
          3863,
          4600,
          4457,
          3567,
          3391,
          3893,
          5411,
          6493
         ]
        },
        {
         "hoverinfo": "none",
         "line": {
          "width": 0
         },
         "mode": "lines",
         "showlegend": false,
         "type": "scatter",
         "x": [
          28,
          29,
          30,
          31,
          32,
          33,
          34
         ],
         "y": [
          1284,
          1709,
          2196,
          2979,
          3863,
          4600,
          4457
         ]
        },
        {
         "fill": "tonexty",
         "hoverinfo": "none",
         "line": {
          "color": "blue",
          "width": 0
         },
         "mode": "lines",
         "showlegend": false,
         "type": "scatter",
         "x": [
          28,
          29,
          30,
          31,
          32,
          33,
          34
         ],
         "y": [
          1383,
          1851,
          2301,
          3101,
          4149,
          4961,
          4938
         ]
        },
        {
         "hoverinfo": "none",
         "line": {
          "width": 0
         },
         "mode": "lines",
         "showlegend": false,
         "type": "scatter",
         "x": [
          12,
          13,
          14,
          15,
          16,
          17,
          18,
          19,
          20,
          21
         ],
         "y": [
          9301,
          11971,
          11786,
          9904,
          6708,
          4859,
          3062,
          2904,
          2197,
          1842
         ]
        },
        {
         "fill": "tonexty",
         "hoverinfo": "none",
         "line": {
          "color": "red",
          "width": 0
         },
         "mode": "lines",
         "showlegend": false,
         "type": "scatter",
         "x": [
          12,
          13,
          14,
          15,
          16,
          17,
          18,
          19,
          20,
          21
         ],
         "y": [
          10324,
          13336,
          13031,
          10826,
          7357,
          5217,
          3300,
          3098,
          2368,
          1939
         ]
        },
        {
         "hoverinfo": "none",
         "line": {
          "color": "black",
          "width": 0.9
         },
         "mode": "lines",
         "showlegend": false,
         "type": "scatter",
         "x": [
          6,
          7,
          8,
          9,
          10,
          11,
          12,
          13,
          14,
          15,
          16,
          17,
          18,
          19,
          20,
          21,
          22,
          23,
          24,
          25,
          26,
          27,
          28,
          29,
          30,
          31,
          32,
          33,
          34,
          35,
          36,
          37,
          38,
          39
         ],
         "y": [
          1,
          1,
          1,
          108,
          488,
          3260,
          10324,
          13336,
          13031,
          10826,
          7357,
          5217,
          3300,
          3098,
          2368,
          1939,
          1785,
          1503,
          1350,
          2833,
          2144,
          1654,
          1383,
          1851,
          2301,
          3101,
          4149,
          4961,
          4938,
          3980,
          3699,
          4274,
          5779,
          6952
         ]
        },
        {
         "hoverinfo": "none",
         "line": {
          "width": 0
         },
         "mode": "lines",
         "showlegend": false,
         "type": "scatter",
         "x": [
          31,
          32,
          33,
          34,
          35,
          36,
          37
         ],
         "y": [
          3101,
          4149,
          4961,
          4938,
          3980,
          3699,
          4274
         ]
        },
        {
         "fill": "tonexty",
         "hoverinfo": "none",
         "line": {
          "color": "blue",
          "width": 0
         },
         "mode": "lines",
         "showlegend": false,
         "type": "scatter",
         "x": [
          31,
          32,
          33,
          34,
          35,
          36,
          37
         ],
         "y": [
          3593,
          4600,
          5737,
          6617,
          5759,
          5404,
          5912
         ]
        },
        {
         "hoverinfo": "none",
         "line": {
          "width": 0
         },
         "mode": "lines",
         "showlegend": false,
         "type": "scatter",
         "x": [
          12,
          13,
          14,
          15,
          16,
          17,
          18,
          19,
          20,
          21
         ],
         "y": [
          10324,
          13336,
          13031,
          10826,
          7357,
          5217,
          3300,
          3098,
          2368,
          1939
         ]
        },
        {
         "fill": "tonexty",
         "hoverinfo": "none",
         "line": {
          "color": "red",
          "width": 0
         },
         "mode": "lines",
         "showlegend": false,
         "type": "scatter",
         "x": [
          12,
          13,
          14,
          15,
          16,
          17,
          18,
          19,
          20,
          21
         ],
         "y": [
          14778,
          20501,
          20474,
          16078,
          10545,
          7631,
          4503,
          3994,
          2978,
          2340
         ]
        },
        {
         "hoverinfo": "none",
         "line": {
          "color": "black",
          "width": 0.9
         },
         "mode": "lines",
         "showlegend": false,
         "type": "scatter",
         "x": [
          6,
          7,
          8,
          9,
          10,
          11,
          12,
          13,
          14,
          15,
          16,
          17,
          18,
          19,
          20,
          21,
          22,
          23,
          24,
          25,
          26,
          27,
          28,
          29,
          30,
          31,
          32,
          33,
          34,
          35,
          36,
          37,
          38,
          39
         ],
         "y": [
          1,
          1,
          1,
          128,
          698,
          4588,
          14778,
          20501,
          20474,
          16078,
          10545,
          7631,
          4503,
          3994,
          2978,
          2340,
          2091,
          1682,
          1519,
          3021,
          2407,
          1861,
          1633,
          2231,
          2788,
          3593,
          4600,
          5737,
          6617,
          5759,
          5404,
          5912,
          7686,
          8745
         ]
        },
        {
         "hoverinfo": "none",
         "line": {
          "width": 0
         },
         "mode": "lines",
         "showlegend": false,
         "type": "scatter",
         "x": [
          31,
          32,
          33,
          34,
          35,
          36,
          37
         ],
         "y": [
          3593,
          4600,
          5737,
          6617,
          5759,
          5404,
          5912
         ]
        },
        {
         "fill": "tonexty",
         "hoverinfo": "none",
         "line": {
          "color": "blue",
          "width": 0
         },
         "mode": "lines",
         "showlegend": false,
         "type": "scatter",
         "x": [
          31,
          32,
          33,
          34,
          35,
          36,
          37
         ],
         "y": [
          4276,
          5304,
          7007,
          8701,
          7907,
          7640,
          8567
         ]
        },
        {
         "hoverinfo": "none",
         "line": {
          "width": 0
         },
         "mode": "lines",
         "showlegend": false,
         "type": "scatter",
         "x": [
          12,
          13,
          14,
          15,
          16,
          17,
          18,
          19,
          20,
          21
         ],
         "y": [
          14778,
          20501,
          20474,
          16078,
          10545,
          7631,
          4503,
          3994,
          2978,
          2340
         ]
        },
        {
         "fill": "tonexty",
         "hoverinfo": "none",
         "line": {
          "color": "red",
          "width": 0
         },
         "mode": "lines",
         "showlegend": false,
         "type": "scatter",
         "x": [
          12,
          13,
          14,
          15,
          16,
          17,
          18,
          19,
          20,
          21
         ],
         "y": [
          19627,
          29754,
          31361,
          23673,
          15267,
          10699,
          6249,
          5279,
          4067,
          3112
         ]
        },
        {
         "hoverinfo": "none",
         "line": {
          "color": "black",
          "width": 0.9
         },
         "mode": "lines",
         "showlegend": false,
         "type": "scatter",
         "x": [
          6,
          7,
          8,
          9,
          10,
          11,
          12,
          13,
          14,
          15,
          16,
          17,
          18,
          19,
          20,
          21,
          22,
          23,
          24,
          25,
          26,
          27,
          28,
          29,
          30,
          31,
          32,
          33,
          34,
          35,
          36,
          37,
          38,
          39
         ],
         "y": [
          7,
          4,
          1,
          137,
          830,
          5694,
          19627,
          29754,
          31361,
          23673,
          15267,
          10699,
          6249,
          5279,
          4067,
          3112,
          2714,
          1996,
          1787,
          3289,
          2771,
          2321,
          2133,
          2753,
          3502,
          4276,
          5304,
          7007,
          8701,
          7907,
          7640,
          8567,
          10617,
          11020
         ]
        },
        {
         "hoverinfo": "none",
         "line": {
          "width": 0
         },
         "mode": "lines",
         "showlegend": false,
         "type": "scatter",
         "x": [
          28,
          29,
          30,
          31,
          32,
          33,
          34
         ],
         "y": [
          2133,
          2753,
          3502,
          4276,
          5304,
          7007,
          8701
         ]
        },
        {
         "fill": "tonexty",
         "hoverinfo": "none",
         "line": {
          "color": "blue",
          "width": 0
         },
         "mode": "lines",
         "showlegend": false,
         "type": "scatter",
         "x": [
          28,
          29,
          30,
          31,
          32,
          33,
          34
         ],
         "y": [
          2146,
          2769,
          3526,
          4309,
          5342,
          7082,
          8774
         ]
        },
        {
         "hoverinfo": "none",
         "line": {
          "width": 0
         },
         "mode": "lines",
         "showlegend": false,
         "type": "scatter",
         "x": [
          12,
          13,
          14,
          15,
          16,
          17,
          18,
          19,
          20,
          21
         ],
         "y": [
          19627,
          29754,
          31361,
          23673,
          15267,
          10699,
          6249,
          5279,
          4067,
          3112
         ]
        },
        {
         "fill": "tonexty",
         "hoverinfo": "none",
         "line": {
          "color": "red",
          "width": 0
         },
         "mode": "lines",
         "showlegend": false,
         "type": "scatter",
         "x": [
          12,
          13,
          14,
          15,
          16,
          17,
          18,
          19,
          20,
          21
         ],
         "y": [
          19883,
          30171,
          32133,
          24243,
          15480,
          10869,
          6334,
          5319,
          4099,
          3133
         ]
        },
        {
         "hoverinfo": "none",
         "line": {
          "color": "black",
          "width": 0.9
         },
         "mode": "lines",
         "showlegend": false,
         "type": "scatter",
         "x": [
          6,
          7,
          8,
          9,
          10,
          11,
          12,
          13,
          14,
          15,
          16,
          17,
          18,
          19,
          20,
          21,
          22,
          23,
          24,
          25,
          26,
          27,
          28,
          29,
          30,
          31,
          32,
          33,
          34,
          35,
          36,
          37,
          38,
          39
         ],
         "y": [
          7,
          4,
          1,
          138,
          831,
          5770,
          19883,
          30171,
          32133,
          24243,
          15480,
          10869,
          6334,
          5319,
          4099,
          3133,
          2738,
          2019,
          1810,
          3296,
          2778,
          2324,
          2146,
          2769,
          3526,
          4309,
          5342,
          7082,
          8774,
          7979,
          7687,
          8612,
          10680,
          11084
         ]
        },
        {
         "hoverinfo": "none",
         "line": {
          "width": 0
         },
         "mode": "lines",
         "showlegend": false,
         "type": "scatter",
         "x": [
          27,
          28,
          29,
          30,
          31,
          32,
          33
         ],
         "y": [
          2324,
          2146,
          2769,
          3526,
          4309,
          5342,
          7082
         ]
        },
        {
         "fill": "tonexty",
         "hoverinfo": "none",
         "line": {
          "color": "blue",
          "width": 0
         },
         "mode": "lines",
         "showlegend": false,
         "type": "scatter",
         "x": [
          27,
          28,
          29,
          30,
          31,
          32,
          33
         ],
         "y": [
          2589,
          2335,
          2901,
          3747,
          4643,
          5724,
          7623
         ]
        },
        {
         "hoverinfo": "none",
         "line": {
          "width": 0
         },
         "mode": "lines",
         "showlegend": false,
         "type": "scatter",
         "x": [
          12,
          13,
          14,
          15,
          16,
          17,
          18,
          19,
          20,
          21
         ],
         "y": [
          19883,
          30171,
          32133,
          24243,
          15480,
          10869,
          6334,
          5319,
          4099,
          3133
         ]
        },
        {
         "fill": "tonexty",
         "hoverinfo": "none",
         "line": {
          "color": "red",
          "width": 0
         },
         "mode": "lines",
         "showlegend": false,
         "type": "scatter",
         "x": [
          12,
          13,
          14,
          15,
          16,
          17,
          18,
          19,
          20,
          21
         ],
         "y": [
          20731,
          31549,
          33363,
          25166,
          16055,
          11307,
          6682,
          5569,
          4296,
          3317
         ]
        },
        {
         "hoverinfo": "none",
         "line": {
          "color": "black",
          "width": 0.9
         },
         "mode": "lines",
         "showlegend": false,
         "type": "scatter",
         "x": [
          6,
          7,
          8,
          9,
          10,
          11,
          12,
          13,
          14,
          15,
          16,
          17,
          18,
          19,
          20,
          21,
          22,
          23,
          24,
          25,
          26,
          27,
          28,
          29,
          30,
          31,
          32,
          33,
          34,
          35,
          36,
          37,
          38,
          39
         ],
         "y": [
          7,
          4,
          1,
          138,
          867,
          6029,
          20731,
          31549,
          33363,
          25166,
          16055,
          11307,
          6682,
          5569,
          4296,
          3317,
          2929,
          2208,
          2148,
          3806,
          3092,
          2589,
          2335,
          2901,
          3747,
          4643,
          5724,
          7623,
          9240,
          8457,
          8209,
          9186,
          11520,
          12173
         ]
        },
        {
         "hoverinfo": "none",
         "line": {
          "width": 0
         },
         "mode": "lines",
         "showlegend": false,
         "type": "scatter",
         "x": [
          27,
          28,
          29,
          30,
          31,
          32,
          33
         ],
         "y": [
          2589,
          2335,
          2901,
          3747,
          4643,
          5724,
          7623
         ]
        },
        {
         "fill": "tonexty",
         "hoverinfo": "none",
         "line": {
          "color": "blue",
          "width": 0
         },
         "mode": "lines",
         "showlegend": false,
         "type": "scatter",
         "x": [
          27,
          28,
          29,
          30,
          31,
          32,
          33
         ],
         "y": [
          2631,
          2355,
          2927,
          3808,
          4675,
          5792,
          7686
         ]
        },
        {
         "hoverinfo": "none",
         "line": {
          "width": 0
         },
         "mode": "lines",
         "showlegend": false,
         "type": "scatter",
         "x": [
          12,
          13,
          14,
          15,
          16,
          17,
          18,
          19,
          20,
          21
         ],
         "y": [
          20731,
          31549,
          33363,
          25166,
          16055,
          11307,
          6682,
          5569,
          4296,
          3317
         ]
        },
        {
         "fill": "tonexty",
         "hoverinfo": "none",
         "line": {
          "color": "red",
          "width": 0
         },
         "mode": "lines",
         "showlegend": false,
         "type": "scatter",
         "x": [
          12,
          13,
          14,
          15,
          16,
          17,
          18,
          19,
          20,
          21
         ],
         "y": [
          21027,
          31976,
          33973,
          25748,
          16449,
          11636,
          6913,
          5695,
          4358,
          3354
         ]
        },
        {
         "hoverinfo": "none",
         "line": {
          "color": "black",
          "width": 0.9
         },
         "mode": "lines",
         "showlegend": false,
         "type": "scatter",
         "x": [
          6,
          7,
          8,
          9,
          10,
          11,
          12,
          13,
          14,
          15,
          16,
          17,
          18,
          19,
          20,
          21,
          22,
          23,
          24,
          25,
          26,
          27,
          28,
          29,
          30,
          31,
          32,
          33,
          34,
          35,
          36,
          37,
          38,
          39
         ],
         "y": [
          7,
          4,
          1,
          139,
          873,
          6131,
          21027,
          31976,
          33973,
          25748,
          16449,
          11636,
          6913,
          5695,
          4358,
          3354,
          2962,
          2225,
          2180,
          3879,
          3131,
          2631,
          2355,
          2927,
          3808,
          4675,
          5792,
          7686,
          9342,
          8525,
          8269,
          9267,
          11609,
          12305
         ]
        },
        {
         "hoverinfo": "none",
         "line": {
          "width": 0
         },
         "mode": "lines",
         "showlegend": false,
         "type": "scatter",
         "x": [
          26,
          27,
          28,
          29,
          30,
          31,
          32
         ],
         "y": [
          3131,
          2631,
          2355,
          2927,
          3808,
          4675,
          5792
         ]
        },
        {
         "fill": "tonexty",
         "hoverinfo": "none",
         "line": {
          "color": "blue",
          "width": 0
         },
         "mode": "lines",
         "showlegend": false,
         "type": "scatter",
         "x": [
          26,
          27,
          28,
          29,
          30,
          31,
          32
         ],
         "y": [
          3139,
          2634,
          2355,
          2933,
          3843,
          4715,
          5848
         ]
        },
        {
         "hoverinfo": "none",
         "line": {
          "width": 0
         },
         "mode": "lines",
         "showlegend": false,
         "type": "scatter",
         "x": [
          12,
          13,
          14,
          15,
          16,
          17,
          18,
          19,
          20,
          21
         ],
         "y": [
          21027,
          31976,
          33973,
          25748,
          16449,
          11636,
          6913,
          5695,
          4358,
          3354
         ]
        },
        {
         "fill": "tonexty",
         "hoverinfo": "none",
         "line": {
          "color": "red",
          "width": 0
         },
         "mode": "lines",
         "showlegend": false,
         "type": "scatter",
         "x": [
          12,
          13,
          14,
          15,
          16,
          17,
          18,
          19,
          20,
          21
         ],
         "y": [
          21177,
          32148,
          34136,
          25838,
          16486,
          11657,
          6941,
          5722,
          4378,
          3364
         ]
        },
        {
         "hoverinfo": "none",
         "line": {
          "color": "black",
          "width": 0.9
         },
         "mode": "lines",
         "showlegend": false,
         "type": "scatter",
         "x": [
          6,
          7,
          8,
          9,
          10,
          11,
          12,
          13,
          14,
          15,
          16,
          17,
          18,
          19,
          20,
          21,
          22,
          23,
          24,
          25,
          26,
          27,
          28,
          29,
          30,
          31,
          32,
          33,
          34,
          35,
          36,
          37,
          38,
          39
         ],
         "y": [
          7,
          4,
          1,
          139,
          880,
          6164,
          21177,
          32148,
          34136,
          25838,
          16486,
          11657,
          6941,
          5722,
          4378,
          3364,
          2965,
          2238,
          2189,
          3889,
          3139,
          2634,
          2355,
          2933,
          3843,
          4715,
          5848,
          7718,
          9365,
          8538,
          8291,
          9301,
          11658,
          12357
         ]
        },
        {
         "hoverinfo": "none",
         "line": {
          "width": 0
         },
         "mode": "lines",
         "showlegend": false,
         "type": "scatter",
         "x": [
          30,
          31,
          32,
          33,
          34,
          35,
          36
         ],
         "y": [
          3843,
          4715,
          5848,
          7718,
          9365,
          8538,
          8291
         ]
        },
        {
         "fill": "tonexty",
         "hoverinfo": "none",
         "line": {
          "color": "blue",
          "width": 0
         },
         "mode": "lines",
         "showlegend": false,
         "type": "scatter",
         "x": [
          30,
          31,
          32,
          33,
          34,
          35,
          36
         ],
         "y": [
          3872,
          4745,
          5955,
          7805,
          9462,
          8675,
          8485
         ]
        },
        {
         "hoverinfo": "none",
         "line": {
          "width": 0
         },
         "mode": "lines",
         "showlegend": false,
         "type": "scatter",
         "x": [
          12,
          13,
          14,
          15,
          16,
          17,
          18,
          19,
          20,
          21
         ],
         "y": [
          21177,
          32148,
          34136,
          25838,
          16486,
          11657,
          6941,
          5722,
          4378,
          3364
         ]
        },
        {
         "fill": "tonexty",
         "hoverinfo": "none",
         "line": {
          "color": "red",
          "width": 0
         },
         "mode": "lines",
         "showlegend": false,
         "type": "scatter",
         "x": [
          12,
          13,
          14,
          15,
          16,
          17,
          18,
          19,
          20,
          21
         ],
         "y": [
          21916,
          33201,
          35319,
          26618,
          16870,
          11911,
          7123,
          5936,
          4535,
          3471
         ]
        },
        {
         "hoverinfo": "none",
         "line": {
          "color": "black",
          "width": 0.9
         },
         "mode": "lines",
         "showlegend": false,
         "type": "scatter",
         "x": [
          6,
          7,
          8,
          9,
          10,
          11,
          12,
          13,
          14,
          15,
          16,
          17,
          18,
          19,
          20,
          21,
          22,
          23,
          24,
          25,
          26,
          27,
          28,
          29,
          30,
          31,
          32,
          33,
          34,
          35,
          36,
          37,
          38,
          39
         ],
         "y": [
          7,
          4,
          1,
          139,
          890,
          6333,
          21916,
          33201,
          35319,
          26618,
          16870,
          11911,
          7123,
          5936,
          4535,
          3471,
          3035,
          2265,
          2208,
          3967,
          3159,
          2648,
          2372,
          2950,
          3872,
          4745,
          5955,
          7805,
          9462,
          8675,
          8485,
          9576,
          12008,
          12761
         ]
        },
        {
         "hoverinfo": "none",
         "line": {
          "width": 0
         },
         "mode": "lines",
         "showlegend": false,
         "type": "scatter",
         "x": [
          30,
          31,
          32,
          33,
          34,
          35,
          36
         ],
         "y": [
          3872,
          4745,
          5955,
          7805,
          9462,
          8675,
          8485
         ]
        },
        {
         "fill": "tonexty",
         "hoverinfo": "none",
         "line": {
          "color": "blue",
          "width": 0
         },
         "mode": "lines",
         "showlegend": false,
         "type": "scatter",
         "x": [
          30,
          31,
          32,
          33,
          34,
          35,
          36
         ],
         "y": [
          3908,
          4785,
          5990,
          7864,
          9524,
          8732,
          8529
         ]
        },
        {
         "hoverinfo": "none",
         "line": {
          "width": 0
         },
         "mode": "lines",
         "showlegend": false,
         "type": "scatter",
         "x": [
          12,
          13,
          14,
          15,
          16,
          17,
          18,
          19,
          20,
          21
         ],
         "y": [
          21916,
          33201,
          35319,
          26618,
          16870,
          11911,
          7123,
          5936,
          4535,
          3471
         ]
        },
        {
         "fill": "tonexty",
         "hoverinfo": "none",
         "line": {
          "color": "red",
          "width": 0
         },
         "mode": "lines",
         "showlegend": false,
         "type": "scatter",
         "x": [
          12,
          13,
          14,
          15,
          16,
          17,
          18,
          19,
          20,
          21
         ],
         "y": [
          22144,
          33577,
          35646,
          26843,
          17051,
          12045,
          7190,
          5996,
          4569,
          3486
         ]
        },
        {
         "hoverinfo": "none",
         "line": {
          "color": "black",
          "width": 0.9
         },
         "mode": "lines",
         "showlegend": false,
         "type": "scatter",
         "x": [
          6,
          7,
          8,
          9,
          10,
          11,
          12,
          13,
          14,
          15,
          16,
          17,
          18,
          19,
          20,
          21,
          22,
          23,
          24,
          25,
          26,
          27,
          28,
          29,
          30,
          31,
          32,
          33,
          34,
          35,
          36,
          37,
          38,
          39
         ],
         "y": [
          7,
          4,
          1,
          139,
          890,
          6381,
          22144,
          33577,
          35646,
          26843,
          17051,
          12045,
          7190,
          5996,
          4569,
          3486,
          3048,
          2278,
          2258,
          4047,
          3181,
          2670,
          2397,
          2987,
          3908,
          4785,
          5990,
          7864,
          9524,
          8732,
          8529,
          9647,
          12109,
          12918
         ]
        },
        {
         "hoverinfo": "none",
         "line": {
          "width": 0
         },
         "mode": "lines",
         "showlegend": false,
         "type": "scatter",
         "x": [
          30,
          31,
          32,
          33,
          34,
          35,
          36
         ],
         "y": [
          3908,
          4785,
          5990,
          7864,
          9524,
          8732,
          8529
         ]
        },
        {
         "fill": "tonexty",
         "hoverinfo": "none",
         "line": {
          "color": "blue",
          "width": 0
         },
         "mode": "lines",
         "showlegend": false,
         "type": "scatter",
         "x": [
          30,
          31,
          32,
          33,
          34,
          35,
          36
         ],
         "y": [
          3933,
          4814,
          6042,
          7935,
          9581,
          8804,
          8596
         ]
        },
        {
         "hoverinfo": "none",
         "line": {
          "width": 0
         },
         "mode": "lines",
         "showlegend": false,
         "type": "scatter",
         "x": [
          12,
          13,
          14,
          15,
          16,
          17,
          18,
          19,
          20,
          21
         ],
         "y": [
          22144,
          33577,
          35646,
          26843,
          17051,
          12045,
          7190,
          5996,
          4569,
          3486
         ]
        },
        {
         "fill": "tonexty",
         "hoverinfo": "none",
         "line": {
          "color": "red",
          "width": 0
         },
         "mode": "lines",
         "showlegend": false,
         "type": "scatter",
         "x": [
          12,
          13,
          14,
          15,
          16,
          17,
          18,
          19,
          20,
          21
         ],
         "y": [
          22425,
          34016,
          36063,
          27163,
          17337,
          12372,
          7435,
          6225,
          4724,
          3614
         ]
        },
        {
         "hoverinfo": "none",
         "line": {
          "color": "black",
          "width": 0.9
         },
         "mode": "lines",
         "showlegend": false,
         "type": "scatter",
         "x": [
          6,
          7,
          8,
          9,
          10,
          11,
          12,
          13,
          14,
          15,
          16,
          17,
          18,
          19,
          20,
          21,
          22,
          23,
          24,
          25,
          26,
          27,
          28,
          29,
          30,
          31,
          32,
          33,
          34,
          35,
          36,
          37,
          38,
          39
         ],
         "y": [
          7,
          4,
          1,
          139,
          892,
          6431,
          22425,
          34016,
          36063,
          27163,
          17337,
          12372,
          7435,
          6225,
          4724,
          3614,
          3199,
          2352,
          2343,
          4089,
          3200,
          2693,
          2419,
          3016,
          3933,
          4814,
          6042,
          7935,
          9581,
          8804,
          8596,
          9760,
          12247,
          13031
         ]
        }
       ],
       "layout": {
        "font": {
         "color": "black",
         "size": 18
        },
        "legend": {
         "orientation": "h",
         "title": {
          "text": "Period of Analysis:   "
         },
         "x": 0.5,
         "xanchor": "center",
         "y": 1,
         "yanchor": "bottom"
        },
        "template": {
         "data": {
          "bar": [
           {
            "error_x": {
             "color": "#2a3f5f"
            },
            "error_y": {
             "color": "#2a3f5f"
            },
            "marker": {
             "line": {
              "color": "#E5ECF6",
              "width": 0.5
             }
            },
            "type": "bar"
           }
          ],
          "barpolar": [
           {
            "marker": {
             "line": {
              "color": "#E5ECF6",
              "width": 0.5
             }
            },
            "type": "barpolar"
           }
          ],
          "carpet": [
           {
            "aaxis": {
             "endlinecolor": "#2a3f5f",
             "gridcolor": "white",
             "linecolor": "white",
             "minorgridcolor": "white",
             "startlinecolor": "#2a3f5f"
            },
            "baxis": {
             "endlinecolor": "#2a3f5f",
             "gridcolor": "white",
             "linecolor": "white",
             "minorgridcolor": "white",
             "startlinecolor": "#2a3f5f"
            },
            "type": "carpet"
           }
          ],
          "choropleth": [
           {
            "colorbar": {
             "outlinewidth": 0,
             "ticks": ""
            },
            "type": "choropleth"
           }
          ],
          "contour": [
           {
            "colorbar": {
             "outlinewidth": 0,
             "ticks": ""
            },
            "colorscale": [
             [
              0,
              "#0d0887"
             ],
             [
              0.1111111111111111,
              "#46039f"
             ],
             [
              0.2222222222222222,
              "#7201a8"
             ],
             [
              0.3333333333333333,
              "#9c179e"
             ],
             [
              0.4444444444444444,
              "#bd3786"
             ],
             [
              0.5555555555555556,
              "#d8576b"
             ],
             [
              0.6666666666666666,
              "#ed7953"
             ],
             [
              0.7777777777777778,
              "#fb9f3a"
             ],
             [
              0.8888888888888888,
              "#fdca26"
             ],
             [
              1,
              "#f0f921"
             ]
            ],
            "type": "contour"
           }
          ],
          "contourcarpet": [
           {
            "colorbar": {
             "outlinewidth": 0,
             "ticks": ""
            },
            "type": "contourcarpet"
           }
          ],
          "heatmap": [
           {
            "colorbar": {
             "outlinewidth": 0,
             "ticks": ""
            },
            "colorscale": [
             [
              0,
              "#0d0887"
             ],
             [
              0.1111111111111111,
              "#46039f"
             ],
             [
              0.2222222222222222,
              "#7201a8"
             ],
             [
              0.3333333333333333,
              "#9c179e"
             ],
             [
              0.4444444444444444,
              "#bd3786"
             ],
             [
              0.5555555555555556,
              "#d8576b"
             ],
             [
              0.6666666666666666,
              "#ed7953"
             ],
             [
              0.7777777777777778,
              "#fb9f3a"
             ],
             [
              0.8888888888888888,
              "#fdca26"
             ],
             [
              1,
              "#f0f921"
             ]
            ],
            "type": "heatmap"
           }
          ],
          "heatmapgl": [
           {
            "colorbar": {
             "outlinewidth": 0,
             "ticks": ""
            },
            "colorscale": [
             [
              0,
              "#0d0887"
             ],
             [
              0.1111111111111111,
              "#46039f"
             ],
             [
              0.2222222222222222,
              "#7201a8"
             ],
             [
              0.3333333333333333,
              "#9c179e"
             ],
             [
              0.4444444444444444,
              "#bd3786"
             ],
             [
              0.5555555555555556,
              "#d8576b"
             ],
             [
              0.6666666666666666,
              "#ed7953"
             ],
             [
              0.7777777777777778,
              "#fb9f3a"
             ],
             [
              0.8888888888888888,
              "#fdca26"
             ],
             [
              1,
              "#f0f921"
             ]
            ],
            "type": "heatmapgl"
           }
          ],
          "histogram": [
           {
            "marker": {
             "colorbar": {
              "outlinewidth": 0,
              "ticks": ""
             }
            },
            "type": "histogram"
           }
          ],
          "histogram2d": [
           {
            "colorbar": {
             "outlinewidth": 0,
             "ticks": ""
            },
            "colorscale": [
             [
              0,
              "#0d0887"
             ],
             [
              0.1111111111111111,
              "#46039f"
             ],
             [
              0.2222222222222222,
              "#7201a8"
             ],
             [
              0.3333333333333333,
              "#9c179e"
             ],
             [
              0.4444444444444444,
              "#bd3786"
             ],
             [
              0.5555555555555556,
              "#d8576b"
             ],
             [
              0.6666666666666666,
              "#ed7953"
             ],
             [
              0.7777777777777778,
              "#fb9f3a"
             ],
             [
              0.8888888888888888,
              "#fdca26"
             ],
             [
              1,
              "#f0f921"
             ]
            ],
            "type": "histogram2d"
           }
          ],
          "histogram2dcontour": [
           {
            "colorbar": {
             "outlinewidth": 0,
             "ticks": ""
            },
            "colorscale": [
             [
              0,
              "#0d0887"
             ],
             [
              0.1111111111111111,
              "#46039f"
             ],
             [
              0.2222222222222222,
              "#7201a8"
             ],
             [
              0.3333333333333333,
              "#9c179e"
             ],
             [
              0.4444444444444444,
              "#bd3786"
             ],
             [
              0.5555555555555556,
              "#d8576b"
             ],
             [
              0.6666666666666666,
              "#ed7953"
             ],
             [
              0.7777777777777778,
              "#fb9f3a"
             ],
             [
              0.8888888888888888,
              "#fdca26"
             ],
             [
              1,
              "#f0f921"
             ]
            ],
            "type": "histogram2dcontour"
           }
          ],
          "mesh3d": [
           {
            "colorbar": {
             "outlinewidth": 0,
             "ticks": ""
            },
            "type": "mesh3d"
           }
          ],
          "parcoords": [
           {
            "line": {
             "colorbar": {
              "outlinewidth": 0,
              "ticks": ""
             }
            },
            "type": "parcoords"
           }
          ],
          "pie": [
           {
            "automargin": true,
            "type": "pie"
           }
          ],
          "scatter": [
           {
            "marker": {
             "colorbar": {
              "outlinewidth": 0,
              "ticks": ""
             }
            },
            "type": "scatter"
           }
          ],
          "scatter3d": [
           {
            "line": {
             "colorbar": {
              "outlinewidth": 0,
              "ticks": ""
             }
            },
            "marker": {
             "colorbar": {
              "outlinewidth": 0,
              "ticks": ""
             }
            },
            "type": "scatter3d"
           }
          ],
          "scattercarpet": [
           {
            "marker": {
             "colorbar": {
              "outlinewidth": 0,
              "ticks": ""
             }
            },
            "type": "scattercarpet"
           }
          ],
          "scattergeo": [
           {
            "marker": {
             "colorbar": {
              "outlinewidth": 0,
              "ticks": ""
             }
            },
            "type": "scattergeo"
           }
          ],
          "scattergl": [
           {
            "marker": {
             "colorbar": {
              "outlinewidth": 0,
              "ticks": ""
             }
            },
            "type": "scattergl"
           }
          ],
          "scattermapbox": [
           {
            "marker": {
             "colorbar": {
              "outlinewidth": 0,
              "ticks": ""
             }
            },
            "type": "scattermapbox"
           }
          ],
          "scatterpolar": [
           {
            "marker": {
             "colorbar": {
              "outlinewidth": 0,
              "ticks": ""
             }
            },
            "type": "scatterpolar"
           }
          ],
          "scatterpolargl": [
           {
            "marker": {
             "colorbar": {
              "outlinewidth": 0,
              "ticks": ""
             }
            },
            "type": "scatterpolargl"
           }
          ],
          "scatterternary": [
           {
            "marker": {
             "colorbar": {
              "outlinewidth": 0,
              "ticks": ""
             }
            },
            "type": "scatterternary"
           }
          ],
          "surface": [
           {
            "colorbar": {
             "outlinewidth": 0,
             "ticks": ""
            },
            "colorscale": [
             [
              0,
              "#0d0887"
             ],
             [
              0.1111111111111111,
              "#46039f"
             ],
             [
              0.2222222222222222,
              "#7201a8"
             ],
             [
              0.3333333333333333,
              "#9c179e"
             ],
             [
              0.4444444444444444,
              "#bd3786"
             ],
             [
              0.5555555555555556,
              "#d8576b"
             ],
             [
              0.6666666666666666,
              "#ed7953"
             ],
             [
              0.7777777777777778,
              "#fb9f3a"
             ],
             [
              0.8888888888888888,
              "#fdca26"
             ],
             [
              1,
              "#f0f921"
             ]
            ],
            "type": "surface"
           }
          ],
          "table": [
           {
            "cells": {
             "fill": {
              "color": "#EBF0F8"
             },
             "line": {
              "color": "white"
             }
            },
            "header": {
             "fill": {
              "color": "#C8D4E3"
             },
             "line": {
              "color": "white"
             }
            },
            "type": "table"
           }
          ]
         },
         "layout": {
          "annotationdefaults": {
           "arrowcolor": "#2a3f5f",
           "arrowhead": 0,
           "arrowwidth": 1
          },
          "coloraxis": {
           "colorbar": {
            "outlinewidth": 0,
            "ticks": ""
           }
          },
          "colorscale": {
           "diverging": [
            [
             0,
             "#8e0152"
            ],
            [
             0.1,
             "#c51b7d"
            ],
            [
             0.2,
             "#de77ae"
            ],
            [
             0.3,
             "#f1b6da"
            ],
            [
             0.4,
             "#fde0ef"
            ],
            [
             0.5,
             "#f7f7f7"
            ],
            [
             0.6,
             "#e6f5d0"
            ],
            [
             0.7,
             "#b8e186"
            ],
            [
             0.8,
             "#7fbc41"
            ],
            [
             0.9,
             "#4d9221"
            ],
            [
             1,
             "#276419"
            ]
           ],
           "sequential": [
            [
             0,
             "#0d0887"
            ],
            [
             0.1111111111111111,
             "#46039f"
            ],
            [
             0.2222222222222222,
             "#7201a8"
            ],
            [
             0.3333333333333333,
             "#9c179e"
            ],
            [
             0.4444444444444444,
             "#bd3786"
            ],
            [
             0.5555555555555556,
             "#d8576b"
            ],
            [
             0.6666666666666666,
             "#ed7953"
            ],
            [
             0.7777777777777778,
             "#fb9f3a"
            ],
            [
             0.8888888888888888,
             "#fdca26"
            ],
            [
             1,
             "#f0f921"
            ]
           ],
           "sequentialminus": [
            [
             0,
             "#0d0887"
            ],
            [
             0.1111111111111111,
             "#46039f"
            ],
            [
             0.2222222222222222,
             "#7201a8"
            ],
            [
             0.3333333333333333,
             "#9c179e"
            ],
            [
             0.4444444444444444,
             "#bd3786"
            ],
            [
             0.5555555555555556,
             "#d8576b"
            ],
            [
             0.6666666666666666,
             "#ed7953"
            ],
            [
             0.7777777777777778,
             "#fb9f3a"
            ],
            [
             0.8888888888888888,
             "#fdca26"
            ],
            [
             1,
             "#f0f921"
            ]
           ]
          },
          "colorway": [
           "#636efa",
           "#EF553B",
           "#00cc96",
           "#ab63fa",
           "#FFA15A",
           "#19d3f3",
           "#FF6692",
           "#B6E880",
           "#FF97FF",
           "#FECB52"
          ],
          "font": {
           "color": "#2a3f5f"
          },
          "geo": {
           "bgcolor": "white",
           "lakecolor": "white",
           "landcolor": "#E5ECF6",
           "showlakes": true,
           "showland": true,
           "subunitcolor": "white"
          },
          "hoverlabel": {
           "align": "left"
          },
          "hovermode": "closest",
          "mapbox": {
           "style": "light"
          },
          "paper_bgcolor": "white",
          "plot_bgcolor": "#E5ECF6",
          "polar": {
           "angularaxis": {
            "gridcolor": "white",
            "linecolor": "white",
            "ticks": ""
           },
           "bgcolor": "#E5ECF6",
           "radialaxis": {
            "gridcolor": "white",
            "linecolor": "white",
            "ticks": ""
           }
          },
          "scene": {
           "xaxis": {
            "backgroundcolor": "#E5ECF6",
            "gridcolor": "white",
            "gridwidth": 2,
            "linecolor": "white",
            "showbackground": true,
            "ticks": "",
            "zerolinecolor": "white"
           },
           "yaxis": {
            "backgroundcolor": "#E5ECF6",
            "gridcolor": "white",
            "gridwidth": 2,
            "linecolor": "white",
            "showbackground": true,
            "ticks": "",
            "zerolinecolor": "white"
           },
           "zaxis": {
            "backgroundcolor": "#E5ECF6",
            "gridcolor": "white",
            "gridwidth": 2,
            "linecolor": "white",
            "showbackground": true,
            "ticks": "",
            "zerolinecolor": "white"
           }
          },
          "shapedefaults": {
           "line": {
            "color": "#2a3f5f"
           }
          },
          "ternary": {
           "aaxis": {
            "gridcolor": "white",
            "linecolor": "white",
            "ticks": ""
           },
           "baxis": {
            "gridcolor": "white",
            "linecolor": "white",
            "ticks": ""
           },
           "bgcolor": "#E5ECF6",
           "caxis": {
            "gridcolor": "white",
            "linecolor": "white",
            "ticks": ""
           }
          },
          "title": {
           "x": 0.05
          },
          "xaxis": {
           "automargin": true,
           "gridcolor": "white",
           "linecolor": "white",
           "ticks": "",
           "title": {
            "standoff": 15
           },
           "zerolinecolor": "white",
           "zerolinewidth": 2
          },
          "yaxis": {
           "automargin": true,
           "gridcolor": "white",
           "linecolor": "white",
           "ticks": "",
           "title": {
            "standoff": 15
           },
           "zerolinecolor": "white",
           "zerolinewidth": 2
          }
         }
        },
        "title": {
         "text": "Weekly New Covid-19 Cases in Germany by Province",
         "x": 0.5,
         "xanchor": "center"
        },
        "xaxis": {
         "title": {
          "text": "2020 Calendar Week"
         }
        },
        "yaxis": {
         "title": {
          "text": "Weekly New Cases"
         }
        }
       }
      },
      "text/html": [
       "<div>\n",
       "        \n",
       "        \n",
       "            <div id=\"908b4df5-f724-4716-bf7f-da4234ac55e0\" class=\"plotly-graph-div\" style=\"height:525px; width:100%;\"></div>\n",
       "            <script type=\"text/javascript\">\n",
       "                require([\"plotly\"], function(Plotly) {\n",
       "                    window.PLOTLYENV=window.PLOTLYENV || {};\n",
       "                    \n",
       "                if (document.getElementById(\"908b4df5-f724-4716-bf7f-da4234ac55e0\")) {\n",
       "                    Plotly.newPlot(\n",
       "                        '908b4df5-f724-4716-bf7f-da4234ac55e0',\n",
       "                        [{\"fill\": \"tozeroy\", \"hoverinfo\": \"none\", \"line\": {\"color\": \"blue\", \"width\": 0}, \"mode\": \"lines\", \"name\": \"Summer Vacation\", \"showlegend\": true, \"type\": \"scatter\", \"x\": [27, 28, 29, 30, 31, 32, 33], \"y\": [37.0, 23.0, 50.0, 66.0, 152.0, 118.0, 201.0]}, {\"fill\": \"tozeroy\", \"hoverinfo\": \"none\", \"line\": {\"color\": \"red\", \"width\": 0}, \"mode\": \"lines\", \"name\": \"Active Lockdown\", \"showlegend\": true, \"type\": \"scatter\", \"x\": [12, 13, 14, 15, 16, 17, 18, 19, 20, 21], \"y\": [345.0, 619.0, 614.0, 446.0, 282.0, 202.0, 144.0, 174.0, 48.0, 64.0]}, {\"hoverinfo\": \"none\", \"line\": {\"color\": \"black\", \"width\": 0.9}, \"mode\": \"lines\", \"showlegend\": false, \"type\": \"scatter\", \"x\": [6, 7, 8, 9, 10, 11, 12, 13, 14, 15, 16, 17, 18, 19, 20, 21, 22, 23, 24, 25, 26, 27, 28, 29, 30, 31, 32, 33, 34, 35, 36, 37, 38, 39], \"y\": [0.0, 0.0, 0.0, 2.0, 7.0, 119.0, 345.0, 619.0, 614.0, 446.0, 282.0, 202.0, 144.0, 174.0, 48.0, 64.0, 34.0, 11.0, 9.0, 17.0, 16.0, 37.0, 23.0, 50.0, 66.0, 152.0, 118.0, 201.0, 113.0, 122.0, 99.0, 109.0, 203.0, 250.0]}, {\"hoverinfo\": \"none\", \"line\": {\"width\": 0}, \"mode\": \"lines\", \"showlegend\": false, \"type\": \"scatter\", \"x\": [27, 28, 29, 30, 31, 32, 33], \"y\": [37.0, 23.0, 50.0, 66.0, 152.0, 118.0, 201.0]}, {\"fill\": \"tonexty\", \"hoverinfo\": \"none\", \"line\": {\"color\": \"blue\", \"width\": 0}, \"mode\": \"lines\", \"showlegend\": false, \"type\": \"scatter\", \"x\": [27, 28, 29, 30, 31, 32, 33], \"y\": [58.0, 37.0, 67.0, 157.0, 267.0, 397.0, 390.0]}, {\"hoverinfo\": \"none\", \"line\": {\"width\": 0}, \"mode\": \"lines\", \"showlegend\": false, \"type\": \"scatter\", \"x\": [12, 13, 14, 15, 16, 17, 18, 19, 20, 21], \"y\": [345.0, 619.0, 614.0, 446.0, 282.0, 202.0, 144.0, 174.0, 48.0, 64.0]}, {\"fill\": \"tonexty\", \"hoverinfo\": \"none\", \"line\": {\"color\": \"red\", \"width\": 0}, \"mode\": \"lines\", \"showlegend\": false, \"type\": \"scatter\", \"x\": [12, 13, 14, 15, 16, 17, 18, 19, 20, 21], \"y\": [1280.0, 1692.0, 1522.0, 1202.0, 724.0, 492.0, 281.0, 267.0, 97.0, 89.0]}, {\"hoverinfo\": \"none\", \"line\": {\"color\": \"black\", \"width\": 0.9}, \"mode\": \"lines\", \"showlegend\": false, \"type\": \"scatter\", \"x\": [6, 7, 8, 9, 10, 11, 12, 13, 14, 15, 16, 17, 18, 19, 20, 21, 22, 23, 24, 25, 26, 27, 28, 29, 30, 31, 32, 33, 34, 35, 36, 37, 38, 39], \"y\": [0.0, 0.0, 0.0, 4.0, 28.0, 435.0, 1280.0, 1692.0, 1522.0, 1202.0, 724.0, 492.0, 281.0, 267.0, 97.0, 89.0, 51.0, 37.0, 33.0, 48.0, 60.0, 58.0, 37.0, 67.0, 157.0, 267.0, 397.0, 390.0, 298.0, 325.0, 368.0, 426.0, 603.0, 760.0]}, {\"hoverinfo\": \"none\", \"line\": {\"width\": 0}, \"mode\": \"lines\", \"showlegend\": false, \"type\": \"scatter\", \"x\": [30, 31, 32, 33, 34, 35, 36], \"y\": [157.0, 267.0, 397.0, 390.0, 298.0, 325.0, 368.0]}, {\"fill\": \"tonexty\", \"hoverinfo\": \"none\", \"line\": {\"color\": \"blue\", \"width\": 0}, \"mode\": \"lines\", \"showlegend\": false, \"type\": \"scatter\", \"x\": [30, 31, 32, 33, 34, 35, 36], \"y\": [403.0, 606.0, 821.0, 888.0, 967.0, 953.0, 914.0]}, {\"hoverinfo\": \"none\", \"line\": {\"width\": 0}, \"mode\": \"lines\", \"showlegend\": false, \"type\": \"scatter\", \"x\": [12, 13, 14, 15, 16, 17, 18, 19, 20, 21], \"y\": [1280.0, 1692.0, 1522.0, 1202.0, 724.0, 492.0, 281.0, 267.0, 97.0, 89.0]}, {\"fill\": \"tonexty\", \"hoverinfo\": \"none\", \"line\": {\"color\": \"red\", \"width\": 0}, \"mode\": \"lines\", \"showlegend\": false, \"type\": \"scatter\", \"x\": [12, 13, 14, 15, 16, 17, 18, 19, 20, 21], \"y\": [2685.0, 3913.0, 3648.0, 2989.0, 1874.0, 1322.0, 714.0, 730.0, 387.0, 506.0]}, {\"hoverinfo\": \"none\", \"line\": {\"color\": \"black\", \"width\": 0.9}, \"mode\": \"lines\", \"showlegend\": false, \"type\": \"scatter\", \"x\": [6, 7, 8, 9, 10, 11, 12, 13, 14, 15, 16, 17, 18, 19, 20, 21, 22, 23, 24, 25, 26, 27, 28, 29, 30, 31, 32, 33, 34, 35, 36, 37, 38, 39], \"y\": [1.0, 0.0, 0.0, 5.0, 65.0, 852.0, 2685.0, 3913.0, 3648.0, 2989.0, 1874.0, 1322.0, 714.0, 730.0, 387.0, 506.0, 499.0, 541.0, 396.0, 414.0, 304.0, 239.0, 128.0, 299.0, 403.0, 606.0, 821.0, 888.0, 967.0, 953.0, 914.0, 1105.0, 1639.0, 1766.0]}, {\"hoverinfo\": \"none\", \"line\": {\"width\": 0}, \"mode\": \"lines\", \"showlegend\": false, \"type\": \"scatter\", \"x\": [25, 26, 27, 28, 29, 30, 31], \"y\": [414.0, 304.0, 239.0, 128.0, 299.0, 403.0, 606.0]}, {\"fill\": \"tonexty\", \"hoverinfo\": \"none\", \"line\": {\"color\": \"blue\", \"width\": 0}, \"mode\": \"lines\", \"showlegend\": false, \"type\": \"scatter\", \"x\": [25, 26, 27, 28, 29, 30, 31], \"y\": [469.0, 318.0, 257.0, 139.0, 329.0, 430.0, 641.0]}, {\"hoverinfo\": \"none\", \"line\": {\"width\": 0}, \"mode\": \"lines\", \"showlegend\": false, \"type\": \"scatter\", \"x\": [12, 13, 14, 15, 16, 17, 18, 19, 20, 21], \"y\": [2685.0, 3913.0, 3648.0, 2989.0, 1874.0, 1322.0, 714.0, 730.0, 387.0, 506.0]}, {\"fill\": \"tonexty\", \"hoverinfo\": \"none\", \"line\": {\"color\": \"red\", \"width\": 0}, \"mode\": \"lines\", \"showlegend\": false, \"type\": \"scatter\", \"x\": [12, 13, 14, 15, 16, 17, 18, 19, 20, 21], \"y\": [2798.0, 4032.0, 3751.0, 3080.0, 1988.0, 1517.0, 861.0, 895.0, 512.0, 590.0]}, {\"hoverinfo\": \"none\", \"line\": {\"color\": \"black\", \"width\": 0.9}, \"mode\": \"lines\", \"showlegend\": false, \"type\": \"scatter\", \"x\": [6, 7, 8, 9, 10, 11, 12, 13, 14, 15, 16, 17, 18, 19, 20, 21, 22, 23, 24, 25, 26, 27, 28, 29, 30, 31, 32, 33, 34, 35, 36, 37, 38, 39], \"y\": [1.0, 0.0, 0.0, 6.0, 68.0, 903.0, 2798.0, 4032.0, 3751.0, 3080.0, 1988.0, 1517.0, 861.0, 895.0, 512.0, 590.0, 624.0, 640.0, 456.0, 469.0, 318.0, 257.0, 139.0, 329.0, 430.0, 641.0, 843.0, 929.0, 1026.0, 1039.0, 993.0, 1169.0, 1721.0, 1917.0]}, {\"hoverinfo\": \"none\", \"line\": {\"width\": 0}, \"mode\": \"lines\", \"showlegend\": false, \"type\": \"scatter\", \"x\": [27, 28, 29, 30, 31, 32, 33], \"y\": [257.0, 139.0, 329.0, 430.0, 641.0, 843.0, 929.0]}, {\"fill\": \"tonexty\", \"hoverinfo\": \"none\", \"line\": {\"color\": \"blue\", \"width\": 0}, \"mode\": \"lines\", \"showlegend\": false, \"type\": \"scatter\", \"x\": [27, 28, 29, 30, 31, 32, 33], \"y\": [1372.0, 1064.0, 1470.0, 1904.0, 2535.0, 3265.0, 3803.0]}, {\"hoverinfo\": \"none\", \"line\": {\"width\": 0}, \"mode\": \"lines\", \"showlegend\": false, \"type\": \"scatter\", \"x\": [12, 13, 14, 15, 16, 17, 18, 19, 20, 21], \"y\": [2798.0, 4032.0, 3751.0, 3080.0, 1988.0, 1517.0, 861.0, 895.0, 512.0, 590.0]}, {\"fill\": \"tonexty\", \"hoverinfo\": \"none\", \"line\": {\"color\": \"red\", \"width\": 0}, \"mode\": \"lines\", \"showlegend\": false, \"type\": \"scatter\", \"x\": [12, 13, 14, 15, 16, 17, 18, 19, 20, 21], \"y\": [8175.0, 10279.0, 10188.0, 8510.0, 5645.0, 4095.0, 2484.0, 2451.0, 1789.0, 1461.0]}, {\"hoverinfo\": \"none\", \"line\": {\"color\": \"black\", \"width\": 0.9}, \"mode\": \"lines\", \"showlegend\": false, \"type\": \"scatter\", \"x\": [6, 7, 8, 9, 10, 11, 12, 13, 14, 15, 16, 17, 18, 19, 20, 21, 22, 23, 24, 25, 26, 27, 28, 29, 30, 31, 32, 33, 34, 35, 36, 37, 38, 39], \"y\": [1.0, 1.0, 1.0, 101.0, 454.0, 2645.0, 8175.0, 10279.0, 10188.0, 8510.0, 5645.0, 4095.0, 2484.0, 2451.0, 1789.0, 1461.0, 1384.0, 1277.0, 1147.0, 2521.0, 1895.0, 1372.0, 1064.0, 1470.0, 1904.0, 2535.0, 3265.0, 3803.0, 3316.0, 2775.0, 2691.0, 3174.0, 4662.0, 5461.0]}, {\"hoverinfo\": \"none\", \"line\": {\"width\": 0}, \"mode\": \"lines\", \"showlegend\": false, \"type\": \"scatter\", \"x\": [28, 29, 30, 31, 32, 33, 34], \"y\": [1064.0, 1470.0, 1904.0, 2535.0, 3265.0, 3803.0, 3316.0]}, {\"fill\": \"tonexty\", \"hoverinfo\": \"none\", \"line\": {\"color\": \"blue\", \"width\": 0}, \"mode\": \"lines\", \"showlegend\": false, \"type\": \"scatter\", \"x\": [28, 29, 30, 31, 32, 33, 34], \"y\": [1284.0, 1709.0, 2196.0, 2979.0, 3863.0, 4600.0, 4457.0]}, {\"hoverinfo\": \"none\", \"line\": {\"width\": 0}, \"mode\": \"lines\", \"showlegend\": false, \"type\": \"scatter\", \"x\": [12, 13, 14, 15, 16, 17, 18, 19, 20, 21], \"y\": [8175.0, 10279.0, 10188.0, 8510.0, 5645.0, 4095.0, 2484.0, 2451.0, 1789.0, 1461.0]}, {\"fill\": \"tonexty\", \"hoverinfo\": \"none\", \"line\": {\"color\": \"red\", \"width\": 0}, \"mode\": \"lines\", \"showlegend\": false, \"type\": \"scatter\", \"x\": [12, 13, 14, 15, 16, 17, 18, 19, 20, 21], \"y\": [9301.0, 11971.0, 11786.0, 9904.0, 6708.0, 4859.0, 3062.0, 2904.0, 2197.0, 1842.0]}, {\"hoverinfo\": \"none\", \"line\": {\"color\": \"black\", \"width\": 0.9}, \"mode\": \"lines\", \"showlegend\": false, \"type\": \"scatter\", \"x\": [6, 7, 8, 9, 10, 11, 12, 13, 14, 15, 16, 17, 18, 19, 20, 21, 22, 23, 24, 25, 26, 27, 28, 29, 30, 31, 32, 33, 34, 35, 36, 37, 38, 39], \"y\": [1.0, 1.0, 1.0, 106.0, 475.0, 2940.0, 9301.0, 11971.0, 11786.0, 9904.0, 6708.0, 4859.0, 3062.0, 2904.0, 2197.0, 1842.0, 1677.0, 1419.0, 1296.0, 2760.0, 2069.0, 1559.0, 1284.0, 1709.0, 2196.0, 2979.0, 3863.0, 4600.0, 4457.0, 3567.0, 3391.0, 3893.0, 5411.0, 6493.0]}, {\"hoverinfo\": \"none\", \"line\": {\"width\": 0}, \"mode\": \"lines\", \"showlegend\": false, \"type\": \"scatter\", \"x\": [28, 29, 30, 31, 32, 33, 34], \"y\": [1284.0, 1709.0, 2196.0, 2979.0, 3863.0, 4600.0, 4457.0]}, {\"fill\": \"tonexty\", \"hoverinfo\": \"none\", \"line\": {\"color\": \"blue\", \"width\": 0}, \"mode\": \"lines\", \"showlegend\": false, \"type\": \"scatter\", \"x\": [28, 29, 30, 31, 32, 33, 34], \"y\": [1383.0, 1851.0, 2301.0, 3101.0, 4149.0, 4961.0, 4938.0]}, {\"hoverinfo\": \"none\", \"line\": {\"width\": 0}, \"mode\": \"lines\", \"showlegend\": false, \"type\": \"scatter\", \"x\": [12, 13, 14, 15, 16, 17, 18, 19, 20, 21], \"y\": [9301.0, 11971.0, 11786.0, 9904.0, 6708.0, 4859.0, 3062.0, 2904.0, 2197.0, 1842.0]}, {\"fill\": \"tonexty\", \"hoverinfo\": \"none\", \"line\": {\"color\": \"red\", \"width\": 0}, \"mode\": \"lines\", \"showlegend\": false, \"type\": \"scatter\", \"x\": [12, 13, 14, 15, 16, 17, 18, 19, 20, 21], \"y\": [10324.0, 13336.0, 13031.0, 10826.0, 7357.0, 5217.0, 3300.0, 3098.0, 2368.0, 1939.0]}, {\"hoverinfo\": \"none\", \"line\": {\"color\": \"black\", \"width\": 0.9}, \"mode\": \"lines\", \"showlegend\": false, \"type\": \"scatter\", \"x\": [6, 7, 8, 9, 10, 11, 12, 13, 14, 15, 16, 17, 18, 19, 20, 21, 22, 23, 24, 25, 26, 27, 28, 29, 30, 31, 32, 33, 34, 35, 36, 37, 38, 39], \"y\": [1.0, 1.0, 1.0, 108.0, 488.0, 3260.0, 10324.0, 13336.0, 13031.0, 10826.0, 7357.0, 5217.0, 3300.0, 3098.0, 2368.0, 1939.0, 1785.0, 1503.0, 1350.0, 2833.0, 2144.0, 1654.0, 1383.0, 1851.0, 2301.0, 3101.0, 4149.0, 4961.0, 4938.0, 3980.0, 3699.0, 4274.0, 5779.0, 6952.0]}, {\"hoverinfo\": \"none\", \"line\": {\"width\": 0}, \"mode\": \"lines\", \"showlegend\": false, \"type\": \"scatter\", \"x\": [31, 32, 33, 34, 35, 36, 37], \"y\": [3101.0, 4149.0, 4961.0, 4938.0, 3980.0, 3699.0, 4274.0]}, {\"fill\": \"tonexty\", \"hoverinfo\": \"none\", \"line\": {\"color\": \"blue\", \"width\": 0}, \"mode\": \"lines\", \"showlegend\": false, \"type\": \"scatter\", \"x\": [31, 32, 33, 34, 35, 36, 37], \"y\": [3593.0, 4600.0, 5737.0, 6617.0, 5759.0, 5404.0, 5912.0]}, {\"hoverinfo\": \"none\", \"line\": {\"width\": 0}, \"mode\": \"lines\", \"showlegend\": false, \"type\": \"scatter\", \"x\": [12, 13, 14, 15, 16, 17, 18, 19, 20, 21], \"y\": [10324.0, 13336.0, 13031.0, 10826.0, 7357.0, 5217.0, 3300.0, 3098.0, 2368.0, 1939.0]}, {\"fill\": \"tonexty\", \"hoverinfo\": \"none\", \"line\": {\"color\": \"red\", \"width\": 0}, \"mode\": \"lines\", \"showlegend\": false, \"type\": \"scatter\", \"x\": [12, 13, 14, 15, 16, 17, 18, 19, 20, 21], \"y\": [14778.0, 20501.0, 20474.0, 16078.0, 10545.0, 7631.0, 4503.0, 3994.0, 2978.0, 2340.0]}, {\"hoverinfo\": \"none\", \"line\": {\"color\": \"black\", \"width\": 0.9}, \"mode\": \"lines\", \"showlegend\": false, \"type\": \"scatter\", \"x\": [6, 7, 8, 9, 10, 11, 12, 13, 14, 15, 16, 17, 18, 19, 20, 21, 22, 23, 24, 25, 26, 27, 28, 29, 30, 31, 32, 33, 34, 35, 36, 37, 38, 39], \"y\": [1.0, 1.0, 1.0, 128.0, 698.0, 4588.0, 14778.0, 20501.0, 20474.0, 16078.0, 10545.0, 7631.0, 4503.0, 3994.0, 2978.0, 2340.0, 2091.0, 1682.0, 1519.0, 3021.0, 2407.0, 1861.0, 1633.0, 2231.0, 2788.0, 3593.0, 4600.0, 5737.0, 6617.0, 5759.0, 5404.0, 5912.0, 7686.0, 8745.0]}, {\"hoverinfo\": \"none\", \"line\": {\"width\": 0}, \"mode\": \"lines\", \"showlegend\": false, \"type\": \"scatter\", \"x\": [31, 32, 33, 34, 35, 36, 37], \"y\": [3593.0, 4600.0, 5737.0, 6617.0, 5759.0, 5404.0, 5912.0]}, {\"fill\": \"tonexty\", \"hoverinfo\": \"none\", \"line\": {\"color\": \"blue\", \"width\": 0}, \"mode\": \"lines\", \"showlegend\": false, \"type\": \"scatter\", \"x\": [31, 32, 33, 34, 35, 36, 37], \"y\": [4276.0, 5304.0, 7007.0, 8701.0, 7907.0, 7640.0, 8567.0]}, {\"hoverinfo\": \"none\", \"line\": {\"width\": 0}, \"mode\": \"lines\", \"showlegend\": false, \"type\": \"scatter\", \"x\": [12, 13, 14, 15, 16, 17, 18, 19, 20, 21], \"y\": [14778.0, 20501.0, 20474.0, 16078.0, 10545.0, 7631.0, 4503.0, 3994.0, 2978.0, 2340.0]}, {\"fill\": \"tonexty\", \"hoverinfo\": \"none\", \"line\": {\"color\": \"red\", \"width\": 0}, \"mode\": \"lines\", \"showlegend\": false, \"type\": \"scatter\", \"x\": [12, 13, 14, 15, 16, 17, 18, 19, 20, 21], \"y\": [19627.0, 29754.0, 31361.0, 23673.0, 15267.0, 10699.0, 6249.0, 5279.0, 4067.0, 3112.0]}, {\"hoverinfo\": \"none\", \"line\": {\"color\": \"black\", \"width\": 0.9}, \"mode\": \"lines\", \"showlegend\": false, \"type\": \"scatter\", \"x\": [6, 7, 8, 9, 10, 11, 12, 13, 14, 15, 16, 17, 18, 19, 20, 21, 22, 23, 24, 25, 26, 27, 28, 29, 30, 31, 32, 33, 34, 35, 36, 37, 38, 39], \"y\": [7.0, 4.0, 1.0, 137.0, 830.0, 5694.0, 19627.0, 29754.0, 31361.0, 23673.0, 15267.0, 10699.0, 6249.0, 5279.0, 4067.0, 3112.0, 2714.0, 1996.0, 1787.0, 3289.0, 2771.0, 2321.0, 2133.0, 2753.0, 3502.0, 4276.0, 5304.0, 7007.0, 8701.0, 7907.0, 7640.0, 8567.0, 10617.0, 11020.0]}, {\"hoverinfo\": \"none\", \"line\": {\"width\": 0}, \"mode\": \"lines\", \"showlegend\": false, \"type\": \"scatter\", \"x\": [28, 29, 30, 31, 32, 33, 34], \"y\": [2133.0, 2753.0, 3502.0, 4276.0, 5304.0, 7007.0, 8701.0]}, {\"fill\": \"tonexty\", \"hoverinfo\": \"none\", \"line\": {\"color\": \"blue\", \"width\": 0}, \"mode\": \"lines\", \"showlegend\": false, \"type\": \"scatter\", \"x\": [28, 29, 30, 31, 32, 33, 34], \"y\": [2146.0, 2769.0, 3526.0, 4309.0, 5342.0, 7082.0, 8774.0]}, {\"hoverinfo\": \"none\", \"line\": {\"width\": 0}, \"mode\": \"lines\", \"showlegend\": false, \"type\": \"scatter\", \"x\": [12, 13, 14, 15, 16, 17, 18, 19, 20, 21], \"y\": [19627.0, 29754.0, 31361.0, 23673.0, 15267.0, 10699.0, 6249.0, 5279.0, 4067.0, 3112.0]}, {\"fill\": \"tonexty\", \"hoverinfo\": \"none\", \"line\": {\"color\": \"red\", \"width\": 0}, \"mode\": \"lines\", \"showlegend\": false, \"type\": \"scatter\", \"x\": [12, 13, 14, 15, 16, 17, 18, 19, 20, 21], \"y\": [19883.0, 30171.0, 32133.0, 24243.0, 15480.0, 10869.0, 6334.0, 5319.0, 4099.0, 3133.0]}, {\"hoverinfo\": \"none\", \"line\": {\"color\": \"black\", \"width\": 0.9}, \"mode\": \"lines\", \"showlegend\": false, \"type\": \"scatter\", \"x\": [6, 7, 8, 9, 10, 11, 12, 13, 14, 15, 16, 17, 18, 19, 20, 21, 22, 23, 24, 25, 26, 27, 28, 29, 30, 31, 32, 33, 34, 35, 36, 37, 38, 39], \"y\": [7.0, 4.0, 1.0, 138.0, 831.0, 5770.0, 19883.0, 30171.0, 32133.0, 24243.0, 15480.0, 10869.0, 6334.0, 5319.0, 4099.0, 3133.0, 2738.0, 2019.0, 1810.0, 3296.0, 2778.0, 2324.0, 2146.0, 2769.0, 3526.0, 4309.0, 5342.0, 7082.0, 8774.0, 7979.0, 7687.0, 8612.0, 10680.0, 11084.0]}, {\"hoverinfo\": \"none\", \"line\": {\"width\": 0}, \"mode\": \"lines\", \"showlegend\": false, \"type\": \"scatter\", \"x\": [27, 28, 29, 30, 31, 32, 33], \"y\": [2324.0, 2146.0, 2769.0, 3526.0, 4309.0, 5342.0, 7082.0]}, {\"fill\": \"tonexty\", \"hoverinfo\": \"none\", \"line\": {\"color\": \"blue\", \"width\": 0}, \"mode\": \"lines\", \"showlegend\": false, \"type\": \"scatter\", \"x\": [27, 28, 29, 30, 31, 32, 33], \"y\": [2589.0, 2335.0, 2901.0, 3747.0, 4643.0, 5724.0, 7623.0]}, {\"hoverinfo\": \"none\", \"line\": {\"width\": 0}, \"mode\": \"lines\", \"showlegend\": false, \"type\": \"scatter\", \"x\": [12, 13, 14, 15, 16, 17, 18, 19, 20, 21], \"y\": [19883.0, 30171.0, 32133.0, 24243.0, 15480.0, 10869.0, 6334.0, 5319.0, 4099.0, 3133.0]}, {\"fill\": \"tonexty\", \"hoverinfo\": \"none\", \"line\": {\"color\": \"red\", \"width\": 0}, \"mode\": \"lines\", \"showlegend\": false, \"type\": \"scatter\", \"x\": [12, 13, 14, 15, 16, 17, 18, 19, 20, 21], \"y\": [20731.0, 31549.0, 33363.0, 25166.0, 16055.0, 11307.0, 6682.0, 5569.0, 4296.0, 3317.0]}, {\"hoverinfo\": \"none\", \"line\": {\"color\": \"black\", \"width\": 0.9}, \"mode\": \"lines\", \"showlegend\": false, \"type\": \"scatter\", \"x\": [6, 7, 8, 9, 10, 11, 12, 13, 14, 15, 16, 17, 18, 19, 20, 21, 22, 23, 24, 25, 26, 27, 28, 29, 30, 31, 32, 33, 34, 35, 36, 37, 38, 39], \"y\": [7.0, 4.0, 1.0, 138.0, 867.0, 6029.0, 20731.0, 31549.0, 33363.0, 25166.0, 16055.0, 11307.0, 6682.0, 5569.0, 4296.0, 3317.0, 2929.0, 2208.0, 2148.0, 3806.0, 3092.0, 2589.0, 2335.0, 2901.0, 3747.0, 4643.0, 5724.0, 7623.0, 9240.0, 8457.0, 8209.0, 9186.0, 11520.0, 12173.0]}, {\"hoverinfo\": \"none\", \"line\": {\"width\": 0}, \"mode\": \"lines\", \"showlegend\": false, \"type\": \"scatter\", \"x\": [27, 28, 29, 30, 31, 32, 33], \"y\": [2589.0, 2335.0, 2901.0, 3747.0, 4643.0, 5724.0, 7623.0]}, {\"fill\": \"tonexty\", \"hoverinfo\": \"none\", \"line\": {\"color\": \"blue\", \"width\": 0}, \"mode\": \"lines\", \"showlegend\": false, \"type\": \"scatter\", \"x\": [27, 28, 29, 30, 31, 32, 33], \"y\": [2631.0, 2355.0, 2927.0, 3808.0, 4675.0, 5792.0, 7686.0]}, {\"hoverinfo\": \"none\", \"line\": {\"width\": 0}, \"mode\": \"lines\", \"showlegend\": false, \"type\": \"scatter\", \"x\": [12, 13, 14, 15, 16, 17, 18, 19, 20, 21], \"y\": [20731.0, 31549.0, 33363.0, 25166.0, 16055.0, 11307.0, 6682.0, 5569.0, 4296.0, 3317.0]}, {\"fill\": \"tonexty\", \"hoverinfo\": \"none\", \"line\": {\"color\": \"red\", \"width\": 0}, \"mode\": \"lines\", \"showlegend\": false, \"type\": \"scatter\", \"x\": [12, 13, 14, 15, 16, 17, 18, 19, 20, 21], \"y\": [21027.0, 31976.0, 33973.0, 25748.0, 16449.0, 11636.0, 6913.0, 5695.0, 4358.0, 3354.0]}, {\"hoverinfo\": \"none\", \"line\": {\"color\": \"black\", \"width\": 0.9}, \"mode\": \"lines\", \"showlegend\": false, \"type\": \"scatter\", \"x\": [6, 7, 8, 9, 10, 11, 12, 13, 14, 15, 16, 17, 18, 19, 20, 21, 22, 23, 24, 25, 26, 27, 28, 29, 30, 31, 32, 33, 34, 35, 36, 37, 38, 39], \"y\": [7.0, 4.0, 1.0, 139.0, 873.0, 6131.0, 21027.0, 31976.0, 33973.0, 25748.0, 16449.0, 11636.0, 6913.0, 5695.0, 4358.0, 3354.0, 2962.0, 2225.0, 2180.0, 3879.0, 3131.0, 2631.0, 2355.0, 2927.0, 3808.0, 4675.0, 5792.0, 7686.0, 9342.0, 8525.0, 8269.0, 9267.0, 11609.0, 12305.0]}, {\"hoverinfo\": \"none\", \"line\": {\"width\": 0}, \"mode\": \"lines\", \"showlegend\": false, \"type\": \"scatter\", \"x\": [26, 27, 28, 29, 30, 31, 32], \"y\": [3131.0, 2631.0, 2355.0, 2927.0, 3808.0, 4675.0, 5792.0]}, {\"fill\": \"tonexty\", \"hoverinfo\": \"none\", \"line\": {\"color\": \"blue\", \"width\": 0}, \"mode\": \"lines\", \"showlegend\": false, \"type\": \"scatter\", \"x\": [26, 27, 28, 29, 30, 31, 32], \"y\": [3139.0, 2634.0, 2355.0, 2933.0, 3843.0, 4715.0, 5848.0]}, {\"hoverinfo\": \"none\", \"line\": {\"width\": 0}, \"mode\": \"lines\", \"showlegend\": false, \"type\": \"scatter\", \"x\": [12, 13, 14, 15, 16, 17, 18, 19, 20, 21], \"y\": [21027.0, 31976.0, 33973.0, 25748.0, 16449.0, 11636.0, 6913.0, 5695.0, 4358.0, 3354.0]}, {\"fill\": \"tonexty\", \"hoverinfo\": \"none\", \"line\": {\"color\": \"red\", \"width\": 0}, \"mode\": \"lines\", \"showlegend\": false, \"type\": \"scatter\", \"x\": [12, 13, 14, 15, 16, 17, 18, 19, 20, 21], \"y\": [21177.0, 32148.0, 34136.0, 25838.0, 16486.0, 11657.0, 6941.0, 5722.0, 4378.0, 3364.0]}, {\"hoverinfo\": \"none\", \"line\": {\"color\": \"black\", \"width\": 0.9}, \"mode\": \"lines\", \"showlegend\": false, \"type\": \"scatter\", \"x\": [6, 7, 8, 9, 10, 11, 12, 13, 14, 15, 16, 17, 18, 19, 20, 21, 22, 23, 24, 25, 26, 27, 28, 29, 30, 31, 32, 33, 34, 35, 36, 37, 38, 39], \"y\": [7.0, 4.0, 1.0, 139.0, 880.0, 6164.0, 21177.0, 32148.0, 34136.0, 25838.0, 16486.0, 11657.0, 6941.0, 5722.0, 4378.0, 3364.0, 2965.0, 2238.0, 2189.0, 3889.0, 3139.0, 2634.0, 2355.0, 2933.0, 3843.0, 4715.0, 5848.0, 7718.0, 9365.0, 8538.0, 8291.0, 9301.0, 11658.0, 12357.0]}, {\"hoverinfo\": \"none\", \"line\": {\"width\": 0}, \"mode\": \"lines\", \"showlegend\": false, \"type\": \"scatter\", \"x\": [30, 31, 32, 33, 34, 35, 36], \"y\": [3843.0, 4715.0, 5848.0, 7718.0, 9365.0, 8538.0, 8291.0]}, {\"fill\": \"tonexty\", \"hoverinfo\": \"none\", \"line\": {\"color\": \"blue\", \"width\": 0}, \"mode\": \"lines\", \"showlegend\": false, \"type\": \"scatter\", \"x\": [30, 31, 32, 33, 34, 35, 36], \"y\": [3872.0, 4745.0, 5955.0, 7805.0, 9462.0, 8675.0, 8485.0]}, {\"hoverinfo\": \"none\", \"line\": {\"width\": 0}, \"mode\": \"lines\", \"showlegend\": false, \"type\": \"scatter\", \"x\": [12, 13, 14, 15, 16, 17, 18, 19, 20, 21], \"y\": [21177.0, 32148.0, 34136.0, 25838.0, 16486.0, 11657.0, 6941.0, 5722.0, 4378.0, 3364.0]}, {\"fill\": \"tonexty\", \"hoverinfo\": \"none\", \"line\": {\"color\": \"red\", \"width\": 0}, \"mode\": \"lines\", \"showlegend\": false, \"type\": \"scatter\", \"x\": [12, 13, 14, 15, 16, 17, 18, 19, 20, 21], \"y\": [21916.0, 33201.0, 35319.0, 26618.0, 16870.0, 11911.0, 7123.0, 5936.0, 4535.0, 3471.0]}, {\"hoverinfo\": \"none\", \"line\": {\"color\": \"black\", \"width\": 0.9}, \"mode\": \"lines\", \"showlegend\": false, \"type\": \"scatter\", \"x\": [6, 7, 8, 9, 10, 11, 12, 13, 14, 15, 16, 17, 18, 19, 20, 21, 22, 23, 24, 25, 26, 27, 28, 29, 30, 31, 32, 33, 34, 35, 36, 37, 38, 39], \"y\": [7.0, 4.0, 1.0, 139.0, 890.0, 6333.0, 21916.0, 33201.0, 35319.0, 26618.0, 16870.0, 11911.0, 7123.0, 5936.0, 4535.0, 3471.0, 3035.0, 2265.0, 2208.0, 3967.0, 3159.0, 2648.0, 2372.0, 2950.0, 3872.0, 4745.0, 5955.0, 7805.0, 9462.0, 8675.0, 8485.0, 9576.0, 12008.0, 12761.0]}, {\"hoverinfo\": \"none\", \"line\": {\"width\": 0}, \"mode\": \"lines\", \"showlegend\": false, \"type\": \"scatter\", \"x\": [30, 31, 32, 33, 34, 35, 36], \"y\": [3872.0, 4745.0, 5955.0, 7805.0, 9462.0, 8675.0, 8485.0]}, {\"fill\": \"tonexty\", \"hoverinfo\": \"none\", \"line\": {\"color\": \"blue\", \"width\": 0}, \"mode\": \"lines\", \"showlegend\": false, \"type\": \"scatter\", \"x\": [30, 31, 32, 33, 34, 35, 36], \"y\": [3908.0, 4785.0, 5990.0, 7864.0, 9524.0, 8732.0, 8529.0]}, {\"hoverinfo\": \"none\", \"line\": {\"width\": 0}, \"mode\": \"lines\", \"showlegend\": false, \"type\": \"scatter\", \"x\": [12, 13, 14, 15, 16, 17, 18, 19, 20, 21], \"y\": [21916.0, 33201.0, 35319.0, 26618.0, 16870.0, 11911.0, 7123.0, 5936.0, 4535.0, 3471.0]}, {\"fill\": \"tonexty\", \"hoverinfo\": \"none\", \"line\": {\"color\": \"red\", \"width\": 0}, \"mode\": \"lines\", \"showlegend\": false, \"type\": \"scatter\", \"x\": [12, 13, 14, 15, 16, 17, 18, 19, 20, 21], \"y\": [22144.0, 33577.0, 35646.0, 26843.0, 17051.0, 12045.0, 7190.0, 5996.0, 4569.0, 3486.0]}, {\"hoverinfo\": \"none\", \"line\": {\"color\": \"black\", \"width\": 0.9}, \"mode\": \"lines\", \"showlegend\": false, \"type\": \"scatter\", \"x\": [6, 7, 8, 9, 10, 11, 12, 13, 14, 15, 16, 17, 18, 19, 20, 21, 22, 23, 24, 25, 26, 27, 28, 29, 30, 31, 32, 33, 34, 35, 36, 37, 38, 39], \"y\": [7.0, 4.0, 1.0, 139.0, 890.0, 6381.0, 22144.0, 33577.0, 35646.0, 26843.0, 17051.0, 12045.0, 7190.0, 5996.0, 4569.0, 3486.0, 3048.0, 2278.0, 2258.0, 4047.0, 3181.0, 2670.0, 2397.0, 2987.0, 3908.0, 4785.0, 5990.0, 7864.0, 9524.0, 8732.0, 8529.0, 9647.0, 12109.0, 12918.0]}, {\"hoverinfo\": \"none\", \"line\": {\"width\": 0}, \"mode\": \"lines\", \"showlegend\": false, \"type\": \"scatter\", \"x\": [30, 31, 32, 33, 34, 35, 36], \"y\": [3908.0, 4785.0, 5990.0, 7864.0, 9524.0, 8732.0, 8529.0]}, {\"fill\": \"tonexty\", \"hoverinfo\": \"none\", \"line\": {\"color\": \"blue\", \"width\": 0}, \"mode\": \"lines\", \"showlegend\": false, \"type\": \"scatter\", \"x\": [30, 31, 32, 33, 34, 35, 36], \"y\": [3933.0, 4814.0, 6042.0, 7935.0, 9581.0, 8804.0, 8596.0]}, {\"hoverinfo\": \"none\", \"line\": {\"width\": 0}, \"mode\": \"lines\", \"showlegend\": false, \"type\": \"scatter\", \"x\": [12, 13, 14, 15, 16, 17, 18, 19, 20, 21], \"y\": [22144.0, 33577.0, 35646.0, 26843.0, 17051.0, 12045.0, 7190.0, 5996.0, 4569.0, 3486.0]}, {\"fill\": \"tonexty\", \"hoverinfo\": \"none\", \"line\": {\"color\": \"red\", \"width\": 0}, \"mode\": \"lines\", \"showlegend\": false, \"type\": \"scatter\", \"x\": [12, 13, 14, 15, 16, 17, 18, 19, 20, 21], \"y\": [22425.0, 34016.0, 36063.0, 27163.0, 17337.0, 12372.0, 7435.0, 6225.0, 4724.0, 3614.0]}, {\"hoverinfo\": \"none\", \"line\": {\"color\": \"black\", \"width\": 0.9}, \"mode\": \"lines\", \"showlegend\": false, \"type\": \"scatter\", \"x\": [6, 7, 8, 9, 10, 11, 12, 13, 14, 15, 16, 17, 18, 19, 20, 21, 22, 23, 24, 25, 26, 27, 28, 29, 30, 31, 32, 33, 34, 35, 36, 37, 38, 39], \"y\": [7.0, 4.0, 1.0, 139.0, 892.0, 6431.0, 22425.0, 34016.0, 36063.0, 27163.0, 17337.0, 12372.0, 7435.0, 6225.0, 4724.0, 3614.0, 3199.0, 2352.0, 2343.0, 4089.0, 3200.0, 2693.0, 2419.0, 3016.0, 3933.0, 4814.0, 6042.0, 7935.0, 9581.0, 8804.0, 8596.0, 9760.0, 12247.0, 13031.0]}],\n",
       "                        {\"font\": {\"color\": \"black\", \"size\": 18}, \"legend\": {\"orientation\": \"h\", \"title\": {\"text\": \"Period of Analysis:   \"}, \"x\": 0.5, \"xanchor\": \"center\", \"y\": 1, \"yanchor\": \"bottom\"}, \"template\": {\"data\": {\"bar\": [{\"error_x\": {\"color\": \"#2a3f5f\"}, \"error_y\": {\"color\": \"#2a3f5f\"}, \"marker\": {\"line\": {\"color\": \"#E5ECF6\", \"width\": 0.5}}, \"type\": \"bar\"}], \"barpolar\": [{\"marker\": {\"line\": {\"color\": \"#E5ECF6\", \"width\": 0.5}}, \"type\": \"barpolar\"}], \"carpet\": [{\"aaxis\": {\"endlinecolor\": \"#2a3f5f\", \"gridcolor\": \"white\", \"linecolor\": \"white\", \"minorgridcolor\": \"white\", \"startlinecolor\": \"#2a3f5f\"}, \"baxis\": {\"endlinecolor\": \"#2a3f5f\", \"gridcolor\": \"white\", \"linecolor\": \"white\", \"minorgridcolor\": \"white\", \"startlinecolor\": \"#2a3f5f\"}, \"type\": \"carpet\"}], \"choropleth\": [{\"colorbar\": {\"outlinewidth\": 0, \"ticks\": \"\"}, \"type\": \"choropleth\"}], \"contour\": [{\"colorbar\": {\"outlinewidth\": 0, \"ticks\": \"\"}, \"colorscale\": [[0.0, \"#0d0887\"], [0.1111111111111111, \"#46039f\"], [0.2222222222222222, \"#7201a8\"], [0.3333333333333333, \"#9c179e\"], [0.4444444444444444, \"#bd3786\"], [0.5555555555555556, \"#d8576b\"], [0.6666666666666666, \"#ed7953\"], [0.7777777777777778, \"#fb9f3a\"], [0.8888888888888888, \"#fdca26\"], [1.0, \"#f0f921\"]], \"type\": \"contour\"}], \"contourcarpet\": [{\"colorbar\": {\"outlinewidth\": 0, \"ticks\": \"\"}, \"type\": \"contourcarpet\"}], \"heatmap\": [{\"colorbar\": {\"outlinewidth\": 0, \"ticks\": \"\"}, \"colorscale\": [[0.0, \"#0d0887\"], [0.1111111111111111, \"#46039f\"], [0.2222222222222222, \"#7201a8\"], [0.3333333333333333, \"#9c179e\"], [0.4444444444444444, \"#bd3786\"], [0.5555555555555556, \"#d8576b\"], [0.6666666666666666, \"#ed7953\"], [0.7777777777777778, \"#fb9f3a\"], [0.8888888888888888, \"#fdca26\"], [1.0, \"#f0f921\"]], \"type\": \"heatmap\"}], \"heatmapgl\": [{\"colorbar\": {\"outlinewidth\": 0, \"ticks\": \"\"}, \"colorscale\": [[0.0, \"#0d0887\"], [0.1111111111111111, \"#46039f\"], [0.2222222222222222, \"#7201a8\"], [0.3333333333333333, \"#9c179e\"], [0.4444444444444444, \"#bd3786\"], [0.5555555555555556, \"#d8576b\"], [0.6666666666666666, \"#ed7953\"], [0.7777777777777778, \"#fb9f3a\"], [0.8888888888888888, \"#fdca26\"], [1.0, \"#f0f921\"]], \"type\": \"heatmapgl\"}], \"histogram\": [{\"marker\": {\"colorbar\": {\"outlinewidth\": 0, \"ticks\": \"\"}}, \"type\": \"histogram\"}], \"histogram2d\": [{\"colorbar\": {\"outlinewidth\": 0, \"ticks\": \"\"}, \"colorscale\": [[0.0, \"#0d0887\"], [0.1111111111111111, \"#46039f\"], [0.2222222222222222, \"#7201a8\"], [0.3333333333333333, \"#9c179e\"], [0.4444444444444444, \"#bd3786\"], [0.5555555555555556, \"#d8576b\"], [0.6666666666666666, \"#ed7953\"], [0.7777777777777778, \"#fb9f3a\"], [0.8888888888888888, \"#fdca26\"], [1.0, \"#f0f921\"]], \"type\": \"histogram2d\"}], \"histogram2dcontour\": [{\"colorbar\": {\"outlinewidth\": 0, \"ticks\": \"\"}, \"colorscale\": [[0.0, \"#0d0887\"], [0.1111111111111111, \"#46039f\"], [0.2222222222222222, \"#7201a8\"], [0.3333333333333333, \"#9c179e\"], [0.4444444444444444, \"#bd3786\"], [0.5555555555555556, \"#d8576b\"], [0.6666666666666666, \"#ed7953\"], [0.7777777777777778, \"#fb9f3a\"], [0.8888888888888888, \"#fdca26\"], [1.0, \"#f0f921\"]], \"type\": \"histogram2dcontour\"}], \"mesh3d\": [{\"colorbar\": {\"outlinewidth\": 0, \"ticks\": \"\"}, \"type\": \"mesh3d\"}], \"parcoords\": [{\"line\": {\"colorbar\": {\"outlinewidth\": 0, \"ticks\": \"\"}}, \"type\": \"parcoords\"}], \"pie\": [{\"automargin\": true, \"type\": \"pie\"}], \"scatter\": [{\"marker\": {\"colorbar\": {\"outlinewidth\": 0, \"ticks\": \"\"}}, \"type\": \"scatter\"}], \"scatter3d\": [{\"line\": {\"colorbar\": {\"outlinewidth\": 0, \"ticks\": \"\"}}, \"marker\": {\"colorbar\": {\"outlinewidth\": 0, \"ticks\": \"\"}}, \"type\": \"scatter3d\"}], \"scattercarpet\": [{\"marker\": {\"colorbar\": {\"outlinewidth\": 0, \"ticks\": \"\"}}, \"type\": \"scattercarpet\"}], \"scattergeo\": [{\"marker\": {\"colorbar\": {\"outlinewidth\": 0, \"ticks\": \"\"}}, \"type\": \"scattergeo\"}], \"scattergl\": [{\"marker\": {\"colorbar\": {\"outlinewidth\": 0, \"ticks\": \"\"}}, \"type\": \"scattergl\"}], \"scattermapbox\": [{\"marker\": {\"colorbar\": {\"outlinewidth\": 0, \"ticks\": \"\"}}, \"type\": \"scattermapbox\"}], \"scatterpolar\": [{\"marker\": {\"colorbar\": {\"outlinewidth\": 0, \"ticks\": \"\"}}, \"type\": \"scatterpolar\"}], \"scatterpolargl\": [{\"marker\": {\"colorbar\": {\"outlinewidth\": 0, \"ticks\": \"\"}}, \"type\": \"scatterpolargl\"}], \"scatterternary\": [{\"marker\": {\"colorbar\": {\"outlinewidth\": 0, \"ticks\": \"\"}}, \"type\": \"scatterternary\"}], \"surface\": [{\"colorbar\": {\"outlinewidth\": 0, \"ticks\": \"\"}, \"colorscale\": [[0.0, \"#0d0887\"], [0.1111111111111111, \"#46039f\"], [0.2222222222222222, \"#7201a8\"], [0.3333333333333333, \"#9c179e\"], [0.4444444444444444, \"#bd3786\"], [0.5555555555555556, \"#d8576b\"], [0.6666666666666666, \"#ed7953\"], [0.7777777777777778, \"#fb9f3a\"], [0.8888888888888888, \"#fdca26\"], [1.0, \"#f0f921\"]], \"type\": \"surface\"}], \"table\": [{\"cells\": {\"fill\": {\"color\": \"#EBF0F8\"}, \"line\": {\"color\": \"white\"}}, \"header\": {\"fill\": {\"color\": \"#C8D4E3\"}, \"line\": {\"color\": \"white\"}}, \"type\": \"table\"}]}, \"layout\": {\"annotationdefaults\": {\"arrowcolor\": \"#2a3f5f\", \"arrowhead\": 0, \"arrowwidth\": 1}, \"coloraxis\": {\"colorbar\": {\"outlinewidth\": 0, \"ticks\": \"\"}}, \"colorscale\": {\"diverging\": [[0, \"#8e0152\"], [0.1, \"#c51b7d\"], [0.2, \"#de77ae\"], [0.3, \"#f1b6da\"], [0.4, \"#fde0ef\"], [0.5, \"#f7f7f7\"], [0.6, \"#e6f5d0\"], [0.7, \"#b8e186\"], [0.8, \"#7fbc41\"], [0.9, \"#4d9221\"], [1, \"#276419\"]], \"sequential\": [[0.0, \"#0d0887\"], [0.1111111111111111, \"#46039f\"], [0.2222222222222222, \"#7201a8\"], [0.3333333333333333, \"#9c179e\"], [0.4444444444444444, \"#bd3786\"], [0.5555555555555556, \"#d8576b\"], [0.6666666666666666, \"#ed7953\"], [0.7777777777777778, \"#fb9f3a\"], [0.8888888888888888, \"#fdca26\"], [1.0, \"#f0f921\"]], \"sequentialminus\": [[0.0, \"#0d0887\"], [0.1111111111111111, \"#46039f\"], [0.2222222222222222, \"#7201a8\"], [0.3333333333333333, \"#9c179e\"], [0.4444444444444444, \"#bd3786\"], [0.5555555555555556, \"#d8576b\"], [0.6666666666666666, \"#ed7953\"], [0.7777777777777778, \"#fb9f3a\"], [0.8888888888888888, \"#fdca26\"], [1.0, \"#f0f921\"]]}, \"colorway\": [\"#636efa\", \"#EF553B\", \"#00cc96\", \"#ab63fa\", \"#FFA15A\", \"#19d3f3\", \"#FF6692\", \"#B6E880\", \"#FF97FF\", \"#FECB52\"], \"font\": {\"color\": \"#2a3f5f\"}, \"geo\": {\"bgcolor\": \"white\", \"lakecolor\": \"white\", \"landcolor\": \"#E5ECF6\", \"showlakes\": true, \"showland\": true, \"subunitcolor\": \"white\"}, \"hoverlabel\": {\"align\": \"left\"}, \"hovermode\": \"closest\", \"mapbox\": {\"style\": \"light\"}, \"paper_bgcolor\": \"white\", \"plot_bgcolor\": \"#E5ECF6\", \"polar\": {\"angularaxis\": {\"gridcolor\": \"white\", \"linecolor\": \"white\", \"ticks\": \"\"}, \"bgcolor\": \"#E5ECF6\", \"radialaxis\": {\"gridcolor\": \"white\", \"linecolor\": \"white\", \"ticks\": \"\"}}, \"scene\": {\"xaxis\": {\"backgroundcolor\": \"#E5ECF6\", \"gridcolor\": \"white\", \"gridwidth\": 2, \"linecolor\": \"white\", \"showbackground\": true, \"ticks\": \"\", \"zerolinecolor\": \"white\"}, \"yaxis\": {\"backgroundcolor\": \"#E5ECF6\", \"gridcolor\": \"white\", \"gridwidth\": 2, \"linecolor\": \"white\", \"showbackground\": true, \"ticks\": \"\", \"zerolinecolor\": \"white\"}, \"zaxis\": {\"backgroundcolor\": \"#E5ECF6\", \"gridcolor\": \"white\", \"gridwidth\": 2, \"linecolor\": \"white\", \"showbackground\": true, \"ticks\": \"\", \"zerolinecolor\": \"white\"}}, \"shapedefaults\": {\"line\": {\"color\": \"#2a3f5f\"}}, \"ternary\": {\"aaxis\": {\"gridcolor\": \"white\", \"linecolor\": \"white\", \"ticks\": \"\"}, \"baxis\": {\"gridcolor\": \"white\", \"linecolor\": \"white\", \"ticks\": \"\"}, \"bgcolor\": \"#E5ECF6\", \"caxis\": {\"gridcolor\": \"white\", \"linecolor\": \"white\", \"ticks\": \"\"}}, \"title\": {\"x\": 0.05}, \"xaxis\": {\"automargin\": true, \"gridcolor\": \"white\", \"linecolor\": \"white\", \"ticks\": \"\", \"title\": {\"standoff\": 15}, \"zerolinecolor\": \"white\", \"zerolinewidth\": 2}, \"yaxis\": {\"automargin\": true, \"gridcolor\": \"white\", \"linecolor\": \"white\", \"ticks\": \"\", \"title\": {\"standoff\": 15}, \"zerolinecolor\": \"white\", \"zerolinewidth\": 2}}}, \"title\": {\"text\": \"Weekly New Covid-19 Cases in Germany by Province\", \"x\": 0.5, \"xanchor\": \"center\"}, \"xaxis\": {\"title\": {\"text\": \"2020 Calendar Week\"}}, \"yaxis\": {\"title\": {\"text\": \"Weekly New Cases\"}}},\n",
       "                        {\"responsive\": true}\n",
       "                    ).then(function(){\n",
       "                            \n",
       "var gd = document.getElementById('908b4df5-f724-4716-bf7f-da4234ac55e0');\n",
       "var x = new MutationObserver(function (mutations, observer) {{\n",
       "        var display = window.getComputedStyle(gd).display;\n",
       "        if (!display || display === 'none') {{\n",
       "            console.log([gd, 'removed!']);\n",
       "            Plotly.purge(gd);\n",
       "            observer.disconnect();\n",
       "        }}\n",
       "}});\n",
       "\n",
       "// Listen for the removal of the full notebook cells\n",
       "var notebookContainer = gd.closest('#notebook-container');\n",
       "if (notebookContainer) {{\n",
       "    x.observe(notebookContainer, {childList: true});\n",
       "}}\n",
       "\n",
       "// Listen for the clearing of the current output cell\n",
       "var outputEl = gd.closest('.output');\n",
       "if (outputEl) {{\n",
       "    x.observe(outputEl, {childList: true});\n",
       "}}\n",
       "\n",
       "                        })\n",
       "                };\n",
       "                });\n",
       "            </script>\n",
       "        </div>"
      ]
     },
     "metadata": {},
     "output_type": "display_data"
    }
   ],
   "source": [
    "# Y_VAR = 'cases_per_cap'\n",
    "Y_VAR = 'AnzahlFall'\n",
    "\n",
    "fig = go.Figure()\n",
    "\n",
    "value_repo = {}\n",
    "\n",
    "stackr = {}\n",
    "for i in np.unique(plot_data.week_no):\n",
    "    stackr[i] = 0\n",
    "\n",
    "bl_range = range(1,17) #parametrized here in order to change order etc\n",
    "    \n",
    "for bl in bl_range:\n",
    "    \n",
    "    df_bl = plot_data[plot_data.Bundesland==bl]\n",
    "\n",
    "    X_all = []\n",
    "    Y_all = []\n",
    "    X_lockdown = []\n",
    "    Y_lockdown = []\n",
    "    X_summer = []\n",
    "    Y_summer = []\n",
    "\n",
    "    for i, val in df_bl.iterrows():\n",
    "\n",
    "        x_ = val.week_no\n",
    "        stackr[x_] += val[Y_VAR]\n",
    "        y_ = stackr[x_]\n",
    "\n",
    "        X_all.append(x_)\n",
    "        Y_all.append(y_)\n",
    "\n",
    "        if val.active_lockdown:\n",
    "            X_lockdown.append(x_)\n",
    "            Y_lockdown.append(y_)\n",
    "\n",
    "        if val.summer_vac:\n",
    "            X_summer.append(x_)\n",
    "            Y_summer.append(y_)\n",
    "            \n",
    "        \n",
    "    value_repo[bl] = {'all':pd.Series(Y_all,index=X_all),\n",
    "                      'Active Lockdown':pd.Series(Y_lockdown,index=X_lockdown),\n",
    "                      'Summer Vacation':pd.Series(Y_summer,index=X_summer)}\n",
    "\n",
    "    \n",
    "def add_areas(bl, timeslice, color):\n",
    "    \n",
    "    suppl_line_attrs = {'mode':'lines','line_width':0,'hoverinfo':'none'}\n",
    "    \n",
    "    not_first = bl != bl_range[0]\n",
    "    \n",
    "    if not_first:#this creates invisible lines for the areas to fill down towards, otherwise area borders are not vertical\n",
    "        last_y = value_repo[bl-1]['all']\n",
    "        last_y = last_y[last_y.index.isin(vals[timeslice].index)]\n",
    "        \n",
    "        fig.add_trace(go.Scatter(x=vals[timeslice].index,\n",
    "                                 y=last_y,\n",
    "                                 fill=None,\n",
    "                                 showlegend=False,\n",
    "                                 **suppl_line_attrs))\n",
    "    \n",
    "    fig.add_trace(go.Scatter(x=vals[timeslice].index,\n",
    "                             y=vals[timeslice],\n",
    "                             fill='tonexty' if not_first else 'tozeroy',\n",
    "                             #explicit tozeroy, because we add traces per BL multiple times,\n",
    "                             name=None if not_first else timeslice,\n",
    "                             showlegend= not not_first,\n",
    "                             line_color=color,\n",
    "                             **suppl_line_attrs))\n",
    "    \n",
    "for bl in bl_range: #not iter directly over dict to potentially change order\n",
    "    vals = value_repo[bl]\n",
    "    #now summer\n",
    "    add_areas(bl, 'Summer Vacation', 'blue')\n",
    "    \n",
    "    #now the lockdown\n",
    "    add_areas(bl, 'Active Lockdown', 'red')\n",
    "    \n",
    "    \n",
    "    #now rest\n",
    "    fig.add_trace(go.Scatter(x=vals['all'].index,\n",
    "                             y=vals['all'],\n",
    "                             fill=None,\n",
    "                             showlegend=False,\n",
    "                             line_color='black',\n",
    "                             line_width=.9,\n",
    "                             mode='lines',\n",
    "                             hoverinfo='none'))\n",
    "\n",
    "# fig.update_layout(showlegend=False)\n",
    "\n",
    "fig.update_layout(\n",
    "    title=dict(\n",
    "        text=\"Weekly New Covid-19 Cases in Germany by Province\",\n",
    "        xanchor='center',\n",
    "        x=.5),\n",
    "    xaxis_title=\"2020 Calendar Week\",\n",
    "    yaxis_title=\"Weekly New Cases\",\n",
    "    legend_title=\"Period of Analysis:   \",\n",
    "    legend=dict(\n",
    "        orientation=\"h\",\n",
    "        yanchor=\"bottom\",\n",
    "        y=1,\n",
    "        xanchor=\"center\",\n",
    "        x=0.5\n",
    "    ),\n",
    "    font=dict(\n",
    "        size=18,\n",
    "        color=\"black\"\n",
    "    )\n",
    ")\n",
    "fig.show()\n"
   ]
  },
  {
   "cell_type": "code",
   "execution_count": 18,
   "metadata": {},
   "outputs": [
    {
     "data": {
      "text/plain": [
       "['__class__',\n",
       " '__contains__',\n",
       " '__delattr__',\n",
       " '__dict__',\n",
       " '__dir__',\n",
       " '__doc__',\n",
       " '__eq__',\n",
       " '__format__',\n",
       " '__ge__',\n",
       " '__getattribute__',\n",
       " '__getitem__',\n",
       " '__gt__',\n",
       " '__hash__',\n",
       " '__init__',\n",
       " '__init_subclass__',\n",
       " '__iter__',\n",
       " '__le__',\n",
       " '__lt__',\n",
       " '__module__',\n",
       " '__ne__',\n",
       " '__new__',\n",
       " '__reduce__',\n",
       " '__reduce_ex__',\n",
       " '__repr__',\n",
       " '__setattr__',\n",
       " '__setitem__',\n",
       " '__sizeof__',\n",
       " '__str__',\n",
       " '__subclasshook__',\n",
       " '__weakref__',\n",
       " '_add_annotation_like',\n",
       " '_allow_disable_validation',\n",
       " '_animation_duration_validator',\n",
       " '_animation_easing_validator',\n",
       " '_batch_layout_edits',\n",
       " '_batch_trace_edits',\n",
       " '_bracket_re',\n",
       " '_build_dispatch_plan',\n",
       " '_build_update_params_from_batch',\n",
       " '_config',\n",
       " '_data',\n",
       " '_data_defaults',\n",
       " '_data_objs',\n",
       " '_data_validator',\n",
       " '_dispatch_layout_change_callbacks',\n",
       " '_dispatch_trace_change_callbacks',\n",
       " '_frame_objs',\n",
       " '_frames_validator',\n",
       " '_get_child_prop_defaults',\n",
       " '_get_child_props',\n",
       " '_grid_ref',\n",
       " '_grid_str',\n",
       " '_in_batch_mode',\n",
       " '_index_is',\n",
       " '_init_child_props',\n",
       " '_initialize_layout_template',\n",
       " '_ipython_display_',\n",
       " '_is_dict_list',\n",
       " '_is_key_path_compatible',\n",
       " '_layout',\n",
       " '_layout_defaults',\n",
       " '_layout_obj',\n",
       " '_layout_validator',\n",
       " '_normalize_trace_indexes',\n",
       " '_perform_batch_animate',\n",
       " '_perform_plotly_relayout',\n",
       " '_perform_plotly_restyle',\n",
       " '_perform_plotly_update',\n",
       " '_perform_select_traces',\n",
       " '_perform_update',\n",
       " '_raise_invalid_rows_cols',\n",
       " '_relayout_child',\n",
       " '_repr_html_',\n",
       " '_repr_mimebundle_',\n",
       " '_restyle_child',\n",
       " '_select_annotations_like',\n",
       " '_select_layout_subplots_by_prefix',\n",
       " '_selector_matches',\n",
       " '_send_addTraces_msg',\n",
       " '_send_animate_msg',\n",
       " '_send_deleteTraces_msg',\n",
       " '_send_moveTraces_msg',\n",
       " '_send_relayout_msg',\n",
       " '_send_restyle_msg',\n",
       " '_send_update_msg',\n",
       " '_set_in',\n",
       " '_set_trace_grid_position',\n",
       " '_set_trace_uid',\n",
       " '_str_to_dict_path',\n",
       " '_to_ordered_dict',\n",
       " '_valid_underscore_properties',\n",
       " '_validate',\n",
       " '_validate_get_grid_ref',\n",
       " '_validate_rows_cols',\n",
       " 'add_annotation',\n",
       " 'add_area',\n",
       " 'add_bar',\n",
       " 'add_barpolar',\n",
       " 'add_box',\n",
       " 'add_candlestick',\n",
       " 'add_carpet',\n",
       " 'add_choropleth',\n",
       " 'add_choroplethmapbox',\n",
       " 'add_cone',\n",
       " 'add_contour',\n",
       " 'add_contourcarpet',\n",
       " 'add_densitymapbox',\n",
       " 'add_funnel',\n",
       " 'add_funnelarea',\n",
       " 'add_heatmap',\n",
       " 'add_heatmapgl',\n",
       " 'add_histogram',\n",
       " 'add_histogram2d',\n",
       " 'add_histogram2dcontour',\n",
       " 'add_image',\n",
       " 'add_indicator',\n",
       " 'add_isosurface',\n",
       " 'add_layout_image',\n",
       " 'add_mesh3d',\n",
       " 'add_ohlc',\n",
       " 'add_parcats',\n",
       " 'add_parcoords',\n",
       " 'add_pie',\n",
       " 'add_pointcloud',\n",
       " 'add_sankey',\n",
       " 'add_scatter',\n",
       " 'add_scatter3d',\n",
       " 'add_scattercarpet',\n",
       " 'add_scattergeo',\n",
       " 'add_scattergl',\n",
       " 'add_scattermapbox',\n",
       " 'add_scatterpolar',\n",
       " 'add_scatterpolargl',\n",
       " 'add_scatterternary',\n",
       " 'add_shape',\n",
       " 'add_splom',\n",
       " 'add_streamtube',\n",
       " 'add_sunburst',\n",
       " 'add_surface',\n",
       " 'add_table',\n",
       " 'add_trace',\n",
       " 'add_traces',\n",
       " 'add_treemap',\n",
       " 'add_violin',\n",
       " 'add_volume',\n",
       " 'add_waterfall',\n",
       " 'append_trace',\n",
       " 'batch_animate',\n",
       " 'batch_update',\n",
       " 'data',\n",
       " 'for_each_annotation',\n",
       " 'for_each_coloraxis',\n",
       " 'for_each_geo',\n",
       " 'for_each_layout_image',\n",
       " 'for_each_mapbox',\n",
       " 'for_each_polar',\n",
       " 'for_each_scene',\n",
       " 'for_each_shape',\n",
       " 'for_each_ternary',\n",
       " 'for_each_trace',\n",
       " 'for_each_xaxis',\n",
       " 'for_each_yaxis',\n",
       " 'frames',\n",
       " 'get_subplot',\n",
       " 'layout',\n",
       " 'plotly_relayout',\n",
       " 'plotly_restyle',\n",
       " 'plotly_update',\n",
       " 'pop',\n",
       " 'print_grid',\n",
       " 'select_annotations',\n",
       " 'select_coloraxes',\n",
       " 'select_geos',\n",
       " 'select_layout_images',\n",
       " 'select_mapboxes',\n",
       " 'select_polars',\n",
       " 'select_scenes',\n",
       " 'select_shapes',\n",
       " 'select_ternaries',\n",
       " 'select_traces',\n",
       " 'select_xaxes',\n",
       " 'select_yaxes',\n",
       " 'show',\n",
       " 'to_dict',\n",
       " 'to_html',\n",
       " 'to_image',\n",
       " 'to_json',\n",
       " 'to_ordered_dict',\n",
       " 'to_plotly_json',\n",
       " 'update',\n",
       " 'update_annotations',\n",
       " 'update_coloraxes',\n",
       " 'update_geos',\n",
       " 'update_layout',\n",
       " 'update_layout_images',\n",
       " 'update_mapboxes',\n",
       " 'update_polars',\n",
       " 'update_scenes',\n",
       " 'update_shapes',\n",
       " 'update_ternaries',\n",
       " 'update_traces',\n",
       " 'update_xaxes',\n",
       " 'update_yaxes',\n",
       " 'write_html',\n",
       " 'write_image',\n",
       " 'write_json']"
      ]
     },
     "execution_count": 18,
     "metadata": {},
     "output_type": "execute_result"
    }
   ],
   "source": [
    "dir(fig)"
   ]
  },
  {
   "cell_type": "code",
   "execution_count": null,
   "metadata": {},
   "outputs": [],
   "source": []
  },
  {
   "cell_type": "code",
   "execution_count": null,
   "metadata": {},
   "outputs": [],
   "source": []
  },
  {
   "cell_type": "code",
   "execution_count": null,
   "metadata": {
    "scrolled": false
   },
   "outputs": [],
   "source": [
    "#THIS WORKS!!!!\n",
    "fig = go.Figure()\n",
    "\n",
    "value_repo = {}\n",
    "\n",
    "stackr = {}\n",
    "for i in np.unique(plot_data.week_no):\n",
    "    stackr[i] = 0\n",
    "\n",
    "for bl in range(1,17):\n",
    "    \n",
    "    df_bl = plot_data[plot_data.Bundesland==bl]\n",
    "\n",
    "    X_all = []\n",
    "    Y_all = []\n",
    "    X_lockdown = []\n",
    "    Y_lockdown = []\n",
    "    X_summer = []\n",
    "    Y_summer = []\n",
    "\n",
    "    for i, val in df_bl.iterrows():\n",
    "\n",
    "        x_ = val.week_no\n",
    "        stackr[x_] += val.AnzahlFall\n",
    "        y_ = stackr[x_]\n",
    "\n",
    "        X_all.append(x_)\n",
    "        Y_all.append(y_)\n",
    "\n",
    "        if val.active_lockdown:\n",
    "            X_lockdown.append(x_)\n",
    "            Y_lockdown.append(y_)\n",
    "\n",
    "        if val.summer_vac:\n",
    "            X_summer.append(x_)\n",
    "            Y_summer.append(y_)\n",
    "            \n",
    "        \n",
    "    value_repo[bl] = {'X_all':X_all,\n",
    "                     'Y_all':Y_all,\n",
    "                      'all':pd.Series(Y_all,index=X_all),\n",
    "                     'X_lockdown':X_lockdown,\n",
    "                     'Y_lockdown':Y_lockdown,\n",
    "                      'lockdown':pd.Series(Y_lockdown,index=X_lockdown),\n",
    "                     'X_summer':X_summer,\n",
    "                     'Y_summer':Y_summer,\n",
    "                      'summer':pd.Series(Y_summer,index=X_summer)}\n",
    "\n",
    "\n",
    "for bl, vals in value_repo.items():\n",
    "    \n",
    "    #now the lockdown\n",
    "    if bl > 1:\n",
    "        last_y = value_repo[bl-1]['all']\n",
    "        last_y = last_y[last_y.index.isin(vals['lockdown'].index)]\n",
    "        fig.add_trace(go.Scatter(x=vals['X_lockdown'],\n",
    "                      y=last_y,\n",
    "                      fill=None,\n",
    "                     mode='lines'))\n",
    "    \n",
    "    fig.add_trace(go.Scatter(x=vals['X_lockdown'],\n",
    "                      y=vals['Y_lockdown'],\n",
    "                      fill='tonexty' if bl > 1 else 'tozeroy',#explicit tozero, because we add traces per BL multiple times,\n",
    "                      mode='lines'))\n",
    "    \n",
    "    #now summer\n",
    "    if bl > 1:\n",
    "        last_y = value_repo[bl-1]['all']\n",
    "        last_y = last_y[last_y.index.isin(vals['summer'].index)]\n",
    "        fig.add_trace(go.Scatter(x=vals['X_summer'],\n",
    "                      y=last_y,\n",
    "                      fill=None,\n",
    "                     mode='lines'))\n",
    "    \n",
    "    fig.add_trace(go.Scatter(x=vals['X_summer'],\n",
    "                      y=vals['Y_summer'],\n",
    "                      fill='tonexty' if bl > 1 else 'tozeroy',\n",
    "                     mode='lines'))\n",
    "    \n",
    "    #now rest\n",
    "    fig.add_trace(go.Scatter(x=vals['X_all'],\n",
    "                      y=vals['Y_all'],\n",
    "                      fill=None,\n",
    "                      mode='lines'))\n",
    "\n",
    "\n",
    "fig.show()"
   ]
  },
  {
   "cell_type": "code",
   "execution_count": null,
   "metadata": {},
   "outputs": [],
   "source": [
    "value_repo"
   ]
  },
  {
   "cell_type": "code",
   "execution_count": 6,
   "metadata": {},
   "outputs": [],
   "source": [
    "# def state_pivot(df_in):\n",
    "#     df = df_in.pivot(index='week_no',columns='Bundesland',values='AnzahlFall')\n",
    "#     for c in df.columns:\n",
    "#         df['BL'+str(c)] = df[c]\n",
    "#         df.drop(columns=c,inplace=True)\n",
    "        \n",
    "#     return df\n",
    "\n",
    "# wide_data = state_pivot(plot_data)\n",
    "# wide_lockdown = state_pivot(plot_lockdown)\n",
    "# wide_summer = state_pivot(plot_summer)"
   ]
  },
  {
   "cell_type": "code",
   "execution_count": null,
   "metadata": {},
   "outputs": [],
   "source": []
  },
  {
   "cell_type": "code",
   "execution_count": null,
   "metadata": {
    "scrolled": true
   },
   "outputs": [],
   "source": [
    "#OLD VERSION\n",
    "\n",
    "fig = go.Figure()\n",
    "\n",
    "def trace_addr(df,fill = False):\n",
    "    stackr = {}\n",
    "    for i in np.unique(plot_data.week_no):\n",
    "        stackr[i] = 0\n",
    "        \n",
    "    for bl in range(1,17):\n",
    "        df_bl = df[df.Bundesland==bl]\n",
    "        all_bl = plot_data[plot_data.Bundesland==bl]\n",
    "            \n",
    "        X = []\n",
    "        Y = []\n",
    "        \n",
    "        for i, val in all_bl.iterrows():\n",
    "            \n",
    "            x_ = val['week_no']\n",
    "            stackr[x_] += val['AnzahlFall']\n",
    "            if x_ in df_bl.week_no.values:\n",
    "                y_ = stackr[x_]\n",
    "                X.append(x_)\n",
    "                Y.append(y_)\n",
    "        \n",
    "        if fill:\n",
    "            fill_ = 'tonexty' if bl > 1 else 'tozeroy'#explicit tozero, because we'll call the function multiple times\n",
    "        else:\n",
    "            fill_ = None\n",
    "            \n",
    "        fig.add_trace(go.Scatter(x=X,\n",
    "                          y=Y,\n",
    "                          fill=fill_,\n",
    "                          mode='lines'))\n",
    "\n",
    "trace_addr(plot_data,False)\n",
    "trace_addr(plot_lockdown,True)\n",
    "trace_addr(plot_summer,True)\n",
    "\n",
    "fig.show()"
   ]
  },
  {
   "cell_type": "code",
   "execution_count": null,
   "metadata": {},
   "outputs": [],
   "source": [
    "#OLD VERSION\n",
    "\n",
    "fig = go.Figure()\n",
    "\n",
    "def trace_addr(df,fill = False):\n",
    "    stackr = {}\n",
    "    for i in df.index:\n",
    "        stackr[i] = 0\n",
    "    for bl in range(1,17):\n",
    "        \n",
    "        for i, val in df['BL'+str(bl)].iteritems():\n",
    "            stackr[i] += val\n",
    "        \n",
    "        if fill:\n",
    "            fill_ = 'tonexty' if bl > 1 else 'tozeroy'\n",
    "        else:\n",
    "            fill_ = None\n",
    "        fig.add_trace(go.Scatter(x=[*stackr.keys()],\n",
    "                          y=[*stackr.values()],\n",
    "                          fill=fill_,\n",
    "                          mode='lines'))\n",
    "\n",
    "# trace_addr(wide_data,False)\n",
    "# trace_addr(wide_lockdown,True)\n",
    "trace_addr(wide_summer,True)\n",
    "\n",
    "fig.show()"
   ]
  },
  {
   "cell_type": "code",
   "execution_count": null,
   "metadata": {},
   "outputs": [],
   "source": [
    "for _,v in plot_data.iterrows():\n",
    "    print(v.summer_vac)"
   ]
  },
  {
   "cell_type": "code",
   "execution_count": null,
   "metadata": {},
   "outputs": [],
   "source": []
  },
  {
   "cell_type": "code",
   "execution_count": null,
   "metadata": {},
   "outputs": [],
   "source": []
  },
  {
   "cell_type": "code",
   "execution_count": null,
   "metadata": {},
   "outputs": [],
   "source": []
  },
  {
   "cell_type": "code",
   "execution_count": null,
   "metadata": {},
   "outputs": [],
   "source": []
  },
  {
   "cell_type": "code",
   "execution_count": null,
   "metadata": {},
   "outputs": [],
   "source": []
  },
  {
   "cell_type": "code",
   "execution_count": null,
   "metadata": {},
   "outputs": [],
   "source": [
    "col_list = [wide_data[c] for c in wide_data.columns]\n",
    "\n",
    "# plt.stackplot(wide_data.index,*col_list,fill=None)\n",
    "col_list"
   ]
  },
  {
   "cell_type": "code",
   "execution_count": null,
   "metadata": {},
   "outputs": [],
   "source": [
    "plot_data.AnzahlFall.plot.area()"
   ]
  },
  {
   "cell_type": "code",
   "execution_count": null,
   "metadata": {},
   "outputs": [],
   "source": []
  },
  {
   "cell_type": "code",
   "execution_count": null,
   "metadata": {},
   "outputs": [],
   "source": []
  },
  {
   "cell_type": "code",
   "execution_count": null,
   "metadata": {},
   "outputs": [],
   "source": []
  },
  {
   "cell_type": "code",
   "execution_count": null,
   "metadata": {},
   "outputs": [],
   "source": []
  },
  {
   "cell_type": "code",
   "execution_count": null,
   "metadata": {},
   "outputs": [],
   "source": []
  },
  {
   "cell_type": "code",
   "execution_count": null,
   "metadata": {},
   "outputs": [],
   "source": []
  },
  {
   "cell_type": "markdown",
   "metadata": {},
   "source": [
    "### Issis Work below "
   ]
  },
  {
   "cell_type": "markdown",
   "metadata": {},
   "source": [
    "# Data Preparation"
   ]
  },
  {
   "cell_type": "code",
   "execution_count": null,
   "metadata": {},
   "outputs": [],
   "source": [
    "rki_daily = pd.read_csv('./rki_daily.csv')\n",
    "rki_daily.head()"
   ]
  },
  {
   "cell_type": "code",
   "execution_count": null,
   "metadata": {},
   "outputs": [],
   "source": [
    "rki_daily.info()"
   ]
  },
  {
   "cell_type": "markdown",
   "metadata": {},
   "source": [
    "#### Turn Meldedatum into datetime format"
   ]
  },
  {
   "cell_type": "code",
   "execution_count": null,
   "metadata": {},
   "outputs": [],
   "source": [
    "rki_daily.loc[:, 'Meldedatum'] = pd.to_datetime(rki_daily.loc[:, 'Meldedatum'])"
   ]
  },
  {
   "cell_type": "code",
   "execution_count": null,
   "metadata": {},
   "outputs": [],
   "source": [
    "rki_daily.info()"
   ]
  },
  {
   "cell_type": "markdown",
   "metadata": {},
   "source": [
    "#### Add Bundesland as Preparation for Ferien"
   ]
  },
  {
   "cell_type": "code",
   "execution_count": null,
   "metadata": {},
   "outputs": [],
   "source": [
    "rki_daily['Bundesland'] = rki_daily.loc[:, 'districtId'] // 1000\n",
    "rki_daily"
   ]
  },
  {
   "cell_type": "markdown",
   "metadata": {},
   "source": [
    "#### Add Week No as Preparation for Ferien"
   ]
  },
  {
   "cell_type": "code",
   "execution_count": null,
   "metadata": {},
   "outputs": [],
   "source": [
    "rki_daily['week_no'] = rki_daily['Meldedatum'].dt.week\n",
    "rki_daily.head()"
   ]
  },
  {
   "cell_type": "markdown",
   "metadata": {},
   "source": [
    "#### Add Ferien\n",
    "Same approach as in notebook 06_deviance_analysis.ipynb"
   ]
  },
  {
   "cell_type": "code",
   "execution_count": null,
   "metadata": {},
   "outputs": [],
   "source": [
    "summer_vac_dict = {8: 31,\n",
    "                   9: 31,\n",
    "                   11: 27,\n",
    "                   12: 27,\n",
    "                   4: 25,\n",
    "                   2: 27,\n",
    "                   6: 28,\n",
    "                   13: 26,\n",
    "                   3: 30,\n",
    "                   5: 27,\n",
    "                   7: 28,\n",
    "                   10: 28,\n",
    "                   14: 30,\n",
    "                   15: 30,\n",
    "                   1: 27,\n",
    "                   16: 30}\n",
    "\n",
    "summer_vac_df = pd.DataFrame()\n",
    "offset = 1\n",
    "# offsetting the summer vacation by one week, even though performance measure/target already\n",
    "# 'looks' one week into the future, to include all travel-returners' effects. Could also be 0 or 2?\n",
    "\n",
    "for bl, start in summer_vac_dict.items():\n",
    "    summer_vac = [start + offset + no for no in range(0, 6)]\n",
    "    bl_data = rki_daily.loc[rki_daily.loc[:, 'Bundesland']\n",
    "                            == bl, ['districtId', 'week_no']].copy()\n",
    "    bl_data['summer_vac'] = bl_data.week_no.isin(summer_vac)\n",
    "    summer_vac_df = summer_vac_df.append(bl_data)\n",
    "\n",
    "rki_daily = pd.merge(rki_daily, summer_vac_df, how='outer')"
   ]
  },
  {
   "cell_type": "markdown",
   "metadata": {},
   "source": [
    "## Handling Lockdown and Summer Vacation"
   ]
  },
  {
   "cell_type": "markdown",
   "metadata": {},
   "source": [
    "### Lockdown"
   ]
  },
  {
   "cell_type": "code",
   "execution_count": null,
   "metadata": {},
   "outputs": [],
   "source": [
    "rki_daily_plot = rki_daily.loc[:, ['Meldedatum',\n",
    "                                   'AnzahlFall']].groupby('Meldedatum').sum()\n",
    "rki_daily_plot.head()"
   ]
  },
  {
   "cell_type": "code",
   "execution_count": null,
   "metadata": {},
   "outputs": [],
   "source": [
    "# ToDo - what are the exact dates?\n",
    "start_lck = dt.datetime(2020, 3, 20)\n",
    "start_lck_wk = 12\n",
    "end_lck = dt.datetime(2020, 5, 3)\n",
    "end_lck_wk = 18"
   ]
  },
  {
   "cell_type": "markdown",
   "metadata": {},
   "source": [
    "### Summer Vacation"
   ]
  },
  {
   "cell_type": "code",
   "execution_count": null,
   "metadata": {},
   "outputs": [],
   "source": [
    "rki_daily_vac = rki_daily.loc[:, ['Meldedatum', 'Bundesland', 'summer_vac', 'week_no', 'AnzahlFall']].groupby(\n",
    "    ['summer_vac', 'Bundesland', 'week_no', 'Meldedatum']).sum()\n",
    "rki_daily_vac.reset_index(drop=False, inplace=True)\n",
    "rki_daily_vac.head()"
   ]
  },
  {
   "cell_type": "markdown",
   "metadata": {},
   "source": [
    "# Visualizing Lockdown"
   ]
  },
  {
   "cell_type": "markdown",
   "metadata": {},
   "source": [
    "Source: https://plotly.com/python/shapes/"
   ]
  },
  {
   "cell_type": "code",
   "execution_count": null,
   "metadata": {},
   "outputs": [],
   "source": [
    "import plotly\n",
    "import logging\n",
    "from plotly.subplots import make_subplots\n",
    "import plotly.graph_objects as go"
   ]
  },
  {
   "cell_type": "code",
   "execution_count": null,
   "metadata": {},
   "outputs": [],
   "source": [
    "df_for_plotly = rki_daily_plot.copy()\n",
    "df_for_plotly.reset_index(drop=False, inplace=True)\n",
    "df_for_plotly"
   ]
  },
  {
   "cell_type": "markdown",
   "metadata": {},
   "source": [
    "#### Visualizing Lockdown Function"
   ]
  },
  {
   "cell_type": "code",
   "execution_count": null,
   "metadata": {},
   "outputs": [],
   "source": [
    "def visualize_lockdown(df, start_lck, end_lck, start_color='palegreen', end_color='salmon'):\n",
    "    \"\"\"\n",
    "    this function visualises the infections per day over all Bundesländer\n",
    "    it requires:\n",
    "        - a dataframe with corona infections per day\n",
    "        - start and end date of the lockdown\n",
    "        - colors for lines marking the start & end of the lockdown; defaults are respectively set\n",
    "    \"\"\"\n",
    "\n",
    "    fig = go.Figure()\n",
    "\n",
    "    # The main plot\n",
    "    fig.add_trace(go.Scatter(x=df['Meldedatum'],\n",
    "                             y=df['AnzahlFall'],\n",
    "                             line_color='lightslategray',\n",
    "                             line_width=2))\n",
    "\n",
    "    fig.add_shape(\n",
    "        type='line',\n",
    "        yref='paper', y0=0, y1=1,\n",
    "        xref='x', x0=start_lck, x1=start_lck,\n",
    "        line=dict(color=start_color, width=3, dash='dash'),\n",
    "        opacity=0.8,\n",
    "    )\n",
    "\n",
    "    fig.add_trace(go.Scatter(\n",
    "        x=df_for_plotly.loc[df_for_plotly['Meldedatum']\n",
    "                            == start_lck, 'Meldedatum'],\n",
    "        y=np.array(df_for_plotly.loc[:, 'AnzahlFall'].max()),\n",
    "        mode=\"lines+text\",\n",
    "        name=\"Lines and Text\",\n",
    "        text=[\"Lockdown Start\"],\n",
    "        textposition=\"top right\",\n",
    "        textfont=dict(\n",
    "            #family=\"sans serif\",\n",
    "            size=12,\n",
    "            color=start_color\n",
    "        )\n",
    "    ))\n",
    "\n",
    "    fig.add_shape(\n",
    "        type='line',\n",
    "        yref='paper', y0=0, y1=1,\n",
    "        xref='x', x0=end_lck, x1=end_lck,\n",
    "        line=dict(color=end_color, width=3, dash='dash'),\n",
    "        opacity=0.8,\n",
    "    )\n",
    "\n",
    "    fig.add_trace(go.Scatter(\n",
    "        x=df_for_plotly.loc[df_for_plotly['Meldedatum']\n",
    "                            == end_lck, 'Meldedatum'],\n",
    "        y=np.array(df_for_plotly.loc[:, 'AnzahlFall'].max()),\n",
    "        mode=\"lines+text\",\n",
    "        name=\"Lines and Text\",\n",
    "        text=[\"Lockdown End\"],\n",
    "        textposition=\"top right\",\n",
    "        textfont=dict(\n",
    "            #family=\"sans serif\",\n",
    "            size=12,\n",
    "            color=end_color\n",
    "        )\n",
    "    ))\n",
    "\n",
    "    fig.update_layout(showlegend=False,\n",
    "                      title_text='Corona Infections on a Daily Basis (all Bundesländer)')\n",
    "\n",
    "    fig.show()"
   ]
  },
  {
   "cell_type": "code",
   "execution_count": null,
   "metadata": {
    "scrolled": true
   },
   "outputs": [],
   "source": [
    "visualize_lockdown(df_for_plotly, start_lck, end_lck,\n",
    "                   start_color='palegreen', end_color='salmon')"
   ]
  },
  {
   "cell_type": "code",
   "execution_count": null,
   "metadata": {
    "scrolled": true
   },
   "outputs": [],
   "source": [
    "fig = go.Figure()\n",
    "\n",
    "# The main plot\n",
    "fig.add_trace(go.Scatter(x=df_for_plotly['Meldedatum'],\n",
    "                         y=df_for_plotly['AnzahlFall'],\n",
    "                         line_color='lightslategray',\n",
    "                         line_width=2))\n",
    "\n",
    "fig.add_shape(\n",
    "    type='line',\n",
    "    yref='paper', y0=0, y1=1,\n",
    "    xref='x', x0=start_lck, x1=start_lck,\n",
    "    line=dict(color=\"palegreen\", width=3, dash='dash'),\n",
    "    opacity=0.8,\n",
    ")\n",
    "\n",
    "fig.add_trace(go.Scatter(\n",
    "    x=df_for_plotly.loc[df_for_plotly['Meldedatum']\n",
    "                        == start_lck, 'Meldedatum'],\n",
    "    y=np.array(df_for_plotly.loc[:, 'AnzahlFall'].max()),\n",
    "    mode=\"lines+text\",\n",
    "    name=\"Lines and Text\",\n",
    "    text=[\"Lockdown Start\"],\n",
    "    textposition=\"top right\",\n",
    "    textfont=dict(\n",
    "        #family=\"sans serif\",\n",
    "        size=12,\n",
    "        color=\"palegreen\"\n",
    "    )\n",
    "))\n",
    "\n",
    "fig.add_shape(\n",
    "    type='line',\n",
    "    yref='paper', y0=0, y1=1,\n",
    "    xref='x', x0=end_lck, x1=end_lck,\n",
    "    line=dict(color=\"salmon\", width=3, dash='dash'),\n",
    "    opacity=0.8,\n",
    ")\n",
    "\n",
    "fig.add_trace(go.Scatter(\n",
    "    x=df_for_plotly.loc[df_for_plotly['Meldedatum'] == end_lck, 'Meldedatum'],\n",
    "    y=np.array(df_for_plotly.loc[:, 'AnzahlFall'].max()),\n",
    "    mode=\"lines+text\",\n",
    "    name=\"Lines and Text\",\n",
    "    text=[\"Lockdown End\"],\n",
    "    textposition=\"top right\",\n",
    "    textfont=dict(\n",
    "        #family=\"sans serif\",\n",
    "        size=12,\n",
    "        color=\"salmon\"\n",
    "    )\n",
    "))\n",
    "\n",
    "fig.update_layout(showlegend=False,\n",
    "                  title_text='Corona Infections on a Daily Basis (all Bundesländer)')"
   ]
  },
  {
   "cell_type": "markdown",
   "metadata": {},
   "source": [
    "# Visualizing Summer Vacation"
   ]
  },
  {
   "cell_type": "markdown",
   "metadata": {},
   "source": [
    "Sources: \n",
    "- general idea: https://towardsdatascience.com/interactive-climate-data-visualizations-with-python-plotly-de0472490b09\n",
    "- for marking the start of the vacation - https://plotly.com/python/bar-charts/\n",
    "- colors: https://community.plotly.com/t/plotly-colours-list/11730/5 & https://plotly.com/python/builtin-colorscales/\n",
    "- show all values on x-axis: https://stackoverflow.com/questions/34755707/how-to-show-all-x-axis-tick-values-in-plotly"
   ]
  },
  {
   "cell_type": "code",
   "execution_count": null,
   "metadata": {
    "scrolled": true
   },
   "outputs": [],
   "source": [
    "rki_vac_group = rki_daily_vac.groupby(\n",
    "    ['summer_vac', 'week_no', 'Bundesland']).sum()\n",
    "rki_vac_group.reset_index(drop=False, inplace=True)\n",
    "rki_vac_group.loc[(rki_vac_group['Bundesland'] == 4), :]\n",
    "# rki_vac_group"
   ]
  },
  {
   "cell_type": "markdown",
   "metadata": {},
   "source": [
    "#### Visualising Summer Vacation Function"
   ]
  },
  {
   "cell_type": "code",
   "execution_count": null,
   "metadata": {},
   "outputs": [],
   "source": [
    "def visualize_summer_vac(df, summer_vac_dict,\n",
    "                         main_color='lightslategray',\n",
    "                         start_vac='palegreen',\n",
    "                         end_vac='salmon'):\n",
    "    \"\"\"\n",
    "    this function visualises the Corona Cases per Summer Vacation week for all the Bundesländer \n",
    "    that have vacation in these weeks\n",
    "    it takes as inputs: \n",
    "        - a dataframe with columns 'summer_vac'(boolean), 'week_no', 'Bundesland', 'AnzahlFall' (Corona infections per week\n",
    "        - a dictionary with keys the Bundesländer and values starting week of summer vacation\n",
    "        - \n",
    "    it outputs: \n",
    "    - star & end of vacation\n",
    "    \"\"\"\n",
    "\n",
    "    # modification of the summer vacation dictionary to get\n",
    "    # unique starting weeks\n",
    "    # bundesland lists per starting week (inverse dictionary)\n",
    "    summer_vac_weeks = pd.Series(summer_vac_dict.values()).unique()\n",
    "    summer_vac_weeks = np.sort(summer_vac_weeks)\n",
    "\n",
    "    summer_vac_inv = {vac_wk: [k for k in summer_vac_dict.keys() if summer_vac_dict[k] == vac_wk]\n",
    "                      for vac_wk in set(summer_vac_dict.values())}\n",
    "\n",
    "    # mask creation for respective filtering\n",
    "    vac_mask = df.loc[:, 'summer_vac'] == True\n",
    "    week_list = rki_vac_group.loc[vac_mask, 'week_no'].unique()\n",
    "    week_list_adj = week_list - 1\n",
    "    week_mask = rki_vac_group.loc[:, 'week_no'].isin(week_list_adj)\n",
    "\n",
    "    # Plotting\n",
    "    fig = go.Figure()\n",
    "\n",
    "    colors = [main_color, ] * len(week_list_adj)\n",
    "    # rows calculation should be more parametised\n",
    "    fig = make_subplots(rows=len(summer_vac_weeks)//2+1, cols=2,\n",
    "                        shared_xaxes=False, shared_yaxes=False, vertical_spacing=0.15)\n",
    "\n",
    "    for i in range(len(week_list_adj)):\n",
    "        week_no = week_list_adj[i]\n",
    "        if week_no in summer_vac_weeks:\n",
    "            bl_list = summer_vac_inv[week_no]\n",
    "            bl_mask = df.loc[:, 'Bundesland'].isin(bl_list)\n",
    "            y_tmp = df.loc[(bl_mask) & (week_mask), [\n",
    "                'week_no', 'AnzahlFall']].groupby('week_no').sum()\n",
    "            y_tmp.reset_index(drop=False, inplace=True)\n",
    "            colors_tmp = colors.copy()\n",
    "            colors_tmp[i] = start_vac\n",
    "            colors_tmp[i+5] = end_vac\n",
    "            fig.add_trace(\n",
    "                go.Bar(\n",
    "                    x=week_list_adj,\n",
    "                    y=y_tmp.loc[:, 'AnzahlFall'],\n",
    "                    marker_color=colors_tmp\n",
    "                ),\n",
    "                row=((i // 2) + 1), col=((i % 2) + 1),\n",
    "            )\n",
    "            fig.update_xaxes(title_text=f'Vacation start in wk {week_no}  for Bundesländer {summer_vac_inv[week_no]}',\n",
    "                             title_font=dict(\n",
    "                                        size=12,\n",
    "                                        color=main_color\n",
    "                             ),\n",
    "                             row=(i // 2) + 1, col=((i % 2) + 1), tickmode='linear')\n",
    "        # 29 should be parametised\n",
    "        elif week_no == 29:\n",
    "            fig.add_trace(\n",
    "                go.Bar(\n",
    "                    x=week_list_adj,\n",
    "                    y=np.zeros(len(week_list_adj),),\n",
    "                ),\n",
    "                row=((i // 2) + 1), col=((i % 2) + 1),\n",
    "            )\n",
    "            fig.update_xaxes(title_text=f'No vacation start in wk {week_no}',\n",
    "                             title_font=dict(\n",
    "                                        size=12,\n",
    "                                        color=main_color\n",
    "                             ),\n",
    "                             row=(i // 2) + 1, col=((i % 2) + 1), tickmode='linear')\n",
    "\n",
    "    fig.update_layout(showlegend=False,\n",
    "                      title_text='Corona Infections per Summer Vacation Week')\n",
    "    #fig.update_yaxes(range=[np.min(df.loc[vac_mask, 'AnzahlFall']),np.max(df.loc[vac_mask, 'AnzahlFall'])], fixedrange=True)\n",
    "    fig.show()"
   ]
  },
  {
   "cell_type": "code",
   "execution_count": null,
   "metadata": {},
   "outputs": [],
   "source": [
    "visualize_summer_vac(rki_vac_group, summer_vac_dict,\n",
    "                     main_color='lightslategray',\n",
    "                     start_vac='palegreen',\n",
    "                     end_vac='salmon')"
   ]
  },
  {
   "cell_type": "code",
   "execution_count": null,
   "metadata": {},
   "outputs": [],
   "source": [
    "summer_vac_weeks = pd.Series(summer_vac_dict.values()).unique()\n",
    "summer_vac_weeks = np.sort(summer_vac_weeks)\n",
    "summer_vac_weeks"
   ]
  },
  {
   "cell_type": "code",
   "execution_count": null,
   "metadata": {},
   "outputs": [],
   "source": [
    "rki_daily.loc[:, 'Bundesland'].unique()"
   ]
  },
  {
   "cell_type": "markdown",
   "metadata": {},
   "source": [
    "https://stackoverflow.com/questions/54249400/python-how-to-group-keys-that-have-the-same-values-in-a-dictionary"
   ]
  },
  {
   "cell_type": "code",
   "execution_count": null,
   "metadata": {},
   "outputs": [],
   "source": [
    "summer_vac_inv = {vac_wk: [k for k in summer_vac_dict.keys() if summer_vac_dict[k] == vac_wk]\n",
    "                  for vac_wk in set(summer_vac_dict.values())}\n",
    "summer_vac_inv"
   ]
  },
  {
   "cell_type": "code",
   "execution_count": null,
   "metadata": {},
   "outputs": [],
   "source": [
    "summer_vac_inv"
   ]
  },
  {
   "cell_type": "code",
   "execution_count": null,
   "metadata": {},
   "outputs": [],
   "source": [
    "summer_vac_weeks"
   ]
  },
  {
   "cell_type": "code",
   "execution_count": null,
   "metadata": {},
   "outputs": [],
   "source": [
    "# adjustments are done in order for all Bundesländer to be included\n",
    "# as starting date was taken the date in the summer_vac_dict\n",
    "\n",
    "summer_vac_inv_adj = {vac_wk+1: [k for k in summer_vac_dict.keys() if summer_vac_dict[k] == vac_wk]\n",
    "                      for vac_wk in set(summer_vac_dict.values())}\n",
    "vac_mask = rki_vac_group.loc[:, 'summer_vac'] == True\n",
    "week_list = rki_vac_group.loc[vac_mask, 'week_no'].unique()\n",
    "week_list_adj = week_list - 1\n",
    "week_mask = rki_vac_group.loc[:, 'week_no'].isin(week_list_adj)"
   ]
  },
  {
   "cell_type": "code",
   "execution_count": null,
   "metadata": {},
   "outputs": [],
   "source": [
    "fig = go.Figure()\n",
    "\n",
    "colors = ['lightslategray', ] * len(week_list_adj)\n",
    "fig = make_subplots(rows=len(summer_vac_weeks)//2+1, cols=2,\n",
    "                    shared_xaxes=False, shared_yaxes=False, vertical_spacing=0.15)\n",
    "\n",
    "for i in range(len(week_list_adj)):\n",
    "    week_no = week_list_adj[i]\n",
    "    if week_no in summer_vac_weeks:\n",
    "        bl_list = summer_vac_inv[week_no]\n",
    "        bl_mask = rki_vac_group.loc[:, 'Bundesland'].isin(bl_list)\n",
    "        y_tmp = rki_vac_group.loc[(bl_mask) & (week_mask), [\n",
    "            'week_no', 'AnzahlFall']].groupby('week_no').sum()\n",
    "        y_tmp.reset_index(drop=False, inplace=True)\n",
    "        colors_tmp = colors.copy()\n",
    "        colors_tmp[i] = 'palegreen'\n",
    "        colors_tmp[i+5] = 'salmon'\n",
    "        fig.add_trace(\n",
    "            go.Bar(\n",
    "                x=week_list_adj,\n",
    "                y=y_tmp.loc[:, 'AnzahlFall'],\n",
    "                marker_color=colors_tmp\n",
    "            ),\n",
    "            row=((i // 2) + 1), col=((i % 2) + 1),\n",
    "        )\n",
    "        fig.update_xaxes(title_text=f'Vacation start in wk {week_no}  for Bundesländer {summer_vac_inv[week_no]}',\n",
    "                         title_font=dict(\n",
    "                                    size=12,\n",
    "                                    color=\"lightslategray\"\n",
    "                         ),\n",
    "                         row=(i // 2) + 1, col=((i % 2) + 1), tickmode='linear')\n",
    "    elif week_no == 29:\n",
    "        fig.add_trace(\n",
    "            go.Bar(\n",
    "                x=week_list_adj,\n",
    "                y=np.zeros(len(week_list_adj),),\n",
    "            ),\n",
    "            row=((i // 2) + 1), col=((i % 2) + 1),\n",
    "        )\n",
    "        fig.update_xaxes(title_text=f'No vacation start in wk {week_no}',\n",
    "                         title_font=dict(\n",
    "                                    size=12,\n",
    "                                    color=\"lightslategray\"\n",
    "                         ),\n",
    "                         row=(i // 2) + 1, col=((i % 2) + 1), tickmode='linear')\n",
    "\n",
    "\n",
    "fig.update_layout(showlegend=False,\n",
    "                  title_text='Corona Infections per Summer Vacation Week')\n",
    "#fig.update_yaxes(range=[np.min(rki_vac_group.loc[vac_mask, 'AnzahlFall']),np.max(rki_vac_group.loc[vac_mask, 'AnzahlFall'])], fixedrange=True)\n",
    "fig.show()"
   ]
  },
  {
   "cell_type": "code",
   "execution_count": null,
   "metadata": {},
   "outputs": [],
   "source": [
    "vac_mask_31 = rki_vac_group.loc[:, 'summer_vac'] == True\n",
    "wk_mask_31 = rki_vac_group.loc[:, 'week_no'] == 32\n",
    "bl_mask_31 = rki_vac_group.loc[:, 'Bundesland'].isin([8, 9])\n",
    "\n",
    "df_31 = rki_vac_group.loc[(vac_mask_31) & (wk_mask_31) & (\n",
    "    bl_mask_31), :].groupby('week_no').sum()\n",
    "df_31"
   ]
  },
  {
   "cell_type": "code",
   "execution_count": null,
   "metadata": {},
   "outputs": [],
   "source": [
    "rki_vac_group"
   ]
  },
  {
   "cell_type": "markdown",
   "metadata": {},
   "source": [
    "# Plotly Filled Area"
   ]
  },
  {
   "cell_type": "markdown",
   "metadata": {},
   "source": [
    "Sources: \n",
    "- https://www.geeksforgeeks.org/how-to-create-stacked-area-plot-using-plotly-in-python/\n",
    "- https://community.plotly.com/t/color-change-by-range-in-line-chart/17829/2\n",
    "- https://plotly.com/python/filled-area-plots/"
   ]
  },
  {
   "cell_type": "code",
   "execution_count": null,
   "metadata": {},
   "outputs": [],
   "source": [
    "rki_bl_cases = rki_daily_vac.loc[:, ['week_no', 'Bundesland', 'AnzahlFall']].groupby(\n",
    "    ['week_no', 'Bundesland']).sum()\n",
    "rki_bl_cases.reset_index(drop=False, inplace=True)\n",
    "rki_bl_cases['cumsum'] = rki_bl_cases.groupby(\n",
    "    by=['week_no'])['AnzahlFall'].transform(lambda x: x.cumsum())\n",
    "#rki_bl_cases.loc[(rki_bl_cases['Bundesland'] == 4), :]\n",
    "# rki_bl_cases"
   ]
  },
  {
   "cell_type": "code",
   "execution_count": null,
   "metadata": {},
   "outputs": [],
   "source": [
    "weeks_lck = np.arange(start_lck_wk, end_lck_wk+1)\n",
    "weeks_lck\n",
    "\n",
    "weeks_before_lck = np.arange(\n",
    "    rki_bl_cases.loc[:, 'week_no'].min(), start_lck_wk)\n",
    "weeks_after_lck = np.arange(end_lck_wk, rki_bl_cases.loc[:, 'week_no'].max())"
   ]
  },
  {
   "cell_type": "code",
   "execution_count": null,
   "metadata": {},
   "outputs": [],
   "source": [
    "before_lck = rki_bl_cases.loc[:, 'week_no'] < start_lck_wk\n",
    "after_lck = rki_bl_cases.loc[:, 'week_no'] > end_lck_wk\n",
    "lck_mask = rki_bl_cases.loc[:, 'week_no'].isin(weeks_lck)\n",
    "# rki_vac_group.loc[after_lck,'week_no'].unique()"
   ]
  },
  {
   "cell_type": "code",
   "execution_count": null,
   "metadata": {},
   "outputs": [],
   "source": [
    "df_plt_filled = rki_bl_cases.copy()"
   ]
  },
  {
   "cell_type": "code",
   "execution_count": null,
   "metadata": {},
   "outputs": [],
   "source": [
    "#df_plt_filled['color_or_not'] = df_plt_filled['week_no'].apply(lambda x: True if x in weeks_lck or x in summer_vac_weeks else 'no lck or vac')"
   ]
  },
  {
   "cell_type": "code",
   "execution_count": null,
   "metadata": {},
   "outputs": [],
   "source": [
    "def f(df):\n",
    "    if df['week_no'] in weeks_lck or df['week_no'] in summer_vac_weeks:\n",
    "        val = f\"{df['Bundesland']}, sum vac start {summer_vac_dict[df['Bundesland']]}\"\n",
    "    else:\n",
    "        val = 'no lck or vac'\n",
    "    return val"
   ]
  },
  {
   "cell_type": "code",
   "execution_count": null,
   "metadata": {},
   "outputs": [],
   "source": [
    "df_plt_filled['color_or_not'] = df_plt_filled.apply(f, axis=1)"
   ]
  },
  {
   "cell_type": "code",
   "execution_count": null,
   "metadata": {},
   "outputs": [],
   "source": [
    "df_plt_filled[df_plt_filled['week_no'] == 5].head()"
   ]
  },
  {
   "cell_type": "code",
   "execution_count": null,
   "metadata": {},
   "outputs": [],
   "source": [
    "import plotly.express as px\n",
    "df = df_plt_filled\n",
    "\n",
    "fig = px.area(df_plt_filled, x=\"week_no\", y=\"AnzahlFall\", color=\"color_or_not\",\n",
    "              line_group=\"Bundesland\",\n",
    "              labels={\"week_no\": \"week no\", \"AnzahlFall\": \"Number of Infections\",\n",
    "                      \"color_or_not\": \"Bundesland\"}\n",
    "              )\n",
    "\n",
    "\n",
    "fig.add_shape(\n",
    "    type='line',\n",
    "    yref='paper', y0=0, y1=1,\n",
    "    xref='x', x0=start_lck_wk, x1=start_lck_wk,\n",
    "    line=dict(color=\"blue\", width=2, dash='dash'),\n",
    "    opacity=0.25,\n",
    ")\n",
    "\n",
    "fig.add_trace(go.Scatter(\n",
    "    x=df_plt_filled.loc[df_plt_filled['week_no'] == start_lck_wk, 'week_no'],\n",
    "    y=np.array(df_plt_filled.loc[:, 'cumsum'].max()),\n",
    "    mode=\"lines+text\",\n",
    "    name=\"Lines and Text\",\n",
    "    text=[\"Lockdown Start\"],\n",
    "    textposition=\"top right\",\n",
    "    textfont=dict(\n",
    "        #family=\"sans serif\",\n",
    "        size=12,\n",
    "        color=\"blue\"\n",
    "    ),\n",
    "    opacity=0.25,\n",
    "    showlegend=False\n",
    "))\n",
    "\n",
    "\n",
    "fig.add_shape(\n",
    "    type='line',\n",
    "    yref='paper', y0=0, y1=1,\n",
    "    xref='x', x0=end_lck_wk, x1=end_lck_wk,\n",
    "    line=dict(color=\"blue\", width=2, dash='dash'),\n",
    "    opacity=0.25,\n",
    ")\n",
    "\n",
    "fig.add_trace(go.Scatter(\n",
    "    x=df_plt_filled.loc[df_plt_filled['week_no'] == end_lck_wk, 'week_no'],\n",
    "    y=np.array(df_plt_filled.loc[:, 'cumsum'].max()),\n",
    "    mode=\"lines+text\",\n",
    "    name=\"Lines and Text\",\n",
    "    text=[\"Lockdown End\"],\n",
    "    textposition=\"top right\",\n",
    "    textfont=dict(\n",
    "        #family=\"sans serif\",\n",
    "        size=12,\n",
    "        color=\"blue\"\n",
    "    ),\n",
    "    opacity=0.25,\n",
    "    showlegend=False\n",
    "))\n",
    "\n",
    "\n",
    "for wk in summer_vac_weeks:\n",
    "    fig.add_annotation(x=wk,\n",
    "                       y=np.array(\n",
    "                           df_plt_filled.loc[df_plt_filled['week_no'] == wk, 'cumsum'].max()),\n",
    "                       #text=f'vac start {summer_vac_inv[wk]}',\n",
    "                       showarrow=True,\n",
    "                       arrowsize=2,\n",
    "                       arrowhead=1,\n",
    "                       arrowcolor='blue',\n",
    "                       opacity=0.25,\n",
    "                       textangle=0\n",
    "                       )\n",
    "\n",
    "\n",
    "fig.update_layout(showlegend=True,\n",
    "                  title_text='Corona Infections per Bundesland. Highlights: Lockdown & Summer Vacation Week')\n",
    "\n",
    "fig.show()"
   ]
  },
  {
   "cell_type": "markdown",
   "metadata": {},
   "source": [
    "## Experiments"
   ]
  },
  {
   "cell_type": "markdown",
   "metadata": {},
   "source": [
    "Source: \n",
    "- general: https://mode.com/example-gallery/python_chart_annotations/\n",
    "- matplotlib colors: https://matplotlib.org/examples/color/named_colors.html"
   ]
  },
  {
   "cell_type": "code",
   "execution_count": null,
   "metadata": {},
   "outputs": [],
   "source": [
    "ax = rki_daily_plot['AnzahlFall'].plot(\n",
    "    color='grey', figsize=(11, 8), fontsize=11, zorder=2)\n",
    "\n",
    "# Despine\n",
    "ax.spines['right'].set_visible(False)\n",
    "ax.spines['top'].set_visible(False)\n",
    "ax.spines['left'].set_visible(False)\n",
    "ax.spines['bottom'].set_visible(False)\n",
    "\n",
    "# Remove x-axis label\n",
    "ax.set_xlabel('')\n",
    "\n",
    "# Switch off ticks\n",
    "ax.tick_params(axis=\"both\", which=\"both\", bottom=\"off\", top=\"off\",\n",
    "               labelbottom=\"on\", left=\"off\", right=\"off\", labelleft=\"on\")\n",
    "\n",
    "# Get y-axis tick values\n",
    "vals = ax.get_yticks()\n",
    "\n",
    "# Draw horizontal axis lines\n",
    "for val in vals:\n",
    "    ax.axhline(y=val, linestyle='dashed', alpha=0.3, color='grey', zorder=1)\n",
    "\n",
    "# Format y-axis label\n",
    "ax.yaxis.set_major_formatter(StrMethodFormatter('{x:,g}'))\n",
    "\n",
    "# Set y-axis label\n",
    "ax.set_ylabel(\"Corona Infections per Day\",\n",
    "              labelpad=20, weight='bold', color='grey')\n",
    "\n",
    "# Set title\n",
    "ax.set_title('Corona Infections on a Daily Basis (all Bundesländer)')\n",
    "\n",
    "# Set y-axis limit\n",
    "ylim = ax.set_ylim(bottom=0)\n",
    "\n",
    "\n",
    "# Annotate\n",
    "x_line_ann_start = start_lck\n",
    "x_line_ann_end = end_lck\n",
    "x_text_ann_start = start_lck\n",
    "x_text_ann_end = end_lck\n",
    "ax.axvline(x=x_line_ann_start, linestyle='dashed',\n",
    "           alpha=0.8, color='palegreen')\n",
    "ax.axvline(x=x_line_ann_end, linestyle='dashed', alpha=0.8, color='salmon')\n",
    "ax.text(x=x_text_ann_start, y=np.max(\n",
    "    rki_daily_plot.loc[:, 'AnzahlFall']), s='Lockdown Start', alpha=0.8, color='palegreen')\n",
    "ax.text(x=x_text_ann_end, y=np.max(\n",
    "    rki_daily_plot.loc[:, 'AnzahlFall']), s='Lockdown End', alpha=0.8, color='salmon')"
   ]
  },
  {
   "cell_type": "markdown",
   "metadata": {},
   "source": [
    "Source: https://towardsdatascience.com/interactive-climate-data-visualizations-with-python-plotly-de0472490b09"
   ]
  },
  {
   "cell_type": "code",
   "execution_count": null,
   "metadata": {},
   "outputs": [],
   "source": [
    "import plotly.express as px\n",
    "\n",
    "vac_mask_simple = rki_vac_group.loc[:, 'summer_vac'] == True\n",
    "simple_df = rki_vac_group[vac_mask_simple]\n",
    "fig = px.bar(simple_df, x='week_no', y='AnzahlFall',\n",
    "             color='Bundesland', facet_row='Bundesland')\n",
    "fig.show()"
   ]
  },
  {
   "cell_type": "code",
   "execution_count": null,
   "metadata": {},
   "outputs": [],
   "source": [
    "import plotly.express as px"
   ]
  },
  {
   "cell_type": "code",
   "execution_count": null,
   "metadata": {},
   "outputs": [],
   "source": [
    "short_df = rki_vac_group[(vac_mask_simple)]\n",
    "fig = px.bar(short_df, x='Bundesland', y='AnzahlFall', color='AnzahlFall',\n",
    "             facet_col='week_no')\n",
    "fig.show()"
   ]
  },
  {
   "cell_type": "code",
   "execution_count": null,
   "metadata": {},
   "outputs": [],
   "source": [
    "g = sns.FacetGrid(rki_vac_group.loc[vac_mask, :],\n",
    "                  row=\"week_no\", col='Bundesland', hue=\"AnzahlFall\")\n",
    "g.map(sns.barplot, \"week_no\", \"AnzahlFall\", alpha=.7)\n",
    "g.add_legend()"
   ]
  },
  {
   "cell_type": "code",
   "execution_count": null,
   "metadata": {},
   "outputs": [],
   "source": [
    "g = sns.FacetGrid(rki_vac_group, col='summer_vac', hue=\"Bundesland\")\n",
    "g.map(sns.barplot, \"week_no\", \"AnzahlFall\", alpha=.7)\n",
    "g.add_legend()"
   ]
  },
  {
   "cell_type": "markdown",
   "metadata": {},
   "source": [
    "# Plotly Filled Area Experiments"
   ]
  },
  {
   "cell_type": "markdown",
   "metadata": {},
   "source": [
    "Main source: https://community.plotly.com/t/color-change-by-range-in-line-chart/17829/2\n",
    "- secondary: https://plotly.com/python/filled-area-plots/"
   ]
  },
  {
   "cell_type": "code",
   "execution_count": null,
   "metadata": {},
   "outputs": [],
   "source": [
    "# colors_list = ['aliceblue', 'antiquewhite', 'aqua', 'aquamarine', 'azure',\n",
    "#                'beige', 'bisque', 'black', 'blanchedalmond', 'blue',\n",
    "#                'blueviolet', 'brown', 'burlywood', 'cadetblue',\n",
    "#                'chartreuse', 'chocolate']\n",
    "colors_list = ['#ef55f1', '#fb84ce', '#fbafa1', '#fcd471', '#f0ed35', '#c6e516', '#96d310', '#61c10b',\n",
    "               '#31ac28', '#439064', '#3d719a', '#284ec8', '#2e21ea', '#6324f5', '#9139fa', '#c543fa']\n",
    "len(colors_list)"
   ]
  },
  {
   "cell_type": "code",
   "execution_count": null,
   "metadata": {},
   "outputs": [],
   "source": [
    "df_plt_exp = rki_bl_cases.copy()"
   ]
  },
  {
   "cell_type": "code",
   "execution_count": null,
   "metadata": {},
   "outputs": [],
   "source": [
    "df_plt_exp['cumsum'].where(df_plt_exp.week_no.isin(weeks_lck))"
   ]
  },
  {
   "cell_type": "code",
   "execution_count": null,
   "metadata": {},
   "outputs": [],
   "source": [
    "# challenges:\n",
    "# - it does not fill if set to 'tonexty' (see graph below)\n",
    "# - if set to 'tozeroy', it fills everything and covers the previous colors (no opacity)\n",
    "# - have to use cum sum, otherwise it does not stack it\n",
    "\n",
    "import plotly.graph_objects as go\n",
    "from plotly.offline import init_notebook_mode, iplot\n",
    "\n",
    "fig = go.Figure()\n",
    "\n",
    "for bl in df_plt_exp.loc[:, 'Bundesland'].unique():\n",
    "    tmp_df = df_plt_exp.loc[df_plt_exp['Bundesland'] == bl, :]\n",
    "    bl_mask = df_plt_exp.loc[:, 'Bundesland'] == bl\n",
    "    vac_weeks_bl = np.arange(summer_vac_dict[bl], summer_vac_dict[bl] + 5)\n",
    "    vac_mask = df_plt_exp.loc[:, 'week_no'].isin(vac_weeks_bl)\n",
    "\n",
    "    fig.add_scattergl(x=tmp_df.loc[:, 'week_no'].unique(\n",
    "    ), y=tmp_df['cumsum'], line=dict(color='darkgrey'))\n",
    "\n",
    "    # lockdown\n",
    "    fig.add_scattergl(x=tmp_df.loc[:, 'week_no'].unique(), y=tmp_df['cumsum'].where(\n",
    "        tmp_df.week_no.isin(weeks_lck)), line=dict(color=colors_list[bl-1]), fill='toself')\n",
    "\n",
    "    # vacation\n",
    "    fig.add_scattergl(x=tmp_df.loc[:, 'week_no'].unique(), y=tmp_df['cumsum'].where(\n",
    "        tmp_df.week_no.isin(vac_weeks_bl)), line=dict(color=colors_list[bl-1]), fill='toself')\n",
    "\n",
    "\n",
    "fig.update_layout(showlegend=False,\n",
    "                  title_text='Corona Infections per Bundesland. Highlights: Lockdown & Summer Vacation Week')\n",
    "fig.show()"
   ]
  },
  {
   "cell_type": "code",
   "execution_count": null,
   "metadata": {},
   "outputs": [],
   "source": [
    "import plotly.graph_objects as go\n",
    "from plotly.offline import init_notebook_mode, iplot\n",
    "\n",
    "fig = go.Figure()\n",
    "\n",
    "\n",
    "for bl in df_plt_exp.loc[:, 'Bundesland'].unique():\n",
    "    tmp_df = df_plt_exp.loc[df_plt_exp['Bundesland'] == bl, :]\n",
    "    bl_mask = df_plt_exp.loc[:, 'Bundesland'] == bl\n",
    "    vac_weeks_bl = np.arange(summer_vac_dict[bl], summer_vac_dict[bl] + 5)\n",
    "    vac_mask = rki_bl_cases.loc[:, 'week_no'].isin(vac_weeks_bl)\n",
    "\n",
    "    fig.add_scattergl(x=tmp_df.loc[:, 'week_no'].unique(\n",
    "    ), y=tmp_df['cumsum'], line=dict(color='darkgrey'))\n",
    "\n",
    "    # lockdown\n",
    "    fig.add_scattergl(x=tmp_df.loc[:, 'week_no'].unique(), y=tmp_df['cumsum'].where(\n",
    "        tmp_df.week_no.isin(weeks_lck)), line=dict(color=colors_list[bl-1]), fill='tonexty')\n",
    "\n",
    "    # vacation\n",
    "    fig.add_scattergl(x=tmp_df.loc[:, 'week_no'].unique(), y=tmp_df['cumsum'].where(\n",
    "        tmp_df.week_no.isin(vac_weeks_bl)), line=dict(color=colors_list[bl-1]), fill='tonexty')\n",
    "\n",
    "\n",
    "fig.update_layout(showlegend=False,\n",
    "                  title_text='Corona Infections per Bundesland. Highlights: Lockdown & Summer Vacation Week')\n",
    "fig.show()"
   ]
  },
  {
   "cell_type": "code",
   "execution_count": null,
   "metadata": {},
   "outputs": [],
   "source": [
    "# challenges:\n",
    "# - different graphs with each trace\n",
    "\n",
    "import plotly.graph_objects as go\n",
    "\n",
    "fig = go.Figure()\n",
    "for bl in df_plt_exp.loc[:, 'Bundesland'].unique():\n",
    "    if bl == 1:\n",
    "        # before the lockdown\n",
    "        fig.add_trace(go.Scatter(x=df_plt_exp.loc[before_lck, 'week_no'].unique(),\n",
    "                                 y=df_plt_exp.loc[(df_plt_exp['Bundesland'] == bl) & (before_lck), 'AnzahlFall'], fill='none'))\n",
    "\n",
    "        # lockdown\n",
    "        fig.add_trace(go.Scatter(x=df_plt_exp.loc[lck_mask, 'week_no'].unique(),\n",
    "                                 y=df_plt_exp.loc[(df_plt_exp['Bundesland'] == bl) & (lck_mask), 'AnzahlFall'], fill='tozeroy'))  # fill down to xaxis\n",
    "\n",
    "        # after lockdown\n",
    "        fig.add_trace(go.Scatter(x=df_plt_exp.loc[after_lck, 'week_no'].unique(),\n",
    "                                 y=df_plt_exp.loc[(df_plt_exp['Bundesland'] == bl) & (after_lck), 'AnzahlFall'], fill='none'))\n",
    "\n",
    "    else:\n",
    "        # before the lockdown\n",
    "        fig.add_trace(go.Scatter(x=df_plt_exp.loc[before_lck, 'week_no'].unique(),\n",
    "                                 y=df_plt_exp.loc[(df_plt_exp['Bundesland'] == bl) & (before_lck), 'AnzahlFall'], fill='none'))\n",
    "\n",
    "        # lockdown\n",
    "        fig.add_trace(go.Scatter(x=df_plt_exp.loc[lck_mask, 'week_no'].unique(),\n",
    "                                 y=df_plt_exp.loc[(df_plt_exp['Bundesland'] == bl) & (lck_mask), 'AnzahlFall'], fill='tonexty'))  # fill to trace0 y\n",
    "\n",
    "        # after lockdown\n",
    "        fig.add_trace(go.Scatter(x=df_plt_exp.loc[after_lck, 'week_no'].unique(),\n",
    "                                 y=df_plt_exp.loc[(df_plt_exp['Bundesland'] == bl) & (after_lck), 'AnzahlFall'], fill='none'))\n",
    "\n",
    "\n",
    "fig.show()"
   ]
  },
  {
   "cell_type": "code",
   "execution_count": null,
   "metadata": {},
   "outputs": [],
   "source": [
    "# challenges\n",
    "# - if not the same stackgroup - different colors, if the same one - too much stacking - the numbers are not correct\n",
    "\n",
    "import plotly.graph_objects as go\n",
    "\n",
    "fig = go.Figure()\n",
    "for bl in df_plt_exp.loc[:, 'Bundesland'].unique():\n",
    "    tmp_df = df_plt_exp.loc[df_plt_exp['Bundesland'] == bl, :]\n",
    "    # no lockdown, no vacation\n",
    "    fig.add_trace(go.Scatter(x=tmp_df.loc[:, 'week_no'].unique(),\n",
    "                             y=tmp_df.AnzahlFall.where(~tmp_df.week_no.isin(\n",
    "                                 weeks_lck) | ~tmp_df.week_no.isin(summer_vac_weeks)),\n",
    "                             stackgroup='one',  # if not the same, different colors\n",
    "                             fill='none',\n",
    "                             showlegend=True,\n",
    "                             name=f'{bl}_no_fill',\n",
    "\n",
    "                             ))\n",
    "\n",
    "    #lockdown or vacation\n",
    "    fig.add_trace(go.Scatter(x=tmp_df.loc[:, 'week_no'].unique(),\n",
    "                             y=tmp_df.AnzahlFall.where(tmp_df.week_no.isin(\n",
    "                                 weeks_lck) | tmp_df.week_no.isin(summer_vac_weeks)),\n",
    "                             stackgroup='one',\n",
    "                             fill='tonexty',\n",
    "                             showlegend=True,\n",
    "                             name=f'{bl}_fill'\n",
    "                             ))  # fill down to xaxis\n",
    "\n",
    "fig.show()"
   ]
  },
  {
   "cell_type": "code",
   "execution_count": null,
   "metadata": {},
   "outputs": [],
   "source": [
    "df_plt_exp_test = rki_vac_group.loc[rki_vac_group['Bundesland'] == 1, :]"
   ]
  },
  {
   "cell_type": "code",
   "execution_count": null,
   "metadata": {},
   "outputs": [],
   "source": [
    "before_lck_df = df_plt_exp_test.loc[:, 'week_no'] < start_lck_wk\n",
    "after_lck_df = df_plt_exp_test.loc[:, 'week_no'] > end_lck_wk\n",
    "lck_df = df_plt_exp_test.loc[:, 'week_no'].isin(weeks_lck)\n",
    "#df_test.loc[lck_df, :]\n",
    "# df_test.tail(30)"
   ]
  },
  {
   "cell_type": "code",
   "execution_count": null,
   "metadata": {},
   "outputs": [],
   "source": [
    "df_plt_exp_test_g = df_plt_exp_test[['week_no', 'Bundesland', 'AnzahlFall']].groupby(\n",
    "    ['week_no', 'Bundesland']).sum()\n",
    "df_plt_exp_test_g.reset_index(drop=False, inplace=True)\n",
    "#df_test_g.loc[(df_test_g['Bundesland'] == 1), :]"
   ]
  },
  {
   "cell_type": "code",
   "execution_count": null,
   "metadata": {},
   "outputs": [],
   "source": [
    "import plotly.graph_objects as go\n",
    "from plotly.offline import init_notebook_mode, iplot\n",
    "\n",
    "fig = go.Figure()\n",
    "\n",
    "fig.add_scattergl(x=df_plt_exp_test_g.loc[:, 'week_no'].unique(\n",
    "), y=df_plt_exp_test_g.AnzahlFall, line=dict(color='salmon'))\n",
    "fig.add_scattergl(x=df_plt_exp_test_g.loc[:, 'week_no'].unique(), y=df_plt_exp_test_g.AnzahlFall.where(\n",
    "    df_plt_exp_test_g.week_no.isin(weeks_lck)), line=dict(color='salmon'), fill='tozeroy')\n",
    "fig.add_scattergl(x=df_plt_exp_test_g.loc[:, 'week_no'].unique(), y=df_plt_exp_test_g.AnzahlFall.where(\n",
    "    df_plt_exp_test_g.week_no.isin(np.arange(27, 27+5))), line=dict(color='salmon'), fill='tozeroy')\n",
    "\n",
    "iplot(fig)"
   ]
  },
  {
   "cell_type": "code",
   "execution_count": null,
   "metadata": {},
   "outputs": [],
   "source": []
  }
 ],
 "metadata": {
  "kernelspec": {
   "display_name": "Python 3",
   "language": "python",
   "name": "python3"
  },
  "language_info": {
   "codemirror_mode": {
    "name": "ipython",
    "version": 3
   },
   "file_extension": ".py",
   "mimetype": "text/x-python",
   "name": "python",
   "nbconvert_exporter": "python",
   "pygments_lexer": "ipython3",
   "version": "3.7.6"
  }
 },
 "nbformat": 4,
 "nbformat_minor": 4
}
