{
 "cells": [
  {
   "cell_type": "markdown",
   "metadata": {
    "slideshow": {
     "slide_type": "slide"
    }
   },
   "source": [
    "# Script for transforming raw mobility data to edge table and trips per day and district"
   ]
  },
  {
   "cell_type": "markdown",
   "metadata": {},
   "source": [
    "## Specify identifier for output files"
   ]
  },
  {
   "cell_type": "code",
   "execution_count": 3,
   "metadata": {},
   "outputs": [],
   "source": [
    "identifier = 'teralytics_2019_20_'"
   ]
  },
  {
   "cell_type": "markdown",
   "metadata": {},
   "source": [
    "## Import libraries"
   ]
  },
  {
   "cell_type": "code",
   "execution_count": 4,
   "metadata": {},
   "outputs": [],
   "source": [
    "import pandas as pd\n",
    "import numpy as np"
   ]
  },
  {
   "cell_type": "markdown",
   "metadata": {},
   "source": [
    "## Read in raw data from file"
   ]
  },
  {
   "cell_type": "markdown",
   "metadata": {},
   "source": [
    "Read in file into dataframe:"
   ]
  },
  {
   "cell_type": "code",
   "execution_count": 5,
   "metadata": {},
   "outputs": [],
   "source": [
    "df_raw = pd.DataFrame()\n",
    "\n",
    "for chunk in pd.read_csv('data/deldd-1-taeglich-aktualisierte-langdistanz-reisen-giz-counts.csv', chunksize=10**6):\n",
    "    df_raw = df_raw.append(chunk)\n",
    "\n",
    "df_raw.reset_index(inplace=True, drop=True)"
   ]
  },
  {
   "cell_type": "code",
   "execution_count": 6,
   "metadata": {},
   "outputs": [
    {
     "data": {
      "text/html": [
       "<div>\n",
       "<style scoped>\n",
       "    .dataframe tbody tr th:only-of-type {\n",
       "        vertical-align: middle;\n",
       "    }\n",
       "\n",
       "    .dataframe tbody tr th {\n",
       "        vertical-align: top;\n",
       "    }\n",
       "\n",
       "    .dataframe thead th {\n",
       "        text-align: right;\n",
       "    }\n",
       "</style>\n",
       "<table border=\"1\" class=\"dataframe\">\n",
       "  <thead>\n",
       "    <tr style=\"text-align: right;\">\n",
       "      <th></th>\n",
       "      <th>Bucket</th>\n",
       "      <th>StartId</th>\n",
       "      <th>StartName</th>\n",
       "      <th>EndId</th>\n",
       "      <th>EndName</th>\n",
       "      <th>Mode of Transport</th>\n",
       "      <th>Trip distance (km)</th>\n",
       "      <th>Count</th>\n",
       "    </tr>\n",
       "  </thead>\n",
       "  <tbody>\n",
       "    <tr>\n",
       "      <th>0</th>\n",
       "      <td>2020-09-20 (Sonntag)</td>\n",
       "      <td>6241300</td>\n",
       "      <td>Havelland</td>\n",
       "      <td>6242600</td>\n",
       "      <td>Diepholz - Landkreis Diepholz</td>\n",
       "      <td>Road</td>\n",
       "      <td>264</td>\n",
       "      <td>10</td>\n",
       "    </tr>\n",
       "    <tr>\n",
       "      <th>1</th>\n",
       "      <td>2020-09-20 (Sonntag)</td>\n",
       "      <td>6245100</td>\n",
       "      <td>Kaiserslautern - Landkreis Kaiserslautern</td>\n",
       "      <td>6254000</td>\n",
       "      <td>Emsland - Landkreis Emsland</td>\n",
       "      <td>Road</td>\n",
       "      <td>366</td>\n",
       "      <td>9</td>\n",
       "    </tr>\n",
       "    <tr>\n",
       "      <th>2</th>\n",
       "      <td>2020-09-20 (Sonntag)</td>\n",
       "      <td>6236900</td>\n",
       "      <td>Potsdam</td>\n",
       "      <td>6267300</td>\n",
       "      <td>Osnabrück - Landkreis Osnabrück</td>\n",
       "      <td>Train</td>\n",
       "      <td>338</td>\n",
       "      <td>6</td>\n",
       "    </tr>\n",
       "    <tr>\n",
       "      <th>3</th>\n",
       "      <td>2020-09-20 (Sonntag)</td>\n",
       "      <td>6249601</td>\n",
       "      <td>Wiesbaden - Mainz-Kostheim</td>\n",
       "      <td>6241701</td>\n",
       "      <td>Paderborn</td>\n",
       "      <td>Road</td>\n",
       "      <td>194</td>\n",
       "      <td>14</td>\n",
       "    </tr>\n",
       "    <tr>\n",
       "      <th>4</th>\n",
       "      <td>2020-09-20 (Sonntag)</td>\n",
       "      <td>6238700</td>\n",
       "      <td>Merzig-Wadern - Landkreis Merzig-Wadern</td>\n",
       "      <td>6234700</td>\n",
       "      <td>Ludwigshafen am Rhein</td>\n",
       "      <td>Train</td>\n",
       "      <td>123</td>\n",
       "      <td>6</td>\n",
       "    </tr>\n",
       "  </tbody>\n",
       "</table>\n",
       "</div>"
      ],
      "text/plain": [
       "                 Bucket  StartId                                  StartName  \\\n",
       "0  2020-09-20 (Sonntag)  6241300                                  Havelland   \n",
       "1  2020-09-20 (Sonntag)  6245100  Kaiserslautern - Landkreis Kaiserslautern   \n",
       "2  2020-09-20 (Sonntag)  6236900                                    Potsdam   \n",
       "3  2020-09-20 (Sonntag)  6249601                 Wiesbaden - Mainz-Kostheim   \n",
       "4  2020-09-20 (Sonntag)  6238700    Merzig-Wadern - Landkreis Merzig-Wadern   \n",
       "\n",
       "     EndId                          EndName Mode of Transport  \\\n",
       "0  6242600    Diepholz - Landkreis Diepholz              Road   \n",
       "1  6254000      Emsland - Landkreis Emsland              Road   \n",
       "2  6267300  Osnabrück - Landkreis Osnabrück             Train   \n",
       "3  6241701                        Paderborn              Road   \n",
       "4  6234700            Ludwigshafen am Rhein             Train   \n",
       "\n",
       "   Trip distance (km)  Count  \n",
       "0                 264     10  \n",
       "1                 366      9  \n",
       "2                 338      6  \n",
       "3                 194     14  \n",
       "4                 123      6  "
      ]
     },
     "execution_count": 6,
     "metadata": {},
     "output_type": "execute_result"
    }
   ],
   "source": [
    "df_raw.head(5)"
   ]
  },
  {
   "cell_type": "markdown",
   "metadata": {},
   "source": [
    "Drop columns we don't need:"
   ]
  },
  {
   "cell_type": "code",
   "execution_count": 7,
   "metadata": {},
   "outputs": [],
   "source": [
    "df_prep = df_raw.drop(columns=['Mode of Transport','Trip distance (km)', 'StartName', 'EndName'])"
   ]
  },
  {
   "cell_type": "markdown",
   "metadata": {},
   "source": [
    "Specify columns names with origin and destination districts, dates and mobility counts:"
   ]
  },
  {
   "cell_type": "code",
   "execution_count": 8,
   "metadata": {},
   "outputs": [],
   "source": [
    "origin_col_name = 'StartId'\n",
    "destination_col_name = 'EndId'\n",
    "count_col_name = 'Count'\n"
   ]
  },
  {
   "cell_type": "markdown",
   "metadata": {},
   "source": [
    "## OSM ID to AGS5"
   ]
  },
  {
   "cell_type": "code",
   "execution_count": 9,
   "metadata": {},
   "outputs": [],
   "source": [
    "o2a_df = pd.read_csv('OSM_2_AGS_v2.csv')"
   ]
  },
  {
   "cell_type": "code",
   "execution_count": 10,
   "metadata": {},
   "outputs": [],
   "source": [
    "osm_2_ags_dict = dict(zip(o2a_df.OSM_ID,o2a_df.AGS_5))"
   ]
  },
  {
   "cell_type": "code",
   "execution_count": 11,
   "metadata": {},
   "outputs": [],
   "source": [
    "df_prep['orig_ags5'] = df_prep[origin_col_name].map(osm_2_ags_dict)\n",
    "df_prep['dest_ags5'] = df_prep[destination_col_name].map(osm_2_ags_dict)"
   ]
  },
  {
   "cell_type": "code",
   "execution_count": 12,
   "metadata": {},
   "outputs": [
    {
     "data": {
      "text/plain": [
       "'German_Germany.1252'"
      ]
     },
     "execution_count": 12,
     "metadata": {},
     "output_type": "execute_result"
    }
   ],
   "source": [
    "import locale\n",
    "locale.setlocale(category=locale.LC_ALL,locale=\"German\")"
   ]
  },
  {
   "cell_type": "code",
   "execution_count": 13,
   "metadata": {},
   "outputs": [],
   "source": [
    "df_prep['date'] = pd.to_datetime(df_prep['Bucket'], format = '%Y-%m-%d (%A)')"
   ]
  },
  {
   "cell_type": "code",
   "execution_count": 14,
   "metadata": {},
   "outputs": [],
   "source": [
    "df_prep.drop(columns=[origin_col_name,destination_col_name, \"Bucket\"], inplace=True)"
   ]
  },
  {
   "cell_type": "code",
   "execution_count": 15,
   "metadata": {},
   "outputs": [
    {
     "data": {
      "text/html": [
       "<div>\n",
       "<style scoped>\n",
       "    .dataframe tbody tr th:only-of-type {\n",
       "        vertical-align: middle;\n",
       "    }\n",
       "\n",
       "    .dataframe tbody tr th {\n",
       "        vertical-align: top;\n",
       "    }\n",
       "\n",
       "    .dataframe thead th {\n",
       "        text-align: right;\n",
       "    }\n",
       "</style>\n",
       "<table border=\"1\" class=\"dataframe\">\n",
       "  <thead>\n",
       "    <tr style=\"text-align: right;\">\n",
       "      <th></th>\n",
       "      <th>Count</th>\n",
       "      <th>orig_ags5</th>\n",
       "      <th>dest_ags5</th>\n",
       "      <th>date</th>\n",
       "    </tr>\n",
       "  </thead>\n",
       "  <tbody>\n",
       "    <tr>\n",
       "      <th>0</th>\n",
       "      <td>10</td>\n",
       "      <td>12063</td>\n",
       "      <td>3251</td>\n",
       "      <td>2020-09-20</td>\n",
       "    </tr>\n",
       "    <tr>\n",
       "      <th>1</th>\n",
       "      <td>9</td>\n",
       "      <td>7335</td>\n",
       "      <td>3454</td>\n",
       "      <td>2020-09-20</td>\n",
       "    </tr>\n",
       "    <tr>\n",
       "      <th>2</th>\n",
       "      <td>6</td>\n",
       "      <td>12054</td>\n",
       "      <td>3459</td>\n",
       "      <td>2020-09-20</td>\n",
       "    </tr>\n",
       "    <tr>\n",
       "      <th>3</th>\n",
       "      <td>14</td>\n",
       "      <td>6414</td>\n",
       "      <td>5774</td>\n",
       "      <td>2020-09-20</td>\n",
       "    </tr>\n",
       "    <tr>\n",
       "      <th>4</th>\n",
       "      <td>6</td>\n",
       "      <td>10042</td>\n",
       "      <td>7314</td>\n",
       "      <td>2020-09-20</td>\n",
       "    </tr>\n",
       "  </tbody>\n",
       "</table>\n",
       "</div>"
      ],
      "text/plain": [
       "   Count  orig_ags5  dest_ags5       date\n",
       "0     10      12063       3251 2020-09-20\n",
       "1      9       7335       3454 2020-09-20\n",
       "2      6      12054       3459 2020-09-20\n",
       "3     14       6414       5774 2020-09-20\n",
       "4      6      10042       7314 2020-09-20"
      ]
     },
     "execution_count": 15,
     "metadata": {},
     "output_type": "execute_result"
    }
   ],
   "source": [
    "df_prep.head(5)"
   ]
  },
  {
   "cell_type": "markdown",
   "metadata": {},
   "source": [
    "## Create edge table"
   ]
  },
  {
   "cell_type": "code",
   "execution_count": 16,
   "metadata": {},
   "outputs": [],
   "source": [
    "edge_table = df_prep.groupby(['date','orig_ags5','dest_ags5'])[count_col_name].sum().reset_index()"
   ]
  },
  {
   "cell_type": "markdown",
   "metadata": {},
   "source": [
    "Save edge table to CSV-file using the specifier defined above:"
   ]
  },
  {
   "cell_type": "code",
   "execution_count": 17,
   "metadata": {},
   "outputs": [],
   "source": [
    "file_name = identifier + 'edge_table.csv'\n",
    "edge_table.to_csv(file_name, index=False)"
   ]
  },
  {
   "cell_type": "markdown",
   "metadata": {},
   "source": [
    "In case there's a problem later on, reading in this CSV will serve as a checkpoint:"
   ]
  },
  {
   "cell_type": "code",
   "execution_count": 67,
   "metadata": {},
   "outputs": [],
   "source": [
    "#edge_table = pd.read_csv(file_name)\n",
    "#edge_table.tail(10)"
   ]
  },
  {
   "cell_type": "code",
   "execution_count": 69,
   "metadata": {},
   "outputs": [
    {
     "data": {
      "text/html": [
       "<div>\n",
       "<style scoped>\n",
       "    .dataframe tbody tr th:only-of-type {\n",
       "        vertical-align: middle;\n",
       "    }\n",
       "\n",
       "    .dataframe tbody tr th {\n",
       "        vertical-align: top;\n",
       "    }\n",
       "\n",
       "    .dataframe thead th {\n",
       "        text-align: right;\n",
       "    }\n",
       "</style>\n",
       "<table border=\"1\" class=\"dataframe\">\n",
       "  <thead>\n",
       "    <tr style=\"text-align: right;\">\n",
       "      <th></th>\n",
       "      <th>date</th>\n",
       "      <th>orig_ags5</th>\n",
       "      <th>dest_ags5</th>\n",
       "      <th>Count</th>\n",
       "    </tr>\n",
       "  </thead>\n",
       "  <tbody>\n",
       "    <tr>\n",
       "      <th>29558204</th>\n",
       "      <td>2020-09-20</td>\n",
       "      <td>16077</td>\n",
       "      <td>16068</td>\n",
       "      <td>59</td>\n",
       "    </tr>\n",
       "    <tr>\n",
       "      <th>29558205</th>\n",
       "      <td>2020-09-20</td>\n",
       "      <td>16077</td>\n",
       "      <td>16069</td>\n",
       "      <td>27</td>\n",
       "    </tr>\n",
       "    <tr>\n",
       "      <th>29558206</th>\n",
       "      <td>2020-09-20</td>\n",
       "      <td>16077</td>\n",
       "      <td>16070</td>\n",
       "      <td>112</td>\n",
       "    </tr>\n",
       "    <tr>\n",
       "      <th>29558207</th>\n",
       "      <td>2020-09-20</td>\n",
       "      <td>16077</td>\n",
       "      <td>16071</td>\n",
       "      <td>88</td>\n",
       "    </tr>\n",
       "    <tr>\n",
       "      <th>29558208</th>\n",
       "      <td>2020-09-20</td>\n",
       "      <td>16077</td>\n",
       "      <td>16072</td>\n",
       "      <td>7</td>\n",
       "    </tr>\n",
       "    <tr>\n",
       "      <th>29558209</th>\n",
       "      <td>2020-09-20</td>\n",
       "      <td>16077</td>\n",
       "      <td>16073</td>\n",
       "      <td>137</td>\n",
       "    </tr>\n",
       "    <tr>\n",
       "      <th>29558210</th>\n",
       "      <td>2020-09-20</td>\n",
       "      <td>16077</td>\n",
       "      <td>16074</td>\n",
       "      <td>420</td>\n",
       "    </tr>\n",
       "    <tr>\n",
       "      <th>29558211</th>\n",
       "      <td>2020-09-20</td>\n",
       "      <td>16077</td>\n",
       "      <td>16075</td>\n",
       "      <td>171</td>\n",
       "    </tr>\n",
       "    <tr>\n",
       "      <th>29558212</th>\n",
       "      <td>2020-09-20</td>\n",
       "      <td>16077</td>\n",
       "      <td>16076</td>\n",
       "      <td>2459</td>\n",
       "    </tr>\n",
       "    <tr>\n",
       "      <th>29558213</th>\n",
       "      <td>2020-09-20</td>\n",
       "      <td>16077</td>\n",
       "      <td>16077</td>\n",
       "      <td>112818</td>\n",
       "    </tr>\n",
       "  </tbody>\n",
       "</table>\n",
       "</div>"
      ],
      "text/plain": [
       "                date  orig_ags5  dest_ags5   Count\n",
       "29558204  2020-09-20      16077      16068      59\n",
       "29558205  2020-09-20      16077      16069      27\n",
       "29558206  2020-09-20      16077      16070     112\n",
       "29558207  2020-09-20      16077      16071      88\n",
       "29558208  2020-09-20      16077      16072       7\n",
       "29558209  2020-09-20      16077      16073     137\n",
       "29558210  2020-09-20      16077      16074     420\n",
       "29558211  2020-09-20      16077      16075     171\n",
       "29558212  2020-09-20      16077      16076    2459\n",
       "29558213  2020-09-20      16077      16077  112818"
      ]
     },
     "execution_count": 69,
     "metadata": {},
     "output_type": "execute_result"
    }
   ],
   "source": []
  },
  {
   "cell_type": "markdown",
   "metadata": {},
   "source": [
    "## Create table for trips per district and day"
   ]
  },
  {
   "cell_type": "markdown",
   "metadata": {},
   "source": [
    "Create Boolean Series to subset data into within- and between-district mobility:"
   ]
  },
  {
   "cell_type": "code",
   "execution_count": 18,
   "metadata": {},
   "outputs": [],
   "source": [
    "is_internal = edge_table.orig_ags5 == edge_table.dest_ags5"
   ]
  },
  {
   "cell_type": "markdown",
   "metadata": {},
   "source": [
    "Create multi-indexed Series for outgoing, incoming and internal mobility per district and day:"
   ]
  },
  {
   "cell_type": "code",
   "execution_count": 19,
   "metadata": {},
   "outputs": [],
   "source": [
    "outgoing_mobility = edge_table[~is_internal].groupby(['date', 'orig_ags5'])[count_col_name].sum().reset_index()\n",
    "incoming_mobility = edge_table[~is_internal].groupby(['date', 'dest_ags5'])[count_col_name].sum().reset_index()\n",
    "internal_mobility = edge_table[ is_internal].groupby(['date', 'orig_ags5'])[count_col_name].sum().reset_index()"
   ]
  },
  {
   "cell_type": "markdown",
   "metadata": {},
   "source": [
    "Merge all three into one dataframe, clean that dataframe up, and add total mobility:"
   ]
  },
  {
   "cell_type": "code",
   "execution_count": 20,
   "metadata": {},
   "outputs": [],
   "source": [
    "external_mobility = pd.merge(outgoing_mobility, incoming_mobility, \n",
    "                   left_on = ['date', 'orig_ags5'], right_on = ['date', 'dest_ags5'],\n",
    "                   suffixes = ('_outgoing','_incoming'))\n",
    "\n",
    "mobility_per_district_day = pd.merge(external_mobility, internal_mobility,\n",
    "                                    on = ['date', 'orig_ags5'])\n",
    "\n",
    "#rename columns:\n",
    "mobility_per_district_day.rename(columns = {count_col_name : count_col_name + '_internal',\n",
    "                                           'orig_ags5' : 'districtId'}, \n",
    "                                 inplace=True)\n",
    "\n",
    "#drop redundant dest_ags5 column:\n",
    "mobility_per_district_day.drop(columns = 'dest_ags5', inplace=True)\n",
    "\n",
    "#add total_mobility as sum:\n",
    "count_cols = [count_col_name + suffix for suffix in ['_outgoing','_incoming','_internal']]\n",
    "mobility_per_district_day['total_mobility'] = mobility_per_district_day[count_cols].sum(axis=1)"
   ]
  },
  {
   "cell_type": "markdown",
   "metadata": {},
   "source": [
    "Save mobility per district and day to CSV, again using the identifier:"
   ]
  },
  {
   "cell_type": "code",
   "execution_count": 21,
   "metadata": {},
   "outputs": [],
   "source": [
    "file_name = identifier + 'mobility_per_district_and_day.csv'\n",
    "mobility_per_district_day.to_csv(file_name, index=False)"
   ]
  },
  {
   "cell_type": "code",
   "execution_count": null,
   "metadata": {},
   "outputs": [],
   "source": []
  }
 ],
 "metadata": {
  "kernelspec": {
   "display_name": "Python 3",
   "language": "python",
   "name": "python3"
  },
  "language_info": {
   "codemirror_mode": {
    "name": "ipython",
    "version": 3
   },
   "file_extension": ".py",
   "mimetype": "text/x-python",
   "name": "python",
   "nbconvert_exporter": "python",
   "pygments_lexer": "ipython3",
   "version": "3.7.6"
  }
 },
 "nbformat": 4,
 "nbformat_minor": 4
}
