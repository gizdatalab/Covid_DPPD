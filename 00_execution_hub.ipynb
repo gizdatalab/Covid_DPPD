{
 "cells": [
  {
   "cell_type": "code",
   "execution_count": 9,
   "metadata": {
    "scrolled": true
   },
   "outputs": [],
   "source": [
    "import nbformat\n",
    "from nbconvert.preprocessors import ExecutePreprocessor as EP"
   ]
  },
  {
   "cell_type": "code",
   "execution_count": 10,
   "metadata": {},
   "outputs": [
    {
     "data": {
      "text/plain": [
       "['.ipynb_checkpoints',\n",
       " '00_execution_hub.ipynb',\n",
       " '01_static_data_preparation.ipynb',\n",
       " '02_infection_data_preparation.ipynb',\n",
       " '03_mobility_data_preparation.ipynb',\n",
       " '04a_mobility_feature_creation.ipynb',\n",
       " '04b_weather_feature_creation.ipynb',\n",
       " '05_target_and_prediction.ipynb',\n",
       " '06_deviance_analysis.ipynb',\n",
       " '07_pd_explanators.ipynb',\n",
       " '08_visualization.ipynb',\n",
       " 'ags5dict.csv',\n",
       " 'all_data.csv',\n",
       " 'all_data_with_intervals.csv',\n",
       " 'backup_b4_pruning',\n",
       " 'Covid_DPPD-master',\n",
       " 'Covid_DPPD-master.zip',\n",
       " 'deviances.csv',\n",
       " 'deviance_df.csv',\n",
       " 'district_shapefiles.csv',\n",
       " 'downloads',\n",
       " 'dppd_covid_correlation_matrix.csv',\n",
       " 'dppd_covid_descriptives.csv',\n",
       " 'DPPD_goes_Viral.ipynb',\n",
       " 'exports',\n",
       " 'from_Colab_DPPD_goes_Viral_weekly.ipynb',\n",
       " 'internationality.csv',\n",
       " 'lockdown_pd.csv',\n",
       " 'mobility_features.csv',\n",
       " 'mobility_features_motionlogic.csv',\n",
       " 'mobility_features_old.csv',\n",
       " 'old',\n",
       " 'OSM_2_AGS_v2.csv',\n",
       " 'playground.ipynb',\n",
       " 'processed_static_data.csv',\n",
       " 'raw_mobility_data',\n",
       " 'rki_daily.csv',\n",
       " 'rki_raw_200926.csv',\n",
       " 'rki_raw_201103.csv',\n",
       " 'rki_weekly.csv',\n",
       " 'static_data_20200904.csv',\n",
       " 'static_data_20200904_old.csv',\n",
       " 'static_data_20201006.csv',\n",
       " 'summer_pd.csv',\n",
       " 'weather1.ipynb',\n",
       " 'weather2.ipynb',\n",
       " 'weather_data.csv',\n",
       " 'weather_data_processing_JD.ipynb',\n",
       " 'weather_features.csv',\n",
       " 'xpred.py',\n",
       " '__pycache__']"
      ]
     },
     "execution_count": 10,
     "metadata": {},
     "output_type": "execute_result"
    }
   ],
   "source": [
    "import os\n",
    "os.listdir()"
   ]
  },
  {
   "cell_type": "code",
   "execution_count": 3,
   "metadata": {},
   "outputs": [],
   "source": [
    "notebooks = ['01_static_data_preparation.ipynb',\n",
    "             '02_infection_data_preparation.ipynb',\n",
    "#              '03_mobility_data_preparation.ipynb', #these don't work without access\n",
    "#              '04a_mobility_feature_creation.ipynb', #to proprietary mobility data\n",
    "             '04b_weather_feature_creation.ipynb',\n",
    "             '05_target_and_prediction.ipynb',\n",
    "             '06_deviance_analysis.ipynb',\n",
    "             '08_visualization.ipynb']"
   ]
  },
  {
   "cell_type": "code",
   "execution_count": 6,
   "metadata": {},
   "outputs": [],
   "source": [
    "ep_ = EP(timeout=20000)"
   ]
  },
  {
   "cell_type": "code",
   "execution_count": 8,
   "metadata": {},
   "outputs": [
    {
     "name": "stdout",
     "output_type": "stream",
     "text": [
      "Now working on 01_static_data_preparation.ipynb\n",
      "Now working on 02_infection_data_preparation.ipynb\n",
      "Now working on 03_mobility_data_preparation.ipynb\n",
      "Execuction Error in 03_mobility_data_preparation.ipynb\n",
      "Now working on 04_mobility_feature_creation.ipynb\n",
      "Execuction Error in 04_mobility_feature_creation.ipynb\n",
      "Now working on 05_target_and_prediction.ipynb\n",
      "Execuction Error in 05_target_and_prediction.ipynb\n",
      "Now working on 06_deviance_analysis.ipynb\n"
     ]
    }
   ],
   "source": [
    "for nb_file in notebooks:\n",
    "    print('Now working on', nb_file)\n",
    "    with open(nb_file) as f:\n",
    "        nb = nbformat.read(f, nbformat.NO_CONVERT)\n",
    "        try:\n",
    "            ep_.preprocess(nb)\n",
    "        except:\n",
    "            print('Execuction Error in', nb_file)"
   ]
  }
 ],
 "metadata": {
  "kernelspec": {
   "display_name": "Python 3",
   "language": "python",
   "name": "python3"
  },
  "language_info": {
   "codemirror_mode": {
    "name": "ipython",
    "version": 3
   },
   "file_extension": ".py",
   "mimetype": "text/x-python",
   "name": "python",
   "nbconvert_exporter": "python",
   "pygments_lexer": "ipython3",
   "version": "3.7.6"
  }
 },
 "nbformat": 4,
 "nbformat_minor": 4
}
