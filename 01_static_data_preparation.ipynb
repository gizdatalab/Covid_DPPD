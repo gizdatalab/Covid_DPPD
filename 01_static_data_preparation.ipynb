{
 "cells": [
  {
   "cell_type": "code",
   "execution_count": 1,
   "metadata": {},
   "outputs": [],
   "source": [
    "import numpy as np\n",
    "import pandas as pd\n",
    "import matplotlib.pyplot as plt\n",
    "# for clustering:\n",
    "from sklearn.cluster import KMeans \n",
    "#for scaling/PCA:\n",
    "from sklearn.preprocessing import StandardScaler\n",
    "from sklearn.decomposition import PCA\n"
   ]
  },
  {
   "cell_type": "code",
   "execution_count": 2,
   "metadata": {},
   "outputs": [],
   "source": [
    "RAND = np.random.RandomState(seed = 1)"
   ]
  },
  {
   "cell_type": "code",
   "execution_count": 3,
   "metadata": {},
   "outputs": [],
   "source": [
    "# static_data = pd.read_csv('https://raw.githubusercontent.com/J-Driesen/PD_goes_viral/master/static_data_20200904.csv')\n",
    "static_data = pd.read_csv('static_data_20201006.csv')"
   ]
  },
  {
   "cell_type": "markdown",
   "metadata": {
    "colab_type": "text",
    "id": "T2VUwYN1IVfC"
   },
   "source": [
    "#### Ruralness and Socioeconomic Status Indices"
   ]
  },
  {
   "cell_type": "markdown",
   "metadata": {
    "colab_type": "text",
    "id": "JnCi7Y5pIVfD"
   },
   "source": [
    "(Re-)Create Ruralness- and Socioeconomic-Status-Index, adapted from BMEL Landatlas studies, modified to generate values for all 401 districts in structural data:"
   ]
  },
  {
   "cell_type": "code",
   "execution_count": 4,
   "metadata": {
    "colab": {},
    "colab_type": "code",
    "id": "z_NC9FXkIVfD"
   },
   "outputs": [],
   "source": [
    "Ruralness_vars = ['RUR_surrounding_pop', 'RUR_distance_to_urban_centers',\n",
    "                  'RUR_area_share_farms_forests', 'RUR_settlement_density',\n",
    "                  'RUR_share_of_1_2_family_homes']\n",
    "\n",
    "loading_signs_ought_Ruralness = [-1,1,1,-1,1]\n",
    "\n",
    "Socioecon_vars = ['SES_highschool_dropouts', 'SES_residence_vacancies',\n",
    "                  'SES_unemployment', 'SES_average_income', 'SES_male_life_expectancy',\n",
    "                  'SES_female_life_expectancy', 'SES_average_salary',\n",
    "                  'SES_communal_tax_revenue', 'SES_net_migration']\n",
    "\n",
    "loading_signs_ought_Socioecon = [-1,-1,-1,1,1,1,1,1,1]\n"
   ]
  },
  {
   "cell_type": "markdown",
   "metadata": {
    "colab_type": "text",
    "id": "X7Hupy7BIVfJ"
   },
   "source": [
    "Ruralness consists of settlement density, area percentage of farming and forest areas, residence percentage of 1- and 2-family houses, surrounding population densities weighted by distance, and distance to the next five urban centers.\n",
    "\n",
    "Socioeconomic Status consists of unemplyment rate, mean salaries, mean income, communal tax revenue, net population migration, residence vacancies, life expectancy for men and women, and percentage of high-school drop-outs."
   ]
  },
  {
   "cell_type": "code",
   "execution_count": 5,
   "metadata": {
    "colab": {
     "base_uri": "https://localhost:8080/",
     "height": 35
    },
    "colab_type": "code",
    "id": "vdjmB00YIVfJ",
    "outputId": "c8039dd5-310f-4396-fd56-2639a27b789f"
   },
   "outputs": [
    {
     "name": "stdout",
     "output_type": "stream",
     "text": [
      "Ruralness Index captures 75.7 % of the variance in its 5 constituents.\n"
     ]
    }
   ],
   "source": [
    "scaler = StandardScaler()\n",
    "\n",
    "#First, create Ruralness Index:\n",
    "df_unscaled_Ruralness = static_data[Ruralness_vars]\n",
    "df_scaled_Ruralness = pd.DataFrame(scaler.fit_transform(df_unscaled_Ruralness), columns = Ruralness_vars)\n",
    "\n",
    "pca_ = PCA(1, random_state = RAND)\n",
    "pca_.fit(df_scaled_Ruralness)\n",
    "variance_explained_Ruralness = pca_.explained_variance_ratio_\n",
    "print(\"Ruralness Index captures %4.1f %% of the variance in its %d constituents.\" % \n",
    "      ((variance_explained_Ruralness * 100), len(Ruralness_vars)))\n",
    "\n",
    "#this next part checks whether loadings are all in the right direction\n",
    "loading_signs_found_Ruralness = np.sign(pca_.components_)\n",
    "\n",
    "if (loading_signs_found_Ruralness == loading_signs_ought_Ruralness).all():\n",
    "    static_data['Ruralness_Index'] = pca_.transform(df_scaled_Ruralness)\n",
    "elif (- loading_signs_found_Ruralness == loading_signs_ought_Ruralness).all():\n",
    "    #if they are simply reversed, i.e. doing a urbanness index, they are re-reversed here:\n",
    "    static_data['Ruralness_Index'] = - pca_.transform(df_scaled_Ruralness)\n",
    "else:\n",
    "    raise ValueError('Ruralness-loadings were not as expected! Reversing their signs did not help!')\n",
    "    \n",
    "static_data['rur_z'] = scaler.fit_transform(static_data['Ruralness_Index'].values.reshape(-1,1))\n"
   ]
  },
  {
   "cell_type": "code",
   "execution_count": 6,
   "metadata": {
    "colab": {
     "base_uri": "https://localhost:8080/",
     "height": 35
    },
    "colab_type": "code",
    "id": "JPtDhN16Hffy",
    "outputId": "90b0e078-e0de-45df-fe66-af07db738287"
   },
   "outputs": [
    {
     "name": "stdout",
     "output_type": "stream",
     "text": [
      "Socioeconomic Index captures 54.2 % of the variance in its 9 constituents.\n"
     ]
    }
   ],
   "source": [
    "#Next, the same for the Socioeconomic status:\n",
    "df_unscaled_Socioecon = static_data[Socioecon_vars]\n",
    "df_scaled_Socioecon = pd.DataFrame(scaler.fit_transform(df_unscaled_Socioecon), columns = Socioecon_vars)\n",
    "\n",
    "pca_.fit(df_scaled_Socioecon)\n",
    "variance_explained_Socioecon = pca_.explained_variance_ratio_\n",
    "print(\"Socioeconomic Index captures %4.1f %% of the variance in its %d constituents.\" % \n",
    "      ((variance_explained_Socioecon * 100), len(Socioecon_vars)))\n",
    "\n",
    "loading_signs_found_Socioecon = np.sign(pca_.components_) #same direction check as above\n",
    "\n",
    "if (loading_signs_found_Socioecon == loading_signs_ought_Socioecon).all():\n",
    "    static_data['Socioecon_Index'] = pca_.transform(df_scaled_Socioecon)\n",
    "elif (- loading_signs_found_Socioecon == loading_signs_ought_Socioecon).all():\n",
    "    static_data['Socioecon_Index'] = - pca_.transform(df_scaled_Socioecon)\n",
    "else:\n",
    "    raise ValueError('Socioecon-loadings were not as expected! Reversing their signs did not help!')\n",
    "\n",
    "static_data['ses_z'] = scaler.fit_transform(static_data['Socioecon_Index'].values.reshape(-1,1))\n"
   ]
  },
  {
   "cell_type": "markdown",
   "metadata": {},
   "source": [
    "#### Save processed data"
   ]
  },
  {
   "cell_type": "code",
   "execution_count": 12,
   "metadata": {},
   "outputs": [],
   "source": [
    "static_data.to_csv('processed_static_data.csv', index = False)"
   ]
  }
 ],
 "metadata": {
  "kernelspec": {
   "display_name": "Python 3",
   "language": "python",
   "name": "python3"
  },
  "language_info": {
   "codemirror_mode": {
    "name": "ipython",
    "version": 3
   },
   "file_extension": ".py",
   "mimetype": "text/x-python",
   "name": "python",
   "nbconvert_exporter": "python",
   "pygments_lexer": "ipython3",
   "version": "3.7.6"
  }
 },
 "nbformat": 4,
 "nbformat_minor": 4
}
