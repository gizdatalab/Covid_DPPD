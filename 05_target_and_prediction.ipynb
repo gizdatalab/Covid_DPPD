{
 "cells": [
  {
   "cell_type": "markdown",
   "metadata": {},
   "source": [
    "Import packages:"
   ]
  },
  {
   "cell_type": "code",
   "execution_count": 1,
   "metadata": {},
   "outputs": [],
   "source": [
    "import pandas as pd\n",
    "import numpy as np\n",
    "import matplotlib.pyplot as plt\n",
    "import seaborn as sns"
   ]
  },
  {
   "cell_type": "markdown",
   "metadata": {},
   "source": [
    "Load processed weekly RKI data"
   ]
  },
  {
   "cell_type": "code",
   "execution_count": 2,
   "metadata": {},
   "outputs": [],
   "source": [
    "rki_weekly = pd.read_csv('rki_weekly.csv')"
   ]
  },
  {
   "cell_type": "markdown",
   "metadata": {},
   "source": [
    "Create weekly reproduction factors and shifted and logarithmized versions:"
   ]
  },
  {
   "cell_type": "code",
   "execution_count": 3,
   "metadata": {},
   "outputs": [],
   "source": [
    "one_as_default = True #False would turn div-by-zero and zero R0s into NaNs\n",
    "#model performance decreases when False, but distribution of target has less of\n",
    "#a spike at 0. Still, having gap-less panel data is better.\n",
    "\n",
    "rki_weekly['infs_last_week'] = rki_weekly.groupby('districtId')['AnzahlFall'].shift(1)\n",
    "\n",
    "if one_as_default:\n",
    "    rki_weekly['R0_last_week'] = (rki_weekly['AnzahlFall'] + 1) / (rki_weekly['infs_last_week'] + 1)\n",
    "else:\n",
    "    rki_weekly['R0_last_week'] = (rki_weekly['AnzahlFall']) / (rki_weekly['infs_last_week'])\n",
    "    rki_weekly['R0_last_week'].replace([np.inf, 0],np.nan,inplace=True)\n",
    "\n",
    "rki_weekly['R0_this_week'] = rki_weekly.groupby('districtId')['R0_last_week'].shift(-1)\n",
    "rki_weekly['ar2_'] = rki_weekly.groupby('districtId')['R0_last_week'].shift(1)\n",
    "# rki_weekly['ar3_'] = rki_weekly.groupby('districtId')['R0_last_week'].shift(2)\n",
    "# rki_weekly['ar4_'] = rki_weekly.groupby('districtId')['R0_last_week'].shift(3)\n",
    "\n",
    "rki_weekly['target'] = np.log(rki_weekly['R0_this_week'])\n",
    "rki_weekly['auto_regr'] = np.log(rki_weekly['R0_last_week'])\n",
    "rki_weekly['auto_regr2'] = np.log(rki_weekly['ar2_'])\n",
    "# rki_weekly['auto_regr3'] = np.log(rki_weekly['ar3_'])\n",
    "# rki_weekly['auto_regr4'] = np.log(rki_weekly['ar4_'])"
   ]
  },
  {
   "cell_type": "markdown",
   "metadata": {},
   "source": [
    "Load in feature data:"
   ]
  },
  {
   "cell_type": "code",
   "execution_count": 4,
   "metadata": {},
   "outputs": [],
   "source": [
    "static_data = pd.read_csv('processed_static_data.csv')\n",
    "mobility_features = pd.read_csv('mobility_features.csv')\n",
    "weather_features = pd.read_csv('weather_features.csv')\n",
    "all_data = rki_weekly.merge(static_data).merge(mobility_features[mobility_features.year==2020]).merge(weather_features)"
   ]
  },
  {
   "cell_type": "markdown",
   "metadata": {},
   "source": [
    "Differentiating between day off and workday mobility features not productive as they correlate too highly anyway. I reverse it here, instead of in the feature creation, mostly due to the fact that new mobility feature creation would entail more beaurocracy."
   ]
  },
  {
   "cell_type": "code",
   "execution_count": 5,
   "metadata": {},
   "outputs": [],
   "source": [
    "features_to_resum = ['Count_internal','Count_incoming']\n",
    "\n",
    "for f in features_to_resum:\n",
    "    for p in ['','_p_pop']:\n",
    "        var_work = f + '_workday' + p\n",
    "        var_off = f + '_day_off' + p\n",
    "        all_data[f + p] = all_data[var_work] + all_data[var_off]"
   ]
  },
  {
   "cell_type": "markdown",
   "metadata": {},
   "source": [
    "Timeseries features get used twice, once as is, once shifted back by one week, effectively creating an ARX(2,2) model:"
   ]
  },
  {
   "cell_type": "code",
   "execution_count": 6,
   "metadata": {},
   "outputs": [],
   "source": [
    "vars_2_lag = ['Count_internal',\n",
    "       'Count_incoming', 'incoming_infected',\n",
    "       'Count_internal_p_pop',\n",
    "       'Count_incoming_p_pop',\n",
    "       'incoming_infected_p_pop',\n",
    "       'temperature', 'humidity', 'precipitation',\n",
    "       'sunshine', 'velocity',\n",
    "        'Count_internal_workday', 'Count_internal_day_off',\n",
    "       'Count_incoming_workday', 'Count_incoming_day_off', \n",
    "       'Count_internal_workday_p_pop', 'Count_internal_day_off_p_pop',\n",
    "       'Count_incoming_workday_p_pop', 'Count_incoming_day_off_p_pop',\n",
    "       'temperature_workday', 'humidity_workday', 'precipitation_workday',\n",
    "       'sunshine_workday', 'velocity_workday', 'direction_workday',\n",
    "       'temperature_day_off', 'humidity_day_off', 'precipitation_day_off',\n",
    "       'sunshine_day_off', 'velocity_day_off', 'direction_day_off',]\n",
    "\n",
    "\n",
    "for var in vars_2_lag:\n",
    "    var_name = var + '_lag1'\n",
    "    all_data[var_name] = all_data.groupby('districtId')[var].shift(1)\n",
    "    \n",
    "    \n",
    "#additional 2 week lag no benefit at all:\n",
    "#     var_name = var + '_lag2'\n",
    "#     all_data[var_name] = all_data.groupby('districtId')[var].shift(2)\n",
    "#Thus, for exogenous influences, I take the original timeseries, and\n",
    "#the one-lagged, but no more.\n",
    "    "
   ]
  },
  {
   "cell_type": "markdown",
   "metadata": {},
   "source": [
    "Here, we slice away the early weeks where there were too few cases, and the later weeks, which are outside our study's set scope:"
   ]
  },
  {
   "cell_type": "code",
   "execution_count": 7,
   "metadata": {},
   "outputs": [],
   "source": [
    "FIRST_WEEK = 12\n",
    "LAST_WEEK = 38\n",
    "\n",
    "all_data = all_data[all_data.week_no.between(FIRST_WEEK, LAST_WEEK)]"
   ]
  },
  {
   "cell_type": "markdown",
   "metadata": {},
   "source": [
    "Next, the cross-prediction function, which has as many decision parametrized as possible. See in-function description for details:"
   ]
  },
  {
   "cell_type": "code",
   "execution_count": 8,
   "metadata": {},
   "outputs": [],
   "source": [
    "def cross_predict(data, how, model, X_cols, y_col, id_col = None, shuffle_mode = 'id', mod_params = None, mod_attrs_2_return = None, z_trim = None, random_state = 1):\n",
    "    \n",
    "    '''Function to cross-predict target variable across multiple groups.\n",
    "    Parameters:\n",
    "    data = Dataframe containing at least X_cols, y_col and the same (multi-)index as intended for the output, additional columns are dropped. Rows with missing values in any relevant column are dropped as well.\n",
    "    how = Either number of groups for cross-validation or string 's'/'student_resid' for studentized residuals, i.e. each observation as its own group, predicted by a model fitted on all data except the observation itself. Can be arbitrarily high, even higher than N of data, with resulting empty groups ignored. Setting \\'how\\'' to 1 omits cross-prediction, and fits and uses the model on the entire or only z-trimmed data set instead.\n",
    "    model = String corresponding to the name of an already imported model class. Only classes with .fit() and .predict() methods will work.\n",
    "    X_col = List of column names used as features in target prediction\n",
    "    y_col = Column name of target variable\n",
    "    id_col = Single column name or list of column names needed for re-merging the results to other dataframes. If None, the dataframe index, passed through from the data input, can still be used\n",
    "    shuffle_mode = 'id': all values with the same ID are in the same group. 'full': every data point is shuffled independently, so that e.g. the same district can have weekly values in the training set and the prediction set.\n",
    "    mod_params = optional dictionary with named parameters for the model, e.g. max_depth for RF. The function's random state is passed as random_state parameter automatically.\n",
    "    mod_attrs_2_return = String name or list of names of attributes of the fitted model objects to return, e.g. 'coef_' for linear regression weights. Returns a dictionary with attribute name(s) as key(s) and corresponding list of attribute values as value(s).\n",
    "    z_trim = optional threshold for extreme outliers to be removed from training data, to avoid overfitting on these outliers. All observations with target values with a z-score above this value will be dropped from the training data. Does not affect test data, so that potential positive deviance can still be found without hurting the model.\n",
    "    random_state = seed for RandomState object used in all RNG processes for re-producible results.\n",
    "    \n",
    "    Returns:\n",
    "    output_df = Dataframe containing predicted target values, actual target values and grouping IDs from the cross-prediction process. Indexed with the same variables as the data input.\n",
    "    accuracies = Dictionary with overall_R2, training_accuriacies and, if more than one value is predicted per iteration, the resulting out_of_sample_accuracies.\n",
    "    mod_attrs = dictionary of lists with the requested model attributes to return, keyed with the attribute name. Empty dictionary if mod_attrs_2_return is None.\n",
    "    \n",
    "    Note: Function is written for model objects with sklearn syntax, e.g. initializing without arguments, fitting in place.\n",
    "    Statsmodels uses different syntax, initializing with endogenous and exogenous variables, returning the fitted model. Instead of writing exception handling for all that, it's easier to just write an sklearn-esque version of the Statsmodels function if need be, like here for ordinary least squares regression:\n",
    "    \n",
    "    import statsmodels.api as sm\n",
    "    class sm_ols():\n",
    "    def __init__(self):\n",
    "        pass\n",
    "    \n",
    "    def fit(self,X,y):\n",
    "        X = sm.add_constant(X)\n",
    "        self.mod = sm.OLS(y,X).fit()\n",
    "        \n",
    "    def predict(self,X):\n",
    "        X = sm.add_constant(X)\n",
    "        predictions = self.mod.predict(X)\n",
    "        return predictions\n",
    "    \n",
    "    '''\n",
    "    \n",
    "    from sklearn.metrics import r2_score, mean_absolute_error\n",
    "    \n",
    "    if id_col is not None:\n",
    "        all_cols = pd.core.common.flatten([X_cols,y_col,id_col]) #flatten, since X and id can \n",
    "    else:  #be either one string or a list of strings\n",
    "        all_cols = pd.core.common.flatten([X_cols,y_col])\n",
    "    df = data[all_cols].copy() #drop columns not needed\n",
    "    df.dropna(axis=0, inplace=True) #rowwise delete NAs \n",
    "    X = df[X_cols] #select predictors\n",
    "    y = df[y_col] #select target\n",
    "    n = df.shape[0] #get sample size (after NA removal)\n",
    "    rand = np.random.RandomState(random_state) #init random state\n",
    "    \n",
    "    train_accs = [] #init list of individual training accuracies\n",
    "    test_accs = [] #init list of individual test accuracies\n",
    "    mod_attrs = {}\n",
    "    if mod_attrs_2_return is not None: #init output for model attributes\n",
    "        if type(mod_attrs_2_return) == str: #if a single attribute name string,\n",
    "            mod_attrs[mod_attrs_2_return]=[] #the function will output a list of these attribute values\n",
    "        else: #else, we'll assume an iterable input, where each attribute will be\n",
    "            #used as the key in a dictionary of lists\n",
    "            for a in mod_attrs_2_return: #of attribute values that is initialised emptily\n",
    "                mod_attrs[a] = [] #here.\n",
    "    \n",
    "    output_df = pd.DataFrame() #init dataframe for output\n",
    "    pred_var_name = y_col + '_predicted' #define name for predicted target variable\n",
    "    \n",
    "    if shuffle_mode == 'full':#every row of the dataframe is treated independently\n",
    "        if how == 'student_resid' or how == 's': #if studentized residuals are wanted, \n",
    "            group = np.arange(n) #each observation is its own group\n",
    "        else:\n",
    "            try: #otherwise assign to specified number of groups\n",
    "                group = np.arange(n) % how\n",
    "                rand.shuffle(group) #shuffle to avoid e.g. Bundesland effects due to districtId            \n",
    "            except: #catch all cases where this fails (i.e. non-int, non-positive)\n",
    "                #demanding more groups than cases is not problematic, since some groups will be empty and thus ignored,\n",
    "                #so they are not caught here\n",
    "                raise ValueError('Parameter \\'how\\' needs to be positive integer or \\'student_resid\\' or \\'s\\'')\n",
    "    elif shuffle_mode == 'id': #all values of one id must be in the same group\n",
    "        if id_col is None:\n",
    "            raise ValueError('No ID cols to shuffle with!')\n",
    "        else:\n",
    "            unique_IDs = pd.DataFrame(df.groupby(id_col).size().reset_index()[id_col]) \n",
    "            #this gets all unique ID values for a single string, as well as all unique combinations for a list of strings\n",
    "            n_uniq = unique_IDs.shape[0] #number of unique ID(combination)s as length of group column to be created\n",
    "            \n",
    "            if how =='student_resid' or how == 's':\n",
    "                ID_group = np.arange(n_uniq) #each unique ID(combination) gets its own group\n",
    "            else:\n",
    "                try: #otherwise assign to specified number of groups\n",
    "                    ID_group = np.arange(n_uniq) % how\n",
    "                    rand.shuffle(ID_group) #shuffle to avoid e.g. Bundesland effects due to districtId            \n",
    "                except: #catch all cases where this fails (i.e. non-int, non-positive)\n",
    "                #demanding more groups than cases is not problematic, since some groups will be empty and thus ignored,\n",
    "                #so they are not caught here\n",
    "                    raise ValueError('Parameter \\'how\\' needs to be positive integer or \\'student_resid\\' or \\'s\\'')\n",
    "            \n",
    "            unique_IDs['group'] = ID_group #add group to the dataframe of unique IDs so that\n",
    "            df_with_group = pd.merge(df, unique_IDs) #we can merge it with the dataframe to get the \n",
    "            group = np.array(df_with_group['group']) #array matching each row of the full dataset to its respective group\n",
    "            \n",
    "    else:\n",
    "        raise ValueError('shuffle mode must be either \\'id\\' or \\'full\\'!')\n",
    "            \n",
    "    for g in np.unique(group):#iterate over groups\n",
    "        \n",
    "        if how == 1: #if only one group, \n",
    "            X_train, y_train = X, y #train on entire dataset.\n",
    "            X_test, y_test = X, y #this test set would happen anyway since all data is in group g=0, included here only as failsafe.\n",
    "        else:\n",
    "            X_train = X[group != g] #train model on all data NOT in the group\n",
    "            y_train = y[group != g]\n",
    "                \n",
    "            X_test = X[group == g] #test/predict in group data\n",
    "            y_test = y[group == g]\n",
    "\n",
    "            \n",
    "        if z_trim is not None: #if extreme values should be trimmed from training data\n",
    "            m_y = np.mean(y_train) #calc train target mean\n",
    "            s_y = np.std(y_train) #and SD\n",
    "            z_y = (y_train - m_y) / s_y #for z-values\n",
    "            X_train = X_train[abs(z_y) <= z_trim] #and cut all observations with target values\n",
    "            y_train = y_train[abs(z_y) <= z_trim] #more extreme than z_trim threshold\n",
    "        \n",
    "        #defining model by trying to pass string input as (previously imported) model class name.\n",
    "        #Both passing and not passing call brackets will work.\n",
    "        try: \n",
    "            mod = eval(model+'()')\n",
    "        except:\n",
    "            try:\n",
    "                mod = eval(model)\n",
    "            except:\n",
    "                raise ValueError('\\'model\\' parameter could not be interpreted as model class. Check whether you have imported the corresponding class.')\n",
    "\n",
    "        setattr(mod, 'random_state', rand)#if model uses RNG, passing the function's RandomState object here. Will be passively ignored by e.g. LinearRegression().\n",
    "\n",
    "        if mod_params is not None: #if model params are provided as a dict\n",
    "            for k, v in mod_params.items(): #iterate over dict and\n",
    "                setattr(mod,k,v) #set attributes of mod accordingly\n",
    "                #meaningless attributes are added without effect, e.g.\n",
    "                #max_depth for LinearRegression will be set without error\n",
    "                #because it is simply ignored\n",
    "        \n",
    "        mod.fit(X_train, y_train) #fit model to training data\n",
    "        \n",
    "        train_accs.append(r2_score(y_train, mod.predict(X_train))) #save model performance for training set\n",
    "        \n",
    "        y_pred = mod.predict(X_test) #predict target variable for data in current group\n",
    "        #this will be the prediction that 'counts' for this data, as it is the only prediction\n",
    "        #for this data where the model has not seen this data before\n",
    "        \n",
    "        if len(y_pred) > 1: #y_pred will be 1 long when studentized residuals are chosen or when groups become too small\n",
    "            test_accs.append(r2_score(y_test, y_pred)) #if there are enough (2) observations, save test performance as well\n",
    "        \n",
    "        group_output = pd.DataFrame({pred_var_name:y_pred, #the predicted target\n",
    "                                    y_col:y_test, #values, the actual target values and the\n",
    "                                    'grouping_id':g}) #grouping IDs for potential trouble shooting\n",
    "        \n",
    "        if id_col is None: #if no ID columns are supposed to be passed through,\n",
    "            pass #no action necessary\n",
    "        elif type(id_col) == str: #alternatively, if one col name string is given,\n",
    "            group_output[id_col] = df[id_col][group == g] #add this column to group output\n",
    "        else: #else, id_col is assumed to be iterable (a list). id_cols that are neither strings, nor iterables\n",
    "            for i in id_col: #will throw a non-iterable error. Here, we iterate over the list and\n",
    "                group_output[i] = df[i][group == g] #add each col to output\n",
    "        \n",
    "        output_df = pd.concat([output_df, group_output]) #add output for current group to overall output\n",
    "        \n",
    "        if mod_attrs_2_return is None: #if no mod attributes are wanted,\n",
    "            pass #no action is necessary\n",
    "        elif type(mod_attrs_2_return) == str: #if one attribute name string is given,\n",
    "            mod_attrs[mod_attrs_2_return].append(getattr(mod, mod_attrs_2_return)) #add the current models value to list\n",
    "        else: #else, input is assumed to be iterable (a list). If neither string, nor iterable, an error is raised about\n",
    "            for a in mod_attrs_2_return: #it not being iterable. Here, we iterate over the attributes and append\n",
    "                mod_attrs[a].append(getattr(mod, a)) #each attribute to the right list in the attribute dict\n",
    "        \n",
    "    output_df.sort_index(inplace=True)#revert order to index ordering, as it is now sorted by group first\n",
    "    #If the input dataframe was sorted by its index, this should result in \n",
    "    #the same order as the input dataframe, apart from the dropped rows due to missing values.\n",
    "    total_r2 = r2_score(output_df[y_col],output_df[pred_var_name]) #calc R2 for all data combined\n",
    "    total_mae = mean_absolute_error(output_df[y_col],output_df[pred_var_name])\n",
    "    print('Overall, the cross-predictions accounted for {:.2%} of the target variance.'.format(total_r2))\n",
    "    print('The Mean Absolute Error was {:.5}'.format(total_mae))  \n",
    "    \n",
    "    accuracies = {'overall_R2': total_r2,\n",
    "                 'training_accuracies':train_accs}\n",
    "    if len(test_accs) > 0:\n",
    "        accuracies['out_of_sample_accuracies']=test_accs\n",
    "                                                                                            \n",
    "    return output_df, accuracies, mod_attrs\n",
    "    \n"
   ]
  },
  {
   "cell_type": "markdown",
   "metadata": {},
   "source": [
    "Problem: The standard sklearn Huber regression does not yield standardized regression weights, but for deviance purposes, I also don't want to z-standardize my target (or features). Thus, I create a class here that does the standardizing and de-standardizing under the hood."
   ]
  },
  {
   "cell_type": "code",
   "execution_count": 9,
   "metadata": {},
   "outputs": [],
   "source": [
    "from sklearn.preprocessing import StandardScaler\n",
    "from sklearn.linear_model import HuberRegressor\n",
    "\n",
    "class standard_huber():\n",
    "    def __init__(self, epsilon = 1.35):#1.35 is also the default value in sklearn, and the one proposed by Mr Huber himself\n",
    "        self.x_sclr = StandardScaler()\n",
    "        self.y_sclr = StandardScaler()\n",
    "        self.epsilon = epsilon\n",
    "    \n",
    "    def fit(self,X,y):\n",
    "        self.mod = HuberRegressor(epsilon=self.epsilon)\n",
    "        X_scld = self.x_sclr.fit_transform(X)\n",
    "        y_rshp = np.array(y).reshape(-1,1)\n",
    "        y_scld = self.y_sclr.fit_transform(y_rshp).reshape(-1,)\n",
    "        self.mod.fit(X_scld,y_scld)\n",
    "        \n",
    "    def predict(self,X):\n",
    "        \n",
    "        X_scld = self.x_sclr.transform(X)\n",
    "        pred_y_scld = self.mod.predict(X_scld)\n",
    "        predictions = self.y_sclr.inverse_transform(pred_y_scld).reshape(-1,)\n",
    "        \n",
    "        return predictions\n",
    "    \n",
    "    @property\n",
    "    def coef_(self):\n",
    "        return self.mod.coef_"
   ]
  },
  {
   "cell_type": "markdown",
   "metadata": {},
   "source": [
    "List of all predictors/features to be used:"
   ]
  },
  {
   "cell_type": "code",
   "execution_count": 10,
   "metadata": {},
   "outputs": [],
   "source": [
    "predictor_variables = [\n",
    "    'auto_regr',\n",
    "    'auto_regr2',\n",
    "    'Count_internal_p_pop',\n",
    "    'Count_internal_p_pop_lag1',\n",
    "    'Count_incoming_p_pop',\n",
    "    'Count_incoming_p_pop_lag1',\n",
    "    'incoming_infected_p_pop',\n",
    "    'incoming_infected_p_pop_lag1',\n",
    "    'temperature',\n",
    "    'temperature_lag1',\n",
    "    'humidity',\n",
    "    'humidity_lag1',\n",
    "    'precipitation',\n",
    "    'precipitation_lag1',\n",
    "    'sunshine',\n",
    "    'sunshine_lag1',\n",
    "]"
   ]
  },
  {
   "cell_type": "markdown",
   "metadata": {},
   "source": [
    "Use the cross-prediction:\n",
    "[EDIT:] In the end, we did not end up needing cross prediction, since the Huber is so very robust anyway. To keep the pipeline intact, I still call the cross prediction function, but with 1 as the how-argument, i.e. with fitting and predicting on one single group."
   ]
  },
  {
   "cell_type": "code",
   "execution_count": 11,
   "metadata": {
    "scrolled": false
   },
   "outputs": [
    {
     "name": "stdout",
     "output_type": "stream",
     "text": [
      "Overall, the cross-predictions accounted for 14.76% of the target variance.\n",
      "The Mean Absolute Error was 0.55442\n"
     ]
    }
   ],
   "source": [
    "predictions, accs, mod_attrs = cross_predict(data = all_data,\n",
    "                                             X_cols = predictor_variables,\n",
    "                                             y_col = 'target',\n",
    "                                             id_col = 'districtId',\n",
    "                                             how = 1,\n",
    "                                             shuffle_mode='id',\n",
    "                                             model = 'standard_huber',\n",
    "                                             mod_attrs_2_return = 'coef_',\n",
    "                                             z_trim = None,\n",
    "                                             mod_params={'epsilon':1.35})#see above, 1.35 is default"
   ]
  },
  {
   "cell_type": "markdown",
   "metadata": {},
   "source": [
    "Calculate the deviance, and print the correlation of predicted and actual target values, mostly as a sanity check:"
   ]
  },
  {
   "cell_type": "code",
   "execution_count": 12,
   "metadata": {},
   "outputs": [
    {
     "name": "stdout",
     "output_type": "stream",
     "text": [
      "[[1.         0.38430108]\n",
      " [0.38430108 1.        ]]\n"
     ]
    }
   ],
   "source": [
    "predictions['deviance'] = predictions['target_predicted'] - predictions['target']\n",
    "print(np.corrcoef(predictions['target_predicted'], predictions['target']))"
   ]
  },
  {
   "cell_type": "markdown",
   "metadata": {},
   "source": [
    "Merge it all:"
   ]
  },
  {
   "cell_type": "code",
   "execution_count": 13,
   "metadata": {},
   "outputs": [],
   "source": [
    "all_data = pd.merge(all_data, predictions, left_index=True, right_index=True, suffixes=('','_del')).drop(columns=['districtId_del','target_del'])"
   ]
  },
  {
   "cell_type": "markdown",
   "metadata": {},
   "source": [
    "Save the data:"
   ]
  },
  {
   "cell_type": "code",
   "execution_count": 14,
   "metadata": {},
   "outputs": [],
   "source": [
    "all_data.to_csv('all_data.csv',index=False)"
   ]
  },
  {
   "cell_type": "markdown",
   "metadata": {},
   "source": [
    "### Sanity-check regression"
   ]
  },
  {
   "cell_type": "markdown",
   "metadata": {},
   "source": [
    "If our model is not corrupted by outliers, there should not be any correlation between any predictor and the deviance:"
   ]
  },
  {
   "cell_type": "code",
   "execution_count": 15,
   "metadata": {},
   "outputs": [
    {
     "name": "stdout",
     "output_type": "stream",
     "text": [
      "All correlations between residuals and predictors were between -0.01 and 0.02\n"
     ]
    }
   ],
   "source": [
    "corr=all_data[predictor_variables+['deviance']].corr()\n",
    "\n",
    "print('All correlations between residuals and predictors were between {:.2f} and {:.2f}'.format(corr.deviance.iloc[:-1].min(),corr.deviance.iloc[:-1].max()))"
   ]
  },
  {
   "cell_type": "markdown",
   "metadata": {},
   "source": [
    "Make sure that the residuals are centered around zero:"
   ]
  },
  {
   "cell_type": "code",
   "execution_count": 16,
   "metadata": {},
   "outputs": [
    {
     "data": {
      "text/plain": [
       "<AxesSubplot:>"
      ]
     },
     "execution_count": 16,
     "metadata": {},
     "output_type": "execute_result"
    },
    {
     "data": {
      "image/png": "[encoded data removed]",
      "text/plain": [
       "<Figure size 432x288 with 1 Axes>"
      ]
     },
     "metadata": {
      "needs_background": "light"
     },
     "output_type": "display_data"
    }
   ],
   "source": [
    "all_data.deviance.hist(bins=20)"
   ]
  },
  {
   "cell_type": "markdown",
   "metadata": {},
   "source": [
    "Plot predicted and actual values against each other. You see the larger spike of zeroes in the target, which mostly result from one being the 'default' value for the reproduction factors, thus leading to logs of zero. Since these don't create variance (mean is about zero), model performance is actually worse when dropping these values, so I'd keep these values, rather than working with a gappy timeseries."
   ]
  },
  {
   "cell_type": "code",
   "execution_count": 17,
   "metadata": {
    "scrolled": true
   },
   "outputs": [
    {
     "name": "stderr",
     "output_type": "stream",
     "text": [
      "C:\\Users\\joshu\\anaconda3\\lib\\site-packages\\seaborn\\_decorators.py:43: FutureWarning: Pass the following variables as keyword args: x, y. From version 0.12, the only valid positional argument will be `data`, and passing other arguments without an explicit keyword will result in an error or misinterpretation.\n",
      "  FutureWarning\n"
     ]
    },
    {
     "data": {
      "text/plain": [
       "<seaborn.axisgrid.JointGrid at 0x1bc56128388>"
      ]
     },
     "execution_count": 17,
     "metadata": {},
     "output_type": "execute_result"
    },
    {
     "data": {
      "image/png": "[encoded data removed]",
      "text/plain": [
       "<Figure size 432x432 with 3 Axes>"
      ]
     },
     "metadata": {
      "needs_background": "light"
     },
     "output_type": "display_data"
    }
   ],
   "source": [
    "sns.jointplot(predictions.target, predictions.target_predicted,kind='kde')\n"
   ]
  },
  {
   "cell_type": "markdown",
   "metadata": {},
   "source": [
    "### Analyse regression weights "
   ]
  },
  {
   "cell_type": "code",
   "execution_count": 18,
   "metadata": {},
   "outputs": [],
   "source": [
    "attr_dict = {}\n",
    "weight_dict = {}\n",
    "for i, var in enumerate(predictor_variables):\n",
    "    \n",
    "    attr_dict[var] = []\n",
    "          \n",
    "    for a in mod_attrs['coef_']:\n",
    "        attr_dict[var].append(a[i])\n",
    "    \n",
    "    weight_dict[var] = {'mean':np.mean(attr_dict[var]),\n",
    "                       'sd':np.std(attr_dict[var])}\n",
    "\n"
   ]
  },
  {
   "cell_type": "code",
   "execution_count": 19,
   "metadata": {},
   "outputs": [],
   "source": [
    "predictor_dict = {'auto_regr':'Log-R0 t-1',\n",
    "'auto_regr2':'Log-R0 t-2',\n",
    "'Count_internal_p_pop':'Internal travel per capita week t',\n",
    "'Count_internal_p_pop_lag1':'Internal travel per capita week t-1',\n",
    "'Count_incoming_p_pop':'Incoming travel per capita week t',\n",
    "'Count_incoming_p_pop_lag1':'Incoming travel per capita week t-1',\n",
    "'incoming_infected_p_pop':'Incoming infection load per capita week t',\n",
    "'incoming_infected_p_pop_lag1':'Incoming infection load per capita week t-1',\n",
    "'temperature':'Average temperature week t',\n",
    "'temperature_lag1':'Average temperature week t-1',\n",
    "'humidity':'Average humidity week t',\n",
    "'humidity_lag1':'Average humidity week t-1',\n",
    "'precipitation':'Average precipitation week t',\n",
    "'precipitation_lag1':'Average precipitation week t-1',\n",
    "'sunshine':'Average daily sunshine week t',\n",
    "'sunshine_lag1':'Average daily sunshine week t-1'}"
   ]
  },
  {
   "cell_type": "code",
   "execution_count": 20,
   "metadata": {},
   "outputs": [],
   "source": [
    "weight_df = pd.DataFrame(weight_dict).T.round(3)"
   ]
  },
  {
   "cell_type": "code",
   "execution_count": 21,
   "metadata": {},
   "outputs": [
    {
     "data": {
      "text/html": [
       "<div>\n",
       "<style scoped>\n",
       "    .dataframe tbody tr th:only-of-type {\n",
       "        vertical-align: middle;\n",
       "    }\n",
       "\n",
       "    .dataframe tbody tr th {\n",
       "        vertical-align: top;\n",
       "    }\n",
       "\n",
       "    .dataframe thead th {\n",
       "        text-align: right;\n",
       "    }\n",
       "</style>\n",
       "<table border=\"1\" class=\"dataframe\">\n",
       "  <thead>\n",
       "    <tr style=\"text-align: right;\">\n",
       "      <th></th>\n",
       "      <th>mean</th>\n",
       "      <th>sd</th>\n",
       "    </tr>\n",
       "  </thead>\n",
       "  <tbody>\n",
       "    <tr>\n",
       "      <th>auto_regr</th>\n",
       "      <td>-0.293</td>\n",
       "      <td>0.0</td>\n",
       "    </tr>\n",
       "    <tr>\n",
       "      <th>auto_regr2</th>\n",
       "      <td>-0.081</td>\n",
       "      <td>0.0</td>\n",
       "    </tr>\n",
       "    <tr>\n",
       "      <th>Count_internal_p_pop</th>\n",
       "      <td>-0.337</td>\n",
       "      <td>0.0</td>\n",
       "    </tr>\n",
       "    <tr>\n",
       "      <th>Count_internal_p_pop_lag1</th>\n",
       "      <td>0.350</td>\n",
       "      <td>0.0</td>\n",
       "    </tr>\n",
       "    <tr>\n",
       "      <th>Count_incoming_p_pop</th>\n",
       "      <td>-0.668</td>\n",
       "      <td>0.0</td>\n",
       "    </tr>\n",
       "    <tr>\n",
       "      <th>Count_incoming_p_pop_lag1</th>\n",
       "      <td>0.694</td>\n",
       "      <td>0.0</td>\n",
       "    </tr>\n",
       "    <tr>\n",
       "      <th>incoming_infected_p_pop</th>\n",
       "      <td>0.247</td>\n",
       "      <td>0.0</td>\n",
       "    </tr>\n",
       "    <tr>\n",
       "      <th>incoming_infected_p_pop_lag1</th>\n",
       "      <td>-0.267</td>\n",
       "      <td>0.0</td>\n",
       "    </tr>\n",
       "    <tr>\n",
       "      <th>temperature</th>\n",
       "      <td>0.080</td>\n",
       "      <td>0.0</td>\n",
       "    </tr>\n",
       "    <tr>\n",
       "      <th>temperature_lag1</th>\n",
       "      <td>0.067</td>\n",
       "      <td>0.0</td>\n",
       "    </tr>\n",
       "    <tr>\n",
       "      <th>humidity</th>\n",
       "      <td>0.018</td>\n",
       "      <td>0.0</td>\n",
       "    </tr>\n",
       "    <tr>\n",
       "      <th>humidity_lag1</th>\n",
       "      <td>0.016</td>\n",
       "      <td>0.0</td>\n",
       "    </tr>\n",
       "    <tr>\n",
       "      <th>precipitation</th>\n",
       "      <td>-0.012</td>\n",
       "      <td>0.0</td>\n",
       "    </tr>\n",
       "    <tr>\n",
       "      <th>precipitation_lag1</th>\n",
       "      <td>0.043</td>\n",
       "      <td>0.0</td>\n",
       "    </tr>\n",
       "    <tr>\n",
       "      <th>sunshine</th>\n",
       "      <td>0.036</td>\n",
       "      <td>0.0</td>\n",
       "    </tr>\n",
       "    <tr>\n",
       "      <th>sunshine_lag1</th>\n",
       "      <td>-0.106</td>\n",
       "      <td>0.0</td>\n",
       "    </tr>\n",
       "  </tbody>\n",
       "</table>\n",
       "</div>"
      ],
      "text/plain": [
       "                               mean   sd\n",
       "auto_regr                    -0.293  0.0\n",
       "auto_regr2                   -0.081  0.0\n",
       "Count_internal_p_pop         -0.337  0.0\n",
       "Count_internal_p_pop_lag1     0.350  0.0\n",
       "Count_incoming_p_pop         -0.668  0.0\n",
       "Count_incoming_p_pop_lag1     0.694  0.0\n",
       "incoming_infected_p_pop       0.247  0.0\n",
       "incoming_infected_p_pop_lag1 -0.267  0.0\n",
       "temperature                   0.080  0.0\n",
       "temperature_lag1              0.067  0.0\n",
       "humidity                      0.018  0.0\n",
       "humidity_lag1                 0.016  0.0\n",
       "precipitation                -0.012  0.0\n",
       "precipitation_lag1            0.043  0.0\n",
       "sunshine                      0.036  0.0\n",
       "sunshine_lag1                -0.106  0.0"
      ]
     },
     "execution_count": 21,
     "metadata": {},
     "output_type": "execute_result"
    }
   ],
   "source": [
    "weight_df"
   ]
  },
  {
   "cell_type": "code",
   "execution_count": 50,
   "metadata": {},
   "outputs": [
    {
     "data": {
      "text/plain": [
       "Text(0, 0.5, 'Regression weight')"
      ]
     },
     "execution_count": 50,
     "metadata": {},
     "output_type": "execute_result"
    },
    {
     "data": {
      "image/png": "[encoded data removed]",
      "text/plain": [
       "<Figure size 432x288 with 1 Axes>"
      ]
     },
     "metadata": {
      "needs_background": "light"
     },
     "output_type": "display_data"
    }
   ],
   "source": [
    "# target_corrs = all_data[predictor_variables+['target']].corr().target\n",
    "\n",
    "# compare_df = pd.DataFrame({'target_cor':target_corrs, 'weight':weight_df['mean']})\n",
    "# plt.scatter(compare_df['target_cor'],compare_df['weight'])\n",
    "# plt.xlabel('Correlation between target and predictor')\n",
    "# plt.ylabel('Regression weight')"
   ]
  },
  {
   "cell_type": "code",
   "execution_count": 24,
   "metadata": {},
   "outputs": [],
   "source": [
    "weight_df.index=weight_df.index.map(predictor_dict)"
   ]
  },
  {
   "cell_type": "code",
   "execution_count": 25,
   "metadata": {},
   "outputs": [],
   "source": [
    "weight_df['mean'].to_csv('regression_weights.csv',header=False)"
   ]
  },
  {
   "cell_type": "markdown",
   "metadata": {},
   "source": [
    "## Check model stability "
   ]
  },
  {
   "cell_type": "code",
   "execution_count": 26,
   "metadata": {},
   "outputs": [
    {
     "name": "stdout",
     "output_type": "stream",
     "text": [
      "Overall, the cross-predictions accounted for 14.35% of the target variance.\n",
      "The Mean Absolute Error was 0.55581\n",
      "Overall, the cross-predictions accounted for 14.30% of the target variance.\n",
      "The Mean Absolute Error was 0.5559\n",
      "Overall, the cross-predictions accounted for 14.15% of the target variance.\n",
      "The Mean Absolute Error was 0.55666\n",
      "Overall, the cross-predictions accounted for 14.38% of the target variance.\n",
      "The Mean Absolute Error was 0.55589\n",
      "Overall, the cross-predictions accounted for 14.41% of the target variance.\n",
      "The Mean Absolute Error was 0.55574\n",
      "Overall, the cross-predictions accounted for 14.29% of the target variance.\n",
      "The Mean Absolute Error was 0.55631\n",
      "Overall, the cross-predictions accounted for 14.30% of the target variance.\n",
      "The Mean Absolute Error was 0.55586\n",
      "Overall, the cross-predictions accounted for 14.47% of the target variance.\n",
      "The Mean Absolute Error was 0.55579\n",
      "Overall, the cross-predictions accounted for 14.31% of the target variance.\n",
      "The Mean Absolute Error was 0.55621\n",
      "Overall, the cross-predictions accounted for 14.37% of the target variance.\n",
      "The Mean Absolute Error was 0.5559\n",
      "Overall, the cross-predictions accounted for 14.39% of the target variance.\n",
      "The Mean Absolute Error was 0.55578\n",
      "Overall, the cross-predictions accounted for 14.56% of the target variance.\n",
      "The Mean Absolute Error was 0.55532\n",
      "Overall, the cross-predictions accounted for 14.49% of the target variance.\n",
      "The Mean Absolute Error was 0.55564\n",
      "Overall, the cross-predictions accounted for 14.36% of the target variance.\n",
      "The Mean Absolute Error was 0.55606\n",
      "Overall, the cross-predictions accounted for 14.22% of the target variance.\n",
      "The Mean Absolute Error was 0.55653\n"
     ]
    }
   ],
   "source": [
    "df = pd.DataFrame()\n",
    "for i in range(15):\n",
    "    predictions, accs, mod_attrs = cross_predict(data = all_data,\n",
    "                                             X_cols = predictor_variables,\n",
    "                                             y_col = 'target',\n",
    "                                             id_col = 'districtId',\n",
    "                                             how = 2,\n",
    "                                             shuffle_mode='id',\n",
    "                                             model = 'standard_huber',\n",
    "                                             mod_attrs_2_return = 'coef_',\n",
    "                                             z_trim = None,\n",
    "                                                 random_state=i,\n",
    "                                             mod_params={'epsilon':1.35})#see above, 1.35 is default\n",
    "    if i == 0:\n",
    "        df = predictions.copy()\n",
    "    else:\n",
    "        df = df.merge(predictions, left_index=True, right_index=True,suffixes=('',i))\n",
    "df=df.filter(like='target_predicted')"
   ]
  },
  {
   "cell_type": "code",
   "execution_count": 27,
   "metadata": {},
   "outputs": [
    {
     "data": {
      "text/html": [
       "<div>\n",
       "<style scoped>\n",
       "    .dataframe tbody tr th:only-of-type {\n",
       "        vertical-align: middle;\n",
       "    }\n",
       "\n",
       "    .dataframe tbody tr th {\n",
       "        vertical-align: top;\n",
       "    }\n",
       "\n",
       "    .dataframe thead th {\n",
       "        text-align: right;\n",
       "    }\n",
       "</style>\n",
       "<table border=\"1\" class=\"dataframe\">\n",
       "  <thead>\n",
       "    <tr style=\"text-align: right;\">\n",
       "      <th></th>\n",
       "      <th>target_predicted</th>\n",
       "      <th>target_predicted1</th>\n",
       "      <th>target_predicted2</th>\n",
       "      <th>target_predicted3</th>\n",
       "      <th>target_predicted4</th>\n",
       "      <th>target_predicted5</th>\n",
       "      <th>target_predicted6</th>\n",
       "      <th>target_predicted7</th>\n",
       "      <th>target_predicted8</th>\n",
       "      <th>target_predicted9</th>\n",
       "      <th>target_predicted10</th>\n",
       "      <th>target_predicted11</th>\n",
       "      <th>target_predicted12</th>\n",
       "      <th>target_predicted13</th>\n",
       "      <th>target_predicted14</th>\n",
       "    </tr>\n",
       "  </thead>\n",
       "  <tbody>\n",
       "    <tr>\n",
       "      <th>target_predicted</th>\n",
       "      <td>1.00</td>\n",
       "      <td>0.99</td>\n",
       "      <td>0.99</td>\n",
       "      <td>0.99</td>\n",
       "      <td>0.99</td>\n",
       "      <td>0.99</td>\n",
       "      <td>0.99</td>\n",
       "      <td>0.99</td>\n",
       "      <td>0.99</td>\n",
       "      <td>0.99</td>\n",
       "      <td>0.99</td>\n",
       "      <td>0.99</td>\n",
       "      <td>0.99</td>\n",
       "      <td>0.99</td>\n",
       "      <td>0.99</td>\n",
       "    </tr>\n",
       "    <tr>\n",
       "      <th>target_predicted1</th>\n",
       "      <td>0.99</td>\n",
       "      <td>1.00</td>\n",
       "      <td>0.99</td>\n",
       "      <td>0.99</td>\n",
       "      <td>0.99</td>\n",
       "      <td>0.99</td>\n",
       "      <td>0.99</td>\n",
       "      <td>0.99</td>\n",
       "      <td>0.99</td>\n",
       "      <td>0.99</td>\n",
       "      <td>0.99</td>\n",
       "      <td>0.99</td>\n",
       "      <td>0.99</td>\n",
       "      <td>0.99</td>\n",
       "      <td>0.99</td>\n",
       "    </tr>\n",
       "    <tr>\n",
       "      <th>target_predicted2</th>\n",
       "      <td>0.99</td>\n",
       "      <td>0.99</td>\n",
       "      <td>1.00</td>\n",
       "      <td>0.99</td>\n",
       "      <td>0.99</td>\n",
       "      <td>0.99</td>\n",
       "      <td>0.99</td>\n",
       "      <td>0.99</td>\n",
       "      <td>0.99</td>\n",
       "      <td>0.99</td>\n",
       "      <td>0.99</td>\n",
       "      <td>0.99</td>\n",
       "      <td>0.99</td>\n",
       "      <td>0.99</td>\n",
       "      <td>0.99</td>\n",
       "    </tr>\n",
       "    <tr>\n",
       "      <th>target_predicted3</th>\n",
       "      <td>0.99</td>\n",
       "      <td>0.99</td>\n",
       "      <td>0.99</td>\n",
       "      <td>1.00</td>\n",
       "      <td>0.99</td>\n",
       "      <td>0.99</td>\n",
       "      <td>0.99</td>\n",
       "      <td>0.99</td>\n",
       "      <td>0.99</td>\n",
       "      <td>0.99</td>\n",
       "      <td>0.99</td>\n",
       "      <td>0.99</td>\n",
       "      <td>0.99</td>\n",
       "      <td>0.99</td>\n",
       "      <td>0.99</td>\n",
       "    </tr>\n",
       "    <tr>\n",
       "      <th>target_predicted4</th>\n",
       "      <td>0.99</td>\n",
       "      <td>0.99</td>\n",
       "      <td>0.99</td>\n",
       "      <td>0.99</td>\n",
       "      <td>1.00</td>\n",
       "      <td>0.99</td>\n",
       "      <td>0.99</td>\n",
       "      <td>0.99</td>\n",
       "      <td>0.99</td>\n",
       "      <td>0.99</td>\n",
       "      <td>0.99</td>\n",
       "      <td>0.99</td>\n",
       "      <td>0.99</td>\n",
       "      <td>0.99</td>\n",
       "      <td>0.99</td>\n",
       "    </tr>\n",
       "    <tr>\n",
       "      <th>target_predicted5</th>\n",
       "      <td>0.99</td>\n",
       "      <td>0.99</td>\n",
       "      <td>0.99</td>\n",
       "      <td>0.99</td>\n",
       "      <td>0.99</td>\n",
       "      <td>1.00</td>\n",
       "      <td>0.99</td>\n",
       "      <td>0.99</td>\n",
       "      <td>0.99</td>\n",
       "      <td>0.99</td>\n",
       "      <td>0.99</td>\n",
       "      <td>0.99</td>\n",
       "      <td>0.99</td>\n",
       "      <td>0.99</td>\n",
       "      <td>0.99</td>\n",
       "    </tr>\n",
       "    <tr>\n",
       "      <th>target_predicted6</th>\n",
       "      <td>0.99</td>\n",
       "      <td>0.99</td>\n",
       "      <td>0.99</td>\n",
       "      <td>0.99</td>\n",
       "      <td>0.99</td>\n",
       "      <td>0.99</td>\n",
       "      <td>1.00</td>\n",
       "      <td>0.99</td>\n",
       "      <td>0.99</td>\n",
       "      <td>0.99</td>\n",
       "      <td>0.99</td>\n",
       "      <td>0.99</td>\n",
       "      <td>0.99</td>\n",
       "      <td>0.99</td>\n",
       "      <td>0.99</td>\n",
       "    </tr>\n",
       "    <tr>\n",
       "      <th>target_predicted7</th>\n",
       "      <td>0.99</td>\n",
       "      <td>0.99</td>\n",
       "      <td>0.99</td>\n",
       "      <td>0.99</td>\n",
       "      <td>0.99</td>\n",
       "      <td>0.99</td>\n",
       "      <td>0.99</td>\n",
       "      <td>1.00</td>\n",
       "      <td>0.99</td>\n",
       "      <td>0.99</td>\n",
       "      <td>0.99</td>\n",
       "      <td>0.99</td>\n",
       "      <td>0.99</td>\n",
       "      <td>0.99</td>\n",
       "      <td>0.99</td>\n",
       "    </tr>\n",
       "    <tr>\n",
       "      <th>target_predicted8</th>\n",
       "      <td>0.99</td>\n",
       "      <td>0.99</td>\n",
       "      <td>0.99</td>\n",
       "      <td>0.99</td>\n",
       "      <td>0.99</td>\n",
       "      <td>0.99</td>\n",
       "      <td>0.99</td>\n",
       "      <td>0.99</td>\n",
       "      <td>1.00</td>\n",
       "      <td>0.99</td>\n",
       "      <td>0.99</td>\n",
       "      <td>0.99</td>\n",
       "      <td>0.99</td>\n",
       "      <td>0.99</td>\n",
       "      <td>0.99</td>\n",
       "    </tr>\n",
       "    <tr>\n",
       "      <th>target_predicted9</th>\n",
       "      <td>0.99</td>\n",
       "      <td>0.99</td>\n",
       "      <td>0.99</td>\n",
       "      <td>0.99</td>\n",
       "      <td>0.99</td>\n",
       "      <td>0.99</td>\n",
       "      <td>0.99</td>\n",
       "      <td>0.99</td>\n",
       "      <td>0.99</td>\n",
       "      <td>1.00</td>\n",
       "      <td>0.99</td>\n",
       "      <td>0.99</td>\n",
       "      <td>0.99</td>\n",
       "      <td>0.99</td>\n",
       "      <td>0.99</td>\n",
       "    </tr>\n",
       "    <tr>\n",
       "      <th>target_predicted10</th>\n",
       "      <td>0.99</td>\n",
       "      <td>0.99</td>\n",
       "      <td>0.99</td>\n",
       "      <td>0.99</td>\n",
       "      <td>0.99</td>\n",
       "      <td>0.99</td>\n",
       "      <td>0.99</td>\n",
       "      <td>0.99</td>\n",
       "      <td>0.99</td>\n",
       "      <td>0.99</td>\n",
       "      <td>1.00</td>\n",
       "      <td>0.99</td>\n",
       "      <td>0.99</td>\n",
       "      <td>0.99</td>\n",
       "      <td>0.99</td>\n",
       "    </tr>\n",
       "    <tr>\n",
       "      <th>target_predicted11</th>\n",
       "      <td>0.99</td>\n",
       "      <td>0.99</td>\n",
       "      <td>0.99</td>\n",
       "      <td>0.99</td>\n",
       "      <td>0.99</td>\n",
       "      <td>0.99</td>\n",
       "      <td>0.99</td>\n",
       "      <td>0.99</td>\n",
       "      <td>0.99</td>\n",
       "      <td>0.99</td>\n",
       "      <td>0.99</td>\n",
       "      <td>1.00</td>\n",
       "      <td>0.99</td>\n",
       "      <td>0.99</td>\n",
       "      <td>0.99</td>\n",
       "    </tr>\n",
       "    <tr>\n",
       "      <th>target_predicted12</th>\n",
       "      <td>0.99</td>\n",
       "      <td>0.99</td>\n",
       "      <td>0.99</td>\n",
       "      <td>0.99</td>\n",
       "      <td>0.99</td>\n",
       "      <td>0.99</td>\n",
       "      <td>0.99</td>\n",
       "      <td>0.99</td>\n",
       "      <td>0.99</td>\n",
       "      <td>0.99</td>\n",
       "      <td>0.99</td>\n",
       "      <td>0.99</td>\n",
       "      <td>1.00</td>\n",
       "      <td>0.99</td>\n",
       "      <td>0.99</td>\n",
       "    </tr>\n",
       "    <tr>\n",
       "      <th>target_predicted13</th>\n",
       "      <td>0.99</td>\n",
       "      <td>0.99</td>\n",
       "      <td>0.99</td>\n",
       "      <td>0.99</td>\n",
       "      <td>0.99</td>\n",
       "      <td>0.99</td>\n",
       "      <td>0.99</td>\n",
       "      <td>0.99</td>\n",
       "      <td>0.99</td>\n",
       "      <td>0.99</td>\n",
       "      <td>0.99</td>\n",
       "      <td>0.99</td>\n",
       "      <td>0.99</td>\n",
       "      <td>1.00</td>\n",
       "      <td>0.99</td>\n",
       "    </tr>\n",
       "    <tr>\n",
       "      <th>target_predicted14</th>\n",
       "      <td>0.99</td>\n",
       "      <td>0.99</td>\n",
       "      <td>0.99</td>\n",
       "      <td>0.99</td>\n",
       "      <td>0.99</td>\n",
       "      <td>0.99</td>\n",
       "      <td>0.99</td>\n",
       "      <td>0.99</td>\n",
       "      <td>0.99</td>\n",
       "      <td>0.99</td>\n",
       "      <td>0.99</td>\n",
       "      <td>0.99</td>\n",
       "      <td>0.99</td>\n",
       "      <td>0.99</td>\n",
       "      <td>1.00</td>\n",
       "    </tr>\n",
       "  </tbody>\n",
       "</table>\n",
       "</div>"
      ],
      "text/plain": [
       "                    target_predicted  target_predicted1  target_predicted2  \\\n",
       "target_predicted                1.00               0.99               0.99   \n",
       "target_predicted1               0.99               1.00               0.99   \n",
       "target_predicted2               0.99               0.99               1.00   \n",
       "target_predicted3               0.99               0.99               0.99   \n",
       "target_predicted4               0.99               0.99               0.99   \n",
       "target_predicted5               0.99               0.99               0.99   \n",
       "target_predicted6               0.99               0.99               0.99   \n",
       "target_predicted7               0.99               0.99               0.99   \n",
       "target_predicted8               0.99               0.99               0.99   \n",
       "target_predicted9               0.99               0.99               0.99   \n",
       "target_predicted10              0.99               0.99               0.99   \n",
       "target_predicted11              0.99               0.99               0.99   \n",
       "target_predicted12              0.99               0.99               0.99   \n",
       "target_predicted13              0.99               0.99               0.99   \n",
       "target_predicted14              0.99               0.99               0.99   \n",
       "\n",
       "                    target_predicted3  target_predicted4  target_predicted5  \\\n",
       "target_predicted                 0.99               0.99               0.99   \n",
       "target_predicted1                0.99               0.99               0.99   \n",
       "target_predicted2                0.99               0.99               0.99   \n",
       "target_predicted3                1.00               0.99               0.99   \n",
       "target_predicted4                0.99               1.00               0.99   \n",
       "target_predicted5                0.99               0.99               1.00   \n",
       "target_predicted6                0.99               0.99               0.99   \n",
       "target_predicted7                0.99               0.99               0.99   \n",
       "target_predicted8                0.99               0.99               0.99   \n",
       "target_predicted9                0.99               0.99               0.99   \n",
       "target_predicted10               0.99               0.99               0.99   \n",
       "target_predicted11               0.99               0.99               0.99   \n",
       "target_predicted12               0.99               0.99               0.99   \n",
       "target_predicted13               0.99               0.99               0.99   \n",
       "target_predicted14               0.99               0.99               0.99   \n",
       "\n",
       "                    target_predicted6  target_predicted7  target_predicted8  \\\n",
       "target_predicted                 0.99               0.99               0.99   \n",
       "target_predicted1                0.99               0.99               0.99   \n",
       "target_predicted2                0.99               0.99               0.99   \n",
       "target_predicted3                0.99               0.99               0.99   \n",
       "target_predicted4                0.99               0.99               0.99   \n",
       "target_predicted5                0.99               0.99               0.99   \n",
       "target_predicted6                1.00               0.99               0.99   \n",
       "target_predicted7                0.99               1.00               0.99   \n",
       "target_predicted8                0.99               0.99               1.00   \n",
       "target_predicted9                0.99               0.99               0.99   \n",
       "target_predicted10               0.99               0.99               0.99   \n",
       "target_predicted11               0.99               0.99               0.99   \n",
       "target_predicted12               0.99               0.99               0.99   \n",
       "target_predicted13               0.99               0.99               0.99   \n",
       "target_predicted14               0.99               0.99               0.99   \n",
       "\n",
       "                    target_predicted9  target_predicted10  target_predicted11  \\\n",
       "target_predicted                 0.99                0.99                0.99   \n",
       "target_predicted1                0.99                0.99                0.99   \n",
       "target_predicted2                0.99                0.99                0.99   \n",
       "target_predicted3                0.99                0.99                0.99   \n",
       "target_predicted4                0.99                0.99                0.99   \n",
       "target_predicted5                0.99                0.99                0.99   \n",
       "target_predicted6                0.99                0.99                0.99   \n",
       "target_predicted7                0.99                0.99                0.99   \n",
       "target_predicted8                0.99                0.99                0.99   \n",
       "target_predicted9                1.00                0.99                0.99   \n",
       "target_predicted10               0.99                1.00                0.99   \n",
       "target_predicted11               0.99                0.99                1.00   \n",
       "target_predicted12               0.99                0.99                0.99   \n",
       "target_predicted13               0.99                0.99                0.99   \n",
       "target_predicted14               0.99                0.99                0.99   \n",
       "\n",
       "                    target_predicted12  target_predicted13  target_predicted14  \n",
       "target_predicted                  0.99                0.99                0.99  \n",
       "target_predicted1                 0.99                0.99                0.99  \n",
       "target_predicted2                 0.99                0.99                0.99  \n",
       "target_predicted3                 0.99                0.99                0.99  \n",
       "target_predicted4                 0.99                0.99                0.99  \n",
       "target_predicted5                 0.99                0.99                0.99  \n",
       "target_predicted6                 0.99                0.99                0.99  \n",
       "target_predicted7                 0.99                0.99                0.99  \n",
       "target_predicted8                 0.99                0.99                0.99  \n",
       "target_predicted9                 0.99                0.99                0.99  \n",
       "target_predicted10                0.99                0.99                0.99  \n",
       "target_predicted11                0.99                0.99                0.99  \n",
       "target_predicted12                1.00                0.99                0.99  \n",
       "target_predicted13                0.99                1.00                0.99  \n",
       "target_predicted14                0.99                0.99                1.00  "
      ]
     },
     "execution_count": 27,
     "metadata": {},
     "output_type": "execute_result"
    }
   ],
   "source": [
    "df.corr().round(2)"
   ]
  },
  {
   "cell_type": "code",
   "execution_count": null,
   "metadata": {},
   "outputs": [],
   "source": []
  }
 ],
 "metadata": {
  "kernelspec": {
   "display_name": "Python 3",
   "language": "python",
   "name": "python3"
  },
  "language_info": {
   "codemirror_mode": {
    "name": "ipython",
    "version": 3
   },
   "file_extension": ".py",
   "mimetype": "text/x-python",
   "name": "python",
   "nbconvert_exporter": "python",
   "pygments_lexer": "ipython3",
   "version": "3.7.10"
  }
 },
 "nbformat": 4,
 "nbformat_minor": 4
}
