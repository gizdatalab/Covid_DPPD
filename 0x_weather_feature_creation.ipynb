{
 "cells": [
  {
   "cell_type": "code",
   "execution_count": 1,
   "metadata": {},
   "outputs": [],
   "source": [
    "import pandas as pd\n",
    "import numpy as np\n",
    "import datetime as dt\n",
    "import holidays"
   ]
  },
  {
   "cell_type": "code",
   "execution_count": 2,
   "metadata": {},
   "outputs": [],
   "source": [
    "german_provinces = holidays.DE.PROVINCES"
   ]
  },
  {
   "cell_type": "code",
   "execution_count": 3,
   "metadata": {},
   "outputs": [],
   "source": [
    "holiday_dict = {}\n",
    "for province in german_provinces:\n",
    "    holiday_dict[province] = holidays.DE(years=[2019,2020,2021],prov=province)"
   ]
  },
  {
   "cell_type": "code",
   "execution_count": 4,
   "metadata": {},
   "outputs": [],
   "source": [
    "wtr = pd.read_csv('weather_data.csv')\n",
    "# wtr = wtr[wtr.district_name != 'LK Göttingen (alt)']"
   ]
  },
  {
   "cell_type": "code",
   "execution_count": 5,
   "metadata": {},
   "outputs": [],
   "source": [
    "wtr['date'] = pd.to_datetime(wtr['date'])"
   ]
  },
  {
   "cell_type": "code",
   "execution_count": 6,
   "metadata": {},
   "outputs": [],
   "source": [
    "wtr['day'] = wtr.date.dt.weekday\n",
    "wtr['week_no'] = wtr.date.dt.week"
   ]
  },
  {
   "cell_type": "code",
   "execution_count": 7,
   "metadata": {},
   "outputs": [],
   "source": [
    "# wtr.drop_duplicates(inplace=True)"
   ]
  },
  {
   "cell_type": "code",
   "execution_count": 8,
   "metadata": {},
   "outputs": [],
   "source": [
    "prov_ags_dict = {8:'BW',\n",
    "                 9:'BY',\n",
    "                 11:'BE',\n",
    "                 12:'BB',\n",
    "                 4:'HB',\n",
    "                 2:'HH',\n",
    "                 6:'HE',\n",
    "                 13:'MV',\n",
    "                 3:'NI',\n",
    "                 5:'NW',\n",
    "                 7:'RP',\n",
    "                 10:'SL',\n",
    "                 14:'SN',\n",
    "                 15:'ST',\n",
    "                 1:'SH',\n",
    "                 16:'TH'}\n",
    "\n",
    "wtr['province'] = np.floor(wtr['districtId'] / 1000).map(prov_ags_dict)"
   ]
  },
  {
   "cell_type": "code",
   "execution_count": 9,
   "metadata": {},
   "outputs": [],
   "source": [
    "wtr['holiday'] = None\n",
    "for i in wtr.index:\n",
    "    wtr.holiday.at[i] = wtr.date[i] in holiday_dict[wtr.province[i]]\n",
    "\n",
    "wtr['weekend'] = wtr['day'].isin([5,6])\n",
    "\n",
    "wtr['day_off'] = wtr['holiday'] | wtr['weekend']\n",
    "\n",
    "wtr['workday'] = ~wtr['day_off']"
   ]
  },
  {
   "cell_type": "code",
   "execution_count": 10,
   "metadata": {},
   "outputs": [],
   "source": [
    "# for wcol in ['temperature','humidity','precipitation','sunshine','velocity','direction']:\n",
    "#     for work in ['workday','day_off']:\n",
    "#         var_name = wcol + '_' + work\n",
    "#         wtr[var_name] = wtr[wcol] * wtr[work]"
   ]
  },
  {
   "cell_type": "code",
   "execution_count": 11,
   "metadata": {},
   "outputs": [],
   "source": [
    "wtr_work = wtr[wtr.workday].copy()\n",
    "wtr_off = wtr[wtr.day_off].copy()"
   ]
  },
  {
   "cell_type": "code",
   "execution_count": 12,
   "metadata": {},
   "outputs": [],
   "source": [
    "wtr_cols = ['temperature','humidity','precipitation','sunshine','velocity','direction']\n",
    "out_dfs = []\n",
    "for df in [wtr_work,wtr_off]:\n",
    "    df_ = df.groupby(['districtId','week_no'])[wtr_cols].mean().reset_index()\n",
    "    out_dfs.append(df_)"
   ]
  },
  {
   "cell_type": "code",
   "execution_count": 13,
   "metadata": {},
   "outputs": [],
   "source": [
    "wtr_fts = pd.merge(out_dfs[0],out_dfs[1],on=['districtId','week_no'],suffixes=['_workday','_day_off'])"
   ]
  },
  {
   "cell_type": "code",
   "execution_count": 14,
   "metadata": {},
   "outputs": [],
   "source": [
    "wtr_fts.to_csv('weather_features.csv',index=False)"
   ]
  },
  {
   "cell_type": "code",
   "execution_count": null,
   "metadata": {},
   "outputs": [],
   "source": []
  }
 ],
 "metadata": {
  "kernelspec": {
   "display_name": "Python 3",
   "language": "python",
   "name": "python3"
  },
  "language_info": {
   "codemirror_mode": {
    "name": "ipython",
    "version": 3
   },
   "file_extension": ".py",
   "mimetype": "text/x-python",
   "name": "python",
   "nbconvert_exporter": "python",
   "pygments_lexer": "ipython3",
   "version": "3.7.6"
  }
 },
 "nbformat": 4,
 "nbformat_minor": 4
}
